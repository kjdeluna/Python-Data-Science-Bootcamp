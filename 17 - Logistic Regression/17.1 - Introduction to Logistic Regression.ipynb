{
 "cells": [
  {
   "cell_type": "markdown",
   "metadata": {},
   "source": [
    "### Logistic Regression\n",
    "- Logistic regression allows us to solve classification problems, where we are trying to predict discrete categories\n",
    "- Convention for binary classification: classes 0 and 1\n",
    "- We can't use a normal linear regression model on binary groups. It won't lead a good fit\n",
    "- It doesn't make sense to use linear regression model on binary classification because it can produce negative probability values\n",
    "- It's better to use logistic regression curve\n",
    "- theta(z) = 1 / (1 + e^-z)\n",
    "- Any value you put in the sigmoid function, you'll always get a value between 0 and 1\n",
    "- Linear model: y = b_0 + b_1 * x\n",
    "- Logistic Model: p = 1 / (1 + e^-(b_0 + b_1 * x)\n",
    "- We can set a threshold at 0.5 - anything below it results in class 0, else class 1\n"
   ]
  },
  {
   "cell_type": "markdown",
   "metadata": {},
   "source": [
    "### Model Evaluation\n",
    "- You can use a confusion matrix to evaluate classification models\n",
    "\n",
    "### Confusion Matrix\n",
    "- True Positives (TP)\n",
    "- True Negatives (TN)\n",
    "- False Positives (FP) - Type I error\n",
    "- False Negatives (FN) - Type II error\n",
    "\n",
    "#### Accuracy: \n",
    "- Overall how often is it correct?\n",
    "- (TP + TN) / total\n",
    "#### Misclassification Rate (Error Rate)\n",
    "- Overall, how often is it wrong?\n",
    "- (FP + FN) / total"
   ]
  },
  {
   "cell_type": "code",
   "execution_count": null,
   "metadata": {},
   "outputs": [],
   "source": []
  },
  {
   "cell_type": "code",
   "execution_count": null,
   "metadata": {},
   "outputs": [],
   "source": []
  }
 ],
 "metadata": {
  "kernelspec": {
   "display_name": "Python 3",
   "language": "python",
   "name": "python3"
  },
  "language_info": {
   "codemirror_mode": {
    "name": "ipython",
    "version": 3
   },
   "file_extension": ".py",
   "mimetype": "text/x-python",
   "name": "python",
   "nbconvert_exporter": "python",
   "pygments_lexer": "ipython3",
   "version": "3.6.10"
  }
 },
 "nbformat": 4,
 "nbformat_minor": 4
}
