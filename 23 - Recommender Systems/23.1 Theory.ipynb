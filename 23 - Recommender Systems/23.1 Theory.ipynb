{
 "cells": [
  {
   "cell_type": "markdown",
   "metadata": {},
   "source": [
    "### Recommender Systems\n",
    "- full recommender systems require a heavy linear algebra background\n",
    "- The two most common types of recommender systems are \n",
    "\n",
    "#### Content-Based\n",
    "- focus on the attributes of the items and give you recommendations based on the similarity between them\n",
    "\n",
    "#### Collaborative Filtering (CF)\n",
    "- produces recommendations based on the knowledge of users' attitude to items, that is uses the \"wisdom of the crowd\" to recommend items\n",
    "- based on other people's experience, Amazon suggest items that you will enjoy\n",
    "- is more commonly useed than content-based systems because it usually gives better results and is relatively easy to understand (from an overall implementation perspective)\n",
    "- the algorithm has the ability to do feature learning on its own, which means that it can start to learn for itself what features to use\n",
    "\n",
    "**CF can be divided into**\n",
    "#### Memory-Based Collaborative Filtering\n",
    "- can be implemented by using singular value decomposition (SVD)\n",
    "#### Model-Based Collaborative Filtering\n",
    "- can be implemented by computing cosine similarity"
   ]
  },
  {
   "cell_type": "code",
   "execution_count": null,
   "metadata": {},
   "outputs": [],
   "source": []
  }
 ],
 "metadata": {
  "kernelspec": {
   "display_name": "Python 3",
   "language": "python",
   "name": "python3"
  },
  "language_info": {
   "codemirror_mode": {
    "name": "ipython",
    "version": 3
   },
   "file_extension": ".py",
   "mimetype": "text/x-python",
   "name": "python",
   "nbconvert_exporter": "python",
   "pygments_lexer": "ipython3",
   "version": "3.6.10"
  }
 },
 "nbformat": 4,
 "nbformat_minor": 4
}
