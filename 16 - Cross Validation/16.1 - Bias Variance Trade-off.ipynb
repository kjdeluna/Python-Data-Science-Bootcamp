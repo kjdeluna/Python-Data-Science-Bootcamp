{
 "cells": [
  {
   "cell_type": "markdown",
   "metadata": {},
   "source": [
    "- The **bias variance trade-off** is the point where we are adding just noise by adding model complexity (flexibility)\n",
    "- The training error goes down as it has to, but the test error is starting to go up\n",
    "- The model after the bias trade-off begins to overfit\n",
    "\n",
    "\n",
    "- Imagine we can repeat our entity model building process to get a number of separate hits on the target\n",
    "- Each hit represents an individual realization of our model, given the chance variability in the training data we gather\n",
    "- Sometimes we will get a good distribution of training so we predict very well and we are close to the bulls-eye, while sometimes our training data might be full of outliers or non-standard values resulting in poorer predictions\n",
    "- These different realizations result in a scatter of hits on the target"
   ]
  },
  {
   "cell_type": "code",
   "execution_count": null,
   "metadata": {},
   "outputs": [],
   "source": []
  }
 ],
 "metadata": {
  "kernelspec": {
   "display_name": "Python 3",
   "language": "python",
   "name": "python3"
  },
  "language_info": {
   "codemirror_mode": {
    "name": "ipython",
    "version": 3
   },
   "file_extension": ".py",
   "mimetype": "text/x-python",
   "name": "python",
   "nbconvert_exporter": "python",
   "pygments_lexer": "ipython3",
   "version": "3.6.10"
  }
 },
 "nbformat": 4,
 "nbformat_minor": 4
}
