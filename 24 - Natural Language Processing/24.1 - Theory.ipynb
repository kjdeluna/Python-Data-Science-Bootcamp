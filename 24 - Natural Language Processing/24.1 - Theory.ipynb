{
 "cells": [
  {
   "cell_type": "markdown",
   "metadata": {},
   "source": [
    "**Bag of Words**\n",
    "- document represented as a vector of word counts\n",
    "- you can use cosine similarity on the vectors made to determine similarity\n",
    "- sin(A,B) = cos(theta) = (A . B) / (magnitude of A * magnitude of B)\n",
    "- can be improved by adjusting word counts based on their frequency in corpus (the group of a ll documents)\n",
    "- We can use **TF-IDF (Term Frequency - Inverse Document Frequency)**\n",
    "\n",
    "**Term Frequency**\n",
    "- importance of the term within that document\n",
    "- TF(d,t) = Number of occurrences of term t in document d\n",
    "**Inverse Document Frequency**\n",
    "- importance of the term in the corpus\n",
    "- IDF(t) = log(D/t) where D -> total number of documents; t -> number of documents with the term\n",
    "\n",
    "**TF-IDF**\n",
    "- w_x,y = tf_x,y * log (N/df_x)"
   ]
  },
  {
   "cell_type": "code",
   "execution_count": null,
   "metadata": {},
   "outputs": [],
   "source": []
  }
 ],
 "metadata": {
  "kernelspec": {
   "display_name": "Python 3",
   "language": "python",
   "name": "python3"
  },
  "language_info": {
   "codemirror_mode": {
    "name": "ipython",
    "version": 3
   },
   "file_extension": ".py",
   "mimetype": "text/x-python",
   "name": "python",
   "nbconvert_exporter": "python",
   "pygments_lexer": "ipython3",
   "version": "3.6.10"
  }
 },
 "nbformat": 4,
 "nbformat_minor": 4
}
