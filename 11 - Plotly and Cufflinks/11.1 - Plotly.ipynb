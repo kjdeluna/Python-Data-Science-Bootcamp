{
 "cells": [
  {
   "cell_type": "markdown",
   "metadata": {},
   "source": [
    "### Plotly\n",
    "- is an interactive visualization library\n",
    "\n",
    "### Cufflinks\n",
    "- conneccts plotly with pandas"
   ]
  },
  {
   "cell_type": "code",
   "execution_count": 1,
   "metadata": {},
   "outputs": [],
   "source": [
    "import pandas as pd\n",
    "import numpy as np\n",
    "import cufflinks as cf\n",
    "from plotly.offline import download_plotlyjs,init_notebook_mode,plot,iplot\n",
    "%matplotlib inline"
   ]
  },
  {
   "cell_type": "code",
   "execution_count": 2,
   "metadata": {},
   "outputs": [
    {
     "data": {
      "text/html": [
       "        <script type=\"text/javascript\">\n",
       "        window.PlotlyConfig = {MathJaxConfig: 'local'};\n",
       "        if (window.MathJax) {MathJax.Hub.Config({SVG: {font: \"STIX-Web\"}});}\n",
       "        if (typeof require !== 'undefined') {\n",
       "        require.undef(\"plotly\");\n",
       "        requirejs.config({\n",
       "            paths: {\n",
       "                'plotly': ['https://cdn.plot.ly/plotly-latest.min']\n",
       "            }\n",
       "        });\n",
       "        require(['plotly'], function(Plotly) {\n",
       "            window._Plotly = Plotly;\n",
       "        });\n",
       "        }\n",
       "        </script>\n",
       "        "
      ]
     },
     "metadata": {},
     "output_type": "display_data"
    }
   ],
   "source": [
    "init_notebook_mode(connected=True)"
   ]
  },
  {
   "cell_type": "code",
   "execution_count": 3,
   "metadata": {},
   "outputs": [
    {
     "data": {
      "text/html": [
       "        <script type=\"text/javascript\">\n",
       "        window.PlotlyConfig = {MathJaxConfig: 'local'};\n",
       "        if (window.MathJax) {MathJax.Hub.Config({SVG: {font: \"STIX-Web\"}});}\n",
       "        if (typeof require !== 'undefined') {\n",
       "        require.undef(\"plotly\");\n",
       "        requirejs.config({\n",
       "            paths: {\n",
       "                'plotly': ['https://cdn.plot.ly/plotly-latest.min']\n",
       "            }\n",
       "        });\n",
       "        require(['plotly'], function(Plotly) {\n",
       "            window._Plotly = Plotly;\n",
       "        });\n",
       "        }\n",
       "        </script>\n",
       "        "
      ]
     },
     "metadata": {},
     "output_type": "display_data"
    }
   ],
   "source": [
    "cf.go_offline()"
   ]
  },
  {
   "cell_type": "code",
   "execution_count": 4,
   "metadata": {},
   "outputs": [
    {
     "data": {
      "text/html": [
       "<div>\n",
       "<style scoped>\n",
       "    .dataframe tbody tr th:only-of-type {\n",
       "        vertical-align: middle;\n",
       "    }\n",
       "\n",
       "    .dataframe tbody tr th {\n",
       "        vertical-align: top;\n",
       "    }\n",
       "\n",
       "    .dataframe thead th {\n",
       "        text-align: right;\n",
       "    }\n",
       "</style>\n",
       "<table border=\"1\" class=\"dataframe\">\n",
       "  <thead>\n",
       "    <tr style=\"text-align: right;\">\n",
       "      <th></th>\n",
       "      <th>A</th>\n",
       "      <th>B</th>\n",
       "      <th>C</th>\n",
       "      <th>D</th>\n",
       "    </tr>\n",
       "  </thead>\n",
       "  <tbody>\n",
       "    <tr>\n",
       "      <th>0</th>\n",
       "      <td>-1.334572</td>\n",
       "      <td>0.189345</td>\n",
       "      <td>-0.198052</td>\n",
       "      <td>0.033847</td>\n",
       "    </tr>\n",
       "    <tr>\n",
       "      <th>1</th>\n",
       "      <td>1.152745</td>\n",
       "      <td>-0.516813</td>\n",
       "      <td>0.964667</td>\n",
       "      <td>0.566643</td>\n",
       "    </tr>\n",
       "    <tr>\n",
       "      <th>2</th>\n",
       "      <td>-0.414443</td>\n",
       "      <td>-0.575887</td>\n",
       "      <td>-0.382906</td>\n",
       "      <td>0.148852</td>\n",
       "    </tr>\n",
       "    <tr>\n",
       "      <th>3</th>\n",
       "      <td>1.430277</td>\n",
       "      <td>0.265488</td>\n",
       "      <td>1.299882</td>\n",
       "      <td>0.268747</td>\n",
       "    </tr>\n",
       "    <tr>\n",
       "      <th>4</th>\n",
       "      <td>1.103271</td>\n",
       "      <td>-0.422700</td>\n",
       "      <td>0.619983</td>\n",
       "      <td>1.120051</td>\n",
       "    </tr>\n",
       "  </tbody>\n",
       "</table>\n",
       "</div>"
      ],
      "text/plain": [
       "          A         B         C         D\n",
       "0 -1.334572  0.189345 -0.198052  0.033847\n",
       "1  1.152745 -0.516813  0.964667  0.566643\n",
       "2 -0.414443 -0.575887 -0.382906  0.148852\n",
       "3  1.430277  0.265488  1.299882  0.268747\n",
       "4  1.103271 -0.422700  0.619983  1.120051"
      ]
     },
     "execution_count": 4,
     "metadata": {},
     "output_type": "execute_result"
    }
   ],
   "source": [
    "df = pd.DataFrame(np.random.randn(100,4),columns='A B C D'.split())\n",
    "df.head()"
   ]
  },
  {
   "cell_type": "code",
   "execution_count": 5,
   "metadata": {},
   "outputs": [
    {
     "data": {
      "text/html": [
       "<div>\n",
       "<style scoped>\n",
       "    .dataframe tbody tr th:only-of-type {\n",
       "        vertical-align: middle;\n",
       "    }\n",
       "\n",
       "    .dataframe tbody tr th {\n",
       "        vertical-align: top;\n",
       "    }\n",
       "\n",
       "    .dataframe thead th {\n",
       "        text-align: right;\n",
       "    }\n",
       "</style>\n",
       "<table border=\"1\" class=\"dataframe\">\n",
       "  <thead>\n",
       "    <tr style=\"text-align: right;\">\n",
       "      <th></th>\n",
       "      <th>Category</th>\n",
       "      <th>Values</th>\n",
       "    </tr>\n",
       "  </thead>\n",
       "  <tbody>\n",
       "    <tr>\n",
       "      <th>0</th>\n",
       "      <td>A</td>\n",
       "      <td>32</td>\n",
       "    </tr>\n",
       "    <tr>\n",
       "      <th>1</th>\n",
       "      <td>B</td>\n",
       "      <td>43</td>\n",
       "    </tr>\n",
       "    <tr>\n",
       "      <th>2</th>\n",
       "      <td>C</td>\n",
       "      <td>50</td>\n",
       "    </tr>\n",
       "  </tbody>\n",
       "</table>\n",
       "</div>"
      ],
      "text/plain": [
       "  Category  Values\n",
       "0        A      32\n",
       "1        B      43\n",
       "2        C      50"
      ]
     },
     "execution_count": 5,
     "metadata": {},
     "output_type": "execute_result"
    }
   ],
   "source": [
    "df2 = pd.DataFrame({'Category':['A','B','C'], 'Values':[32,43,50]})\n",
    "df2.head()"
   ]
  },
  {
   "cell_type": "code",
   "execution_count": 6,
   "metadata": {},
   "outputs": [
    {
     "data": {
      "text/plain": [
       "<AxesSubplot:>"
      ]
     },
     "execution_count": 6,
     "metadata": {},
     "output_type": "execute_result"
    },
    {
     "data": {
      "image/png": "[encoded data removed]",
      "text/plain": [
       "<Figure size 432x288 with 1 Axes>"
      ]
     },
     "metadata": {
      "needs_background": "light"
     },
     "output_type": "display_data"
    }
   ],
   "source": [
    "df.plot()"
   ]
  },
  {
   "cell_type": "code",
   "execution_count": 7,
   "metadata": {},
   "outputs": [
    {
     "data": {
      "application/vnd.plotly.v1+json": {
       "config": {
        "linkText": "Export to plot.ly",
        "plotlyServerURL": "https://plot.ly",
        "showLink": true
       },
       "data": [
        {
         "line": {
          "color": "rgba(255, 153, 51, 1.0)",
          "dash": "solid",
          "shape": "linear",
          "width": 1.3
         },
         "mode": "lines",
         "name": "A",
         "text": "",
         "type": "scatter",
         "x": [
          0,
          1,
          2,
          3,
          4,
          5,
          6,
          7,
          8,
          9,
          10,
          11,
          12,
          13,
          14,
          15,
          16,
          17,
          18,
          19,
          20,
          21,
          22,
          23,
          24,
          25,
          26,
          27,
          28,
          29,
          30,
          31,
          32,
          33,
          34,
          35,
          36,
          37,
          38,
          39,
          40,
          41,
          42,
          43,
          44,
          45,
          46,
          47,
          48,
          49,
          50,
          51,
          52,
          53,
          54,
          55,
          56,
          57,
          58,
          59,
          60,
          61,
          62,
          63,
          64,
          65,
          66,
          67,
          68,
          69,
          70,
          71,
          72,
          73,
          74,
          75,
          76,
          77,
          78,
          79,
          80,
          81,
          82,
          83,
          84,
          85,
          86,
          87,
          88,
          89,
          90,
          91,
          92,
          93,
          94,
          95,
          96,
          97,
          98,
          99
         ],
         "y": [
          -1.3345721423538044,
          1.152744983274052,
          -0.4144432895718666,
          1.4302774060136265,
          1.1032714804754071,
          0.3191628341280002,
          0.29167766457536576,
          -0.2948260219573132,
          -0.7898916249391608,
          0.7579798280599954,
          0.7023990585262951,
          0.3617203499296237,
          1.3840609450336574,
          2.1234137119547905,
          0.2810105000977317,
          1.3417915860610645,
          -0.2412397886071698,
          -1.4800784340458517,
          -0.43730607784210224,
          1.2776043936563957,
          0.23681297531851184,
          0.540390995960289,
          1.6871090335390888,
          -0.12613605829513988,
          -0.5588115339425442,
          1.8051083114525888,
          -1.1726637178355273,
          0.8869084864979949,
          -0.6608453517139303,
          0.86318177144118,
          1.3220433452814955,
          -0.040310682232710525,
          -0.6822401059683589,
          1.0146630751377788,
          -0.09408866628468343,
          -0.3835960857750811,
          -0.033174674346961475,
          0.6882005981376775,
          -0.8463552045373701,
          0.3558779153321544,
          0.4162235961224696,
          1.2455350592782963,
          -0.4404736135266595,
          -0.021206617569660913,
          0.910807493204989,
          0.7261457915112387,
          -1.0852814847699983,
          -0.6116324809576813,
          0.4419712096882013,
          -0.9549757189699014,
          -1.0917298503989892,
          1.683458340637992,
          -2.34848252238384,
          -0.21404278096559237,
          1.7763779984983499,
          -0.6061798311193356,
          0.2018170117960935,
          1.1347757868560242,
          -0.036032949775629396,
          -0.34619100102470757,
          -0.288608149951723,
          0.5650826594364331,
          0.8499639803220693,
          0.9894872408033251,
          0.06569041064446172,
          0.054489734536987196,
          -1.9952387047587858,
          -2.2784797833534043,
          -0.3235225571592153,
          0.7985449754329478,
          0.5562115947213144,
          0.19932402438213523,
          -0.1403275336563558,
          0.9855129234750741,
          0.3045407336196398,
          0.53929898768602,
          -0.27575107464618664,
          -0.07407610262260471,
          0.11499769199840022,
          -0.7978934478689437,
          1.6231013726732846,
          0.11356346504298263,
          1.0257404298721093,
          0.38698431699048086,
          1.5573123378387754,
          -0.3575297031395702,
          -0.7186779504700587,
          -0.35459907027756954,
          1.0501179801717468,
          0.9723530993336464,
          -1.7859678584514145,
          -1.3568059526808665,
          1.620503617755656,
          1.0373614474576012,
          -1.6411237307693962,
          -2.052337862151146,
          1.5268582726716706,
          1.176810614698316,
          -0.511936349742928,
          1.8899167884179937
         ]
        },
        {
         "line": {
          "color": "rgba(55, 128, 191, 1.0)",
          "dash": "solid",
          "shape": "linear",
          "width": 1.3
         },
         "mode": "lines",
         "name": "B",
         "text": "",
         "type": "scatter",
         "x": [
          0,
          1,
          2,
          3,
          4,
          5,
          6,
          7,
          8,
          9,
          10,
          11,
          12,
          13,
          14,
          15,
          16,
          17,
          18,
          19,
          20,
          21,
          22,
          23,
          24,
          25,
          26,
          27,
          28,
          29,
          30,
          31,
          32,
          33,
          34,
          35,
          36,
          37,
          38,
          39,
          40,
          41,
          42,
          43,
          44,
          45,
          46,
          47,
          48,
          49,
          50,
          51,
          52,
          53,
          54,
          55,
          56,
          57,
          58,
          59,
          60,
          61,
          62,
          63,
          64,
          65,
          66,
          67,
          68,
          69,
          70,
          71,
          72,
          73,
          74,
          75,
          76,
          77,
          78,
          79,
          80,
          81,
          82,
          83,
          84,
          85,
          86,
          87,
          88,
          89,
          90,
          91,
          92,
          93,
          94,
          95,
          96,
          97,
          98,
          99
         ],
         "y": [
          0.18934519564362062,
          -0.5168133289643818,
          -0.575887085195419,
          0.2654879300880599,
          -0.42270044140335306,
          0.49202396803406306,
          -0.05813887150593542,
          -1.9198333732052166,
          -1.1749861717602872,
          0.16124454493046997,
          -0.01733316004195805,
          -0.9257924593376672,
          0.09006921111651374,
          0.9734162863579563,
          -0.4518387082824791,
          -0.26153686886886934,
          0.28232403258757965,
          -1.0529426660554346,
          0.10202608047979453,
          0.23633183741611294,
          0.23498955155440895,
          0.9677590445244143,
          1.831253424242203,
          0.2415382607666498,
          -1.4230300649451495,
          2.2312182747485743,
          1.236202195805703,
          0.003390367770349785,
          -0.6237252050062434,
          -0.2342174145278324,
          -1.924925714689275,
          -0.9337128747220547,
          1.7543360784429163,
          0.7581829264781671,
          -0.08232277508753891,
          -0.45468484443795826,
          -0.19935092376725272,
          0.3432671525145582,
          -0.07884733212534094,
          0.9131918232446734,
          -0.8685402818250365,
          0.6883979203844126,
          1.0774186567698938,
          -1.2365006595554795,
          -0.604706613485279,
          0.5530504203367701,
          -1.1638121061985844,
          1.1266844459061904,
          -0.9565987159997782,
          0.46966062495493444,
          -0.15512534613084203,
          -1.201935972800709,
          1.0209556886714029,
          0.2795071484988548,
          1.4659564159180398,
          -0.4515262872130025,
          -0.4514630053316504,
          -0.0711730466463417,
          -2.1375937961790283,
          -0.7568430799085749,
          -1.051286755748964,
          0.27836127689014034,
          -0.4279875997952308,
          1.452930902585046,
          1.1703271571918823,
          -0.8463298634985316,
          0.6110841975955712,
          1.2940742777754228,
          -0.9945647867400169,
          1.5151241023797244,
          0.5075362134278456,
          -1.1735886638674613,
          1.98485816589851,
          0.7982761159418083,
          -0.07944727878078828,
          -0.7971158770598205,
          0.8537029643240611,
          -1.670795262780064,
          0.4918535139756341,
          -0.5521934592979183,
          -2.6713602633960485,
          -0.6402242514425622,
          -0.2530997756328507,
          0.13291790640185097,
          1.840027332124377,
          0.4256107998272355,
          -0.10524227119226856,
          0.7568395535199907,
          0.01227355678842452,
          -0.18777367729543826,
          0.11596626772388403,
          0.26977552573541597,
          -0.993101164784401,
          -0.05067529958534019,
          -0.5047305795737309,
          0.9070451286544564,
          0.5229498297030087,
          1.499042011679956,
          -0.9162419500042097,
          0.5257383477604088
         ]
        },
        {
         "line": {
          "color": "rgba(50, 171, 96, 1.0)",
          "dash": "solid",
          "shape": "linear",
          "width": 1.3
         },
         "mode": "lines",
         "name": "C",
         "text": "",
         "type": "scatter",
         "x": [
          0,
          1,
          2,
          3,
          4,
          5,
          6,
          7,
          8,
          9,
          10,
          11,
          12,
          13,
          14,
          15,
          16,
          17,
          18,
          19,
          20,
          21,
          22,
          23,
          24,
          25,
          26,
          27,
          28,
          29,
          30,
          31,
          32,
          33,
          34,
          35,
          36,
          37,
          38,
          39,
          40,
          41,
          42,
          43,
          44,
          45,
          46,
          47,
          48,
          49,
          50,
          51,
          52,
          53,
          54,
          55,
          56,
          57,
          58,
          59,
          60,
          61,
          62,
          63,
          64,
          65,
          66,
          67,
          68,
          69,
          70,
          71,
          72,
          73,
          74,
          75,
          76,
          77,
          78,
          79,
          80,
          81,
          82,
          83,
          84,
          85,
          86,
          87,
          88,
          89,
          90,
          91,
          92,
          93,
          94,
          95,
          96,
          97,
          98,
          99
         ],
         "y": [
          -0.19805204132074813,
          0.9646667420835341,
          -0.38290571006574775,
          1.2998824481693891,
          0.6199825686029053,
          0.08892096656522798,
          0.5098550465401651,
          -0.8175291952481727,
          1.0545679319751429,
          -0.1556477627143782,
          -0.1863019976198989,
          -1.2337935362095873,
          1.045560857193049,
          0.22235565193506643,
          1.2160340742473208,
          0.9222476060634441,
          -2.1150062077557044,
          -0.7071029794118244,
          -0.5495551785557025,
          -0.693624646441118,
          0.7573958854662389,
          0.17394140635208538,
          0.15923490851638308,
          0.6044591173991921,
          0.20111232258003703,
          0.8655037106493844,
          0.9630306500178076,
          -0.09963405884054125,
          0.4222388126671568,
          0.5445417835050336,
          -1.386959953120186,
          -1.0837062233251824,
          0.16040783519433743,
          0.16319047043609794,
          1.7531305154443126,
          1.8061218262475787,
          -0.5403383234473761,
          0.8429293141000763,
          -1.6763240933556285,
          1.1545629167166047,
          -0.5536300681270807,
          -0.18367259297476848,
          -0.3400663977866649,
          1.1849804232281855,
          0.41627393795554407,
          -1.4313827588307508,
          0.20246720240624347,
          0.43721416281460995,
          -0.32579144844232655,
          -1.2131834608493348,
          -0.14687430590360748,
          0.353499906435496,
          1.628903729852802,
          0.20353596359746787,
          0.451665175048858,
          -0.39634930867957924,
          -0.9509101739093384,
          0.7191038547617834,
          0.8719578554533487,
          1.8326883546543777,
          1.2003448994521837,
          -0.030231896568255902,
          -0.1716641365372497,
          0.20431636378405235,
          -0.5598850080650927,
          -0.24031795880204332,
          0.7516002737771287,
          0.19254709258696615,
          -0.057442624087766986,
          -0.6793162222432404,
          0.4148860123267791,
          0.13762364150603934,
          1.3920049620919024,
          -0.14462229762839007,
          0.14342609156753108,
          0.6143080669181031,
          0.4474505683921285,
          -0.34739229148391937,
          1.061455226537793,
          0.24475617312531944,
          -1.2513199803763844,
          -0.6937990342235643,
          -2.3404491478112965,
          0.8320957832750987,
          0.4535701994994277,
          -0.38394936857027945,
          -0.6680721253788142,
          -0.6429137849954224,
          0.7147258770315915,
          -1.4985171428736122,
          2.0459145141636066,
          -0.467161741917224,
          0.8132661594542542,
          0.6293808269260213,
          -1.5107789396693025,
          -0.331917743684358,
          0.05867669275075526,
          0.20626723911401554,
          -0.7977795930039119,
          -0.5284544164088391
         ]
        },
        {
         "line": {
          "color": "rgba(128, 0, 128, 1.0)",
          "dash": "solid",
          "shape": "linear",
          "width": 1.3
         },
         "mode": "lines",
         "name": "D",
         "text": "",
         "type": "scatter",
         "x": [
          0,
          1,
          2,
          3,
          4,
          5,
          6,
          7,
          8,
          9,
          10,
          11,
          12,
          13,
          14,
          15,
          16,
          17,
          18,
          19,
          20,
          21,
          22,
          23,
          24,
          25,
          26,
          27,
          28,
          29,
          30,
          31,
          32,
          33,
          34,
          35,
          36,
          37,
          38,
          39,
          40,
          41,
          42,
          43,
          44,
          45,
          46,
          47,
          48,
          49,
          50,
          51,
          52,
          53,
          54,
          55,
          56,
          57,
          58,
          59,
          60,
          61,
          62,
          63,
          64,
          65,
          66,
          67,
          68,
          69,
          70,
          71,
          72,
          73,
          74,
          75,
          76,
          77,
          78,
          79,
          80,
          81,
          82,
          83,
          84,
          85,
          86,
          87,
          88,
          89,
          90,
          91,
          92,
          93,
          94,
          95,
          96,
          97,
          98,
          99
         ],
         "y": [
          0.03384664178148704,
          0.5666429305505546,
          0.14885183843377175,
          0.2687473452003424,
          1.1200512766765096,
          -2.8225156356584993,
          -0.09857086367123338,
          0.6997016010550245,
          -1.3562792823740024,
          -0.41508056769541196,
          -0.44685046724214006,
          1.3317926725059546,
          -1.534398796805004,
          0.5107676096875485,
          -0.35539271221973195,
          -0.4691145512394626,
          0.46537551119090104,
          -0.28621288875761214,
          0.7206887872019336,
          0.9270397108725131,
          0.8876193880034717,
          0.3686998726486203,
          -1.2219477310842741,
          -0.3902957898404521,
          -1.1949112579311598,
          -1.0811713597675425,
          0.7916926529667945,
          0.31681376614310686,
          -0.663152266439661,
          1.1098423222784424,
          0.06581774155636329,
          0.34117151247625005,
          0.9824823102015346,
          -0.8329297644404557,
          -1.0255005113062103,
          0.38708767823694307,
          -0.2735876107312517,
          1.111757822490364,
          -0.8053566441383361,
          0.09470607282640017,
          0.47268776889119185,
          -0.5701393873577066,
          -2.1961399023737114,
          -0.2577127983341919,
          -1.2187126822403935,
          0.9816939651454246,
          0.09885494293423237,
          -0.49510179974921226,
          1.594516555206982,
          0.4108355407054973,
          0.168743533242441,
          0.7617110899069682,
          0.6445282167880872,
          0.24658352945846151,
          1.0633761369266885,
          -1.2952068758870838,
          1.2556355409200266,
          0.10525546514764797,
          1.4510068650768608,
          -0.9774440012734138,
          0.7573789005103825,
          -1.4692166603040264,
          -1.219866900508068,
          -0.03417242416064316,
          -0.8336711038622275,
          -1.289844436339557,
          -0.17837954060022773,
          0.732927473839943,
          0.08030871609250388,
          1.5402237130269205,
          -1.2010816922179652,
          1.0273283822842285,
          1.1362028082895037,
          -0.5904487631408297,
          0.767364935605862,
          1.2840530894008695,
          0.5443851698820155,
          0.12506924046431742,
          0.901584915943366,
          0.8559873278925225,
          -0.8604099889630961,
          -0.6517254944882362,
          0.7117137760304271,
          -0.9360005771624264,
          0.5851825508705968,
          -1.8351426246396962,
          -0.636312250227509,
          0.3815910085105638,
          -2.23757811597667,
          -0.3368141017962645,
          -0.005645035574050167,
          -0.16463055665192255,
          -0.1825924073902931,
          -1.0341953399573212,
          0.7064307122288477,
          -0.3307511781925198,
          -1.49616348983762,
          -0.6911493407982104,
          0.5079262001874038,
          1.8328031186789648
         ]
        }
       ],
       "layout": {
        "legend": {
         "bgcolor": "#F5F6F9",
         "font": {
          "color": "#4D5663"
         }
        },
        "paper_bgcolor": "#F5F6F9",
        "plot_bgcolor": "#F5F6F9",
        "template": {
         "data": {
          "bar": [
           {
            "error_x": {
             "color": "#2a3f5f"
            },
            "error_y": {
             "color": "#2a3f5f"
            },
            "marker": {
             "line": {
              "color": "#E5ECF6",
              "width": 0.5
             }
            },
            "type": "bar"
           }
          ],
          "barpolar": [
           {
            "marker": {
             "line": {
              "color": "#E5ECF6",
              "width": 0.5
             }
            },
            "type": "barpolar"
           }
          ],
          "carpet": [
           {
            "aaxis": {
             "endlinecolor": "#2a3f5f",
             "gridcolor": "white",
             "linecolor": "white",
             "minorgridcolor": "white",
             "startlinecolor": "#2a3f5f"
            },
            "baxis": {
             "endlinecolor": "#2a3f5f",
             "gridcolor": "white",
             "linecolor": "white",
             "minorgridcolor": "white",
             "startlinecolor": "#2a3f5f"
            },
            "type": "carpet"
           }
          ],
          "choropleth": [
           {
            "colorbar": {
             "outlinewidth": 0,
             "ticks": ""
            },
            "type": "choropleth"
           }
          ],
          "contour": [
           {
            "colorbar": {
             "outlinewidth": 0,
             "ticks": ""
            },
            "colorscale": [
             [
              0,
              "#0d0887"
             ],
             [
              0.1111111111111111,
              "#46039f"
             ],
             [
              0.2222222222222222,
              "#7201a8"
             ],
             [
              0.3333333333333333,
              "#9c179e"
             ],
             [
              0.4444444444444444,
              "#bd3786"
             ],
             [
              0.5555555555555556,
              "#d8576b"
             ],
             [
              0.6666666666666666,
              "#ed7953"
             ],
             [
              0.7777777777777778,
              "#fb9f3a"
             ],
             [
              0.8888888888888888,
              "#fdca26"
             ],
             [
              1,
              "#f0f921"
             ]
            ],
            "type": "contour"
           }
          ],
          "contourcarpet": [
           {
            "colorbar": {
             "outlinewidth": 0,
             "ticks": ""
            },
            "type": "contourcarpet"
           }
          ],
          "heatmap": [
           {
            "colorbar": {
             "outlinewidth": 0,
             "ticks": ""
            },
            "colorscale": [
             [
              0,
              "#0d0887"
             ],
             [
              0.1111111111111111,
              "#46039f"
             ],
             [
              0.2222222222222222,
              "#7201a8"
             ],
             [
              0.3333333333333333,
              "#9c179e"
             ],
             [
              0.4444444444444444,
              "#bd3786"
             ],
             [
              0.5555555555555556,
              "#d8576b"
             ],
             [
              0.6666666666666666,
              "#ed7953"
             ],
             [
              0.7777777777777778,
              "#fb9f3a"
             ],
             [
              0.8888888888888888,
              "#fdca26"
             ],
             [
              1,
              "#f0f921"
             ]
            ],
            "type": "heatmap"
           }
          ],
          "heatmapgl": [
           {
            "colorbar": {
             "outlinewidth": 0,
             "ticks": ""
            },
            "colorscale": [
             [
              0,
              "#0d0887"
             ],
             [
              0.1111111111111111,
              "#46039f"
             ],
             [
              0.2222222222222222,
              "#7201a8"
             ],
             [
              0.3333333333333333,
              "#9c179e"
             ],
             [
              0.4444444444444444,
              "#bd3786"
             ],
             [
              0.5555555555555556,
              "#d8576b"
             ],
             [
              0.6666666666666666,
              "#ed7953"
             ],
             [
              0.7777777777777778,
              "#fb9f3a"
             ],
             [
              0.8888888888888888,
              "#fdca26"
             ],
             [
              1,
              "#f0f921"
             ]
            ],
            "type": "heatmapgl"
           }
          ],
          "histogram": [
           {
            "marker": {
             "colorbar": {
              "outlinewidth": 0,
              "ticks": ""
             }
            },
            "type": "histogram"
           }
          ],
          "histogram2d": [
           {
            "colorbar": {
             "outlinewidth": 0,
             "ticks": ""
            },
            "colorscale": [
             [
              0,
              "#0d0887"
             ],
             [
              0.1111111111111111,
              "#46039f"
             ],
             [
              0.2222222222222222,
              "#7201a8"
             ],
             [
              0.3333333333333333,
              "#9c179e"
             ],
             [
              0.4444444444444444,
              "#bd3786"
             ],
             [
              0.5555555555555556,
              "#d8576b"
             ],
             [
              0.6666666666666666,
              "#ed7953"
             ],
             [
              0.7777777777777778,
              "#fb9f3a"
             ],
             [
              0.8888888888888888,
              "#fdca26"
             ],
             [
              1,
              "#f0f921"
             ]
            ],
            "type": "histogram2d"
           }
          ],
          "histogram2dcontour": [
           {
            "colorbar": {
             "outlinewidth": 0,
             "ticks": ""
            },
            "colorscale": [
             [
              0,
              "#0d0887"
             ],
             [
              0.1111111111111111,
              "#46039f"
             ],
             [
              0.2222222222222222,
              "#7201a8"
             ],
             [
              0.3333333333333333,
              "#9c179e"
             ],
             [
              0.4444444444444444,
              "#bd3786"
             ],
             [
              0.5555555555555556,
              "#d8576b"
             ],
             [
              0.6666666666666666,
              "#ed7953"
             ],
             [
              0.7777777777777778,
              "#fb9f3a"
             ],
             [
              0.8888888888888888,
              "#fdca26"
             ],
             [
              1,
              "#f0f921"
             ]
            ],
            "type": "histogram2dcontour"
           }
          ],
          "mesh3d": [
           {
            "colorbar": {
             "outlinewidth": 0,
             "ticks": ""
            },
            "type": "mesh3d"
           }
          ],
          "parcoords": [
           {
            "line": {
             "colorbar": {
              "outlinewidth": 0,
              "ticks": ""
             }
            },
            "type": "parcoords"
           }
          ],
          "pie": [
           {
            "automargin": true,
            "type": "pie"
           }
          ],
          "scatter": [
           {
            "marker": {
             "colorbar": {
              "outlinewidth": 0,
              "ticks": ""
             }
            },
            "type": "scatter"
           }
          ],
          "scatter3d": [
           {
            "line": {
             "colorbar": {
              "outlinewidth": 0,
              "ticks": ""
             }
            },
            "marker": {
             "colorbar": {
              "outlinewidth": 0,
              "ticks": ""
             }
            },
            "type": "scatter3d"
           }
          ],
          "scattercarpet": [
           {
            "marker": {
             "colorbar": {
              "outlinewidth": 0,
              "ticks": ""
             }
            },
            "type": "scattercarpet"
           }
          ],
          "scattergeo": [
           {
            "marker": {
             "colorbar": {
              "outlinewidth": 0,
              "ticks": ""
             }
            },
            "type": "scattergeo"
           }
          ],
          "scattergl": [
           {
            "marker": {
             "colorbar": {
              "outlinewidth": 0,
              "ticks": ""
             }
            },
            "type": "scattergl"
           }
          ],
          "scattermapbox": [
           {
            "marker": {
             "colorbar": {
              "outlinewidth": 0,
              "ticks": ""
             }
            },
            "type": "scattermapbox"
           }
          ],
          "scatterpolar": [
           {
            "marker": {
             "colorbar": {
              "outlinewidth": 0,
              "ticks": ""
             }
            },
            "type": "scatterpolar"
           }
          ],
          "scatterpolargl": [
           {
            "marker": {
             "colorbar": {
              "outlinewidth": 0,
              "ticks": ""
             }
            },
            "type": "scatterpolargl"
           }
          ],
          "scatterternary": [
           {
            "marker": {
             "colorbar": {
              "outlinewidth": 0,
              "ticks": ""
             }
            },
            "type": "scatterternary"
           }
          ],
          "surface": [
           {
            "colorbar": {
             "outlinewidth": 0,
             "ticks": ""
            },
            "colorscale": [
             [
              0,
              "#0d0887"
             ],
             [
              0.1111111111111111,
              "#46039f"
             ],
             [
              0.2222222222222222,
              "#7201a8"
             ],
             [
              0.3333333333333333,
              "#9c179e"
             ],
             [
              0.4444444444444444,
              "#bd3786"
             ],
             [
              0.5555555555555556,
              "#d8576b"
             ],
             [
              0.6666666666666666,
              "#ed7953"
             ],
             [
              0.7777777777777778,
              "#fb9f3a"
             ],
             [
              0.8888888888888888,
              "#fdca26"
             ],
             [
              1,
              "#f0f921"
             ]
            ],
            "type": "surface"
           }
          ],
          "table": [
           {
            "cells": {
             "fill": {
              "color": "#EBF0F8"
             },
             "line": {
              "color": "white"
             }
            },
            "header": {
             "fill": {
              "color": "#C8D4E3"
             },
             "line": {
              "color": "white"
             }
            },
            "type": "table"
           }
          ]
         },
         "layout": {
          "annotationdefaults": {
           "arrowcolor": "#2a3f5f",
           "arrowhead": 0,
           "arrowwidth": 1
          },
          "coloraxis": {
           "colorbar": {
            "outlinewidth": 0,
            "ticks": ""
           }
          },
          "colorscale": {
           "diverging": [
            [
             0,
             "#8e0152"
            ],
            [
             0.1,
             "#c51b7d"
            ],
            [
             0.2,
             "#de77ae"
            ],
            [
             0.3,
             "#f1b6da"
            ],
            [
             0.4,
             "#fde0ef"
            ],
            [
             0.5,
             "#f7f7f7"
            ],
            [
             0.6,
             "#e6f5d0"
            ],
            [
             0.7,
             "#b8e186"
            ],
            [
             0.8,
             "#7fbc41"
            ],
            [
             0.9,
             "#4d9221"
            ],
            [
             1,
             "#276419"
            ]
           ],
           "sequential": [
            [
             0,
             "#0d0887"
            ],
            [
             0.1111111111111111,
             "#46039f"
            ],
            [
             0.2222222222222222,
             "#7201a8"
            ],
            [
             0.3333333333333333,
             "#9c179e"
            ],
            [
             0.4444444444444444,
             "#bd3786"
            ],
            [
             0.5555555555555556,
             "#d8576b"
            ],
            [
             0.6666666666666666,
             "#ed7953"
            ],
            [
             0.7777777777777778,
             "#fb9f3a"
            ],
            [
             0.8888888888888888,
             "#fdca26"
            ],
            [
             1,
             "#f0f921"
            ]
           ],
           "sequentialminus": [
            [
             0,
             "#0d0887"
            ],
            [
             0.1111111111111111,
             "#46039f"
            ],
            [
             0.2222222222222222,
             "#7201a8"
            ],
            [
             0.3333333333333333,
             "#9c179e"
            ],
            [
             0.4444444444444444,
             "#bd3786"
            ],
            [
             0.5555555555555556,
             "#d8576b"
            ],
            [
             0.6666666666666666,
             "#ed7953"
            ],
            [
             0.7777777777777778,
             "#fb9f3a"
            ],
            [
             0.8888888888888888,
             "#fdca26"
            ],
            [
             1,
             "#f0f921"
            ]
           ]
          },
          "colorway": [
           "#636efa",
           "#EF553B",
           "#00cc96",
           "#ab63fa",
           "#FFA15A",
           "#19d3f3",
           "#FF6692",
           "#B6E880",
           "#FF97FF",
           "#FECB52"
          ],
          "font": {
           "color": "#2a3f5f"
          },
          "geo": {
           "bgcolor": "white",
           "lakecolor": "white",
           "landcolor": "#E5ECF6",
           "showlakes": true,
           "showland": true,
           "subunitcolor": "white"
          },
          "hoverlabel": {
           "align": "left"
          },
          "hovermode": "closest",
          "mapbox": {
           "style": "light"
          },
          "paper_bgcolor": "white",
          "plot_bgcolor": "#E5ECF6",
          "polar": {
           "angularaxis": {
            "gridcolor": "white",
            "linecolor": "white",
            "ticks": ""
           },
           "bgcolor": "#E5ECF6",
           "radialaxis": {
            "gridcolor": "white",
            "linecolor": "white",
            "ticks": ""
           }
          },
          "scene": {
           "xaxis": {
            "backgroundcolor": "#E5ECF6",
            "gridcolor": "white",
            "gridwidth": 2,
            "linecolor": "white",
            "showbackground": true,
            "ticks": "",
            "zerolinecolor": "white"
           },
           "yaxis": {
            "backgroundcolor": "#E5ECF6",
            "gridcolor": "white",
            "gridwidth": 2,
            "linecolor": "white",
            "showbackground": true,
            "ticks": "",
            "zerolinecolor": "white"
           },
           "zaxis": {
            "backgroundcolor": "#E5ECF6",
            "gridcolor": "white",
            "gridwidth": 2,
            "linecolor": "white",
            "showbackground": true,
            "ticks": "",
            "zerolinecolor": "white"
           }
          },
          "shapedefaults": {
           "line": {
            "color": "#2a3f5f"
           }
          },
          "ternary": {
           "aaxis": {
            "gridcolor": "white",
            "linecolor": "white",
            "ticks": ""
           },
           "baxis": {
            "gridcolor": "white",
            "linecolor": "white",
            "ticks": ""
           },
           "bgcolor": "#E5ECF6",
           "caxis": {
            "gridcolor": "white",
            "linecolor": "white",
            "ticks": ""
           }
          },
          "title": {
           "x": 0.05
          },
          "xaxis": {
           "automargin": true,
           "gridcolor": "white",
           "linecolor": "white",
           "ticks": "",
           "title": {
            "standoff": 15
           },
           "zerolinecolor": "white",
           "zerolinewidth": 2
          },
          "yaxis": {
           "automargin": true,
           "gridcolor": "white",
           "linecolor": "white",
           "ticks": "",
           "title": {
            "standoff": 15
           },
           "zerolinecolor": "white",
           "zerolinewidth": 2
          }
         }
        },
        "title": {
         "font": {
          "color": "#4D5663"
         }
        },
        "xaxis": {
         "gridcolor": "#E1E5ED",
         "showgrid": true,
         "tickfont": {
          "color": "#4D5663"
         },
         "title": {
          "font": {
           "color": "#4D5663"
          },
          "text": ""
         },
         "zerolinecolor": "#E1E5ED"
        },
        "yaxis": {
         "gridcolor": "#E1E5ED",
         "showgrid": true,
         "tickfont": {
          "color": "#4D5663"
         },
         "title": {
          "font": {
           "color": "#4D5663"
          },
          "text": ""
         },
         "zerolinecolor": "#E1E5ED"
        }
       }
      },
      "text/html": [
       "<div>                            <div id=\"f2cd1ad4-5331-488c-bdfb-911b0cacd621\" class=\"plotly-graph-div\" style=\"height:525px; width:100%;\"></div>            <script type=\"text/javascript\">                require([\"plotly\"], function(Plotly) {                    window.PLOTLYENV=window.PLOTLYENV || {};\n",
       "                    window.PLOTLYENV.BASE_URL='https://plot.ly';                                    if (document.getElementById(\"f2cd1ad4-5331-488c-bdfb-911b0cacd621\")) {                    Plotly.newPlot(                        \"f2cd1ad4-5331-488c-bdfb-911b0cacd621\",                        [{\"line\": {\"color\": \"rgba(255, 153, 51, 1.0)\", \"dash\": \"solid\", \"shape\": \"linear\", \"width\": 1.3}, \"mode\": \"lines\", \"name\": \"A\", \"text\": \"\", \"type\": \"scatter\", \"x\": [0, 1, 2, 3, 4, 5, 6, 7, 8, 9, 10, 11, 12, 13, 14, 15, 16, 17, 18, 19, 20, 21, 22, 23, 24, 25, 26, 27, 28, 29, 30, 31, 32, 33, 34, 35, 36, 37, 38, 39, 40, 41, 42, 43, 44, 45, 46, 47, 48, 49, 50, 51, 52, 53, 54, 55, 56, 57, 58, 59, 60, 61, 62, 63, 64, 65, 66, 67, 68, 69, 70, 71, 72, 73, 74, 75, 76, 77, 78, 79, 80, 81, 82, 83, 84, 85, 86, 87, 88, 89, 90, 91, 92, 93, 94, 95, 96, 97, 98, 99], \"y\": [-1.3345721423538044, 1.152744983274052, -0.4144432895718666, 1.4302774060136265, 1.1032714804754071, 0.3191628341280002, 0.29167766457536576, -0.2948260219573132, -0.7898916249391608, 0.7579798280599954, 0.7023990585262951, 0.3617203499296237, 1.3840609450336574, 2.1234137119547905, 0.2810105000977317, 1.3417915860610645, -0.2412397886071698, -1.4800784340458517, -0.43730607784210224, 1.2776043936563957, 0.23681297531851184, 0.540390995960289, 1.6871090335390888, -0.12613605829513988, -0.5588115339425442, 1.8051083114525888, -1.1726637178355273, 0.8869084864979949, -0.6608453517139303, 0.86318177144118, 1.3220433452814955, -0.040310682232710525, -0.6822401059683589, 1.0146630751377788, -0.09408866628468343, -0.3835960857750811, -0.033174674346961475, 0.6882005981376775, -0.8463552045373701, 0.3558779153321544, 0.4162235961224696, 1.2455350592782963, -0.4404736135266595, -0.021206617569660913, 0.910807493204989, 0.7261457915112387, -1.0852814847699983, -0.6116324809576813, 0.4419712096882013, -0.9549757189699014, -1.0917298503989892, 1.683458340637992, -2.34848252238384, -0.21404278096559237, 1.7763779984983499, -0.6061798311193356, 0.2018170117960935, 1.1347757868560242, -0.036032949775629396, -0.34619100102470757, -0.288608149951723, 0.5650826594364331, 0.8499639803220693, 0.9894872408033251, 0.06569041064446172, 0.054489734536987196, -1.9952387047587858, -2.2784797833534043, -0.3235225571592153, 0.7985449754329478, 0.5562115947213144, 0.19932402438213523, -0.1403275336563558, 0.9855129234750741, 0.3045407336196398, 0.53929898768602, -0.27575107464618664, -0.07407610262260471, 0.11499769199840022, -0.7978934478689437, 1.6231013726732846, 0.11356346504298263, 1.0257404298721093, 0.38698431699048086, 1.5573123378387754, -0.3575297031395702, -0.7186779504700587, -0.35459907027756954, 1.0501179801717468, 0.9723530993336464, -1.7859678584514145, -1.3568059526808665, 1.620503617755656, 1.0373614474576012, -1.6411237307693962, -2.052337862151146, 1.5268582726716706, 1.176810614698316, -0.511936349742928, 1.8899167884179937]}, {\"line\": {\"color\": \"rgba(55, 128, 191, 1.0)\", \"dash\": \"solid\", \"shape\": \"linear\", \"width\": 1.3}, \"mode\": \"lines\", \"name\": \"B\", \"text\": \"\", \"type\": \"scatter\", \"x\": [0, 1, 2, 3, 4, 5, 6, 7, 8, 9, 10, 11, 12, 13, 14, 15, 16, 17, 18, 19, 20, 21, 22, 23, 24, 25, 26, 27, 28, 29, 30, 31, 32, 33, 34, 35, 36, 37, 38, 39, 40, 41, 42, 43, 44, 45, 46, 47, 48, 49, 50, 51, 52, 53, 54, 55, 56, 57, 58, 59, 60, 61, 62, 63, 64, 65, 66, 67, 68, 69, 70, 71, 72, 73, 74, 75, 76, 77, 78, 79, 80, 81, 82, 83, 84, 85, 86, 87, 88, 89, 90, 91, 92, 93, 94, 95, 96, 97, 98, 99], \"y\": [0.18934519564362062, -0.5168133289643818, -0.575887085195419, 0.2654879300880599, -0.42270044140335306, 0.49202396803406306, -0.05813887150593542, -1.9198333732052166, -1.1749861717602872, 0.16124454493046997, -0.01733316004195805, -0.9257924593376672, 0.09006921111651374, 0.9734162863579563, -0.4518387082824791, -0.26153686886886934, 0.28232403258757965, -1.0529426660554346, 0.10202608047979453, 0.23633183741611294, 0.23498955155440895, 0.9677590445244143, 1.831253424242203, 0.2415382607666498, -1.4230300649451495, 2.2312182747485743, 1.236202195805703, 0.003390367770349785, -0.6237252050062434, -0.2342174145278324, -1.924925714689275, -0.9337128747220547, 1.7543360784429163, 0.7581829264781671, -0.08232277508753891, -0.45468484443795826, -0.19935092376725272, 0.3432671525145582, -0.07884733212534094, 0.9131918232446734, -0.8685402818250365, 0.6883979203844126, 1.0774186567698938, -1.2365006595554795, -0.604706613485279, 0.5530504203367701, -1.1638121061985844, 1.1266844459061904, -0.9565987159997782, 0.46966062495493444, -0.15512534613084203, -1.201935972800709, 1.0209556886714029, 0.2795071484988548, 1.4659564159180398, -0.4515262872130025, -0.4514630053316504, -0.0711730466463417, -2.1375937961790283, -0.7568430799085749, -1.051286755748964, 0.27836127689014034, -0.4279875997952308, 1.452930902585046, 1.1703271571918823, -0.8463298634985316, 0.6110841975955712, 1.2940742777754228, -0.9945647867400169, 1.5151241023797244, 0.5075362134278456, -1.1735886638674613, 1.98485816589851, 0.7982761159418083, -0.07944727878078828, -0.7971158770598205, 0.8537029643240611, -1.670795262780064, 0.4918535139756341, -0.5521934592979183, -2.6713602633960485, -0.6402242514425622, -0.2530997756328507, 0.13291790640185097, 1.840027332124377, 0.4256107998272355, -0.10524227119226856, 0.7568395535199907, 0.01227355678842452, -0.18777367729543826, 0.11596626772388403, 0.26977552573541597, -0.993101164784401, -0.05067529958534019, -0.5047305795737309, 0.9070451286544564, 0.5229498297030087, 1.499042011679956, -0.9162419500042097, 0.5257383477604088]}, {\"line\": {\"color\": \"rgba(50, 171, 96, 1.0)\", \"dash\": \"solid\", \"shape\": \"linear\", \"width\": 1.3}, \"mode\": \"lines\", \"name\": \"C\", \"text\": \"\", \"type\": \"scatter\", \"x\": [0, 1, 2, 3, 4, 5, 6, 7, 8, 9, 10, 11, 12, 13, 14, 15, 16, 17, 18, 19, 20, 21, 22, 23, 24, 25, 26, 27, 28, 29, 30, 31, 32, 33, 34, 35, 36, 37, 38, 39, 40, 41, 42, 43, 44, 45, 46, 47, 48, 49, 50, 51, 52, 53, 54, 55, 56, 57, 58, 59, 60, 61, 62, 63, 64, 65, 66, 67, 68, 69, 70, 71, 72, 73, 74, 75, 76, 77, 78, 79, 80, 81, 82, 83, 84, 85, 86, 87, 88, 89, 90, 91, 92, 93, 94, 95, 96, 97, 98, 99], \"y\": [-0.19805204132074813, 0.9646667420835341, -0.38290571006574775, 1.2998824481693891, 0.6199825686029053, 0.08892096656522798, 0.5098550465401651, -0.8175291952481727, 1.0545679319751429, -0.1556477627143782, -0.1863019976198989, -1.2337935362095873, 1.045560857193049, 0.22235565193506643, 1.2160340742473208, 0.9222476060634441, -2.1150062077557044, -0.7071029794118244, -0.5495551785557025, -0.693624646441118, 0.7573958854662389, 0.17394140635208538, 0.15923490851638308, 0.6044591173991921, 0.20111232258003703, 0.8655037106493844, 0.9630306500178076, -0.09963405884054125, 0.4222388126671568, 0.5445417835050336, -1.386959953120186, -1.0837062233251824, 0.16040783519433743, 0.16319047043609794, 1.7531305154443126, 1.8061218262475787, -0.5403383234473761, 0.8429293141000763, -1.6763240933556285, 1.1545629167166047, -0.5536300681270807, -0.18367259297476848, -0.3400663977866649, 1.1849804232281855, 0.41627393795554407, -1.4313827588307508, 0.20246720240624347, 0.43721416281460995, -0.32579144844232655, -1.2131834608493348, -0.14687430590360748, 0.353499906435496, 1.628903729852802, 0.20353596359746787, 0.451665175048858, -0.39634930867957924, -0.9509101739093384, 0.7191038547617834, 0.8719578554533487, 1.8326883546543777, 1.2003448994521837, -0.030231896568255902, -0.1716641365372497, 0.20431636378405235, -0.5598850080650927, -0.24031795880204332, 0.7516002737771287, 0.19254709258696615, -0.057442624087766986, -0.6793162222432404, 0.4148860123267791, 0.13762364150603934, 1.3920049620919024, -0.14462229762839007, 0.14342609156753108, 0.6143080669181031, 0.4474505683921285, -0.34739229148391937, 1.061455226537793, 0.24475617312531944, -1.2513199803763844, -0.6937990342235643, -2.3404491478112965, 0.8320957832750987, 0.4535701994994277, -0.38394936857027945, -0.6680721253788142, -0.6429137849954224, 0.7147258770315915, -1.4985171428736122, 2.0459145141636066, -0.467161741917224, 0.8132661594542542, 0.6293808269260213, -1.5107789396693025, -0.331917743684358, 0.05867669275075526, 0.20626723911401554, -0.7977795930039119, -0.5284544164088391]}, {\"line\": {\"color\": \"rgba(128, 0, 128, 1.0)\", \"dash\": \"solid\", \"shape\": \"linear\", \"width\": 1.3}, \"mode\": \"lines\", \"name\": \"D\", \"text\": \"\", \"type\": \"scatter\", \"x\": [0, 1, 2, 3, 4, 5, 6, 7, 8, 9, 10, 11, 12, 13, 14, 15, 16, 17, 18, 19, 20, 21, 22, 23, 24, 25, 26, 27, 28, 29, 30, 31, 32, 33, 34, 35, 36, 37, 38, 39, 40, 41, 42, 43, 44, 45, 46, 47, 48, 49, 50, 51, 52, 53, 54, 55, 56, 57, 58, 59, 60, 61, 62, 63, 64, 65, 66, 67, 68, 69, 70, 71, 72, 73, 74, 75, 76, 77, 78, 79, 80, 81, 82, 83, 84, 85, 86, 87, 88, 89, 90, 91, 92, 93, 94, 95, 96, 97, 98, 99], \"y\": [0.03384664178148704, 0.5666429305505546, 0.14885183843377175, 0.2687473452003424, 1.1200512766765096, -2.8225156356584993, -0.09857086367123338, 0.6997016010550245, -1.3562792823740024, -0.41508056769541196, -0.44685046724214006, 1.3317926725059546, -1.534398796805004, 0.5107676096875485, -0.35539271221973195, -0.4691145512394626, 0.46537551119090104, -0.28621288875761214, 0.7206887872019336, 0.9270397108725131, 0.8876193880034717, 0.3686998726486203, -1.2219477310842741, -0.3902957898404521, -1.1949112579311598, -1.0811713597675425, 0.7916926529667945, 0.31681376614310686, -0.663152266439661, 1.1098423222784424, 0.06581774155636329, 0.34117151247625005, 0.9824823102015346, -0.8329297644404557, -1.0255005113062103, 0.38708767823694307, -0.2735876107312517, 1.111757822490364, -0.8053566441383361, 0.09470607282640017, 0.47268776889119185, -0.5701393873577066, -2.1961399023737114, -0.2577127983341919, -1.2187126822403935, 0.9816939651454246, 0.09885494293423237, -0.49510179974921226, 1.594516555206982, 0.4108355407054973, 0.168743533242441, 0.7617110899069682, 0.6445282167880872, 0.24658352945846151, 1.0633761369266885, -1.2952068758870838, 1.2556355409200266, 0.10525546514764797, 1.4510068650768608, -0.9774440012734138, 0.7573789005103825, -1.4692166603040264, -1.219866900508068, -0.03417242416064316, -0.8336711038622275, -1.289844436339557, -0.17837954060022773, 0.732927473839943, 0.08030871609250388, 1.5402237130269205, -1.2010816922179652, 1.0273283822842285, 1.1362028082895037, -0.5904487631408297, 0.767364935605862, 1.2840530894008695, 0.5443851698820155, 0.12506924046431742, 0.901584915943366, 0.8559873278925225, -0.8604099889630961, -0.6517254944882362, 0.7117137760304271, -0.9360005771624264, 0.5851825508705968, -1.8351426246396962, -0.636312250227509, 0.3815910085105638, -2.23757811597667, -0.3368141017962645, -0.005645035574050167, -0.16463055665192255, -0.1825924073902931, -1.0341953399573212, 0.7064307122288477, -0.3307511781925198, -1.49616348983762, -0.6911493407982104, 0.5079262001874038, 1.8328031186789648]}],                        {\"legend\": {\"bgcolor\": \"#F5F6F9\", \"font\": {\"color\": \"#4D5663\"}}, \"paper_bgcolor\": \"#F5F6F9\", \"plot_bgcolor\": \"#F5F6F9\", \"template\": {\"data\": {\"bar\": [{\"error_x\": {\"color\": \"#2a3f5f\"}, \"error_y\": {\"color\": \"#2a3f5f\"}, \"marker\": {\"line\": {\"color\": \"#E5ECF6\", \"width\": 0.5}}, \"type\": \"bar\"}], \"barpolar\": [{\"marker\": {\"line\": {\"color\": \"#E5ECF6\", \"width\": 0.5}}, \"type\": \"barpolar\"}], \"carpet\": [{\"aaxis\": {\"endlinecolor\": \"#2a3f5f\", \"gridcolor\": \"white\", \"linecolor\": \"white\", \"minorgridcolor\": \"white\", \"startlinecolor\": \"#2a3f5f\"}, \"baxis\": {\"endlinecolor\": \"#2a3f5f\", \"gridcolor\": \"white\", \"linecolor\": \"white\", \"minorgridcolor\": \"white\", \"startlinecolor\": \"#2a3f5f\"}, \"type\": \"carpet\"}], \"choropleth\": [{\"colorbar\": {\"outlinewidth\": 0, \"ticks\": \"\"}, \"type\": \"choropleth\"}], \"contour\": [{\"colorbar\": {\"outlinewidth\": 0, \"ticks\": \"\"}, \"colorscale\": [[0.0, \"#0d0887\"], [0.1111111111111111, \"#46039f\"], [0.2222222222222222, \"#7201a8\"], [0.3333333333333333, \"#9c179e\"], [0.4444444444444444, \"#bd3786\"], [0.5555555555555556, \"#d8576b\"], [0.6666666666666666, \"#ed7953\"], [0.7777777777777778, \"#fb9f3a\"], [0.8888888888888888, \"#fdca26\"], [1.0, \"#f0f921\"]], \"type\": \"contour\"}], \"contourcarpet\": [{\"colorbar\": {\"outlinewidth\": 0, \"ticks\": \"\"}, \"type\": \"contourcarpet\"}], \"heatmap\": [{\"colorbar\": {\"outlinewidth\": 0, \"ticks\": \"\"}, \"colorscale\": [[0.0, \"#0d0887\"], [0.1111111111111111, \"#46039f\"], [0.2222222222222222, \"#7201a8\"], [0.3333333333333333, \"#9c179e\"], [0.4444444444444444, \"#bd3786\"], [0.5555555555555556, \"#d8576b\"], [0.6666666666666666, \"#ed7953\"], [0.7777777777777778, \"#fb9f3a\"], [0.8888888888888888, \"#fdca26\"], [1.0, \"#f0f921\"]], \"type\": \"heatmap\"}], \"heatmapgl\": [{\"colorbar\": {\"outlinewidth\": 0, \"ticks\": \"\"}, \"colorscale\": [[0.0, \"#0d0887\"], [0.1111111111111111, \"#46039f\"], [0.2222222222222222, \"#7201a8\"], [0.3333333333333333, \"#9c179e\"], [0.4444444444444444, \"#bd3786\"], [0.5555555555555556, \"#d8576b\"], [0.6666666666666666, \"#ed7953\"], [0.7777777777777778, \"#fb9f3a\"], [0.8888888888888888, \"#fdca26\"], [1.0, \"#f0f921\"]], \"type\": \"heatmapgl\"}], \"histogram\": [{\"marker\": {\"colorbar\": {\"outlinewidth\": 0, \"ticks\": \"\"}}, \"type\": \"histogram\"}], \"histogram2d\": [{\"colorbar\": {\"outlinewidth\": 0, \"ticks\": \"\"}, \"colorscale\": [[0.0, \"#0d0887\"], [0.1111111111111111, \"#46039f\"], [0.2222222222222222, \"#7201a8\"], [0.3333333333333333, \"#9c179e\"], [0.4444444444444444, \"#bd3786\"], [0.5555555555555556, \"#d8576b\"], [0.6666666666666666, \"#ed7953\"], [0.7777777777777778, \"#fb9f3a\"], [0.8888888888888888, \"#fdca26\"], [1.0, \"#f0f921\"]], \"type\": \"histogram2d\"}], \"histogram2dcontour\": [{\"colorbar\": {\"outlinewidth\": 0, \"ticks\": \"\"}, \"colorscale\": [[0.0, \"#0d0887\"], [0.1111111111111111, \"#46039f\"], [0.2222222222222222, \"#7201a8\"], [0.3333333333333333, \"#9c179e\"], [0.4444444444444444, \"#bd3786\"], [0.5555555555555556, \"#d8576b\"], [0.6666666666666666, \"#ed7953\"], [0.7777777777777778, \"#fb9f3a\"], [0.8888888888888888, \"#fdca26\"], [1.0, \"#f0f921\"]], \"type\": \"histogram2dcontour\"}], \"mesh3d\": [{\"colorbar\": {\"outlinewidth\": 0, \"ticks\": \"\"}, \"type\": \"mesh3d\"}], \"parcoords\": [{\"line\": {\"colorbar\": {\"outlinewidth\": 0, \"ticks\": \"\"}}, \"type\": \"parcoords\"}], \"pie\": [{\"automargin\": true, \"type\": \"pie\"}], \"scatter\": [{\"marker\": {\"colorbar\": {\"outlinewidth\": 0, \"ticks\": \"\"}}, \"type\": \"scatter\"}], \"scatter3d\": [{\"line\": {\"colorbar\": {\"outlinewidth\": 0, \"ticks\": \"\"}}, \"marker\": {\"colorbar\": {\"outlinewidth\": 0, \"ticks\": \"\"}}, \"type\": \"scatter3d\"}], \"scattercarpet\": [{\"marker\": {\"colorbar\": {\"outlinewidth\": 0, \"ticks\": \"\"}}, \"type\": \"scattercarpet\"}], \"scattergeo\": [{\"marker\": {\"colorbar\": {\"outlinewidth\": 0, \"ticks\": \"\"}}, \"type\": \"scattergeo\"}], \"scattergl\": [{\"marker\": {\"colorbar\": {\"outlinewidth\": 0, \"ticks\": \"\"}}, \"type\": \"scattergl\"}], \"scattermapbox\": [{\"marker\": {\"colorbar\": {\"outlinewidth\": 0, \"ticks\": \"\"}}, \"type\": \"scattermapbox\"}], \"scatterpolar\": [{\"marker\": {\"colorbar\": {\"outlinewidth\": 0, \"ticks\": \"\"}}, \"type\": \"scatterpolar\"}], \"scatterpolargl\": [{\"marker\": {\"colorbar\": {\"outlinewidth\": 0, \"ticks\": \"\"}}, \"type\": \"scatterpolargl\"}], \"scatterternary\": [{\"marker\": {\"colorbar\": {\"outlinewidth\": 0, \"ticks\": \"\"}}, \"type\": \"scatterternary\"}], \"surface\": [{\"colorbar\": {\"outlinewidth\": 0, \"ticks\": \"\"}, \"colorscale\": [[0.0, \"#0d0887\"], [0.1111111111111111, \"#46039f\"], [0.2222222222222222, \"#7201a8\"], [0.3333333333333333, \"#9c179e\"], [0.4444444444444444, \"#bd3786\"], [0.5555555555555556, \"#d8576b\"], [0.6666666666666666, \"#ed7953\"], [0.7777777777777778, \"#fb9f3a\"], [0.8888888888888888, \"#fdca26\"], [1.0, \"#f0f921\"]], \"type\": \"surface\"}], \"table\": [{\"cells\": {\"fill\": {\"color\": \"#EBF0F8\"}, \"line\": {\"color\": \"white\"}}, \"header\": {\"fill\": {\"color\": \"#C8D4E3\"}, \"line\": {\"color\": \"white\"}}, \"type\": \"table\"}]}, \"layout\": {\"annotationdefaults\": {\"arrowcolor\": \"#2a3f5f\", \"arrowhead\": 0, \"arrowwidth\": 1}, \"coloraxis\": {\"colorbar\": {\"outlinewidth\": 0, \"ticks\": \"\"}}, \"colorscale\": {\"diverging\": [[0, \"#8e0152\"], [0.1, \"#c51b7d\"], [0.2, \"#de77ae\"], [0.3, \"#f1b6da\"], [0.4, \"#fde0ef\"], [0.5, \"#f7f7f7\"], [0.6, \"#e6f5d0\"], [0.7, \"#b8e186\"], [0.8, \"#7fbc41\"], [0.9, \"#4d9221\"], [1, \"#276419\"]], \"sequential\": [[0.0, \"#0d0887\"], [0.1111111111111111, \"#46039f\"], [0.2222222222222222, \"#7201a8\"], [0.3333333333333333, \"#9c179e\"], [0.4444444444444444, \"#bd3786\"], [0.5555555555555556, \"#d8576b\"], [0.6666666666666666, \"#ed7953\"], [0.7777777777777778, \"#fb9f3a\"], [0.8888888888888888, \"#fdca26\"], [1.0, \"#f0f921\"]], \"sequentialminus\": [[0.0, \"#0d0887\"], [0.1111111111111111, \"#46039f\"], [0.2222222222222222, \"#7201a8\"], [0.3333333333333333, \"#9c179e\"], [0.4444444444444444, \"#bd3786\"], [0.5555555555555556, \"#d8576b\"], [0.6666666666666666, \"#ed7953\"], [0.7777777777777778, \"#fb9f3a\"], [0.8888888888888888, \"#fdca26\"], [1.0, \"#f0f921\"]]}, \"colorway\": [\"#636efa\", \"#EF553B\", \"#00cc96\", \"#ab63fa\", \"#FFA15A\", \"#19d3f3\", \"#FF6692\", \"#B6E880\", \"#FF97FF\", \"#FECB52\"], \"font\": {\"color\": \"#2a3f5f\"}, \"geo\": {\"bgcolor\": \"white\", \"lakecolor\": \"white\", \"landcolor\": \"#E5ECF6\", \"showlakes\": true, \"showland\": true, \"subunitcolor\": \"white\"}, \"hoverlabel\": {\"align\": \"left\"}, \"hovermode\": \"closest\", \"mapbox\": {\"style\": \"light\"}, \"paper_bgcolor\": \"white\", \"plot_bgcolor\": \"#E5ECF6\", \"polar\": {\"angularaxis\": {\"gridcolor\": \"white\", \"linecolor\": \"white\", \"ticks\": \"\"}, \"bgcolor\": \"#E5ECF6\", \"radialaxis\": {\"gridcolor\": \"white\", \"linecolor\": \"white\", \"ticks\": \"\"}}, \"scene\": {\"xaxis\": {\"backgroundcolor\": \"#E5ECF6\", \"gridcolor\": \"white\", \"gridwidth\": 2, \"linecolor\": \"white\", \"showbackground\": true, \"ticks\": \"\", \"zerolinecolor\": \"white\"}, \"yaxis\": {\"backgroundcolor\": \"#E5ECF6\", \"gridcolor\": \"white\", \"gridwidth\": 2, \"linecolor\": \"white\", \"showbackground\": true, \"ticks\": \"\", \"zerolinecolor\": \"white\"}, \"zaxis\": {\"backgroundcolor\": \"#E5ECF6\", \"gridcolor\": \"white\", \"gridwidth\": 2, \"linecolor\": \"white\", \"showbackground\": true, \"ticks\": \"\", \"zerolinecolor\": \"white\"}}, \"shapedefaults\": {\"line\": {\"color\": \"#2a3f5f\"}}, \"ternary\": {\"aaxis\": {\"gridcolor\": \"white\", \"linecolor\": \"white\", \"ticks\": \"\"}, \"baxis\": {\"gridcolor\": \"white\", \"linecolor\": \"white\", \"ticks\": \"\"}, \"bgcolor\": \"#E5ECF6\", \"caxis\": {\"gridcolor\": \"white\", \"linecolor\": \"white\", \"ticks\": \"\"}}, \"title\": {\"x\": 0.05}, \"xaxis\": {\"automargin\": true, \"gridcolor\": \"white\", \"linecolor\": \"white\", \"ticks\": \"\", \"title\": {\"standoff\": 15}, \"zerolinecolor\": \"white\", \"zerolinewidth\": 2}, \"yaxis\": {\"automargin\": true, \"gridcolor\": \"white\", \"linecolor\": \"white\", \"ticks\": \"\", \"title\": {\"standoff\": 15}, \"zerolinecolor\": \"white\", \"zerolinewidth\": 2}}}, \"title\": {\"font\": {\"color\": \"#4D5663\"}}, \"xaxis\": {\"gridcolor\": \"#E1E5ED\", \"showgrid\": true, \"tickfont\": {\"color\": \"#4D5663\"}, \"title\": {\"font\": {\"color\": \"#4D5663\"}, \"text\": \"\"}, \"zerolinecolor\": \"#E1E5ED\"}, \"yaxis\": {\"gridcolor\": \"#E1E5ED\", \"showgrid\": true, \"tickfont\": {\"color\": \"#4D5663\"}, \"title\": {\"font\": {\"color\": \"#4D5663\"}, \"text\": \"\"}, \"zerolinecolor\": \"#E1E5ED\"}},                        {\"showLink\": true, \"linkText\": \"Export to plot.ly\", \"plotlyServerURL\": \"https://plot.ly\", \"responsive\": true}                    ).then(function(){\n",
       "                            \n",
       "var gd = document.getElementById('f2cd1ad4-5331-488c-bdfb-911b0cacd621');\n",
       "var x = new MutationObserver(function (mutations, observer) {{\n",
       "        var display = window.getComputedStyle(gd).display;\n",
       "        if (!display || display === 'none') {{\n",
       "            console.log([gd, 'removed!']);\n",
       "            Plotly.purge(gd);\n",
       "            observer.disconnect();\n",
       "        }}\n",
       "}});\n",
       "\n",
       "// Listen for the removal of the full notebook cells\n",
       "var notebookContainer = gd.closest('#notebook-container');\n",
       "if (notebookContainer) {{\n",
       "    x.observe(notebookContainer, {childList: true});\n",
       "}}\n",
       "\n",
       "// Listen for the clearing of the current output cell\n",
       "var outputEl = gd.closest('.output');\n",
       "if (outputEl) {{\n",
       "    x.observe(outputEl, {childList: true});\n",
       "}}\n",
       "\n",
       "                        })                };                });            </script>        </div>"
      ]
     },
     "metadata": {},
     "output_type": "display_data"
    }
   ],
   "source": [
    "df.iplot()"
   ]
  },
  {
   "cell_type": "code",
   "execution_count": 8,
   "metadata": {},
   "outputs": [
    {
     "data": {
      "application/vnd.plotly.v1+json": {
       "config": {
        "linkText": "Export to plot.ly",
        "plotlyServerURL": "https://plot.ly",
        "showLink": true
       },
       "data": [
        {
         "line": {
          "color": "rgba(255, 153, 51, 1.0)",
          "dash": "solid",
          "shape": "linear",
          "width": 1.3
         },
         "marker": {
          "size": 20,
          "symbol": "circle"
         },
         "mode": "markers",
         "name": "B",
         "text": "",
         "type": "scatter",
         "x": [
          -1.3345721423538044,
          1.152744983274052,
          -0.4144432895718666,
          1.4302774060136265,
          1.1032714804754071,
          0.3191628341280002,
          0.29167766457536576,
          -0.2948260219573132,
          -0.7898916249391608,
          0.7579798280599954,
          0.7023990585262951,
          0.3617203499296237,
          1.3840609450336574,
          2.1234137119547905,
          0.2810105000977317,
          1.3417915860610645,
          -0.2412397886071698,
          -1.4800784340458517,
          -0.43730607784210224,
          1.2776043936563957,
          0.23681297531851184,
          0.540390995960289,
          1.6871090335390888,
          -0.12613605829513988,
          -0.5588115339425442,
          1.8051083114525888,
          -1.1726637178355273,
          0.8869084864979949,
          -0.6608453517139303,
          0.86318177144118,
          1.3220433452814955,
          -0.040310682232710525,
          -0.6822401059683589,
          1.0146630751377788,
          -0.09408866628468343,
          -0.3835960857750811,
          -0.033174674346961475,
          0.6882005981376775,
          -0.8463552045373701,
          0.3558779153321544,
          0.4162235961224696,
          1.2455350592782963,
          -0.4404736135266595,
          -0.021206617569660913,
          0.910807493204989,
          0.7261457915112387,
          -1.0852814847699983,
          -0.6116324809576813,
          0.4419712096882013,
          -0.9549757189699014,
          -1.0917298503989892,
          1.683458340637992,
          -2.34848252238384,
          -0.21404278096559237,
          1.7763779984983499,
          -0.6061798311193356,
          0.2018170117960935,
          1.1347757868560242,
          -0.036032949775629396,
          -0.34619100102470757,
          -0.288608149951723,
          0.5650826594364331,
          0.8499639803220693,
          0.9894872408033251,
          0.06569041064446172,
          0.054489734536987196,
          -1.9952387047587858,
          -2.2784797833534043,
          -0.3235225571592153,
          0.7985449754329478,
          0.5562115947213144,
          0.19932402438213523,
          -0.1403275336563558,
          0.9855129234750741,
          0.3045407336196398,
          0.53929898768602,
          -0.27575107464618664,
          -0.07407610262260471,
          0.11499769199840022,
          -0.7978934478689437,
          1.6231013726732846,
          0.11356346504298263,
          1.0257404298721093,
          0.38698431699048086,
          1.5573123378387754,
          -0.3575297031395702,
          -0.7186779504700587,
          -0.35459907027756954,
          1.0501179801717468,
          0.9723530993336464,
          -1.7859678584514145,
          -1.3568059526808665,
          1.620503617755656,
          1.0373614474576012,
          -1.6411237307693962,
          -2.052337862151146,
          1.5268582726716706,
          1.176810614698316,
          -0.511936349742928,
          1.8899167884179937
         ],
         "y": [
          0.18934519564362062,
          -0.5168133289643818,
          -0.575887085195419,
          0.2654879300880599,
          -0.42270044140335306,
          0.49202396803406306,
          -0.05813887150593542,
          -1.9198333732052166,
          -1.1749861717602872,
          0.16124454493046997,
          -0.01733316004195805,
          -0.9257924593376672,
          0.09006921111651374,
          0.9734162863579563,
          -0.4518387082824791,
          -0.26153686886886934,
          0.28232403258757965,
          -1.0529426660554346,
          0.10202608047979453,
          0.23633183741611294,
          0.23498955155440895,
          0.9677590445244143,
          1.831253424242203,
          0.2415382607666498,
          -1.4230300649451495,
          2.2312182747485743,
          1.236202195805703,
          0.003390367770349785,
          -0.6237252050062434,
          -0.2342174145278324,
          -1.924925714689275,
          -0.9337128747220547,
          1.7543360784429163,
          0.7581829264781671,
          -0.08232277508753891,
          -0.45468484443795826,
          -0.19935092376725272,
          0.3432671525145582,
          -0.07884733212534094,
          0.9131918232446734,
          -0.8685402818250365,
          0.6883979203844126,
          1.0774186567698938,
          -1.2365006595554795,
          -0.604706613485279,
          0.5530504203367701,
          -1.1638121061985844,
          1.1266844459061904,
          -0.9565987159997782,
          0.46966062495493444,
          -0.15512534613084203,
          -1.201935972800709,
          1.0209556886714029,
          0.2795071484988548,
          1.4659564159180398,
          -0.4515262872130025,
          -0.4514630053316504,
          -0.0711730466463417,
          -2.1375937961790283,
          -0.7568430799085749,
          -1.051286755748964,
          0.27836127689014034,
          -0.4279875997952308,
          1.452930902585046,
          1.1703271571918823,
          -0.8463298634985316,
          0.6110841975955712,
          1.2940742777754228,
          -0.9945647867400169,
          1.5151241023797244,
          0.5075362134278456,
          -1.1735886638674613,
          1.98485816589851,
          0.7982761159418083,
          -0.07944727878078828,
          -0.7971158770598205,
          0.8537029643240611,
          -1.670795262780064,
          0.4918535139756341,
          -0.5521934592979183,
          -2.6713602633960485,
          -0.6402242514425622,
          -0.2530997756328507,
          0.13291790640185097,
          1.840027332124377,
          0.4256107998272355,
          -0.10524227119226856,
          0.7568395535199907,
          0.01227355678842452,
          -0.18777367729543826,
          0.11596626772388403,
          0.26977552573541597,
          -0.993101164784401,
          -0.05067529958534019,
          -0.5047305795737309,
          0.9070451286544564,
          0.5229498297030087,
          1.499042011679956,
          -0.9162419500042097,
          0.5257383477604088
         ]
        }
       ],
       "layout": {
        "legend": {
         "bgcolor": "#F5F6F9",
         "font": {
          "color": "#4D5663"
         }
        },
        "paper_bgcolor": "#F5F6F9",
        "plot_bgcolor": "#F5F6F9",
        "template": {
         "data": {
          "bar": [
           {
            "error_x": {
             "color": "#2a3f5f"
            },
            "error_y": {
             "color": "#2a3f5f"
            },
            "marker": {
             "line": {
              "color": "#E5ECF6",
              "width": 0.5
             }
            },
            "type": "bar"
           }
          ],
          "barpolar": [
           {
            "marker": {
             "line": {
              "color": "#E5ECF6",
              "width": 0.5
             }
            },
            "type": "barpolar"
           }
          ],
          "carpet": [
           {
            "aaxis": {
             "endlinecolor": "#2a3f5f",
             "gridcolor": "white",
             "linecolor": "white",
             "minorgridcolor": "white",
             "startlinecolor": "#2a3f5f"
            },
            "baxis": {
             "endlinecolor": "#2a3f5f",
             "gridcolor": "white",
             "linecolor": "white",
             "minorgridcolor": "white",
             "startlinecolor": "#2a3f5f"
            },
            "type": "carpet"
           }
          ],
          "choropleth": [
           {
            "colorbar": {
             "outlinewidth": 0,
             "ticks": ""
            },
            "type": "choropleth"
           }
          ],
          "contour": [
           {
            "colorbar": {
             "outlinewidth": 0,
             "ticks": ""
            },
            "colorscale": [
             [
              0,
              "#0d0887"
             ],
             [
              0.1111111111111111,
              "#46039f"
             ],
             [
              0.2222222222222222,
              "#7201a8"
             ],
             [
              0.3333333333333333,
              "#9c179e"
             ],
             [
              0.4444444444444444,
              "#bd3786"
             ],
             [
              0.5555555555555556,
              "#d8576b"
             ],
             [
              0.6666666666666666,
              "#ed7953"
             ],
             [
              0.7777777777777778,
              "#fb9f3a"
             ],
             [
              0.8888888888888888,
              "#fdca26"
             ],
             [
              1,
              "#f0f921"
             ]
            ],
            "type": "contour"
           }
          ],
          "contourcarpet": [
           {
            "colorbar": {
             "outlinewidth": 0,
             "ticks": ""
            },
            "type": "contourcarpet"
           }
          ],
          "heatmap": [
           {
            "colorbar": {
             "outlinewidth": 0,
             "ticks": ""
            },
            "colorscale": [
             [
              0,
              "#0d0887"
             ],
             [
              0.1111111111111111,
              "#46039f"
             ],
             [
              0.2222222222222222,
              "#7201a8"
             ],
             [
              0.3333333333333333,
              "#9c179e"
             ],
             [
              0.4444444444444444,
              "#bd3786"
             ],
             [
              0.5555555555555556,
              "#d8576b"
             ],
             [
              0.6666666666666666,
              "#ed7953"
             ],
             [
              0.7777777777777778,
              "#fb9f3a"
             ],
             [
              0.8888888888888888,
              "#fdca26"
             ],
             [
              1,
              "#f0f921"
             ]
            ],
            "type": "heatmap"
           }
          ],
          "heatmapgl": [
           {
            "colorbar": {
             "outlinewidth": 0,
             "ticks": ""
            },
            "colorscale": [
             [
              0,
              "#0d0887"
             ],
             [
              0.1111111111111111,
              "#46039f"
             ],
             [
              0.2222222222222222,
              "#7201a8"
             ],
             [
              0.3333333333333333,
              "#9c179e"
             ],
             [
              0.4444444444444444,
              "#bd3786"
             ],
             [
              0.5555555555555556,
              "#d8576b"
             ],
             [
              0.6666666666666666,
              "#ed7953"
             ],
             [
              0.7777777777777778,
              "#fb9f3a"
             ],
             [
              0.8888888888888888,
              "#fdca26"
             ],
             [
              1,
              "#f0f921"
             ]
            ],
            "type": "heatmapgl"
           }
          ],
          "histogram": [
           {
            "marker": {
             "colorbar": {
              "outlinewidth": 0,
              "ticks": ""
             }
            },
            "type": "histogram"
           }
          ],
          "histogram2d": [
           {
            "colorbar": {
             "outlinewidth": 0,
             "ticks": ""
            },
            "colorscale": [
             [
              0,
              "#0d0887"
             ],
             [
              0.1111111111111111,
              "#46039f"
             ],
             [
              0.2222222222222222,
              "#7201a8"
             ],
             [
              0.3333333333333333,
              "#9c179e"
             ],
             [
              0.4444444444444444,
              "#bd3786"
             ],
             [
              0.5555555555555556,
              "#d8576b"
             ],
             [
              0.6666666666666666,
              "#ed7953"
             ],
             [
              0.7777777777777778,
              "#fb9f3a"
             ],
             [
              0.8888888888888888,
              "#fdca26"
             ],
             [
              1,
              "#f0f921"
             ]
            ],
            "type": "histogram2d"
           }
          ],
          "histogram2dcontour": [
           {
            "colorbar": {
             "outlinewidth": 0,
             "ticks": ""
            },
            "colorscale": [
             [
              0,
              "#0d0887"
             ],
             [
              0.1111111111111111,
              "#46039f"
             ],
             [
              0.2222222222222222,
              "#7201a8"
             ],
             [
              0.3333333333333333,
              "#9c179e"
             ],
             [
              0.4444444444444444,
              "#bd3786"
             ],
             [
              0.5555555555555556,
              "#d8576b"
             ],
             [
              0.6666666666666666,
              "#ed7953"
             ],
             [
              0.7777777777777778,
              "#fb9f3a"
             ],
             [
              0.8888888888888888,
              "#fdca26"
             ],
             [
              1,
              "#f0f921"
             ]
            ],
            "type": "histogram2dcontour"
           }
          ],
          "mesh3d": [
           {
            "colorbar": {
             "outlinewidth": 0,
             "ticks": ""
            },
            "type": "mesh3d"
           }
          ],
          "parcoords": [
           {
            "line": {
             "colorbar": {
              "outlinewidth": 0,
              "ticks": ""
             }
            },
            "type": "parcoords"
           }
          ],
          "pie": [
           {
            "automargin": true,
            "type": "pie"
           }
          ],
          "scatter": [
           {
            "marker": {
             "colorbar": {
              "outlinewidth": 0,
              "ticks": ""
             }
            },
            "type": "scatter"
           }
          ],
          "scatter3d": [
           {
            "line": {
             "colorbar": {
              "outlinewidth": 0,
              "ticks": ""
             }
            },
            "marker": {
             "colorbar": {
              "outlinewidth": 0,
              "ticks": ""
             }
            },
            "type": "scatter3d"
           }
          ],
          "scattercarpet": [
           {
            "marker": {
             "colorbar": {
              "outlinewidth": 0,
              "ticks": ""
             }
            },
            "type": "scattercarpet"
           }
          ],
          "scattergeo": [
           {
            "marker": {
             "colorbar": {
              "outlinewidth": 0,
              "ticks": ""
             }
            },
            "type": "scattergeo"
           }
          ],
          "scattergl": [
           {
            "marker": {
             "colorbar": {
              "outlinewidth": 0,
              "ticks": ""
             }
            },
            "type": "scattergl"
           }
          ],
          "scattermapbox": [
           {
            "marker": {
             "colorbar": {
              "outlinewidth": 0,
              "ticks": ""
             }
            },
            "type": "scattermapbox"
           }
          ],
          "scatterpolar": [
           {
            "marker": {
             "colorbar": {
              "outlinewidth": 0,
              "ticks": ""
             }
            },
            "type": "scatterpolar"
           }
          ],
          "scatterpolargl": [
           {
            "marker": {
             "colorbar": {
              "outlinewidth": 0,
              "ticks": ""
             }
            },
            "type": "scatterpolargl"
           }
          ],
          "scatterternary": [
           {
            "marker": {
             "colorbar": {
              "outlinewidth": 0,
              "ticks": ""
             }
            },
            "type": "scatterternary"
           }
          ],
          "surface": [
           {
            "colorbar": {
             "outlinewidth": 0,
             "ticks": ""
            },
            "colorscale": [
             [
              0,
              "#0d0887"
             ],
             [
              0.1111111111111111,
              "#46039f"
             ],
             [
              0.2222222222222222,
              "#7201a8"
             ],
             [
              0.3333333333333333,
              "#9c179e"
             ],
             [
              0.4444444444444444,
              "#bd3786"
             ],
             [
              0.5555555555555556,
              "#d8576b"
             ],
             [
              0.6666666666666666,
              "#ed7953"
             ],
             [
              0.7777777777777778,
              "#fb9f3a"
             ],
             [
              0.8888888888888888,
              "#fdca26"
             ],
             [
              1,
              "#f0f921"
             ]
            ],
            "type": "surface"
           }
          ],
          "table": [
           {
            "cells": {
             "fill": {
              "color": "#EBF0F8"
             },
             "line": {
              "color": "white"
             }
            },
            "header": {
             "fill": {
              "color": "#C8D4E3"
             },
             "line": {
              "color": "white"
             }
            },
            "type": "table"
           }
          ]
         },
         "layout": {
          "annotationdefaults": {
           "arrowcolor": "#2a3f5f",
           "arrowhead": 0,
           "arrowwidth": 1
          },
          "coloraxis": {
           "colorbar": {
            "outlinewidth": 0,
            "ticks": ""
           }
          },
          "colorscale": {
           "diverging": [
            [
             0,
             "#8e0152"
            ],
            [
             0.1,
             "#c51b7d"
            ],
            [
             0.2,
             "#de77ae"
            ],
            [
             0.3,
             "#f1b6da"
            ],
            [
             0.4,
             "#fde0ef"
            ],
            [
             0.5,
             "#f7f7f7"
            ],
            [
             0.6,
             "#e6f5d0"
            ],
            [
             0.7,
             "#b8e186"
            ],
            [
             0.8,
             "#7fbc41"
            ],
            [
             0.9,
             "#4d9221"
            ],
            [
             1,
             "#276419"
            ]
           ],
           "sequential": [
            [
             0,
             "#0d0887"
            ],
            [
             0.1111111111111111,
             "#46039f"
            ],
            [
             0.2222222222222222,
             "#7201a8"
            ],
            [
             0.3333333333333333,
             "#9c179e"
            ],
            [
             0.4444444444444444,
             "#bd3786"
            ],
            [
             0.5555555555555556,
             "#d8576b"
            ],
            [
             0.6666666666666666,
             "#ed7953"
            ],
            [
             0.7777777777777778,
             "#fb9f3a"
            ],
            [
             0.8888888888888888,
             "#fdca26"
            ],
            [
             1,
             "#f0f921"
            ]
           ],
           "sequentialminus": [
            [
             0,
             "#0d0887"
            ],
            [
             0.1111111111111111,
             "#46039f"
            ],
            [
             0.2222222222222222,
             "#7201a8"
            ],
            [
             0.3333333333333333,
             "#9c179e"
            ],
            [
             0.4444444444444444,
             "#bd3786"
            ],
            [
             0.5555555555555556,
             "#d8576b"
            ],
            [
             0.6666666666666666,
             "#ed7953"
            ],
            [
             0.7777777777777778,
             "#fb9f3a"
            ],
            [
             0.8888888888888888,
             "#fdca26"
            ],
            [
             1,
             "#f0f921"
            ]
           ]
          },
          "colorway": [
           "#636efa",
           "#EF553B",
           "#00cc96",
           "#ab63fa",
           "#FFA15A",
           "#19d3f3",
           "#FF6692",
           "#B6E880",
           "#FF97FF",
           "#FECB52"
          ],
          "font": {
           "color": "#2a3f5f"
          },
          "geo": {
           "bgcolor": "white",
           "lakecolor": "white",
           "landcolor": "#E5ECF6",
           "showlakes": true,
           "showland": true,
           "subunitcolor": "white"
          },
          "hoverlabel": {
           "align": "left"
          },
          "hovermode": "closest",
          "mapbox": {
           "style": "light"
          },
          "paper_bgcolor": "white",
          "plot_bgcolor": "#E5ECF6",
          "polar": {
           "angularaxis": {
            "gridcolor": "white",
            "linecolor": "white",
            "ticks": ""
           },
           "bgcolor": "#E5ECF6",
           "radialaxis": {
            "gridcolor": "white",
            "linecolor": "white",
            "ticks": ""
           }
          },
          "scene": {
           "xaxis": {
            "backgroundcolor": "#E5ECF6",
            "gridcolor": "white",
            "gridwidth": 2,
            "linecolor": "white",
            "showbackground": true,
            "ticks": "",
            "zerolinecolor": "white"
           },
           "yaxis": {
            "backgroundcolor": "#E5ECF6",
            "gridcolor": "white",
            "gridwidth": 2,
            "linecolor": "white",
            "showbackground": true,
            "ticks": "",
            "zerolinecolor": "white"
           },
           "zaxis": {
            "backgroundcolor": "#E5ECF6",
            "gridcolor": "white",
            "gridwidth": 2,
            "linecolor": "white",
            "showbackground": true,
            "ticks": "",
            "zerolinecolor": "white"
           }
          },
          "shapedefaults": {
           "line": {
            "color": "#2a3f5f"
           }
          },
          "ternary": {
           "aaxis": {
            "gridcolor": "white",
            "linecolor": "white",
            "ticks": ""
           },
           "baxis": {
            "gridcolor": "white",
            "linecolor": "white",
            "ticks": ""
           },
           "bgcolor": "#E5ECF6",
           "caxis": {
            "gridcolor": "white",
            "linecolor": "white",
            "ticks": ""
           }
          },
          "title": {
           "x": 0.05
          },
          "xaxis": {
           "automargin": true,
           "gridcolor": "white",
           "linecolor": "white",
           "ticks": "",
           "title": {
            "standoff": 15
           },
           "zerolinecolor": "white",
           "zerolinewidth": 2
          },
          "yaxis": {
           "automargin": true,
           "gridcolor": "white",
           "linecolor": "white",
           "ticks": "",
           "title": {
            "standoff": 15
           },
           "zerolinecolor": "white",
           "zerolinewidth": 2
          }
         }
        },
        "title": {
         "font": {
          "color": "#4D5663"
         }
        },
        "xaxis": {
         "gridcolor": "#E1E5ED",
         "showgrid": true,
         "tickfont": {
          "color": "#4D5663"
         },
         "title": {
          "font": {
           "color": "#4D5663"
          },
          "text": ""
         },
         "zerolinecolor": "#E1E5ED"
        },
        "yaxis": {
         "gridcolor": "#E1E5ED",
         "showgrid": true,
         "tickfont": {
          "color": "#4D5663"
         },
         "title": {
          "font": {
           "color": "#4D5663"
          },
          "text": ""
         },
         "zerolinecolor": "#E1E5ED"
        }
       }
      },
      "text/html": [
       "<div>                            <div id=\"00066af3-5284-437f-8d39-b1f86d09047e\" class=\"plotly-graph-div\" style=\"height:525px; width:100%;\"></div>            <script type=\"text/javascript\">                require([\"plotly\"], function(Plotly) {                    window.PLOTLYENV=window.PLOTLYENV || {};\n",
       "                    window.PLOTLYENV.BASE_URL='https://plot.ly';                                    if (document.getElementById(\"00066af3-5284-437f-8d39-b1f86d09047e\")) {                    Plotly.newPlot(                        \"00066af3-5284-437f-8d39-b1f86d09047e\",                        [{\"line\": {\"color\": \"rgba(255, 153, 51, 1.0)\", \"dash\": \"solid\", \"shape\": \"linear\", \"width\": 1.3}, \"marker\": {\"size\": 20, \"symbol\": \"circle\"}, \"mode\": \"markers\", \"name\": \"B\", \"text\": \"\", \"type\": \"scatter\", \"x\": [-1.3345721423538044, 1.152744983274052, -0.4144432895718666, 1.4302774060136265, 1.1032714804754071, 0.3191628341280002, 0.29167766457536576, -0.2948260219573132, -0.7898916249391608, 0.7579798280599954, 0.7023990585262951, 0.3617203499296237, 1.3840609450336574, 2.1234137119547905, 0.2810105000977317, 1.3417915860610645, -0.2412397886071698, -1.4800784340458517, -0.43730607784210224, 1.2776043936563957, 0.23681297531851184, 0.540390995960289, 1.6871090335390888, -0.12613605829513988, -0.5588115339425442, 1.8051083114525888, -1.1726637178355273, 0.8869084864979949, -0.6608453517139303, 0.86318177144118, 1.3220433452814955, -0.040310682232710525, -0.6822401059683589, 1.0146630751377788, -0.09408866628468343, -0.3835960857750811, -0.033174674346961475, 0.6882005981376775, -0.8463552045373701, 0.3558779153321544, 0.4162235961224696, 1.2455350592782963, -0.4404736135266595, -0.021206617569660913, 0.910807493204989, 0.7261457915112387, -1.0852814847699983, -0.6116324809576813, 0.4419712096882013, -0.9549757189699014, -1.0917298503989892, 1.683458340637992, -2.34848252238384, -0.21404278096559237, 1.7763779984983499, -0.6061798311193356, 0.2018170117960935, 1.1347757868560242, -0.036032949775629396, -0.34619100102470757, -0.288608149951723, 0.5650826594364331, 0.8499639803220693, 0.9894872408033251, 0.06569041064446172, 0.054489734536987196, -1.9952387047587858, -2.2784797833534043, -0.3235225571592153, 0.7985449754329478, 0.5562115947213144, 0.19932402438213523, -0.1403275336563558, 0.9855129234750741, 0.3045407336196398, 0.53929898768602, -0.27575107464618664, -0.07407610262260471, 0.11499769199840022, -0.7978934478689437, 1.6231013726732846, 0.11356346504298263, 1.0257404298721093, 0.38698431699048086, 1.5573123378387754, -0.3575297031395702, -0.7186779504700587, -0.35459907027756954, 1.0501179801717468, 0.9723530993336464, -1.7859678584514145, -1.3568059526808665, 1.620503617755656, 1.0373614474576012, -1.6411237307693962, -2.052337862151146, 1.5268582726716706, 1.176810614698316, -0.511936349742928, 1.8899167884179937], \"y\": [0.18934519564362062, -0.5168133289643818, -0.575887085195419, 0.2654879300880599, -0.42270044140335306, 0.49202396803406306, -0.05813887150593542, -1.9198333732052166, -1.1749861717602872, 0.16124454493046997, -0.01733316004195805, -0.9257924593376672, 0.09006921111651374, 0.9734162863579563, -0.4518387082824791, -0.26153686886886934, 0.28232403258757965, -1.0529426660554346, 0.10202608047979453, 0.23633183741611294, 0.23498955155440895, 0.9677590445244143, 1.831253424242203, 0.2415382607666498, -1.4230300649451495, 2.2312182747485743, 1.236202195805703, 0.003390367770349785, -0.6237252050062434, -0.2342174145278324, -1.924925714689275, -0.9337128747220547, 1.7543360784429163, 0.7581829264781671, -0.08232277508753891, -0.45468484443795826, -0.19935092376725272, 0.3432671525145582, -0.07884733212534094, 0.9131918232446734, -0.8685402818250365, 0.6883979203844126, 1.0774186567698938, -1.2365006595554795, -0.604706613485279, 0.5530504203367701, -1.1638121061985844, 1.1266844459061904, -0.9565987159997782, 0.46966062495493444, -0.15512534613084203, -1.201935972800709, 1.0209556886714029, 0.2795071484988548, 1.4659564159180398, -0.4515262872130025, -0.4514630053316504, -0.0711730466463417, -2.1375937961790283, -0.7568430799085749, -1.051286755748964, 0.27836127689014034, -0.4279875997952308, 1.452930902585046, 1.1703271571918823, -0.8463298634985316, 0.6110841975955712, 1.2940742777754228, -0.9945647867400169, 1.5151241023797244, 0.5075362134278456, -1.1735886638674613, 1.98485816589851, 0.7982761159418083, -0.07944727878078828, -0.7971158770598205, 0.8537029643240611, -1.670795262780064, 0.4918535139756341, -0.5521934592979183, -2.6713602633960485, -0.6402242514425622, -0.2530997756328507, 0.13291790640185097, 1.840027332124377, 0.4256107998272355, -0.10524227119226856, 0.7568395535199907, 0.01227355678842452, -0.18777367729543826, 0.11596626772388403, 0.26977552573541597, -0.993101164784401, -0.05067529958534019, -0.5047305795737309, 0.9070451286544564, 0.5229498297030087, 1.499042011679956, -0.9162419500042097, 0.5257383477604088]}],                        {\"legend\": {\"bgcolor\": \"#F5F6F9\", \"font\": {\"color\": \"#4D5663\"}}, \"paper_bgcolor\": \"#F5F6F9\", \"plot_bgcolor\": \"#F5F6F9\", \"template\": {\"data\": {\"bar\": [{\"error_x\": {\"color\": \"#2a3f5f\"}, \"error_y\": {\"color\": \"#2a3f5f\"}, \"marker\": {\"line\": {\"color\": \"#E5ECF6\", \"width\": 0.5}}, \"type\": \"bar\"}], \"barpolar\": [{\"marker\": {\"line\": {\"color\": \"#E5ECF6\", \"width\": 0.5}}, \"type\": \"barpolar\"}], \"carpet\": [{\"aaxis\": {\"endlinecolor\": \"#2a3f5f\", \"gridcolor\": \"white\", \"linecolor\": \"white\", \"minorgridcolor\": \"white\", \"startlinecolor\": \"#2a3f5f\"}, \"baxis\": {\"endlinecolor\": \"#2a3f5f\", \"gridcolor\": \"white\", \"linecolor\": \"white\", \"minorgridcolor\": \"white\", \"startlinecolor\": \"#2a3f5f\"}, \"type\": \"carpet\"}], \"choropleth\": [{\"colorbar\": {\"outlinewidth\": 0, \"ticks\": \"\"}, \"type\": \"choropleth\"}], \"contour\": [{\"colorbar\": {\"outlinewidth\": 0, \"ticks\": \"\"}, \"colorscale\": [[0.0, \"#0d0887\"], [0.1111111111111111, \"#46039f\"], [0.2222222222222222, \"#7201a8\"], [0.3333333333333333, \"#9c179e\"], [0.4444444444444444, \"#bd3786\"], [0.5555555555555556, \"#d8576b\"], [0.6666666666666666, \"#ed7953\"], [0.7777777777777778, \"#fb9f3a\"], [0.8888888888888888, \"#fdca26\"], [1.0, \"#f0f921\"]], \"type\": \"contour\"}], \"contourcarpet\": [{\"colorbar\": {\"outlinewidth\": 0, \"ticks\": \"\"}, \"type\": \"contourcarpet\"}], \"heatmap\": [{\"colorbar\": {\"outlinewidth\": 0, \"ticks\": \"\"}, \"colorscale\": [[0.0, \"#0d0887\"], [0.1111111111111111, \"#46039f\"], [0.2222222222222222, \"#7201a8\"], [0.3333333333333333, \"#9c179e\"], [0.4444444444444444, \"#bd3786\"], [0.5555555555555556, \"#d8576b\"], [0.6666666666666666, \"#ed7953\"], [0.7777777777777778, \"#fb9f3a\"], [0.8888888888888888, \"#fdca26\"], [1.0, \"#f0f921\"]], \"type\": \"heatmap\"}], \"heatmapgl\": [{\"colorbar\": {\"outlinewidth\": 0, \"ticks\": \"\"}, \"colorscale\": [[0.0, \"#0d0887\"], [0.1111111111111111, \"#46039f\"], [0.2222222222222222, \"#7201a8\"], [0.3333333333333333, \"#9c179e\"], [0.4444444444444444, \"#bd3786\"], [0.5555555555555556, \"#d8576b\"], [0.6666666666666666, \"#ed7953\"], [0.7777777777777778, \"#fb9f3a\"], [0.8888888888888888, \"#fdca26\"], [1.0, \"#f0f921\"]], \"type\": \"heatmapgl\"}], \"histogram\": [{\"marker\": {\"colorbar\": {\"outlinewidth\": 0, \"ticks\": \"\"}}, \"type\": \"histogram\"}], \"histogram2d\": [{\"colorbar\": {\"outlinewidth\": 0, \"ticks\": \"\"}, \"colorscale\": [[0.0, \"#0d0887\"], [0.1111111111111111, \"#46039f\"], [0.2222222222222222, \"#7201a8\"], [0.3333333333333333, \"#9c179e\"], [0.4444444444444444, \"#bd3786\"], [0.5555555555555556, \"#d8576b\"], [0.6666666666666666, \"#ed7953\"], [0.7777777777777778, \"#fb9f3a\"], [0.8888888888888888, \"#fdca26\"], [1.0, \"#f0f921\"]], \"type\": \"histogram2d\"}], \"histogram2dcontour\": [{\"colorbar\": {\"outlinewidth\": 0, \"ticks\": \"\"}, \"colorscale\": [[0.0, \"#0d0887\"], [0.1111111111111111, \"#46039f\"], [0.2222222222222222, \"#7201a8\"], [0.3333333333333333, \"#9c179e\"], [0.4444444444444444, \"#bd3786\"], [0.5555555555555556, \"#d8576b\"], [0.6666666666666666, \"#ed7953\"], [0.7777777777777778, \"#fb9f3a\"], [0.8888888888888888, \"#fdca26\"], [1.0, \"#f0f921\"]], \"type\": \"histogram2dcontour\"}], \"mesh3d\": [{\"colorbar\": {\"outlinewidth\": 0, \"ticks\": \"\"}, \"type\": \"mesh3d\"}], \"parcoords\": [{\"line\": {\"colorbar\": {\"outlinewidth\": 0, \"ticks\": \"\"}}, \"type\": \"parcoords\"}], \"pie\": [{\"automargin\": true, \"type\": \"pie\"}], \"scatter\": [{\"marker\": {\"colorbar\": {\"outlinewidth\": 0, \"ticks\": \"\"}}, \"type\": \"scatter\"}], \"scatter3d\": [{\"line\": {\"colorbar\": {\"outlinewidth\": 0, \"ticks\": \"\"}}, \"marker\": {\"colorbar\": {\"outlinewidth\": 0, \"ticks\": \"\"}}, \"type\": \"scatter3d\"}], \"scattercarpet\": [{\"marker\": {\"colorbar\": {\"outlinewidth\": 0, \"ticks\": \"\"}}, \"type\": \"scattercarpet\"}], \"scattergeo\": [{\"marker\": {\"colorbar\": {\"outlinewidth\": 0, \"ticks\": \"\"}}, \"type\": \"scattergeo\"}], \"scattergl\": [{\"marker\": {\"colorbar\": {\"outlinewidth\": 0, \"ticks\": \"\"}}, \"type\": \"scattergl\"}], \"scattermapbox\": [{\"marker\": {\"colorbar\": {\"outlinewidth\": 0, \"ticks\": \"\"}}, \"type\": \"scattermapbox\"}], \"scatterpolar\": [{\"marker\": {\"colorbar\": {\"outlinewidth\": 0, \"ticks\": \"\"}}, \"type\": \"scatterpolar\"}], \"scatterpolargl\": [{\"marker\": {\"colorbar\": {\"outlinewidth\": 0, \"ticks\": \"\"}}, \"type\": \"scatterpolargl\"}], \"scatterternary\": [{\"marker\": {\"colorbar\": {\"outlinewidth\": 0, \"ticks\": \"\"}}, \"type\": \"scatterternary\"}], \"surface\": [{\"colorbar\": {\"outlinewidth\": 0, \"ticks\": \"\"}, \"colorscale\": [[0.0, \"#0d0887\"], [0.1111111111111111, \"#46039f\"], [0.2222222222222222, \"#7201a8\"], [0.3333333333333333, \"#9c179e\"], [0.4444444444444444, \"#bd3786\"], [0.5555555555555556, \"#d8576b\"], [0.6666666666666666, \"#ed7953\"], [0.7777777777777778, \"#fb9f3a\"], [0.8888888888888888, \"#fdca26\"], [1.0, \"#f0f921\"]], \"type\": \"surface\"}], \"table\": [{\"cells\": {\"fill\": {\"color\": \"#EBF0F8\"}, \"line\": {\"color\": \"white\"}}, \"header\": {\"fill\": {\"color\": \"#C8D4E3\"}, \"line\": {\"color\": \"white\"}}, \"type\": \"table\"}]}, \"layout\": {\"annotationdefaults\": {\"arrowcolor\": \"#2a3f5f\", \"arrowhead\": 0, \"arrowwidth\": 1}, \"coloraxis\": {\"colorbar\": {\"outlinewidth\": 0, \"ticks\": \"\"}}, \"colorscale\": {\"diverging\": [[0, \"#8e0152\"], [0.1, \"#c51b7d\"], [0.2, \"#de77ae\"], [0.3, \"#f1b6da\"], [0.4, \"#fde0ef\"], [0.5, \"#f7f7f7\"], [0.6, \"#e6f5d0\"], [0.7, \"#b8e186\"], [0.8, \"#7fbc41\"], [0.9, \"#4d9221\"], [1, \"#276419\"]], \"sequential\": [[0.0, \"#0d0887\"], [0.1111111111111111, \"#46039f\"], [0.2222222222222222, \"#7201a8\"], [0.3333333333333333, \"#9c179e\"], [0.4444444444444444, \"#bd3786\"], [0.5555555555555556, \"#d8576b\"], [0.6666666666666666, \"#ed7953\"], [0.7777777777777778, \"#fb9f3a\"], [0.8888888888888888, \"#fdca26\"], [1.0, \"#f0f921\"]], \"sequentialminus\": [[0.0, \"#0d0887\"], [0.1111111111111111, \"#46039f\"], [0.2222222222222222, \"#7201a8\"], [0.3333333333333333, \"#9c179e\"], [0.4444444444444444, \"#bd3786\"], [0.5555555555555556, \"#d8576b\"], [0.6666666666666666, \"#ed7953\"], [0.7777777777777778, \"#fb9f3a\"], [0.8888888888888888, \"#fdca26\"], [1.0, \"#f0f921\"]]}, \"colorway\": [\"#636efa\", \"#EF553B\", \"#00cc96\", \"#ab63fa\", \"#FFA15A\", \"#19d3f3\", \"#FF6692\", \"#B6E880\", \"#FF97FF\", \"#FECB52\"], \"font\": {\"color\": \"#2a3f5f\"}, \"geo\": {\"bgcolor\": \"white\", \"lakecolor\": \"white\", \"landcolor\": \"#E5ECF6\", \"showlakes\": true, \"showland\": true, \"subunitcolor\": \"white\"}, \"hoverlabel\": {\"align\": \"left\"}, \"hovermode\": \"closest\", \"mapbox\": {\"style\": \"light\"}, \"paper_bgcolor\": \"white\", \"plot_bgcolor\": \"#E5ECF6\", \"polar\": {\"angularaxis\": {\"gridcolor\": \"white\", \"linecolor\": \"white\", \"ticks\": \"\"}, \"bgcolor\": \"#E5ECF6\", \"radialaxis\": {\"gridcolor\": \"white\", \"linecolor\": \"white\", \"ticks\": \"\"}}, \"scene\": {\"xaxis\": {\"backgroundcolor\": \"#E5ECF6\", \"gridcolor\": \"white\", \"gridwidth\": 2, \"linecolor\": \"white\", \"showbackground\": true, \"ticks\": \"\", \"zerolinecolor\": \"white\"}, \"yaxis\": {\"backgroundcolor\": \"#E5ECF6\", \"gridcolor\": \"white\", \"gridwidth\": 2, \"linecolor\": \"white\", \"showbackground\": true, \"ticks\": \"\", \"zerolinecolor\": \"white\"}, \"zaxis\": {\"backgroundcolor\": \"#E5ECF6\", \"gridcolor\": \"white\", \"gridwidth\": 2, \"linecolor\": \"white\", \"showbackground\": true, \"ticks\": \"\", \"zerolinecolor\": \"white\"}}, \"shapedefaults\": {\"line\": {\"color\": \"#2a3f5f\"}}, \"ternary\": {\"aaxis\": {\"gridcolor\": \"white\", \"linecolor\": \"white\", \"ticks\": \"\"}, \"baxis\": {\"gridcolor\": \"white\", \"linecolor\": \"white\", \"ticks\": \"\"}, \"bgcolor\": \"#E5ECF6\", \"caxis\": {\"gridcolor\": \"white\", \"linecolor\": \"white\", \"ticks\": \"\"}}, \"title\": {\"x\": 0.05}, \"xaxis\": {\"automargin\": true, \"gridcolor\": \"white\", \"linecolor\": \"white\", \"ticks\": \"\", \"title\": {\"standoff\": 15}, \"zerolinecolor\": \"white\", \"zerolinewidth\": 2}, \"yaxis\": {\"automargin\": true, \"gridcolor\": \"white\", \"linecolor\": \"white\", \"ticks\": \"\", \"title\": {\"standoff\": 15}, \"zerolinecolor\": \"white\", \"zerolinewidth\": 2}}}, \"title\": {\"font\": {\"color\": \"#4D5663\"}}, \"xaxis\": {\"gridcolor\": \"#E1E5ED\", \"showgrid\": true, \"tickfont\": {\"color\": \"#4D5663\"}, \"title\": {\"font\": {\"color\": \"#4D5663\"}, \"text\": \"\"}, \"zerolinecolor\": \"#E1E5ED\"}, \"yaxis\": {\"gridcolor\": \"#E1E5ED\", \"showgrid\": true, \"tickfont\": {\"color\": \"#4D5663\"}, \"title\": {\"font\": {\"color\": \"#4D5663\"}, \"text\": \"\"}, \"zerolinecolor\": \"#E1E5ED\"}},                        {\"showLink\": true, \"linkText\": \"Export to plot.ly\", \"plotlyServerURL\": \"https://plot.ly\", \"responsive\": true}                    ).then(function(){\n",
       "                            \n",
       "var gd = document.getElementById('00066af3-5284-437f-8d39-b1f86d09047e');\n",
       "var x = new MutationObserver(function (mutations, observer) {{\n",
       "        var display = window.getComputedStyle(gd).display;\n",
       "        if (!display || display === 'none') {{\n",
       "            console.log([gd, 'removed!']);\n",
       "            Plotly.purge(gd);\n",
       "            observer.disconnect();\n",
       "        }}\n",
       "}});\n",
       "\n",
       "// Listen for the removal of the full notebook cells\n",
       "var notebookContainer = gd.closest('#notebook-container');\n",
       "if (notebookContainer) {{\n",
       "    x.observe(notebookContainer, {childList: true});\n",
       "}}\n",
       "\n",
       "// Listen for the clearing of the current output cell\n",
       "var outputEl = gd.closest('.output');\n",
       "if (outputEl) {{\n",
       "    x.observe(outputEl, {childList: true});\n",
       "}}\n",
       "\n",
       "                        })                };                });            </script>        </div>"
      ]
     },
     "metadata": {},
     "output_type": "display_data"
    }
   ],
   "source": [
    "df.iplot(kind='scatter',x='A',y='B',mode='markers',size=20)"
   ]
  },
  {
   "cell_type": "code",
   "execution_count": 9,
   "metadata": {},
   "outputs": [
    {
     "data": {
      "application/vnd.plotly.v1+json": {
       "config": {
        "linkText": "Export to plot.ly",
        "plotlyServerURL": "https://plot.ly",
        "showLink": true
       },
       "data": [
        {
         "marker": {
          "color": "rgba(255, 153, 51, 0.6)",
          "line": {
           "color": "rgba(255, 153, 51, 1.0)",
           "width": 1
          }
         },
         "name": "Values",
         "orientation": "v",
         "text": "",
         "type": "bar",
         "x": [
          "A",
          "B",
          "C"
         ],
         "y": [
          32,
          43,
          50
         ]
        }
       ],
       "layout": {
        "legend": {
         "bgcolor": "#F5F6F9",
         "font": {
          "color": "#4D5663"
         }
        },
        "paper_bgcolor": "#F5F6F9",
        "plot_bgcolor": "#F5F6F9",
        "template": {
         "data": {
          "bar": [
           {
            "error_x": {
             "color": "#2a3f5f"
            },
            "error_y": {
             "color": "#2a3f5f"
            },
            "marker": {
             "line": {
              "color": "#E5ECF6",
              "width": 0.5
             }
            },
            "type": "bar"
           }
          ],
          "barpolar": [
           {
            "marker": {
             "line": {
              "color": "#E5ECF6",
              "width": 0.5
             }
            },
            "type": "barpolar"
           }
          ],
          "carpet": [
           {
            "aaxis": {
             "endlinecolor": "#2a3f5f",
             "gridcolor": "white",
             "linecolor": "white",
             "minorgridcolor": "white",
             "startlinecolor": "#2a3f5f"
            },
            "baxis": {
             "endlinecolor": "#2a3f5f",
             "gridcolor": "white",
             "linecolor": "white",
             "minorgridcolor": "white",
             "startlinecolor": "#2a3f5f"
            },
            "type": "carpet"
           }
          ],
          "choropleth": [
           {
            "colorbar": {
             "outlinewidth": 0,
             "ticks": ""
            },
            "type": "choropleth"
           }
          ],
          "contour": [
           {
            "colorbar": {
             "outlinewidth": 0,
             "ticks": ""
            },
            "colorscale": [
             [
              0,
              "#0d0887"
             ],
             [
              0.1111111111111111,
              "#46039f"
             ],
             [
              0.2222222222222222,
              "#7201a8"
             ],
             [
              0.3333333333333333,
              "#9c179e"
             ],
             [
              0.4444444444444444,
              "#bd3786"
             ],
             [
              0.5555555555555556,
              "#d8576b"
             ],
             [
              0.6666666666666666,
              "#ed7953"
             ],
             [
              0.7777777777777778,
              "#fb9f3a"
             ],
             [
              0.8888888888888888,
              "#fdca26"
             ],
             [
              1,
              "#f0f921"
             ]
            ],
            "type": "contour"
           }
          ],
          "contourcarpet": [
           {
            "colorbar": {
             "outlinewidth": 0,
             "ticks": ""
            },
            "type": "contourcarpet"
           }
          ],
          "heatmap": [
           {
            "colorbar": {
             "outlinewidth": 0,
             "ticks": ""
            },
            "colorscale": [
             [
              0,
              "#0d0887"
             ],
             [
              0.1111111111111111,
              "#46039f"
             ],
             [
              0.2222222222222222,
              "#7201a8"
             ],
             [
              0.3333333333333333,
              "#9c179e"
             ],
             [
              0.4444444444444444,
              "#bd3786"
             ],
             [
              0.5555555555555556,
              "#d8576b"
             ],
             [
              0.6666666666666666,
              "#ed7953"
             ],
             [
              0.7777777777777778,
              "#fb9f3a"
             ],
             [
              0.8888888888888888,
              "#fdca26"
             ],
             [
              1,
              "#f0f921"
             ]
            ],
            "type": "heatmap"
           }
          ],
          "heatmapgl": [
           {
            "colorbar": {
             "outlinewidth": 0,
             "ticks": ""
            },
            "colorscale": [
             [
              0,
              "#0d0887"
             ],
             [
              0.1111111111111111,
              "#46039f"
             ],
             [
              0.2222222222222222,
              "#7201a8"
             ],
             [
              0.3333333333333333,
              "#9c179e"
             ],
             [
              0.4444444444444444,
              "#bd3786"
             ],
             [
              0.5555555555555556,
              "#d8576b"
             ],
             [
              0.6666666666666666,
              "#ed7953"
             ],
             [
              0.7777777777777778,
              "#fb9f3a"
             ],
             [
              0.8888888888888888,
              "#fdca26"
             ],
             [
              1,
              "#f0f921"
             ]
            ],
            "type": "heatmapgl"
           }
          ],
          "histogram": [
           {
            "marker": {
             "colorbar": {
              "outlinewidth": 0,
              "ticks": ""
             }
            },
            "type": "histogram"
           }
          ],
          "histogram2d": [
           {
            "colorbar": {
             "outlinewidth": 0,
             "ticks": ""
            },
            "colorscale": [
             [
              0,
              "#0d0887"
             ],
             [
              0.1111111111111111,
              "#46039f"
             ],
             [
              0.2222222222222222,
              "#7201a8"
             ],
             [
              0.3333333333333333,
              "#9c179e"
             ],
             [
              0.4444444444444444,
              "#bd3786"
             ],
             [
              0.5555555555555556,
              "#d8576b"
             ],
             [
              0.6666666666666666,
              "#ed7953"
             ],
             [
              0.7777777777777778,
              "#fb9f3a"
             ],
             [
              0.8888888888888888,
              "#fdca26"
             ],
             [
              1,
              "#f0f921"
             ]
            ],
            "type": "histogram2d"
           }
          ],
          "histogram2dcontour": [
           {
            "colorbar": {
             "outlinewidth": 0,
             "ticks": ""
            },
            "colorscale": [
             [
              0,
              "#0d0887"
             ],
             [
              0.1111111111111111,
              "#46039f"
             ],
             [
              0.2222222222222222,
              "#7201a8"
             ],
             [
              0.3333333333333333,
              "#9c179e"
             ],
             [
              0.4444444444444444,
              "#bd3786"
             ],
             [
              0.5555555555555556,
              "#d8576b"
             ],
             [
              0.6666666666666666,
              "#ed7953"
             ],
             [
              0.7777777777777778,
              "#fb9f3a"
             ],
             [
              0.8888888888888888,
              "#fdca26"
             ],
             [
              1,
              "#f0f921"
             ]
            ],
            "type": "histogram2dcontour"
           }
          ],
          "mesh3d": [
           {
            "colorbar": {
             "outlinewidth": 0,
             "ticks": ""
            },
            "type": "mesh3d"
           }
          ],
          "parcoords": [
           {
            "line": {
             "colorbar": {
              "outlinewidth": 0,
              "ticks": ""
             }
            },
            "type": "parcoords"
           }
          ],
          "pie": [
           {
            "automargin": true,
            "type": "pie"
           }
          ],
          "scatter": [
           {
            "marker": {
             "colorbar": {
              "outlinewidth": 0,
              "ticks": ""
             }
            },
            "type": "scatter"
           }
          ],
          "scatter3d": [
           {
            "line": {
             "colorbar": {
              "outlinewidth": 0,
              "ticks": ""
             }
            },
            "marker": {
             "colorbar": {
              "outlinewidth": 0,
              "ticks": ""
             }
            },
            "type": "scatter3d"
           }
          ],
          "scattercarpet": [
           {
            "marker": {
             "colorbar": {
              "outlinewidth": 0,
              "ticks": ""
             }
            },
            "type": "scattercarpet"
           }
          ],
          "scattergeo": [
           {
            "marker": {
             "colorbar": {
              "outlinewidth": 0,
              "ticks": ""
             }
            },
            "type": "scattergeo"
           }
          ],
          "scattergl": [
           {
            "marker": {
             "colorbar": {
              "outlinewidth": 0,
              "ticks": ""
             }
            },
            "type": "scattergl"
           }
          ],
          "scattermapbox": [
           {
            "marker": {
             "colorbar": {
              "outlinewidth": 0,
              "ticks": ""
             }
            },
            "type": "scattermapbox"
           }
          ],
          "scatterpolar": [
           {
            "marker": {
             "colorbar": {
              "outlinewidth": 0,
              "ticks": ""
             }
            },
            "type": "scatterpolar"
           }
          ],
          "scatterpolargl": [
           {
            "marker": {
             "colorbar": {
              "outlinewidth": 0,
              "ticks": ""
             }
            },
            "type": "scatterpolargl"
           }
          ],
          "scatterternary": [
           {
            "marker": {
             "colorbar": {
              "outlinewidth": 0,
              "ticks": ""
             }
            },
            "type": "scatterternary"
           }
          ],
          "surface": [
           {
            "colorbar": {
             "outlinewidth": 0,
             "ticks": ""
            },
            "colorscale": [
             [
              0,
              "#0d0887"
             ],
             [
              0.1111111111111111,
              "#46039f"
             ],
             [
              0.2222222222222222,
              "#7201a8"
             ],
             [
              0.3333333333333333,
              "#9c179e"
             ],
             [
              0.4444444444444444,
              "#bd3786"
             ],
             [
              0.5555555555555556,
              "#d8576b"
             ],
             [
              0.6666666666666666,
              "#ed7953"
             ],
             [
              0.7777777777777778,
              "#fb9f3a"
             ],
             [
              0.8888888888888888,
              "#fdca26"
             ],
             [
              1,
              "#f0f921"
             ]
            ],
            "type": "surface"
           }
          ],
          "table": [
           {
            "cells": {
             "fill": {
              "color": "#EBF0F8"
             },
             "line": {
              "color": "white"
             }
            },
            "header": {
             "fill": {
              "color": "#C8D4E3"
             },
             "line": {
              "color": "white"
             }
            },
            "type": "table"
           }
          ]
         },
         "layout": {
          "annotationdefaults": {
           "arrowcolor": "#2a3f5f",
           "arrowhead": 0,
           "arrowwidth": 1
          },
          "coloraxis": {
           "colorbar": {
            "outlinewidth": 0,
            "ticks": ""
           }
          },
          "colorscale": {
           "diverging": [
            [
             0,
             "#8e0152"
            ],
            [
             0.1,
             "#c51b7d"
            ],
            [
             0.2,
             "#de77ae"
            ],
            [
             0.3,
             "#f1b6da"
            ],
            [
             0.4,
             "#fde0ef"
            ],
            [
             0.5,
             "#f7f7f7"
            ],
            [
             0.6,
             "#e6f5d0"
            ],
            [
             0.7,
             "#b8e186"
            ],
            [
             0.8,
             "#7fbc41"
            ],
            [
             0.9,
             "#4d9221"
            ],
            [
             1,
             "#276419"
            ]
           ],
           "sequential": [
            [
             0,
             "#0d0887"
            ],
            [
             0.1111111111111111,
             "#46039f"
            ],
            [
             0.2222222222222222,
             "#7201a8"
            ],
            [
             0.3333333333333333,
             "#9c179e"
            ],
            [
             0.4444444444444444,
             "#bd3786"
            ],
            [
             0.5555555555555556,
             "#d8576b"
            ],
            [
             0.6666666666666666,
             "#ed7953"
            ],
            [
             0.7777777777777778,
             "#fb9f3a"
            ],
            [
             0.8888888888888888,
             "#fdca26"
            ],
            [
             1,
             "#f0f921"
            ]
           ],
           "sequentialminus": [
            [
             0,
             "#0d0887"
            ],
            [
             0.1111111111111111,
             "#46039f"
            ],
            [
             0.2222222222222222,
             "#7201a8"
            ],
            [
             0.3333333333333333,
             "#9c179e"
            ],
            [
             0.4444444444444444,
             "#bd3786"
            ],
            [
             0.5555555555555556,
             "#d8576b"
            ],
            [
             0.6666666666666666,
             "#ed7953"
            ],
            [
             0.7777777777777778,
             "#fb9f3a"
            ],
            [
             0.8888888888888888,
             "#fdca26"
            ],
            [
             1,
             "#f0f921"
            ]
           ]
          },
          "colorway": [
           "#636efa",
           "#EF553B",
           "#00cc96",
           "#ab63fa",
           "#FFA15A",
           "#19d3f3",
           "#FF6692",
           "#B6E880",
           "#FF97FF",
           "#FECB52"
          ],
          "font": {
           "color": "#2a3f5f"
          },
          "geo": {
           "bgcolor": "white",
           "lakecolor": "white",
           "landcolor": "#E5ECF6",
           "showlakes": true,
           "showland": true,
           "subunitcolor": "white"
          },
          "hoverlabel": {
           "align": "left"
          },
          "hovermode": "closest",
          "mapbox": {
           "style": "light"
          },
          "paper_bgcolor": "white",
          "plot_bgcolor": "#E5ECF6",
          "polar": {
           "angularaxis": {
            "gridcolor": "white",
            "linecolor": "white",
            "ticks": ""
           },
           "bgcolor": "#E5ECF6",
           "radialaxis": {
            "gridcolor": "white",
            "linecolor": "white",
            "ticks": ""
           }
          },
          "scene": {
           "xaxis": {
            "backgroundcolor": "#E5ECF6",
            "gridcolor": "white",
            "gridwidth": 2,
            "linecolor": "white",
            "showbackground": true,
            "ticks": "",
            "zerolinecolor": "white"
           },
           "yaxis": {
            "backgroundcolor": "#E5ECF6",
            "gridcolor": "white",
            "gridwidth": 2,
            "linecolor": "white",
            "showbackground": true,
            "ticks": "",
            "zerolinecolor": "white"
           },
           "zaxis": {
            "backgroundcolor": "#E5ECF6",
            "gridcolor": "white",
            "gridwidth": 2,
            "linecolor": "white",
            "showbackground": true,
            "ticks": "",
            "zerolinecolor": "white"
           }
          },
          "shapedefaults": {
           "line": {
            "color": "#2a3f5f"
           }
          },
          "ternary": {
           "aaxis": {
            "gridcolor": "white",
            "linecolor": "white",
            "ticks": ""
           },
           "baxis": {
            "gridcolor": "white",
            "linecolor": "white",
            "ticks": ""
           },
           "bgcolor": "#E5ECF6",
           "caxis": {
            "gridcolor": "white",
            "linecolor": "white",
            "ticks": ""
           }
          },
          "title": {
           "x": 0.05
          },
          "xaxis": {
           "automargin": true,
           "gridcolor": "white",
           "linecolor": "white",
           "ticks": "",
           "title": {
            "standoff": 15
           },
           "zerolinecolor": "white",
           "zerolinewidth": 2
          },
          "yaxis": {
           "automargin": true,
           "gridcolor": "white",
           "linecolor": "white",
           "ticks": "",
           "title": {
            "standoff": 15
           },
           "zerolinecolor": "white",
           "zerolinewidth": 2
          }
         }
        },
        "title": {
         "font": {
          "color": "#4D5663"
         }
        },
        "xaxis": {
         "gridcolor": "#E1E5ED",
         "showgrid": true,
         "tickfont": {
          "color": "#4D5663"
         },
         "title": {
          "font": {
           "color": "#4D5663"
          },
          "text": ""
         },
         "zerolinecolor": "#E1E5ED"
        },
        "yaxis": {
         "gridcolor": "#E1E5ED",
         "showgrid": true,
         "tickfont": {
          "color": "#4D5663"
         },
         "title": {
          "font": {
           "color": "#4D5663"
          },
          "text": ""
         },
         "zerolinecolor": "#E1E5ED"
        }
       }
      },
      "text/html": [
       "<div>                            <div id=\"85e83efc-473a-40a8-8d51-6635cc501896\" class=\"plotly-graph-div\" style=\"height:525px; width:100%;\"></div>            <script type=\"text/javascript\">                require([\"plotly\"], function(Plotly) {                    window.PLOTLYENV=window.PLOTLYENV || {};\n",
       "                    window.PLOTLYENV.BASE_URL='https://plot.ly';                                    if (document.getElementById(\"85e83efc-473a-40a8-8d51-6635cc501896\")) {                    Plotly.newPlot(                        \"85e83efc-473a-40a8-8d51-6635cc501896\",                        [{\"marker\": {\"color\": \"rgba(255, 153, 51, 0.6)\", \"line\": {\"color\": \"rgba(255, 153, 51, 1.0)\", \"width\": 1}}, \"name\": \"Values\", \"orientation\": \"v\", \"text\": \"\", \"type\": \"bar\", \"x\": [\"A\", \"B\", \"C\"], \"y\": [32, 43, 50]}],                        {\"legend\": {\"bgcolor\": \"#F5F6F9\", \"font\": {\"color\": \"#4D5663\"}}, \"paper_bgcolor\": \"#F5F6F9\", \"plot_bgcolor\": \"#F5F6F9\", \"template\": {\"data\": {\"bar\": [{\"error_x\": {\"color\": \"#2a3f5f\"}, \"error_y\": {\"color\": \"#2a3f5f\"}, \"marker\": {\"line\": {\"color\": \"#E5ECF6\", \"width\": 0.5}}, \"type\": \"bar\"}], \"barpolar\": [{\"marker\": {\"line\": {\"color\": \"#E5ECF6\", \"width\": 0.5}}, \"type\": \"barpolar\"}], \"carpet\": [{\"aaxis\": {\"endlinecolor\": \"#2a3f5f\", \"gridcolor\": \"white\", \"linecolor\": \"white\", \"minorgridcolor\": \"white\", \"startlinecolor\": \"#2a3f5f\"}, \"baxis\": {\"endlinecolor\": \"#2a3f5f\", \"gridcolor\": \"white\", \"linecolor\": \"white\", \"minorgridcolor\": \"white\", \"startlinecolor\": \"#2a3f5f\"}, \"type\": \"carpet\"}], \"choropleth\": [{\"colorbar\": {\"outlinewidth\": 0, \"ticks\": \"\"}, \"type\": \"choropleth\"}], \"contour\": [{\"colorbar\": {\"outlinewidth\": 0, \"ticks\": \"\"}, \"colorscale\": [[0.0, \"#0d0887\"], [0.1111111111111111, \"#46039f\"], [0.2222222222222222, \"#7201a8\"], [0.3333333333333333, \"#9c179e\"], [0.4444444444444444, \"#bd3786\"], [0.5555555555555556, \"#d8576b\"], [0.6666666666666666, \"#ed7953\"], [0.7777777777777778, \"#fb9f3a\"], [0.8888888888888888, \"#fdca26\"], [1.0, \"#f0f921\"]], \"type\": \"contour\"}], \"contourcarpet\": [{\"colorbar\": {\"outlinewidth\": 0, \"ticks\": \"\"}, \"type\": \"contourcarpet\"}], \"heatmap\": [{\"colorbar\": {\"outlinewidth\": 0, \"ticks\": \"\"}, \"colorscale\": [[0.0, \"#0d0887\"], [0.1111111111111111, \"#46039f\"], [0.2222222222222222, \"#7201a8\"], [0.3333333333333333, \"#9c179e\"], [0.4444444444444444, \"#bd3786\"], [0.5555555555555556, \"#d8576b\"], [0.6666666666666666, \"#ed7953\"], [0.7777777777777778, \"#fb9f3a\"], [0.8888888888888888, \"#fdca26\"], [1.0, \"#f0f921\"]], \"type\": \"heatmap\"}], \"heatmapgl\": [{\"colorbar\": {\"outlinewidth\": 0, \"ticks\": \"\"}, \"colorscale\": [[0.0, \"#0d0887\"], [0.1111111111111111, \"#46039f\"], [0.2222222222222222, \"#7201a8\"], [0.3333333333333333, \"#9c179e\"], [0.4444444444444444, \"#bd3786\"], [0.5555555555555556, \"#d8576b\"], [0.6666666666666666, \"#ed7953\"], [0.7777777777777778, \"#fb9f3a\"], [0.8888888888888888, \"#fdca26\"], [1.0, \"#f0f921\"]], \"type\": \"heatmapgl\"}], \"histogram\": [{\"marker\": {\"colorbar\": {\"outlinewidth\": 0, \"ticks\": \"\"}}, \"type\": \"histogram\"}], \"histogram2d\": [{\"colorbar\": {\"outlinewidth\": 0, \"ticks\": \"\"}, \"colorscale\": [[0.0, \"#0d0887\"], [0.1111111111111111, \"#46039f\"], [0.2222222222222222, \"#7201a8\"], [0.3333333333333333, \"#9c179e\"], [0.4444444444444444, \"#bd3786\"], [0.5555555555555556, \"#d8576b\"], [0.6666666666666666, \"#ed7953\"], [0.7777777777777778, \"#fb9f3a\"], [0.8888888888888888, \"#fdca26\"], [1.0, \"#f0f921\"]], \"type\": \"histogram2d\"}], \"histogram2dcontour\": [{\"colorbar\": {\"outlinewidth\": 0, \"ticks\": \"\"}, \"colorscale\": [[0.0, \"#0d0887\"], [0.1111111111111111, \"#46039f\"], [0.2222222222222222, \"#7201a8\"], [0.3333333333333333, \"#9c179e\"], [0.4444444444444444, \"#bd3786\"], [0.5555555555555556, \"#d8576b\"], [0.6666666666666666, \"#ed7953\"], [0.7777777777777778, \"#fb9f3a\"], [0.8888888888888888, \"#fdca26\"], [1.0, \"#f0f921\"]], \"type\": \"histogram2dcontour\"}], \"mesh3d\": [{\"colorbar\": {\"outlinewidth\": 0, \"ticks\": \"\"}, \"type\": \"mesh3d\"}], \"parcoords\": [{\"line\": {\"colorbar\": {\"outlinewidth\": 0, \"ticks\": \"\"}}, \"type\": \"parcoords\"}], \"pie\": [{\"automargin\": true, \"type\": \"pie\"}], \"scatter\": [{\"marker\": {\"colorbar\": {\"outlinewidth\": 0, \"ticks\": \"\"}}, \"type\": \"scatter\"}], \"scatter3d\": [{\"line\": {\"colorbar\": {\"outlinewidth\": 0, \"ticks\": \"\"}}, \"marker\": {\"colorbar\": {\"outlinewidth\": 0, \"ticks\": \"\"}}, \"type\": \"scatter3d\"}], \"scattercarpet\": [{\"marker\": {\"colorbar\": {\"outlinewidth\": 0, \"ticks\": \"\"}}, \"type\": \"scattercarpet\"}], \"scattergeo\": [{\"marker\": {\"colorbar\": {\"outlinewidth\": 0, \"ticks\": \"\"}}, \"type\": \"scattergeo\"}], \"scattergl\": [{\"marker\": {\"colorbar\": {\"outlinewidth\": 0, \"ticks\": \"\"}}, \"type\": \"scattergl\"}], \"scattermapbox\": [{\"marker\": {\"colorbar\": {\"outlinewidth\": 0, \"ticks\": \"\"}}, \"type\": \"scattermapbox\"}], \"scatterpolar\": [{\"marker\": {\"colorbar\": {\"outlinewidth\": 0, \"ticks\": \"\"}}, \"type\": \"scatterpolar\"}], \"scatterpolargl\": [{\"marker\": {\"colorbar\": {\"outlinewidth\": 0, \"ticks\": \"\"}}, \"type\": \"scatterpolargl\"}], \"scatterternary\": [{\"marker\": {\"colorbar\": {\"outlinewidth\": 0, \"ticks\": \"\"}}, \"type\": \"scatterternary\"}], \"surface\": [{\"colorbar\": {\"outlinewidth\": 0, \"ticks\": \"\"}, \"colorscale\": [[0.0, \"#0d0887\"], [0.1111111111111111, \"#46039f\"], [0.2222222222222222, \"#7201a8\"], [0.3333333333333333, \"#9c179e\"], [0.4444444444444444, \"#bd3786\"], [0.5555555555555556, \"#d8576b\"], [0.6666666666666666, \"#ed7953\"], [0.7777777777777778, \"#fb9f3a\"], [0.8888888888888888, \"#fdca26\"], [1.0, \"#f0f921\"]], \"type\": \"surface\"}], \"table\": [{\"cells\": {\"fill\": {\"color\": \"#EBF0F8\"}, \"line\": {\"color\": \"white\"}}, \"header\": {\"fill\": {\"color\": \"#C8D4E3\"}, \"line\": {\"color\": \"white\"}}, \"type\": \"table\"}]}, \"layout\": {\"annotationdefaults\": {\"arrowcolor\": \"#2a3f5f\", \"arrowhead\": 0, \"arrowwidth\": 1}, \"coloraxis\": {\"colorbar\": {\"outlinewidth\": 0, \"ticks\": \"\"}}, \"colorscale\": {\"diverging\": [[0, \"#8e0152\"], [0.1, \"#c51b7d\"], [0.2, \"#de77ae\"], [0.3, \"#f1b6da\"], [0.4, \"#fde0ef\"], [0.5, \"#f7f7f7\"], [0.6, \"#e6f5d0\"], [0.7, \"#b8e186\"], [0.8, \"#7fbc41\"], [0.9, \"#4d9221\"], [1, \"#276419\"]], \"sequential\": [[0.0, \"#0d0887\"], [0.1111111111111111, \"#46039f\"], [0.2222222222222222, \"#7201a8\"], [0.3333333333333333, \"#9c179e\"], [0.4444444444444444, \"#bd3786\"], [0.5555555555555556, \"#d8576b\"], [0.6666666666666666, \"#ed7953\"], [0.7777777777777778, \"#fb9f3a\"], [0.8888888888888888, \"#fdca26\"], [1.0, \"#f0f921\"]], \"sequentialminus\": [[0.0, \"#0d0887\"], [0.1111111111111111, \"#46039f\"], [0.2222222222222222, \"#7201a8\"], [0.3333333333333333, \"#9c179e\"], [0.4444444444444444, \"#bd3786\"], [0.5555555555555556, \"#d8576b\"], [0.6666666666666666, \"#ed7953\"], [0.7777777777777778, \"#fb9f3a\"], [0.8888888888888888, \"#fdca26\"], [1.0, \"#f0f921\"]]}, \"colorway\": [\"#636efa\", \"#EF553B\", \"#00cc96\", \"#ab63fa\", \"#FFA15A\", \"#19d3f3\", \"#FF6692\", \"#B6E880\", \"#FF97FF\", \"#FECB52\"], \"font\": {\"color\": \"#2a3f5f\"}, \"geo\": {\"bgcolor\": \"white\", \"lakecolor\": \"white\", \"landcolor\": \"#E5ECF6\", \"showlakes\": true, \"showland\": true, \"subunitcolor\": \"white\"}, \"hoverlabel\": {\"align\": \"left\"}, \"hovermode\": \"closest\", \"mapbox\": {\"style\": \"light\"}, \"paper_bgcolor\": \"white\", \"plot_bgcolor\": \"#E5ECF6\", \"polar\": {\"angularaxis\": {\"gridcolor\": \"white\", \"linecolor\": \"white\", \"ticks\": \"\"}, \"bgcolor\": \"#E5ECF6\", \"radialaxis\": {\"gridcolor\": \"white\", \"linecolor\": \"white\", \"ticks\": \"\"}}, \"scene\": {\"xaxis\": {\"backgroundcolor\": \"#E5ECF6\", \"gridcolor\": \"white\", \"gridwidth\": 2, \"linecolor\": \"white\", \"showbackground\": true, \"ticks\": \"\", \"zerolinecolor\": \"white\"}, \"yaxis\": {\"backgroundcolor\": \"#E5ECF6\", \"gridcolor\": \"white\", \"gridwidth\": 2, \"linecolor\": \"white\", \"showbackground\": true, \"ticks\": \"\", \"zerolinecolor\": \"white\"}, \"zaxis\": {\"backgroundcolor\": \"#E5ECF6\", \"gridcolor\": \"white\", \"gridwidth\": 2, \"linecolor\": \"white\", \"showbackground\": true, \"ticks\": \"\", \"zerolinecolor\": \"white\"}}, \"shapedefaults\": {\"line\": {\"color\": \"#2a3f5f\"}}, \"ternary\": {\"aaxis\": {\"gridcolor\": \"white\", \"linecolor\": \"white\", \"ticks\": \"\"}, \"baxis\": {\"gridcolor\": \"white\", \"linecolor\": \"white\", \"ticks\": \"\"}, \"bgcolor\": \"#E5ECF6\", \"caxis\": {\"gridcolor\": \"white\", \"linecolor\": \"white\", \"ticks\": \"\"}}, \"title\": {\"x\": 0.05}, \"xaxis\": {\"automargin\": true, \"gridcolor\": \"white\", \"linecolor\": \"white\", \"ticks\": \"\", \"title\": {\"standoff\": 15}, \"zerolinecolor\": \"white\", \"zerolinewidth\": 2}, \"yaxis\": {\"automargin\": true, \"gridcolor\": \"white\", \"linecolor\": \"white\", \"ticks\": \"\", \"title\": {\"standoff\": 15}, \"zerolinecolor\": \"white\", \"zerolinewidth\": 2}}}, \"title\": {\"font\": {\"color\": \"#4D5663\"}}, \"xaxis\": {\"gridcolor\": \"#E1E5ED\", \"showgrid\": true, \"tickfont\": {\"color\": \"#4D5663\"}, \"title\": {\"font\": {\"color\": \"#4D5663\"}, \"text\": \"\"}, \"zerolinecolor\": \"#E1E5ED\"}, \"yaxis\": {\"gridcolor\": \"#E1E5ED\", \"showgrid\": true, \"tickfont\": {\"color\": \"#4D5663\"}, \"title\": {\"font\": {\"color\": \"#4D5663\"}, \"text\": \"\"}, \"zerolinecolor\": \"#E1E5ED\"}},                        {\"showLink\": true, \"linkText\": \"Export to plot.ly\", \"plotlyServerURL\": \"https://plot.ly\", \"responsive\": true}                    ).then(function(){\n",
       "                            \n",
       "var gd = document.getElementById('85e83efc-473a-40a8-8d51-6635cc501896');\n",
       "var x = new MutationObserver(function (mutations, observer) {{\n",
       "        var display = window.getComputedStyle(gd).display;\n",
       "        if (!display || display === 'none') {{\n",
       "            console.log([gd, 'removed!']);\n",
       "            Plotly.purge(gd);\n",
       "            observer.disconnect();\n",
       "        }}\n",
       "}});\n",
       "\n",
       "// Listen for the removal of the full notebook cells\n",
       "var notebookContainer = gd.closest('#notebook-container');\n",
       "if (notebookContainer) {{\n",
       "    x.observe(notebookContainer, {childList: true});\n",
       "}}\n",
       "\n",
       "// Listen for the clearing of the current output cell\n",
       "var outputEl = gd.closest('.output');\n",
       "if (outputEl) {{\n",
       "    x.observe(outputEl, {childList: true});\n",
       "}}\n",
       "\n",
       "                        })                };                });            </script>        </div>"
      ]
     },
     "metadata": {},
     "output_type": "display_data"
    }
   ],
   "source": [
    "df2.iplot(kind='bar',x='Category',y='Values')"
   ]
  },
  {
   "cell_type": "code",
   "execution_count": 10,
   "metadata": {},
   "outputs": [
    {
     "data": {
      "application/vnd.plotly.v1+json": {
       "config": {
        "linkText": "Export to plot.ly",
        "plotlyServerURL": "https://plot.ly",
        "showLink": true
       },
       "data": [
        {
         "marker": {
          "color": "rgba(255, 153, 51, 0.6)",
          "line": {
           "color": "rgba(255, 153, 51, 1.0)",
           "width": 1
          }
         },
         "name": "None",
         "orientation": "v",
         "text": "",
         "type": "bar",
         "x": [
          "A",
          "B",
          "C",
          "D"
         ],
         "y": [
          18.168608094049763,
          0.6513466804123418,
          8.66245472189277,
          -3.5144299162729533
         ]
        }
       ],
       "layout": {
        "legend": {
         "bgcolor": "#F5F6F9",
         "font": {
          "color": "#4D5663"
         }
        },
        "paper_bgcolor": "#F5F6F9",
        "plot_bgcolor": "#F5F6F9",
        "template": {
         "data": {
          "bar": [
           {
            "error_x": {
             "color": "#2a3f5f"
            },
            "error_y": {
             "color": "#2a3f5f"
            },
            "marker": {
             "line": {
              "color": "#E5ECF6",
              "width": 0.5
             }
            },
            "type": "bar"
           }
          ],
          "barpolar": [
           {
            "marker": {
             "line": {
              "color": "#E5ECF6",
              "width": 0.5
             }
            },
            "type": "barpolar"
           }
          ],
          "carpet": [
           {
            "aaxis": {
             "endlinecolor": "#2a3f5f",
             "gridcolor": "white",
             "linecolor": "white",
             "minorgridcolor": "white",
             "startlinecolor": "#2a3f5f"
            },
            "baxis": {
             "endlinecolor": "#2a3f5f",
             "gridcolor": "white",
             "linecolor": "white",
             "minorgridcolor": "white",
             "startlinecolor": "#2a3f5f"
            },
            "type": "carpet"
           }
          ],
          "choropleth": [
           {
            "colorbar": {
             "outlinewidth": 0,
             "ticks": ""
            },
            "type": "choropleth"
           }
          ],
          "contour": [
           {
            "colorbar": {
             "outlinewidth": 0,
             "ticks": ""
            },
            "colorscale": [
             [
              0,
              "#0d0887"
             ],
             [
              0.1111111111111111,
              "#46039f"
             ],
             [
              0.2222222222222222,
              "#7201a8"
             ],
             [
              0.3333333333333333,
              "#9c179e"
             ],
             [
              0.4444444444444444,
              "#bd3786"
             ],
             [
              0.5555555555555556,
              "#d8576b"
             ],
             [
              0.6666666666666666,
              "#ed7953"
             ],
             [
              0.7777777777777778,
              "#fb9f3a"
             ],
             [
              0.8888888888888888,
              "#fdca26"
             ],
             [
              1,
              "#f0f921"
             ]
            ],
            "type": "contour"
           }
          ],
          "contourcarpet": [
           {
            "colorbar": {
             "outlinewidth": 0,
             "ticks": ""
            },
            "type": "contourcarpet"
           }
          ],
          "heatmap": [
           {
            "colorbar": {
             "outlinewidth": 0,
             "ticks": ""
            },
            "colorscale": [
             [
              0,
              "#0d0887"
             ],
             [
              0.1111111111111111,
              "#46039f"
             ],
             [
              0.2222222222222222,
              "#7201a8"
             ],
             [
              0.3333333333333333,
              "#9c179e"
             ],
             [
              0.4444444444444444,
              "#bd3786"
             ],
             [
              0.5555555555555556,
              "#d8576b"
             ],
             [
              0.6666666666666666,
              "#ed7953"
             ],
             [
              0.7777777777777778,
              "#fb9f3a"
             ],
             [
              0.8888888888888888,
              "#fdca26"
             ],
             [
              1,
              "#f0f921"
             ]
            ],
            "type": "heatmap"
           }
          ],
          "heatmapgl": [
           {
            "colorbar": {
             "outlinewidth": 0,
             "ticks": ""
            },
            "colorscale": [
             [
              0,
              "#0d0887"
             ],
             [
              0.1111111111111111,
              "#46039f"
             ],
             [
              0.2222222222222222,
              "#7201a8"
             ],
             [
              0.3333333333333333,
              "#9c179e"
             ],
             [
              0.4444444444444444,
              "#bd3786"
             ],
             [
              0.5555555555555556,
              "#d8576b"
             ],
             [
              0.6666666666666666,
              "#ed7953"
             ],
             [
              0.7777777777777778,
              "#fb9f3a"
             ],
             [
              0.8888888888888888,
              "#fdca26"
             ],
             [
              1,
              "#f0f921"
             ]
            ],
            "type": "heatmapgl"
           }
          ],
          "histogram": [
           {
            "marker": {
             "colorbar": {
              "outlinewidth": 0,
              "ticks": ""
             }
            },
            "type": "histogram"
           }
          ],
          "histogram2d": [
           {
            "colorbar": {
             "outlinewidth": 0,
             "ticks": ""
            },
            "colorscale": [
             [
              0,
              "#0d0887"
             ],
             [
              0.1111111111111111,
              "#46039f"
             ],
             [
              0.2222222222222222,
              "#7201a8"
             ],
             [
              0.3333333333333333,
              "#9c179e"
             ],
             [
              0.4444444444444444,
              "#bd3786"
             ],
             [
              0.5555555555555556,
              "#d8576b"
             ],
             [
              0.6666666666666666,
              "#ed7953"
             ],
             [
              0.7777777777777778,
              "#fb9f3a"
             ],
             [
              0.8888888888888888,
              "#fdca26"
             ],
             [
              1,
              "#f0f921"
             ]
            ],
            "type": "histogram2d"
           }
          ],
          "histogram2dcontour": [
           {
            "colorbar": {
             "outlinewidth": 0,
             "ticks": ""
            },
            "colorscale": [
             [
              0,
              "#0d0887"
             ],
             [
              0.1111111111111111,
              "#46039f"
             ],
             [
              0.2222222222222222,
              "#7201a8"
             ],
             [
              0.3333333333333333,
              "#9c179e"
             ],
             [
              0.4444444444444444,
              "#bd3786"
             ],
             [
              0.5555555555555556,
              "#d8576b"
             ],
             [
              0.6666666666666666,
              "#ed7953"
             ],
             [
              0.7777777777777778,
              "#fb9f3a"
             ],
             [
              0.8888888888888888,
              "#fdca26"
             ],
             [
              1,
              "#f0f921"
             ]
            ],
            "type": "histogram2dcontour"
           }
          ],
          "mesh3d": [
           {
            "colorbar": {
             "outlinewidth": 0,
             "ticks": ""
            },
            "type": "mesh3d"
           }
          ],
          "parcoords": [
           {
            "line": {
             "colorbar": {
              "outlinewidth": 0,
              "ticks": ""
             }
            },
            "type": "parcoords"
           }
          ],
          "pie": [
           {
            "automargin": true,
            "type": "pie"
           }
          ],
          "scatter": [
           {
            "marker": {
             "colorbar": {
              "outlinewidth": 0,
              "ticks": ""
             }
            },
            "type": "scatter"
           }
          ],
          "scatter3d": [
           {
            "line": {
             "colorbar": {
              "outlinewidth": 0,
              "ticks": ""
             }
            },
            "marker": {
             "colorbar": {
              "outlinewidth": 0,
              "ticks": ""
             }
            },
            "type": "scatter3d"
           }
          ],
          "scattercarpet": [
           {
            "marker": {
             "colorbar": {
              "outlinewidth": 0,
              "ticks": ""
             }
            },
            "type": "scattercarpet"
           }
          ],
          "scattergeo": [
           {
            "marker": {
             "colorbar": {
              "outlinewidth": 0,
              "ticks": ""
             }
            },
            "type": "scattergeo"
           }
          ],
          "scattergl": [
           {
            "marker": {
             "colorbar": {
              "outlinewidth": 0,
              "ticks": ""
             }
            },
            "type": "scattergl"
           }
          ],
          "scattermapbox": [
           {
            "marker": {
             "colorbar": {
              "outlinewidth": 0,
              "ticks": ""
             }
            },
            "type": "scattermapbox"
           }
          ],
          "scatterpolar": [
           {
            "marker": {
             "colorbar": {
              "outlinewidth": 0,
              "ticks": ""
             }
            },
            "type": "scatterpolar"
           }
          ],
          "scatterpolargl": [
           {
            "marker": {
             "colorbar": {
              "outlinewidth": 0,
              "ticks": ""
             }
            },
            "type": "scatterpolargl"
           }
          ],
          "scatterternary": [
           {
            "marker": {
             "colorbar": {
              "outlinewidth": 0,
              "ticks": ""
             }
            },
            "type": "scatterternary"
           }
          ],
          "surface": [
           {
            "colorbar": {
             "outlinewidth": 0,
             "ticks": ""
            },
            "colorscale": [
             [
              0,
              "#0d0887"
             ],
             [
              0.1111111111111111,
              "#46039f"
             ],
             [
              0.2222222222222222,
              "#7201a8"
             ],
             [
              0.3333333333333333,
              "#9c179e"
             ],
             [
              0.4444444444444444,
              "#bd3786"
             ],
             [
              0.5555555555555556,
              "#d8576b"
             ],
             [
              0.6666666666666666,
              "#ed7953"
             ],
             [
              0.7777777777777778,
              "#fb9f3a"
             ],
             [
              0.8888888888888888,
              "#fdca26"
             ],
             [
              1,
              "#f0f921"
             ]
            ],
            "type": "surface"
           }
          ],
          "table": [
           {
            "cells": {
             "fill": {
              "color": "#EBF0F8"
             },
             "line": {
              "color": "white"
             }
            },
            "header": {
             "fill": {
              "color": "#C8D4E3"
             },
             "line": {
              "color": "white"
             }
            },
            "type": "table"
           }
          ]
         },
         "layout": {
          "annotationdefaults": {
           "arrowcolor": "#2a3f5f",
           "arrowhead": 0,
           "arrowwidth": 1
          },
          "coloraxis": {
           "colorbar": {
            "outlinewidth": 0,
            "ticks": ""
           }
          },
          "colorscale": {
           "diverging": [
            [
             0,
             "#8e0152"
            ],
            [
             0.1,
             "#c51b7d"
            ],
            [
             0.2,
             "#de77ae"
            ],
            [
             0.3,
             "#f1b6da"
            ],
            [
             0.4,
             "#fde0ef"
            ],
            [
             0.5,
             "#f7f7f7"
            ],
            [
             0.6,
             "#e6f5d0"
            ],
            [
             0.7,
             "#b8e186"
            ],
            [
             0.8,
             "#7fbc41"
            ],
            [
             0.9,
             "#4d9221"
            ],
            [
             1,
             "#276419"
            ]
           ],
           "sequential": [
            [
             0,
             "#0d0887"
            ],
            [
             0.1111111111111111,
             "#46039f"
            ],
            [
             0.2222222222222222,
             "#7201a8"
            ],
            [
             0.3333333333333333,
             "#9c179e"
            ],
            [
             0.4444444444444444,
             "#bd3786"
            ],
            [
             0.5555555555555556,
             "#d8576b"
            ],
            [
             0.6666666666666666,
             "#ed7953"
            ],
            [
             0.7777777777777778,
             "#fb9f3a"
            ],
            [
             0.8888888888888888,
             "#fdca26"
            ],
            [
             1,
             "#f0f921"
            ]
           ],
           "sequentialminus": [
            [
             0,
             "#0d0887"
            ],
            [
             0.1111111111111111,
             "#46039f"
            ],
            [
             0.2222222222222222,
             "#7201a8"
            ],
            [
             0.3333333333333333,
             "#9c179e"
            ],
            [
             0.4444444444444444,
             "#bd3786"
            ],
            [
             0.5555555555555556,
             "#d8576b"
            ],
            [
             0.6666666666666666,
             "#ed7953"
            ],
            [
             0.7777777777777778,
             "#fb9f3a"
            ],
            [
             0.8888888888888888,
             "#fdca26"
            ],
            [
             1,
             "#f0f921"
            ]
           ]
          },
          "colorway": [
           "#636efa",
           "#EF553B",
           "#00cc96",
           "#ab63fa",
           "#FFA15A",
           "#19d3f3",
           "#FF6692",
           "#B6E880",
           "#FF97FF",
           "#FECB52"
          ],
          "font": {
           "color": "#2a3f5f"
          },
          "geo": {
           "bgcolor": "white",
           "lakecolor": "white",
           "landcolor": "#E5ECF6",
           "showlakes": true,
           "showland": true,
           "subunitcolor": "white"
          },
          "hoverlabel": {
           "align": "left"
          },
          "hovermode": "closest",
          "mapbox": {
           "style": "light"
          },
          "paper_bgcolor": "white",
          "plot_bgcolor": "#E5ECF6",
          "polar": {
           "angularaxis": {
            "gridcolor": "white",
            "linecolor": "white",
            "ticks": ""
           },
           "bgcolor": "#E5ECF6",
           "radialaxis": {
            "gridcolor": "white",
            "linecolor": "white",
            "ticks": ""
           }
          },
          "scene": {
           "xaxis": {
            "backgroundcolor": "#E5ECF6",
            "gridcolor": "white",
            "gridwidth": 2,
            "linecolor": "white",
            "showbackground": true,
            "ticks": "",
            "zerolinecolor": "white"
           },
           "yaxis": {
            "backgroundcolor": "#E5ECF6",
            "gridcolor": "white",
            "gridwidth": 2,
            "linecolor": "white",
            "showbackground": true,
            "ticks": "",
            "zerolinecolor": "white"
           },
           "zaxis": {
            "backgroundcolor": "#E5ECF6",
            "gridcolor": "white",
            "gridwidth": 2,
            "linecolor": "white",
            "showbackground": true,
            "ticks": "",
            "zerolinecolor": "white"
           }
          },
          "shapedefaults": {
           "line": {
            "color": "#2a3f5f"
           }
          },
          "ternary": {
           "aaxis": {
            "gridcolor": "white",
            "linecolor": "white",
            "ticks": ""
           },
           "baxis": {
            "gridcolor": "white",
            "linecolor": "white",
            "ticks": ""
           },
           "bgcolor": "#E5ECF6",
           "caxis": {
            "gridcolor": "white",
            "linecolor": "white",
            "ticks": ""
           }
          },
          "title": {
           "x": 0.05
          },
          "xaxis": {
           "automargin": true,
           "gridcolor": "white",
           "linecolor": "white",
           "ticks": "",
           "title": {
            "standoff": 15
           },
           "zerolinecolor": "white",
           "zerolinewidth": 2
          },
          "yaxis": {
           "automargin": true,
           "gridcolor": "white",
           "linecolor": "white",
           "ticks": "",
           "title": {
            "standoff": 15
           },
           "zerolinecolor": "white",
           "zerolinewidth": 2
          }
         }
        },
        "title": {
         "font": {
          "color": "#4D5663"
         }
        },
        "xaxis": {
         "gridcolor": "#E1E5ED",
         "showgrid": true,
         "tickfont": {
          "color": "#4D5663"
         },
         "title": {
          "font": {
           "color": "#4D5663"
          },
          "text": ""
         },
         "zerolinecolor": "#E1E5ED"
        },
        "yaxis": {
         "gridcolor": "#E1E5ED",
         "showgrid": true,
         "tickfont": {
          "color": "#4D5663"
         },
         "title": {
          "font": {
           "color": "#4D5663"
          },
          "text": ""
         },
         "zerolinecolor": "#E1E5ED"
        }
       }
      },
      "text/html": [
       "<div>                            <div id=\"02af25f7-f73c-4642-88b2-d94bbea7723f\" class=\"plotly-graph-div\" style=\"height:525px; width:100%;\"></div>            <script type=\"text/javascript\">                require([\"plotly\"], function(Plotly) {                    window.PLOTLYENV=window.PLOTLYENV || {};\n",
       "                    window.PLOTLYENV.BASE_URL='https://plot.ly';                                    if (document.getElementById(\"02af25f7-f73c-4642-88b2-d94bbea7723f\")) {                    Plotly.newPlot(                        \"02af25f7-f73c-4642-88b2-d94bbea7723f\",                        [{\"marker\": {\"color\": \"rgba(255, 153, 51, 0.6)\", \"line\": {\"color\": \"rgba(255, 153, 51, 1.0)\", \"width\": 1}}, \"name\": \"None\", \"orientation\": \"v\", \"text\": \"\", \"type\": \"bar\", \"x\": [\"A\", \"B\", \"C\", \"D\"], \"y\": [18.168608094049763, 0.6513466804123418, 8.66245472189277, -3.5144299162729533]}],                        {\"legend\": {\"bgcolor\": \"#F5F6F9\", \"font\": {\"color\": \"#4D5663\"}}, \"paper_bgcolor\": \"#F5F6F9\", \"plot_bgcolor\": \"#F5F6F9\", \"template\": {\"data\": {\"bar\": [{\"error_x\": {\"color\": \"#2a3f5f\"}, \"error_y\": {\"color\": \"#2a3f5f\"}, \"marker\": {\"line\": {\"color\": \"#E5ECF6\", \"width\": 0.5}}, \"type\": \"bar\"}], \"barpolar\": [{\"marker\": {\"line\": {\"color\": \"#E5ECF6\", \"width\": 0.5}}, \"type\": \"barpolar\"}], \"carpet\": [{\"aaxis\": {\"endlinecolor\": \"#2a3f5f\", \"gridcolor\": \"white\", \"linecolor\": \"white\", \"minorgridcolor\": \"white\", \"startlinecolor\": \"#2a3f5f\"}, \"baxis\": {\"endlinecolor\": \"#2a3f5f\", \"gridcolor\": \"white\", \"linecolor\": \"white\", \"minorgridcolor\": \"white\", \"startlinecolor\": \"#2a3f5f\"}, \"type\": \"carpet\"}], \"choropleth\": [{\"colorbar\": {\"outlinewidth\": 0, \"ticks\": \"\"}, \"type\": \"choropleth\"}], \"contour\": [{\"colorbar\": {\"outlinewidth\": 0, \"ticks\": \"\"}, \"colorscale\": [[0.0, \"#0d0887\"], [0.1111111111111111, \"#46039f\"], [0.2222222222222222, \"#7201a8\"], [0.3333333333333333, \"#9c179e\"], [0.4444444444444444, \"#bd3786\"], [0.5555555555555556, \"#d8576b\"], [0.6666666666666666, \"#ed7953\"], [0.7777777777777778, \"#fb9f3a\"], [0.8888888888888888, \"#fdca26\"], [1.0, \"#f0f921\"]], \"type\": \"contour\"}], \"contourcarpet\": [{\"colorbar\": {\"outlinewidth\": 0, \"ticks\": \"\"}, \"type\": \"contourcarpet\"}], \"heatmap\": [{\"colorbar\": {\"outlinewidth\": 0, \"ticks\": \"\"}, \"colorscale\": [[0.0, \"#0d0887\"], [0.1111111111111111, \"#46039f\"], [0.2222222222222222, \"#7201a8\"], [0.3333333333333333, \"#9c179e\"], [0.4444444444444444, \"#bd3786\"], [0.5555555555555556, \"#d8576b\"], [0.6666666666666666, \"#ed7953\"], [0.7777777777777778, \"#fb9f3a\"], [0.8888888888888888, \"#fdca26\"], [1.0, \"#f0f921\"]], \"type\": \"heatmap\"}], \"heatmapgl\": [{\"colorbar\": {\"outlinewidth\": 0, \"ticks\": \"\"}, \"colorscale\": [[0.0, \"#0d0887\"], [0.1111111111111111, \"#46039f\"], [0.2222222222222222, \"#7201a8\"], [0.3333333333333333, \"#9c179e\"], [0.4444444444444444, \"#bd3786\"], [0.5555555555555556, \"#d8576b\"], [0.6666666666666666, \"#ed7953\"], [0.7777777777777778, \"#fb9f3a\"], [0.8888888888888888, \"#fdca26\"], [1.0, \"#f0f921\"]], \"type\": \"heatmapgl\"}], \"histogram\": [{\"marker\": {\"colorbar\": {\"outlinewidth\": 0, \"ticks\": \"\"}}, \"type\": \"histogram\"}], \"histogram2d\": [{\"colorbar\": {\"outlinewidth\": 0, \"ticks\": \"\"}, \"colorscale\": [[0.0, \"#0d0887\"], [0.1111111111111111, \"#46039f\"], [0.2222222222222222, \"#7201a8\"], [0.3333333333333333, \"#9c179e\"], [0.4444444444444444, \"#bd3786\"], [0.5555555555555556, \"#d8576b\"], [0.6666666666666666, \"#ed7953\"], [0.7777777777777778, \"#fb9f3a\"], [0.8888888888888888, \"#fdca26\"], [1.0, \"#f0f921\"]], \"type\": \"histogram2d\"}], \"histogram2dcontour\": [{\"colorbar\": {\"outlinewidth\": 0, \"ticks\": \"\"}, \"colorscale\": [[0.0, \"#0d0887\"], [0.1111111111111111, \"#46039f\"], [0.2222222222222222, \"#7201a8\"], [0.3333333333333333, \"#9c179e\"], [0.4444444444444444, \"#bd3786\"], [0.5555555555555556, \"#d8576b\"], [0.6666666666666666, \"#ed7953\"], [0.7777777777777778, \"#fb9f3a\"], [0.8888888888888888, \"#fdca26\"], [1.0, \"#f0f921\"]], \"type\": \"histogram2dcontour\"}], \"mesh3d\": [{\"colorbar\": {\"outlinewidth\": 0, \"ticks\": \"\"}, \"type\": \"mesh3d\"}], \"parcoords\": [{\"line\": {\"colorbar\": {\"outlinewidth\": 0, \"ticks\": \"\"}}, \"type\": \"parcoords\"}], \"pie\": [{\"automargin\": true, \"type\": \"pie\"}], \"scatter\": [{\"marker\": {\"colorbar\": {\"outlinewidth\": 0, \"ticks\": \"\"}}, \"type\": \"scatter\"}], \"scatter3d\": [{\"line\": {\"colorbar\": {\"outlinewidth\": 0, \"ticks\": \"\"}}, \"marker\": {\"colorbar\": {\"outlinewidth\": 0, \"ticks\": \"\"}}, \"type\": \"scatter3d\"}], \"scattercarpet\": [{\"marker\": {\"colorbar\": {\"outlinewidth\": 0, \"ticks\": \"\"}}, \"type\": \"scattercarpet\"}], \"scattergeo\": [{\"marker\": {\"colorbar\": {\"outlinewidth\": 0, \"ticks\": \"\"}}, \"type\": \"scattergeo\"}], \"scattergl\": [{\"marker\": {\"colorbar\": {\"outlinewidth\": 0, \"ticks\": \"\"}}, \"type\": \"scattergl\"}], \"scattermapbox\": [{\"marker\": {\"colorbar\": {\"outlinewidth\": 0, \"ticks\": \"\"}}, \"type\": \"scattermapbox\"}], \"scatterpolar\": [{\"marker\": {\"colorbar\": {\"outlinewidth\": 0, \"ticks\": \"\"}}, \"type\": \"scatterpolar\"}], \"scatterpolargl\": [{\"marker\": {\"colorbar\": {\"outlinewidth\": 0, \"ticks\": \"\"}}, \"type\": \"scatterpolargl\"}], \"scatterternary\": [{\"marker\": {\"colorbar\": {\"outlinewidth\": 0, \"ticks\": \"\"}}, \"type\": \"scatterternary\"}], \"surface\": [{\"colorbar\": {\"outlinewidth\": 0, \"ticks\": \"\"}, \"colorscale\": [[0.0, \"#0d0887\"], [0.1111111111111111, \"#46039f\"], [0.2222222222222222, \"#7201a8\"], [0.3333333333333333, \"#9c179e\"], [0.4444444444444444, \"#bd3786\"], [0.5555555555555556, \"#d8576b\"], [0.6666666666666666, \"#ed7953\"], [0.7777777777777778, \"#fb9f3a\"], [0.8888888888888888, \"#fdca26\"], [1.0, \"#f0f921\"]], \"type\": \"surface\"}], \"table\": [{\"cells\": {\"fill\": {\"color\": \"#EBF0F8\"}, \"line\": {\"color\": \"white\"}}, \"header\": {\"fill\": {\"color\": \"#C8D4E3\"}, \"line\": {\"color\": \"white\"}}, \"type\": \"table\"}]}, \"layout\": {\"annotationdefaults\": {\"arrowcolor\": \"#2a3f5f\", \"arrowhead\": 0, \"arrowwidth\": 1}, \"coloraxis\": {\"colorbar\": {\"outlinewidth\": 0, \"ticks\": \"\"}}, \"colorscale\": {\"diverging\": [[0, \"#8e0152\"], [0.1, \"#c51b7d\"], [0.2, \"#de77ae\"], [0.3, \"#f1b6da\"], [0.4, \"#fde0ef\"], [0.5, \"#f7f7f7\"], [0.6, \"#e6f5d0\"], [0.7, \"#b8e186\"], [0.8, \"#7fbc41\"], [0.9, \"#4d9221\"], [1, \"#276419\"]], \"sequential\": [[0.0, \"#0d0887\"], [0.1111111111111111, \"#46039f\"], [0.2222222222222222, \"#7201a8\"], [0.3333333333333333, \"#9c179e\"], [0.4444444444444444, \"#bd3786\"], [0.5555555555555556, \"#d8576b\"], [0.6666666666666666, \"#ed7953\"], [0.7777777777777778, \"#fb9f3a\"], [0.8888888888888888, \"#fdca26\"], [1.0, \"#f0f921\"]], \"sequentialminus\": [[0.0, \"#0d0887\"], [0.1111111111111111, \"#46039f\"], [0.2222222222222222, \"#7201a8\"], [0.3333333333333333, \"#9c179e\"], [0.4444444444444444, \"#bd3786\"], [0.5555555555555556, \"#d8576b\"], [0.6666666666666666, \"#ed7953\"], [0.7777777777777778, \"#fb9f3a\"], [0.8888888888888888, \"#fdca26\"], [1.0, \"#f0f921\"]]}, \"colorway\": [\"#636efa\", \"#EF553B\", \"#00cc96\", \"#ab63fa\", \"#FFA15A\", \"#19d3f3\", \"#FF6692\", \"#B6E880\", \"#FF97FF\", \"#FECB52\"], \"font\": {\"color\": \"#2a3f5f\"}, \"geo\": {\"bgcolor\": \"white\", \"lakecolor\": \"white\", \"landcolor\": \"#E5ECF6\", \"showlakes\": true, \"showland\": true, \"subunitcolor\": \"white\"}, \"hoverlabel\": {\"align\": \"left\"}, \"hovermode\": \"closest\", \"mapbox\": {\"style\": \"light\"}, \"paper_bgcolor\": \"white\", \"plot_bgcolor\": \"#E5ECF6\", \"polar\": {\"angularaxis\": {\"gridcolor\": \"white\", \"linecolor\": \"white\", \"ticks\": \"\"}, \"bgcolor\": \"#E5ECF6\", \"radialaxis\": {\"gridcolor\": \"white\", \"linecolor\": \"white\", \"ticks\": \"\"}}, \"scene\": {\"xaxis\": {\"backgroundcolor\": \"#E5ECF6\", \"gridcolor\": \"white\", \"gridwidth\": 2, \"linecolor\": \"white\", \"showbackground\": true, \"ticks\": \"\", \"zerolinecolor\": \"white\"}, \"yaxis\": {\"backgroundcolor\": \"#E5ECF6\", \"gridcolor\": \"white\", \"gridwidth\": 2, \"linecolor\": \"white\", \"showbackground\": true, \"ticks\": \"\", \"zerolinecolor\": \"white\"}, \"zaxis\": {\"backgroundcolor\": \"#E5ECF6\", \"gridcolor\": \"white\", \"gridwidth\": 2, \"linecolor\": \"white\", \"showbackground\": true, \"ticks\": \"\", \"zerolinecolor\": \"white\"}}, \"shapedefaults\": {\"line\": {\"color\": \"#2a3f5f\"}}, \"ternary\": {\"aaxis\": {\"gridcolor\": \"white\", \"linecolor\": \"white\", \"ticks\": \"\"}, \"baxis\": {\"gridcolor\": \"white\", \"linecolor\": \"white\", \"ticks\": \"\"}, \"bgcolor\": \"#E5ECF6\", \"caxis\": {\"gridcolor\": \"white\", \"linecolor\": \"white\", \"ticks\": \"\"}}, \"title\": {\"x\": 0.05}, \"xaxis\": {\"automargin\": true, \"gridcolor\": \"white\", \"linecolor\": \"white\", \"ticks\": \"\", \"title\": {\"standoff\": 15}, \"zerolinecolor\": \"white\", \"zerolinewidth\": 2}, \"yaxis\": {\"automargin\": true, \"gridcolor\": \"white\", \"linecolor\": \"white\", \"ticks\": \"\", \"title\": {\"standoff\": 15}, \"zerolinecolor\": \"white\", \"zerolinewidth\": 2}}}, \"title\": {\"font\": {\"color\": \"#4D5663\"}}, \"xaxis\": {\"gridcolor\": \"#E1E5ED\", \"showgrid\": true, \"tickfont\": {\"color\": \"#4D5663\"}, \"title\": {\"font\": {\"color\": \"#4D5663\"}, \"text\": \"\"}, \"zerolinecolor\": \"#E1E5ED\"}, \"yaxis\": {\"gridcolor\": \"#E1E5ED\", \"showgrid\": true, \"tickfont\": {\"color\": \"#4D5663\"}, \"title\": {\"font\": {\"color\": \"#4D5663\"}, \"text\": \"\"}, \"zerolinecolor\": \"#E1E5ED\"}},                        {\"showLink\": true, \"linkText\": \"Export to plot.ly\", \"plotlyServerURL\": \"https://plot.ly\", \"responsive\": true}                    ).then(function(){\n",
       "                            \n",
       "var gd = document.getElementById('02af25f7-f73c-4642-88b2-d94bbea7723f');\n",
       "var x = new MutationObserver(function (mutations, observer) {{\n",
       "        var display = window.getComputedStyle(gd).display;\n",
       "        if (!display || display === 'none') {{\n",
       "            console.log([gd, 'removed!']);\n",
       "            Plotly.purge(gd);\n",
       "            observer.disconnect();\n",
       "        }}\n",
       "}});\n",
       "\n",
       "// Listen for the removal of the full notebook cells\n",
       "var notebookContainer = gd.closest('#notebook-container');\n",
       "if (notebookContainer) {{\n",
       "    x.observe(notebookContainer, {childList: true});\n",
       "}}\n",
       "\n",
       "// Listen for the clearing of the current output cell\n",
       "var outputEl = gd.closest('.output');\n",
       "if (outputEl) {{\n",
       "    x.observe(outputEl, {childList: true});\n",
       "}}\n",
       "\n",
       "                        })                };                });            </script>        </div>"
      ]
     },
     "metadata": {},
     "output_type": "display_data"
    }
   ],
   "source": [
    "df.sum().iplot(kind='bar')"
   ]
  },
  {
   "cell_type": "code",
   "execution_count": 11,
   "metadata": {},
   "outputs": [
    {
     "data": {
      "application/vnd.plotly.v1+json": {
       "config": {
        "linkText": "Export to plot.ly",
        "plotlyServerURL": "https://plot.ly",
        "showLink": true
       },
       "data": [
        {
         "boxpoints": false,
         "line": {
          "width": 1.3
         },
         "marker": {
          "color": "rgba(255, 153, 51, 1.0)"
         },
         "name": "A",
         "orientation": "v",
         "type": "box",
         "y": [
          -1.3345721423538044,
          1.152744983274052,
          -0.4144432895718666,
          1.4302774060136265,
          1.1032714804754071,
          0.3191628341280002,
          0.29167766457536576,
          -0.2948260219573132,
          -0.7898916249391608,
          0.7579798280599954,
          0.7023990585262951,
          0.3617203499296237,
          1.3840609450336574,
          2.1234137119547905,
          0.2810105000977317,
          1.3417915860610645,
          -0.2412397886071698,
          -1.4800784340458517,
          -0.43730607784210224,
          1.2776043936563957,
          0.23681297531851184,
          0.540390995960289,
          1.6871090335390888,
          -0.12613605829513988,
          -0.5588115339425442,
          1.8051083114525888,
          -1.1726637178355273,
          0.8869084864979949,
          -0.6608453517139303,
          0.86318177144118,
          1.3220433452814955,
          -0.040310682232710525,
          -0.6822401059683589,
          1.0146630751377788,
          -0.09408866628468343,
          -0.3835960857750811,
          -0.033174674346961475,
          0.6882005981376775,
          -0.8463552045373701,
          0.3558779153321544,
          0.4162235961224696,
          1.2455350592782963,
          -0.4404736135266595,
          -0.021206617569660913,
          0.910807493204989,
          0.7261457915112387,
          -1.0852814847699983,
          -0.6116324809576813,
          0.4419712096882013,
          -0.9549757189699014,
          -1.0917298503989892,
          1.683458340637992,
          -2.34848252238384,
          -0.21404278096559237,
          1.7763779984983499,
          -0.6061798311193356,
          0.2018170117960935,
          1.1347757868560242,
          -0.036032949775629396,
          -0.34619100102470757,
          -0.288608149951723,
          0.5650826594364331,
          0.8499639803220693,
          0.9894872408033251,
          0.06569041064446172,
          0.054489734536987196,
          -1.9952387047587858,
          -2.2784797833534043,
          -0.3235225571592153,
          0.7985449754329478,
          0.5562115947213144,
          0.19932402438213523,
          -0.1403275336563558,
          0.9855129234750741,
          0.3045407336196398,
          0.53929898768602,
          -0.27575107464618664,
          -0.07407610262260471,
          0.11499769199840022,
          -0.7978934478689437,
          1.6231013726732846,
          0.11356346504298263,
          1.0257404298721093,
          0.38698431699048086,
          1.5573123378387754,
          -0.3575297031395702,
          -0.7186779504700587,
          -0.35459907027756954,
          1.0501179801717468,
          0.9723530993336464,
          -1.7859678584514145,
          -1.3568059526808665,
          1.620503617755656,
          1.0373614474576012,
          -1.6411237307693962,
          -2.052337862151146,
          1.5268582726716706,
          1.176810614698316,
          -0.511936349742928,
          1.8899167884179937
         ]
        },
        {
         "boxpoints": false,
         "line": {
          "width": 1.3
         },
         "marker": {
          "color": "rgba(55, 128, 191, 1.0)"
         },
         "name": "B",
         "orientation": "v",
         "type": "box",
         "y": [
          0.18934519564362062,
          -0.5168133289643818,
          -0.575887085195419,
          0.2654879300880599,
          -0.42270044140335306,
          0.49202396803406306,
          -0.05813887150593542,
          -1.9198333732052166,
          -1.1749861717602872,
          0.16124454493046997,
          -0.01733316004195805,
          -0.9257924593376672,
          0.09006921111651374,
          0.9734162863579563,
          -0.4518387082824791,
          -0.26153686886886934,
          0.28232403258757965,
          -1.0529426660554346,
          0.10202608047979453,
          0.23633183741611294,
          0.23498955155440895,
          0.9677590445244143,
          1.831253424242203,
          0.2415382607666498,
          -1.4230300649451495,
          2.2312182747485743,
          1.236202195805703,
          0.003390367770349785,
          -0.6237252050062434,
          -0.2342174145278324,
          -1.924925714689275,
          -0.9337128747220547,
          1.7543360784429163,
          0.7581829264781671,
          -0.08232277508753891,
          -0.45468484443795826,
          -0.19935092376725272,
          0.3432671525145582,
          -0.07884733212534094,
          0.9131918232446734,
          -0.8685402818250365,
          0.6883979203844126,
          1.0774186567698938,
          -1.2365006595554795,
          -0.604706613485279,
          0.5530504203367701,
          -1.1638121061985844,
          1.1266844459061904,
          -0.9565987159997782,
          0.46966062495493444,
          -0.15512534613084203,
          -1.201935972800709,
          1.0209556886714029,
          0.2795071484988548,
          1.4659564159180398,
          -0.4515262872130025,
          -0.4514630053316504,
          -0.0711730466463417,
          -2.1375937961790283,
          -0.7568430799085749,
          -1.051286755748964,
          0.27836127689014034,
          -0.4279875997952308,
          1.452930902585046,
          1.1703271571918823,
          -0.8463298634985316,
          0.6110841975955712,
          1.2940742777754228,
          -0.9945647867400169,
          1.5151241023797244,
          0.5075362134278456,
          -1.1735886638674613,
          1.98485816589851,
          0.7982761159418083,
          -0.07944727878078828,
          -0.7971158770598205,
          0.8537029643240611,
          -1.670795262780064,
          0.4918535139756341,
          -0.5521934592979183,
          -2.6713602633960485,
          -0.6402242514425622,
          -0.2530997756328507,
          0.13291790640185097,
          1.840027332124377,
          0.4256107998272355,
          -0.10524227119226856,
          0.7568395535199907,
          0.01227355678842452,
          -0.18777367729543826,
          0.11596626772388403,
          0.26977552573541597,
          -0.993101164784401,
          -0.05067529958534019,
          -0.5047305795737309,
          0.9070451286544564,
          0.5229498297030087,
          1.499042011679956,
          -0.9162419500042097,
          0.5257383477604088
         ]
        },
        {
         "boxpoints": false,
         "line": {
          "width": 1.3
         },
         "marker": {
          "color": "rgba(50, 171, 96, 1.0)"
         },
         "name": "C",
         "orientation": "v",
         "type": "box",
         "y": [
          -0.19805204132074813,
          0.9646667420835341,
          -0.38290571006574775,
          1.2998824481693891,
          0.6199825686029053,
          0.08892096656522798,
          0.5098550465401651,
          -0.8175291952481727,
          1.0545679319751429,
          -0.1556477627143782,
          -0.1863019976198989,
          -1.2337935362095873,
          1.045560857193049,
          0.22235565193506643,
          1.2160340742473208,
          0.9222476060634441,
          -2.1150062077557044,
          -0.7071029794118244,
          -0.5495551785557025,
          -0.693624646441118,
          0.7573958854662389,
          0.17394140635208538,
          0.15923490851638308,
          0.6044591173991921,
          0.20111232258003703,
          0.8655037106493844,
          0.9630306500178076,
          -0.09963405884054125,
          0.4222388126671568,
          0.5445417835050336,
          -1.386959953120186,
          -1.0837062233251824,
          0.16040783519433743,
          0.16319047043609794,
          1.7531305154443126,
          1.8061218262475787,
          -0.5403383234473761,
          0.8429293141000763,
          -1.6763240933556285,
          1.1545629167166047,
          -0.5536300681270807,
          -0.18367259297476848,
          -0.3400663977866649,
          1.1849804232281855,
          0.41627393795554407,
          -1.4313827588307508,
          0.20246720240624347,
          0.43721416281460995,
          -0.32579144844232655,
          -1.2131834608493348,
          -0.14687430590360748,
          0.353499906435496,
          1.628903729852802,
          0.20353596359746787,
          0.451665175048858,
          -0.39634930867957924,
          -0.9509101739093384,
          0.7191038547617834,
          0.8719578554533487,
          1.8326883546543777,
          1.2003448994521837,
          -0.030231896568255902,
          -0.1716641365372497,
          0.20431636378405235,
          -0.5598850080650927,
          -0.24031795880204332,
          0.7516002737771287,
          0.19254709258696615,
          -0.057442624087766986,
          -0.6793162222432404,
          0.4148860123267791,
          0.13762364150603934,
          1.3920049620919024,
          -0.14462229762839007,
          0.14342609156753108,
          0.6143080669181031,
          0.4474505683921285,
          -0.34739229148391937,
          1.061455226537793,
          0.24475617312531944,
          -1.2513199803763844,
          -0.6937990342235643,
          -2.3404491478112965,
          0.8320957832750987,
          0.4535701994994277,
          -0.38394936857027945,
          -0.6680721253788142,
          -0.6429137849954224,
          0.7147258770315915,
          -1.4985171428736122,
          2.0459145141636066,
          -0.467161741917224,
          0.8132661594542542,
          0.6293808269260213,
          -1.5107789396693025,
          -0.331917743684358,
          0.05867669275075526,
          0.20626723911401554,
          -0.7977795930039119,
          -0.5284544164088391
         ]
        },
        {
         "boxpoints": false,
         "line": {
          "width": 1.3
         },
         "marker": {
          "color": "rgba(128, 0, 128, 1.0)"
         },
         "name": "D",
         "orientation": "v",
         "type": "box",
         "y": [
          0.03384664178148704,
          0.5666429305505546,
          0.14885183843377175,
          0.2687473452003424,
          1.1200512766765096,
          -2.8225156356584993,
          -0.09857086367123338,
          0.6997016010550245,
          -1.3562792823740024,
          -0.41508056769541196,
          -0.44685046724214006,
          1.3317926725059546,
          -1.534398796805004,
          0.5107676096875485,
          -0.35539271221973195,
          -0.4691145512394626,
          0.46537551119090104,
          -0.28621288875761214,
          0.7206887872019336,
          0.9270397108725131,
          0.8876193880034717,
          0.3686998726486203,
          -1.2219477310842741,
          -0.3902957898404521,
          -1.1949112579311598,
          -1.0811713597675425,
          0.7916926529667945,
          0.31681376614310686,
          -0.663152266439661,
          1.1098423222784424,
          0.06581774155636329,
          0.34117151247625005,
          0.9824823102015346,
          -0.8329297644404557,
          -1.0255005113062103,
          0.38708767823694307,
          -0.2735876107312517,
          1.111757822490364,
          -0.8053566441383361,
          0.09470607282640017,
          0.47268776889119185,
          -0.5701393873577066,
          -2.1961399023737114,
          -0.2577127983341919,
          -1.2187126822403935,
          0.9816939651454246,
          0.09885494293423237,
          -0.49510179974921226,
          1.594516555206982,
          0.4108355407054973,
          0.168743533242441,
          0.7617110899069682,
          0.6445282167880872,
          0.24658352945846151,
          1.0633761369266885,
          -1.2952068758870838,
          1.2556355409200266,
          0.10525546514764797,
          1.4510068650768608,
          -0.9774440012734138,
          0.7573789005103825,
          -1.4692166603040264,
          -1.219866900508068,
          -0.03417242416064316,
          -0.8336711038622275,
          -1.289844436339557,
          -0.17837954060022773,
          0.732927473839943,
          0.08030871609250388,
          1.5402237130269205,
          -1.2010816922179652,
          1.0273283822842285,
          1.1362028082895037,
          -0.5904487631408297,
          0.767364935605862,
          1.2840530894008695,
          0.5443851698820155,
          0.12506924046431742,
          0.901584915943366,
          0.8559873278925225,
          -0.8604099889630961,
          -0.6517254944882362,
          0.7117137760304271,
          -0.9360005771624264,
          0.5851825508705968,
          -1.8351426246396962,
          -0.636312250227509,
          0.3815910085105638,
          -2.23757811597667,
          -0.3368141017962645,
          -0.005645035574050167,
          -0.16463055665192255,
          -0.1825924073902931,
          -1.0341953399573212,
          0.7064307122288477,
          -0.3307511781925198,
          -1.49616348983762,
          -0.6911493407982104,
          0.5079262001874038,
          1.8328031186789648
         ]
        }
       ],
       "layout": {
        "legend": {
         "bgcolor": "#F5F6F9",
         "font": {
          "color": "#4D5663"
         }
        },
        "paper_bgcolor": "#F5F6F9",
        "plot_bgcolor": "#F5F6F9",
        "template": {
         "data": {
          "bar": [
           {
            "error_x": {
             "color": "#2a3f5f"
            },
            "error_y": {
             "color": "#2a3f5f"
            },
            "marker": {
             "line": {
              "color": "#E5ECF6",
              "width": 0.5
             }
            },
            "type": "bar"
           }
          ],
          "barpolar": [
           {
            "marker": {
             "line": {
              "color": "#E5ECF6",
              "width": 0.5
             }
            },
            "type": "barpolar"
           }
          ],
          "carpet": [
           {
            "aaxis": {
             "endlinecolor": "#2a3f5f",
             "gridcolor": "white",
             "linecolor": "white",
             "minorgridcolor": "white",
             "startlinecolor": "#2a3f5f"
            },
            "baxis": {
             "endlinecolor": "#2a3f5f",
             "gridcolor": "white",
             "linecolor": "white",
             "minorgridcolor": "white",
             "startlinecolor": "#2a3f5f"
            },
            "type": "carpet"
           }
          ],
          "choropleth": [
           {
            "colorbar": {
             "outlinewidth": 0,
             "ticks": ""
            },
            "type": "choropleth"
           }
          ],
          "contour": [
           {
            "colorbar": {
             "outlinewidth": 0,
             "ticks": ""
            },
            "colorscale": [
             [
              0,
              "#0d0887"
             ],
             [
              0.1111111111111111,
              "#46039f"
             ],
             [
              0.2222222222222222,
              "#7201a8"
             ],
             [
              0.3333333333333333,
              "#9c179e"
             ],
             [
              0.4444444444444444,
              "#bd3786"
             ],
             [
              0.5555555555555556,
              "#d8576b"
             ],
             [
              0.6666666666666666,
              "#ed7953"
             ],
             [
              0.7777777777777778,
              "#fb9f3a"
             ],
             [
              0.8888888888888888,
              "#fdca26"
             ],
             [
              1,
              "#f0f921"
             ]
            ],
            "type": "contour"
           }
          ],
          "contourcarpet": [
           {
            "colorbar": {
             "outlinewidth": 0,
             "ticks": ""
            },
            "type": "contourcarpet"
           }
          ],
          "heatmap": [
           {
            "colorbar": {
             "outlinewidth": 0,
             "ticks": ""
            },
            "colorscale": [
             [
              0,
              "#0d0887"
             ],
             [
              0.1111111111111111,
              "#46039f"
             ],
             [
              0.2222222222222222,
              "#7201a8"
             ],
             [
              0.3333333333333333,
              "#9c179e"
             ],
             [
              0.4444444444444444,
              "#bd3786"
             ],
             [
              0.5555555555555556,
              "#d8576b"
             ],
             [
              0.6666666666666666,
              "#ed7953"
             ],
             [
              0.7777777777777778,
              "#fb9f3a"
             ],
             [
              0.8888888888888888,
              "#fdca26"
             ],
             [
              1,
              "#f0f921"
             ]
            ],
            "type": "heatmap"
           }
          ],
          "heatmapgl": [
           {
            "colorbar": {
             "outlinewidth": 0,
             "ticks": ""
            },
            "colorscale": [
             [
              0,
              "#0d0887"
             ],
             [
              0.1111111111111111,
              "#46039f"
             ],
             [
              0.2222222222222222,
              "#7201a8"
             ],
             [
              0.3333333333333333,
              "#9c179e"
             ],
             [
              0.4444444444444444,
              "#bd3786"
             ],
             [
              0.5555555555555556,
              "#d8576b"
             ],
             [
              0.6666666666666666,
              "#ed7953"
             ],
             [
              0.7777777777777778,
              "#fb9f3a"
             ],
             [
              0.8888888888888888,
              "#fdca26"
             ],
             [
              1,
              "#f0f921"
             ]
            ],
            "type": "heatmapgl"
           }
          ],
          "histogram": [
           {
            "marker": {
             "colorbar": {
              "outlinewidth": 0,
              "ticks": ""
             }
            },
            "type": "histogram"
           }
          ],
          "histogram2d": [
           {
            "colorbar": {
             "outlinewidth": 0,
             "ticks": ""
            },
            "colorscale": [
             [
              0,
              "#0d0887"
             ],
             [
              0.1111111111111111,
              "#46039f"
             ],
             [
              0.2222222222222222,
              "#7201a8"
             ],
             [
              0.3333333333333333,
              "#9c179e"
             ],
             [
              0.4444444444444444,
              "#bd3786"
             ],
             [
              0.5555555555555556,
              "#d8576b"
             ],
             [
              0.6666666666666666,
              "#ed7953"
             ],
             [
              0.7777777777777778,
              "#fb9f3a"
             ],
             [
              0.8888888888888888,
              "#fdca26"
             ],
             [
              1,
              "#f0f921"
             ]
            ],
            "type": "histogram2d"
           }
          ],
          "histogram2dcontour": [
           {
            "colorbar": {
             "outlinewidth": 0,
             "ticks": ""
            },
            "colorscale": [
             [
              0,
              "#0d0887"
             ],
             [
              0.1111111111111111,
              "#46039f"
             ],
             [
              0.2222222222222222,
              "#7201a8"
             ],
             [
              0.3333333333333333,
              "#9c179e"
             ],
             [
              0.4444444444444444,
              "#bd3786"
             ],
             [
              0.5555555555555556,
              "#d8576b"
             ],
             [
              0.6666666666666666,
              "#ed7953"
             ],
             [
              0.7777777777777778,
              "#fb9f3a"
             ],
             [
              0.8888888888888888,
              "#fdca26"
             ],
             [
              1,
              "#f0f921"
             ]
            ],
            "type": "histogram2dcontour"
           }
          ],
          "mesh3d": [
           {
            "colorbar": {
             "outlinewidth": 0,
             "ticks": ""
            },
            "type": "mesh3d"
           }
          ],
          "parcoords": [
           {
            "line": {
             "colorbar": {
              "outlinewidth": 0,
              "ticks": ""
             }
            },
            "type": "parcoords"
           }
          ],
          "pie": [
           {
            "automargin": true,
            "type": "pie"
           }
          ],
          "scatter": [
           {
            "marker": {
             "colorbar": {
              "outlinewidth": 0,
              "ticks": ""
             }
            },
            "type": "scatter"
           }
          ],
          "scatter3d": [
           {
            "line": {
             "colorbar": {
              "outlinewidth": 0,
              "ticks": ""
             }
            },
            "marker": {
             "colorbar": {
              "outlinewidth": 0,
              "ticks": ""
             }
            },
            "type": "scatter3d"
           }
          ],
          "scattercarpet": [
           {
            "marker": {
             "colorbar": {
              "outlinewidth": 0,
              "ticks": ""
             }
            },
            "type": "scattercarpet"
           }
          ],
          "scattergeo": [
           {
            "marker": {
             "colorbar": {
              "outlinewidth": 0,
              "ticks": ""
             }
            },
            "type": "scattergeo"
           }
          ],
          "scattergl": [
           {
            "marker": {
             "colorbar": {
              "outlinewidth": 0,
              "ticks": ""
             }
            },
            "type": "scattergl"
           }
          ],
          "scattermapbox": [
           {
            "marker": {
             "colorbar": {
              "outlinewidth": 0,
              "ticks": ""
             }
            },
            "type": "scattermapbox"
           }
          ],
          "scatterpolar": [
           {
            "marker": {
             "colorbar": {
              "outlinewidth": 0,
              "ticks": ""
             }
            },
            "type": "scatterpolar"
           }
          ],
          "scatterpolargl": [
           {
            "marker": {
             "colorbar": {
              "outlinewidth": 0,
              "ticks": ""
             }
            },
            "type": "scatterpolargl"
           }
          ],
          "scatterternary": [
           {
            "marker": {
             "colorbar": {
              "outlinewidth": 0,
              "ticks": ""
             }
            },
            "type": "scatterternary"
           }
          ],
          "surface": [
           {
            "colorbar": {
             "outlinewidth": 0,
             "ticks": ""
            },
            "colorscale": [
             [
              0,
              "#0d0887"
             ],
             [
              0.1111111111111111,
              "#46039f"
             ],
             [
              0.2222222222222222,
              "#7201a8"
             ],
             [
              0.3333333333333333,
              "#9c179e"
             ],
             [
              0.4444444444444444,
              "#bd3786"
             ],
             [
              0.5555555555555556,
              "#d8576b"
             ],
             [
              0.6666666666666666,
              "#ed7953"
             ],
             [
              0.7777777777777778,
              "#fb9f3a"
             ],
             [
              0.8888888888888888,
              "#fdca26"
             ],
             [
              1,
              "#f0f921"
             ]
            ],
            "type": "surface"
           }
          ],
          "table": [
           {
            "cells": {
             "fill": {
              "color": "#EBF0F8"
             },
             "line": {
              "color": "white"
             }
            },
            "header": {
             "fill": {
              "color": "#C8D4E3"
             },
             "line": {
              "color": "white"
             }
            },
            "type": "table"
           }
          ]
         },
         "layout": {
          "annotationdefaults": {
           "arrowcolor": "#2a3f5f",
           "arrowhead": 0,
           "arrowwidth": 1
          },
          "coloraxis": {
           "colorbar": {
            "outlinewidth": 0,
            "ticks": ""
           }
          },
          "colorscale": {
           "diverging": [
            [
             0,
             "#8e0152"
            ],
            [
             0.1,
             "#c51b7d"
            ],
            [
             0.2,
             "#de77ae"
            ],
            [
             0.3,
             "#f1b6da"
            ],
            [
             0.4,
             "#fde0ef"
            ],
            [
             0.5,
             "#f7f7f7"
            ],
            [
             0.6,
             "#e6f5d0"
            ],
            [
             0.7,
             "#b8e186"
            ],
            [
             0.8,
             "#7fbc41"
            ],
            [
             0.9,
             "#4d9221"
            ],
            [
             1,
             "#276419"
            ]
           ],
           "sequential": [
            [
             0,
             "#0d0887"
            ],
            [
             0.1111111111111111,
             "#46039f"
            ],
            [
             0.2222222222222222,
             "#7201a8"
            ],
            [
             0.3333333333333333,
             "#9c179e"
            ],
            [
             0.4444444444444444,
             "#bd3786"
            ],
            [
             0.5555555555555556,
             "#d8576b"
            ],
            [
             0.6666666666666666,
             "#ed7953"
            ],
            [
             0.7777777777777778,
             "#fb9f3a"
            ],
            [
             0.8888888888888888,
             "#fdca26"
            ],
            [
             1,
             "#f0f921"
            ]
           ],
           "sequentialminus": [
            [
             0,
             "#0d0887"
            ],
            [
             0.1111111111111111,
             "#46039f"
            ],
            [
             0.2222222222222222,
             "#7201a8"
            ],
            [
             0.3333333333333333,
             "#9c179e"
            ],
            [
             0.4444444444444444,
             "#bd3786"
            ],
            [
             0.5555555555555556,
             "#d8576b"
            ],
            [
             0.6666666666666666,
             "#ed7953"
            ],
            [
             0.7777777777777778,
             "#fb9f3a"
            ],
            [
             0.8888888888888888,
             "#fdca26"
            ],
            [
             1,
             "#f0f921"
            ]
           ]
          },
          "colorway": [
           "#636efa",
           "#EF553B",
           "#00cc96",
           "#ab63fa",
           "#FFA15A",
           "#19d3f3",
           "#FF6692",
           "#B6E880",
           "#FF97FF",
           "#FECB52"
          ],
          "font": {
           "color": "#2a3f5f"
          },
          "geo": {
           "bgcolor": "white",
           "lakecolor": "white",
           "landcolor": "#E5ECF6",
           "showlakes": true,
           "showland": true,
           "subunitcolor": "white"
          },
          "hoverlabel": {
           "align": "left"
          },
          "hovermode": "closest",
          "mapbox": {
           "style": "light"
          },
          "paper_bgcolor": "white",
          "plot_bgcolor": "#E5ECF6",
          "polar": {
           "angularaxis": {
            "gridcolor": "white",
            "linecolor": "white",
            "ticks": ""
           },
           "bgcolor": "#E5ECF6",
           "radialaxis": {
            "gridcolor": "white",
            "linecolor": "white",
            "ticks": ""
           }
          },
          "scene": {
           "xaxis": {
            "backgroundcolor": "#E5ECF6",
            "gridcolor": "white",
            "gridwidth": 2,
            "linecolor": "white",
            "showbackground": true,
            "ticks": "",
            "zerolinecolor": "white"
           },
           "yaxis": {
            "backgroundcolor": "#E5ECF6",
            "gridcolor": "white",
            "gridwidth": 2,
            "linecolor": "white",
            "showbackground": true,
            "ticks": "",
            "zerolinecolor": "white"
           },
           "zaxis": {
            "backgroundcolor": "#E5ECF6",
            "gridcolor": "white",
            "gridwidth": 2,
            "linecolor": "white",
            "showbackground": true,
            "ticks": "",
            "zerolinecolor": "white"
           }
          },
          "shapedefaults": {
           "line": {
            "color": "#2a3f5f"
           }
          },
          "ternary": {
           "aaxis": {
            "gridcolor": "white",
            "linecolor": "white",
            "ticks": ""
           },
           "baxis": {
            "gridcolor": "white",
            "linecolor": "white",
            "ticks": ""
           },
           "bgcolor": "#E5ECF6",
           "caxis": {
            "gridcolor": "white",
            "linecolor": "white",
            "ticks": ""
           }
          },
          "title": {
           "x": 0.05
          },
          "xaxis": {
           "automargin": true,
           "gridcolor": "white",
           "linecolor": "white",
           "ticks": "",
           "title": {
            "standoff": 15
           },
           "zerolinecolor": "white",
           "zerolinewidth": 2
          },
          "yaxis": {
           "automargin": true,
           "gridcolor": "white",
           "linecolor": "white",
           "ticks": "",
           "title": {
            "standoff": 15
           },
           "zerolinecolor": "white",
           "zerolinewidth": 2
          }
         }
        },
        "title": {
         "font": {
          "color": "#4D5663"
         }
        },
        "xaxis": {
         "gridcolor": "#E1E5ED",
         "showgrid": true,
         "tickfont": {
          "color": "#4D5663"
         },
         "title": {
          "font": {
           "color": "#4D5663"
          },
          "text": ""
         },
         "zerolinecolor": "#E1E5ED"
        },
        "yaxis": {
         "gridcolor": "#E1E5ED",
         "showgrid": true,
         "tickfont": {
          "color": "#4D5663"
         },
         "title": {
          "font": {
           "color": "#4D5663"
          },
          "text": ""
         },
         "zerolinecolor": "#E1E5ED"
        }
       }
      },
      "text/html": [
       "<div>                            <div id=\"df50d36d-1a8b-4f6e-ada9-c062ddf22688\" class=\"plotly-graph-div\" style=\"height:525px; width:100%;\"></div>            <script type=\"text/javascript\">                require([\"plotly\"], function(Plotly) {                    window.PLOTLYENV=window.PLOTLYENV || {};\n",
       "                    window.PLOTLYENV.BASE_URL='https://plot.ly';                                    if (document.getElementById(\"df50d36d-1a8b-4f6e-ada9-c062ddf22688\")) {                    Plotly.newPlot(                        \"df50d36d-1a8b-4f6e-ada9-c062ddf22688\",                        [{\"boxpoints\": false, \"line\": {\"width\": 1.3}, \"marker\": {\"color\": \"rgba(255, 153, 51, 1.0)\"}, \"name\": \"A\", \"orientation\": \"v\", \"type\": \"box\", \"y\": [-1.3345721423538044, 1.152744983274052, -0.4144432895718666, 1.4302774060136265, 1.1032714804754071, 0.3191628341280002, 0.29167766457536576, -0.2948260219573132, -0.7898916249391608, 0.7579798280599954, 0.7023990585262951, 0.3617203499296237, 1.3840609450336574, 2.1234137119547905, 0.2810105000977317, 1.3417915860610645, -0.2412397886071698, -1.4800784340458517, -0.43730607784210224, 1.2776043936563957, 0.23681297531851184, 0.540390995960289, 1.6871090335390888, -0.12613605829513988, -0.5588115339425442, 1.8051083114525888, -1.1726637178355273, 0.8869084864979949, -0.6608453517139303, 0.86318177144118, 1.3220433452814955, -0.040310682232710525, -0.6822401059683589, 1.0146630751377788, -0.09408866628468343, -0.3835960857750811, -0.033174674346961475, 0.6882005981376775, -0.8463552045373701, 0.3558779153321544, 0.4162235961224696, 1.2455350592782963, -0.4404736135266595, -0.021206617569660913, 0.910807493204989, 0.7261457915112387, -1.0852814847699983, -0.6116324809576813, 0.4419712096882013, -0.9549757189699014, -1.0917298503989892, 1.683458340637992, -2.34848252238384, -0.21404278096559237, 1.7763779984983499, -0.6061798311193356, 0.2018170117960935, 1.1347757868560242, -0.036032949775629396, -0.34619100102470757, -0.288608149951723, 0.5650826594364331, 0.8499639803220693, 0.9894872408033251, 0.06569041064446172, 0.054489734536987196, -1.9952387047587858, -2.2784797833534043, -0.3235225571592153, 0.7985449754329478, 0.5562115947213144, 0.19932402438213523, -0.1403275336563558, 0.9855129234750741, 0.3045407336196398, 0.53929898768602, -0.27575107464618664, -0.07407610262260471, 0.11499769199840022, -0.7978934478689437, 1.6231013726732846, 0.11356346504298263, 1.0257404298721093, 0.38698431699048086, 1.5573123378387754, -0.3575297031395702, -0.7186779504700587, -0.35459907027756954, 1.0501179801717468, 0.9723530993336464, -1.7859678584514145, -1.3568059526808665, 1.620503617755656, 1.0373614474576012, -1.6411237307693962, -2.052337862151146, 1.5268582726716706, 1.176810614698316, -0.511936349742928, 1.8899167884179937]}, {\"boxpoints\": false, \"line\": {\"width\": 1.3}, \"marker\": {\"color\": \"rgba(55, 128, 191, 1.0)\"}, \"name\": \"B\", \"orientation\": \"v\", \"type\": \"box\", \"y\": [0.18934519564362062, -0.5168133289643818, -0.575887085195419, 0.2654879300880599, -0.42270044140335306, 0.49202396803406306, -0.05813887150593542, -1.9198333732052166, -1.1749861717602872, 0.16124454493046997, -0.01733316004195805, -0.9257924593376672, 0.09006921111651374, 0.9734162863579563, -0.4518387082824791, -0.26153686886886934, 0.28232403258757965, -1.0529426660554346, 0.10202608047979453, 0.23633183741611294, 0.23498955155440895, 0.9677590445244143, 1.831253424242203, 0.2415382607666498, -1.4230300649451495, 2.2312182747485743, 1.236202195805703, 0.003390367770349785, -0.6237252050062434, -0.2342174145278324, -1.924925714689275, -0.9337128747220547, 1.7543360784429163, 0.7581829264781671, -0.08232277508753891, -0.45468484443795826, -0.19935092376725272, 0.3432671525145582, -0.07884733212534094, 0.9131918232446734, -0.8685402818250365, 0.6883979203844126, 1.0774186567698938, -1.2365006595554795, -0.604706613485279, 0.5530504203367701, -1.1638121061985844, 1.1266844459061904, -0.9565987159997782, 0.46966062495493444, -0.15512534613084203, -1.201935972800709, 1.0209556886714029, 0.2795071484988548, 1.4659564159180398, -0.4515262872130025, -0.4514630053316504, -0.0711730466463417, -2.1375937961790283, -0.7568430799085749, -1.051286755748964, 0.27836127689014034, -0.4279875997952308, 1.452930902585046, 1.1703271571918823, -0.8463298634985316, 0.6110841975955712, 1.2940742777754228, -0.9945647867400169, 1.5151241023797244, 0.5075362134278456, -1.1735886638674613, 1.98485816589851, 0.7982761159418083, -0.07944727878078828, -0.7971158770598205, 0.8537029643240611, -1.670795262780064, 0.4918535139756341, -0.5521934592979183, -2.6713602633960485, -0.6402242514425622, -0.2530997756328507, 0.13291790640185097, 1.840027332124377, 0.4256107998272355, -0.10524227119226856, 0.7568395535199907, 0.01227355678842452, -0.18777367729543826, 0.11596626772388403, 0.26977552573541597, -0.993101164784401, -0.05067529958534019, -0.5047305795737309, 0.9070451286544564, 0.5229498297030087, 1.499042011679956, -0.9162419500042097, 0.5257383477604088]}, {\"boxpoints\": false, \"line\": {\"width\": 1.3}, \"marker\": {\"color\": \"rgba(50, 171, 96, 1.0)\"}, \"name\": \"C\", \"orientation\": \"v\", \"type\": \"box\", \"y\": [-0.19805204132074813, 0.9646667420835341, -0.38290571006574775, 1.2998824481693891, 0.6199825686029053, 0.08892096656522798, 0.5098550465401651, -0.8175291952481727, 1.0545679319751429, -0.1556477627143782, -0.1863019976198989, -1.2337935362095873, 1.045560857193049, 0.22235565193506643, 1.2160340742473208, 0.9222476060634441, -2.1150062077557044, -0.7071029794118244, -0.5495551785557025, -0.693624646441118, 0.7573958854662389, 0.17394140635208538, 0.15923490851638308, 0.6044591173991921, 0.20111232258003703, 0.8655037106493844, 0.9630306500178076, -0.09963405884054125, 0.4222388126671568, 0.5445417835050336, -1.386959953120186, -1.0837062233251824, 0.16040783519433743, 0.16319047043609794, 1.7531305154443126, 1.8061218262475787, -0.5403383234473761, 0.8429293141000763, -1.6763240933556285, 1.1545629167166047, -0.5536300681270807, -0.18367259297476848, -0.3400663977866649, 1.1849804232281855, 0.41627393795554407, -1.4313827588307508, 0.20246720240624347, 0.43721416281460995, -0.32579144844232655, -1.2131834608493348, -0.14687430590360748, 0.353499906435496, 1.628903729852802, 0.20353596359746787, 0.451665175048858, -0.39634930867957924, -0.9509101739093384, 0.7191038547617834, 0.8719578554533487, 1.8326883546543777, 1.2003448994521837, -0.030231896568255902, -0.1716641365372497, 0.20431636378405235, -0.5598850080650927, -0.24031795880204332, 0.7516002737771287, 0.19254709258696615, -0.057442624087766986, -0.6793162222432404, 0.4148860123267791, 0.13762364150603934, 1.3920049620919024, -0.14462229762839007, 0.14342609156753108, 0.6143080669181031, 0.4474505683921285, -0.34739229148391937, 1.061455226537793, 0.24475617312531944, -1.2513199803763844, -0.6937990342235643, -2.3404491478112965, 0.8320957832750987, 0.4535701994994277, -0.38394936857027945, -0.6680721253788142, -0.6429137849954224, 0.7147258770315915, -1.4985171428736122, 2.0459145141636066, -0.467161741917224, 0.8132661594542542, 0.6293808269260213, -1.5107789396693025, -0.331917743684358, 0.05867669275075526, 0.20626723911401554, -0.7977795930039119, -0.5284544164088391]}, {\"boxpoints\": false, \"line\": {\"width\": 1.3}, \"marker\": {\"color\": \"rgba(128, 0, 128, 1.0)\"}, \"name\": \"D\", \"orientation\": \"v\", \"type\": \"box\", \"y\": [0.03384664178148704, 0.5666429305505546, 0.14885183843377175, 0.2687473452003424, 1.1200512766765096, -2.8225156356584993, -0.09857086367123338, 0.6997016010550245, -1.3562792823740024, -0.41508056769541196, -0.44685046724214006, 1.3317926725059546, -1.534398796805004, 0.5107676096875485, -0.35539271221973195, -0.4691145512394626, 0.46537551119090104, -0.28621288875761214, 0.7206887872019336, 0.9270397108725131, 0.8876193880034717, 0.3686998726486203, -1.2219477310842741, -0.3902957898404521, -1.1949112579311598, -1.0811713597675425, 0.7916926529667945, 0.31681376614310686, -0.663152266439661, 1.1098423222784424, 0.06581774155636329, 0.34117151247625005, 0.9824823102015346, -0.8329297644404557, -1.0255005113062103, 0.38708767823694307, -0.2735876107312517, 1.111757822490364, -0.8053566441383361, 0.09470607282640017, 0.47268776889119185, -0.5701393873577066, -2.1961399023737114, -0.2577127983341919, -1.2187126822403935, 0.9816939651454246, 0.09885494293423237, -0.49510179974921226, 1.594516555206982, 0.4108355407054973, 0.168743533242441, 0.7617110899069682, 0.6445282167880872, 0.24658352945846151, 1.0633761369266885, -1.2952068758870838, 1.2556355409200266, 0.10525546514764797, 1.4510068650768608, -0.9774440012734138, 0.7573789005103825, -1.4692166603040264, -1.219866900508068, -0.03417242416064316, -0.8336711038622275, -1.289844436339557, -0.17837954060022773, 0.732927473839943, 0.08030871609250388, 1.5402237130269205, -1.2010816922179652, 1.0273283822842285, 1.1362028082895037, -0.5904487631408297, 0.767364935605862, 1.2840530894008695, 0.5443851698820155, 0.12506924046431742, 0.901584915943366, 0.8559873278925225, -0.8604099889630961, -0.6517254944882362, 0.7117137760304271, -0.9360005771624264, 0.5851825508705968, -1.8351426246396962, -0.636312250227509, 0.3815910085105638, -2.23757811597667, -0.3368141017962645, -0.005645035574050167, -0.16463055665192255, -0.1825924073902931, -1.0341953399573212, 0.7064307122288477, -0.3307511781925198, -1.49616348983762, -0.6911493407982104, 0.5079262001874038, 1.8328031186789648]}],                        {\"legend\": {\"bgcolor\": \"#F5F6F9\", \"font\": {\"color\": \"#4D5663\"}}, \"paper_bgcolor\": \"#F5F6F9\", \"plot_bgcolor\": \"#F5F6F9\", \"template\": {\"data\": {\"bar\": [{\"error_x\": {\"color\": \"#2a3f5f\"}, \"error_y\": {\"color\": \"#2a3f5f\"}, \"marker\": {\"line\": {\"color\": \"#E5ECF6\", \"width\": 0.5}}, \"type\": \"bar\"}], \"barpolar\": [{\"marker\": {\"line\": {\"color\": \"#E5ECF6\", \"width\": 0.5}}, \"type\": \"barpolar\"}], \"carpet\": [{\"aaxis\": {\"endlinecolor\": \"#2a3f5f\", \"gridcolor\": \"white\", \"linecolor\": \"white\", \"minorgridcolor\": \"white\", \"startlinecolor\": \"#2a3f5f\"}, \"baxis\": {\"endlinecolor\": \"#2a3f5f\", \"gridcolor\": \"white\", \"linecolor\": \"white\", \"minorgridcolor\": \"white\", \"startlinecolor\": \"#2a3f5f\"}, \"type\": \"carpet\"}], \"choropleth\": [{\"colorbar\": {\"outlinewidth\": 0, \"ticks\": \"\"}, \"type\": \"choropleth\"}], \"contour\": [{\"colorbar\": {\"outlinewidth\": 0, \"ticks\": \"\"}, \"colorscale\": [[0.0, \"#0d0887\"], [0.1111111111111111, \"#46039f\"], [0.2222222222222222, \"#7201a8\"], [0.3333333333333333, \"#9c179e\"], [0.4444444444444444, \"#bd3786\"], [0.5555555555555556, \"#d8576b\"], [0.6666666666666666, \"#ed7953\"], [0.7777777777777778, \"#fb9f3a\"], [0.8888888888888888, \"#fdca26\"], [1.0, \"#f0f921\"]], \"type\": \"contour\"}], \"contourcarpet\": [{\"colorbar\": {\"outlinewidth\": 0, \"ticks\": \"\"}, \"type\": \"contourcarpet\"}], \"heatmap\": [{\"colorbar\": {\"outlinewidth\": 0, \"ticks\": \"\"}, \"colorscale\": [[0.0, \"#0d0887\"], [0.1111111111111111, \"#46039f\"], [0.2222222222222222, \"#7201a8\"], [0.3333333333333333, \"#9c179e\"], [0.4444444444444444, \"#bd3786\"], [0.5555555555555556, \"#d8576b\"], [0.6666666666666666, \"#ed7953\"], [0.7777777777777778, \"#fb9f3a\"], [0.8888888888888888, \"#fdca26\"], [1.0, \"#f0f921\"]], \"type\": \"heatmap\"}], \"heatmapgl\": [{\"colorbar\": {\"outlinewidth\": 0, \"ticks\": \"\"}, \"colorscale\": [[0.0, \"#0d0887\"], [0.1111111111111111, \"#46039f\"], [0.2222222222222222, \"#7201a8\"], [0.3333333333333333, \"#9c179e\"], [0.4444444444444444, \"#bd3786\"], [0.5555555555555556, \"#d8576b\"], [0.6666666666666666, \"#ed7953\"], [0.7777777777777778, \"#fb9f3a\"], [0.8888888888888888, \"#fdca26\"], [1.0, \"#f0f921\"]], \"type\": \"heatmapgl\"}], \"histogram\": [{\"marker\": {\"colorbar\": {\"outlinewidth\": 0, \"ticks\": \"\"}}, \"type\": \"histogram\"}], \"histogram2d\": [{\"colorbar\": {\"outlinewidth\": 0, \"ticks\": \"\"}, \"colorscale\": [[0.0, \"#0d0887\"], [0.1111111111111111, \"#46039f\"], [0.2222222222222222, \"#7201a8\"], [0.3333333333333333, \"#9c179e\"], [0.4444444444444444, \"#bd3786\"], [0.5555555555555556, \"#d8576b\"], [0.6666666666666666, \"#ed7953\"], [0.7777777777777778, \"#fb9f3a\"], [0.8888888888888888, \"#fdca26\"], [1.0, \"#f0f921\"]], \"type\": \"histogram2d\"}], \"histogram2dcontour\": [{\"colorbar\": {\"outlinewidth\": 0, \"ticks\": \"\"}, \"colorscale\": [[0.0, \"#0d0887\"], [0.1111111111111111, \"#46039f\"], [0.2222222222222222, \"#7201a8\"], [0.3333333333333333, \"#9c179e\"], [0.4444444444444444, \"#bd3786\"], [0.5555555555555556, \"#d8576b\"], [0.6666666666666666, \"#ed7953\"], [0.7777777777777778, \"#fb9f3a\"], [0.8888888888888888, \"#fdca26\"], [1.0, \"#f0f921\"]], \"type\": \"histogram2dcontour\"}], \"mesh3d\": [{\"colorbar\": {\"outlinewidth\": 0, \"ticks\": \"\"}, \"type\": \"mesh3d\"}], \"parcoords\": [{\"line\": {\"colorbar\": {\"outlinewidth\": 0, \"ticks\": \"\"}}, \"type\": \"parcoords\"}], \"pie\": [{\"automargin\": true, \"type\": \"pie\"}], \"scatter\": [{\"marker\": {\"colorbar\": {\"outlinewidth\": 0, \"ticks\": \"\"}}, \"type\": \"scatter\"}], \"scatter3d\": [{\"line\": {\"colorbar\": {\"outlinewidth\": 0, \"ticks\": \"\"}}, \"marker\": {\"colorbar\": {\"outlinewidth\": 0, \"ticks\": \"\"}}, \"type\": \"scatter3d\"}], \"scattercarpet\": [{\"marker\": {\"colorbar\": {\"outlinewidth\": 0, \"ticks\": \"\"}}, \"type\": \"scattercarpet\"}], \"scattergeo\": [{\"marker\": {\"colorbar\": {\"outlinewidth\": 0, \"ticks\": \"\"}}, \"type\": \"scattergeo\"}], \"scattergl\": [{\"marker\": {\"colorbar\": {\"outlinewidth\": 0, \"ticks\": \"\"}}, \"type\": \"scattergl\"}], \"scattermapbox\": [{\"marker\": {\"colorbar\": {\"outlinewidth\": 0, \"ticks\": \"\"}}, \"type\": \"scattermapbox\"}], \"scatterpolar\": [{\"marker\": {\"colorbar\": {\"outlinewidth\": 0, \"ticks\": \"\"}}, \"type\": \"scatterpolar\"}], \"scatterpolargl\": [{\"marker\": {\"colorbar\": {\"outlinewidth\": 0, \"ticks\": \"\"}}, \"type\": \"scatterpolargl\"}], \"scatterternary\": [{\"marker\": {\"colorbar\": {\"outlinewidth\": 0, \"ticks\": \"\"}}, \"type\": \"scatterternary\"}], \"surface\": [{\"colorbar\": {\"outlinewidth\": 0, \"ticks\": \"\"}, \"colorscale\": [[0.0, \"#0d0887\"], [0.1111111111111111, \"#46039f\"], [0.2222222222222222, \"#7201a8\"], [0.3333333333333333, \"#9c179e\"], [0.4444444444444444, \"#bd3786\"], [0.5555555555555556, \"#d8576b\"], [0.6666666666666666, \"#ed7953\"], [0.7777777777777778, \"#fb9f3a\"], [0.8888888888888888, \"#fdca26\"], [1.0, \"#f0f921\"]], \"type\": \"surface\"}], \"table\": [{\"cells\": {\"fill\": {\"color\": \"#EBF0F8\"}, \"line\": {\"color\": \"white\"}}, \"header\": {\"fill\": {\"color\": \"#C8D4E3\"}, \"line\": {\"color\": \"white\"}}, \"type\": \"table\"}]}, \"layout\": {\"annotationdefaults\": {\"arrowcolor\": \"#2a3f5f\", \"arrowhead\": 0, \"arrowwidth\": 1}, \"coloraxis\": {\"colorbar\": {\"outlinewidth\": 0, \"ticks\": \"\"}}, \"colorscale\": {\"diverging\": [[0, \"#8e0152\"], [0.1, \"#c51b7d\"], [0.2, \"#de77ae\"], [0.3, \"#f1b6da\"], [0.4, \"#fde0ef\"], [0.5, \"#f7f7f7\"], [0.6, \"#e6f5d0\"], [0.7, \"#b8e186\"], [0.8, \"#7fbc41\"], [0.9, \"#4d9221\"], [1, \"#276419\"]], \"sequential\": [[0.0, \"#0d0887\"], [0.1111111111111111, \"#46039f\"], [0.2222222222222222, \"#7201a8\"], [0.3333333333333333, \"#9c179e\"], [0.4444444444444444, \"#bd3786\"], [0.5555555555555556, \"#d8576b\"], [0.6666666666666666, \"#ed7953\"], [0.7777777777777778, \"#fb9f3a\"], [0.8888888888888888, \"#fdca26\"], [1.0, \"#f0f921\"]], \"sequentialminus\": [[0.0, \"#0d0887\"], [0.1111111111111111, \"#46039f\"], [0.2222222222222222, \"#7201a8\"], [0.3333333333333333, \"#9c179e\"], [0.4444444444444444, \"#bd3786\"], [0.5555555555555556, \"#d8576b\"], [0.6666666666666666, \"#ed7953\"], [0.7777777777777778, \"#fb9f3a\"], [0.8888888888888888, \"#fdca26\"], [1.0, \"#f0f921\"]]}, \"colorway\": [\"#636efa\", \"#EF553B\", \"#00cc96\", \"#ab63fa\", \"#FFA15A\", \"#19d3f3\", \"#FF6692\", \"#B6E880\", \"#FF97FF\", \"#FECB52\"], \"font\": {\"color\": \"#2a3f5f\"}, \"geo\": {\"bgcolor\": \"white\", \"lakecolor\": \"white\", \"landcolor\": \"#E5ECF6\", \"showlakes\": true, \"showland\": true, \"subunitcolor\": \"white\"}, \"hoverlabel\": {\"align\": \"left\"}, \"hovermode\": \"closest\", \"mapbox\": {\"style\": \"light\"}, \"paper_bgcolor\": \"white\", \"plot_bgcolor\": \"#E5ECF6\", \"polar\": {\"angularaxis\": {\"gridcolor\": \"white\", \"linecolor\": \"white\", \"ticks\": \"\"}, \"bgcolor\": \"#E5ECF6\", \"radialaxis\": {\"gridcolor\": \"white\", \"linecolor\": \"white\", \"ticks\": \"\"}}, \"scene\": {\"xaxis\": {\"backgroundcolor\": \"#E5ECF6\", \"gridcolor\": \"white\", \"gridwidth\": 2, \"linecolor\": \"white\", \"showbackground\": true, \"ticks\": \"\", \"zerolinecolor\": \"white\"}, \"yaxis\": {\"backgroundcolor\": \"#E5ECF6\", \"gridcolor\": \"white\", \"gridwidth\": 2, \"linecolor\": \"white\", \"showbackground\": true, \"ticks\": \"\", \"zerolinecolor\": \"white\"}, \"zaxis\": {\"backgroundcolor\": \"#E5ECF6\", \"gridcolor\": \"white\", \"gridwidth\": 2, \"linecolor\": \"white\", \"showbackground\": true, \"ticks\": \"\", \"zerolinecolor\": \"white\"}}, \"shapedefaults\": {\"line\": {\"color\": \"#2a3f5f\"}}, \"ternary\": {\"aaxis\": {\"gridcolor\": \"white\", \"linecolor\": \"white\", \"ticks\": \"\"}, \"baxis\": {\"gridcolor\": \"white\", \"linecolor\": \"white\", \"ticks\": \"\"}, \"bgcolor\": \"#E5ECF6\", \"caxis\": {\"gridcolor\": \"white\", \"linecolor\": \"white\", \"ticks\": \"\"}}, \"title\": {\"x\": 0.05}, \"xaxis\": {\"automargin\": true, \"gridcolor\": \"white\", \"linecolor\": \"white\", \"ticks\": \"\", \"title\": {\"standoff\": 15}, \"zerolinecolor\": \"white\", \"zerolinewidth\": 2}, \"yaxis\": {\"automargin\": true, \"gridcolor\": \"white\", \"linecolor\": \"white\", \"ticks\": \"\", \"title\": {\"standoff\": 15}, \"zerolinecolor\": \"white\", \"zerolinewidth\": 2}}}, \"title\": {\"font\": {\"color\": \"#4D5663\"}}, \"xaxis\": {\"gridcolor\": \"#E1E5ED\", \"showgrid\": true, \"tickfont\": {\"color\": \"#4D5663\"}, \"title\": {\"font\": {\"color\": \"#4D5663\"}, \"text\": \"\"}, \"zerolinecolor\": \"#E1E5ED\"}, \"yaxis\": {\"gridcolor\": \"#E1E5ED\", \"showgrid\": true, \"tickfont\": {\"color\": \"#4D5663\"}, \"title\": {\"font\": {\"color\": \"#4D5663\"}, \"text\": \"\"}, \"zerolinecolor\": \"#E1E5ED\"}},                        {\"showLink\": true, \"linkText\": \"Export to plot.ly\", \"plotlyServerURL\": \"https://plot.ly\", \"responsive\": true}                    ).then(function(){\n",
       "                            \n",
       "var gd = document.getElementById('df50d36d-1a8b-4f6e-ada9-c062ddf22688');\n",
       "var x = new MutationObserver(function (mutations, observer) {{\n",
       "        var display = window.getComputedStyle(gd).display;\n",
       "        if (!display || display === 'none') {{\n",
       "            console.log([gd, 'removed!']);\n",
       "            Plotly.purge(gd);\n",
       "            observer.disconnect();\n",
       "        }}\n",
       "}});\n",
       "\n",
       "// Listen for the removal of the full notebook cells\n",
       "var notebookContainer = gd.closest('#notebook-container');\n",
       "if (notebookContainer) {{\n",
       "    x.observe(notebookContainer, {childList: true});\n",
       "}}\n",
       "\n",
       "// Listen for the clearing of the current output cell\n",
       "var outputEl = gd.closest('.output');\n",
       "if (outputEl) {{\n",
       "    x.observe(outputEl, {childList: true});\n",
       "}}\n",
       "\n",
       "                        })                };                });            </script>        </div>"
      ]
     },
     "metadata": {},
     "output_type": "display_data"
    }
   ],
   "source": [
    "df.iplot(kind='box')"
   ]
  },
  {
   "cell_type": "code",
   "execution_count": 12,
   "metadata": {},
   "outputs": [
    {
     "data": {
      "text/html": [
       "<div>\n",
       "<style scoped>\n",
       "    .dataframe tbody tr th:only-of-type {\n",
       "        vertical-align: middle;\n",
       "    }\n",
       "\n",
       "    .dataframe tbody tr th {\n",
       "        vertical-align: top;\n",
       "    }\n",
       "\n",
       "    .dataframe thead th {\n",
       "        text-align: right;\n",
       "    }\n",
       "</style>\n",
       "<table border=\"1\" class=\"dataframe\">\n",
       "  <thead>\n",
       "    <tr style=\"text-align: right;\">\n",
       "      <th></th>\n",
       "      <th>x</th>\n",
       "      <th>y</th>\n",
       "      <th>z</th>\n",
       "    </tr>\n",
       "  </thead>\n",
       "  <tbody>\n",
       "    <tr>\n",
       "      <th>0</th>\n",
       "      <td>1</td>\n",
       "      <td>10</td>\n",
       "      <td>5</td>\n",
       "    </tr>\n",
       "    <tr>\n",
       "      <th>1</th>\n",
       "      <td>2</td>\n",
       "      <td>20</td>\n",
       "      <td>4</td>\n",
       "    </tr>\n",
       "    <tr>\n",
       "      <th>2</th>\n",
       "      <td>3</td>\n",
       "      <td>30</td>\n",
       "      <td>3</td>\n",
       "    </tr>\n",
       "    <tr>\n",
       "      <th>3</th>\n",
       "      <td>4</td>\n",
       "      <td>20</td>\n",
       "      <td>2</td>\n",
       "    </tr>\n",
       "    <tr>\n",
       "      <th>4</th>\n",
       "      <td>5</td>\n",
       "      <td>10</td>\n",
       "      <td>1</td>\n",
       "    </tr>\n",
       "  </tbody>\n",
       "</table>\n",
       "</div>"
      ],
      "text/plain": [
       "   x   y  z\n",
       "0  1  10  5\n",
       "1  2  20  4\n",
       "2  3  30  3\n",
       "3  4  20  2\n",
       "4  5  10  1"
      ]
     },
     "execution_count": 12,
     "metadata": {},
     "output_type": "execute_result"
    }
   ],
   "source": [
    "df3 = pd.DataFrame({'x':[1,2,3,4,5],'y':[10,20,30,20,10],'z':[5,4,3,2,1]})\n",
    "df3"
   ]
  },
  {
   "cell_type": "code",
   "execution_count": 13,
   "metadata": {},
   "outputs": [
    {
     "data": {
      "application/vnd.plotly.v1+json": {
       "config": {
        "linkText": "Export to plot.ly",
        "plotlyServerURL": "https://plot.ly",
        "showLink": true
       },
       "data": [
        {
         "colorscale": [
          [
           0,
           "rgb(165,0,38)"
          ],
          [
           0.1,
           "rgb(215,48,39)"
          ],
          [
           0.2,
           "rgb(244,109,67)"
          ],
          [
           0.3,
           "rgb(253,174,97)"
          ],
          [
           0.4,
           "rgb(254,224,144)"
          ],
          [
           0.5,
           "rgb(255,255,191)"
          ],
          [
           0.6,
           "rgb(224,243,248)"
          ],
          [
           0.7,
           "rgb(171,217,233)"
          ],
          [
           0.8,
           "rgb(116,173,209)"
          ],
          [
           0.9,
           "rgb(69,117,180)"
          ],
          [
           1,
           "rgb(49,54,149)"
          ]
         ],
         "type": "surface",
         "x": [
          0,
          1,
          2,
          3,
          4
         ],
         "y": [
          "x",
          "y",
          "z"
         ],
         "z": [
          [
           1,
           2,
           3,
           4,
           5
          ],
          [
           10,
           20,
           30,
           20,
           10
          ],
          [
           5,
           4,
           3,
           2,
           1
          ]
         ]
        }
       ],
       "layout": {
        "legend": {
         "bgcolor": "#F5F6F9",
         "font": {
          "color": "#4D5663"
         }
        },
        "paper_bgcolor": "#F5F6F9",
        "plot_bgcolor": "#F5F6F9",
        "template": {
         "data": {
          "bar": [
           {
            "error_x": {
             "color": "#2a3f5f"
            },
            "error_y": {
             "color": "#2a3f5f"
            },
            "marker": {
             "line": {
              "color": "#E5ECF6",
              "width": 0.5
             }
            },
            "type": "bar"
           }
          ],
          "barpolar": [
           {
            "marker": {
             "line": {
              "color": "#E5ECF6",
              "width": 0.5
             }
            },
            "type": "barpolar"
           }
          ],
          "carpet": [
           {
            "aaxis": {
             "endlinecolor": "#2a3f5f",
             "gridcolor": "white",
             "linecolor": "white",
             "minorgridcolor": "white",
             "startlinecolor": "#2a3f5f"
            },
            "baxis": {
             "endlinecolor": "#2a3f5f",
             "gridcolor": "white",
             "linecolor": "white",
             "minorgridcolor": "white",
             "startlinecolor": "#2a3f5f"
            },
            "type": "carpet"
           }
          ],
          "choropleth": [
           {
            "colorbar": {
             "outlinewidth": 0,
             "ticks": ""
            },
            "type": "choropleth"
           }
          ],
          "contour": [
           {
            "colorbar": {
             "outlinewidth": 0,
             "ticks": ""
            },
            "colorscale": [
             [
              0,
              "#0d0887"
             ],
             [
              0.1111111111111111,
              "#46039f"
             ],
             [
              0.2222222222222222,
              "#7201a8"
             ],
             [
              0.3333333333333333,
              "#9c179e"
             ],
             [
              0.4444444444444444,
              "#bd3786"
             ],
             [
              0.5555555555555556,
              "#d8576b"
             ],
             [
              0.6666666666666666,
              "#ed7953"
             ],
             [
              0.7777777777777778,
              "#fb9f3a"
             ],
             [
              0.8888888888888888,
              "#fdca26"
             ],
             [
              1,
              "#f0f921"
             ]
            ],
            "type": "contour"
           }
          ],
          "contourcarpet": [
           {
            "colorbar": {
             "outlinewidth": 0,
             "ticks": ""
            },
            "type": "contourcarpet"
           }
          ],
          "heatmap": [
           {
            "colorbar": {
             "outlinewidth": 0,
             "ticks": ""
            },
            "colorscale": [
             [
              0,
              "#0d0887"
             ],
             [
              0.1111111111111111,
              "#46039f"
             ],
             [
              0.2222222222222222,
              "#7201a8"
             ],
             [
              0.3333333333333333,
              "#9c179e"
             ],
             [
              0.4444444444444444,
              "#bd3786"
             ],
             [
              0.5555555555555556,
              "#d8576b"
             ],
             [
              0.6666666666666666,
              "#ed7953"
             ],
             [
              0.7777777777777778,
              "#fb9f3a"
             ],
             [
              0.8888888888888888,
              "#fdca26"
             ],
             [
              1,
              "#f0f921"
             ]
            ],
            "type": "heatmap"
           }
          ],
          "heatmapgl": [
           {
            "colorbar": {
             "outlinewidth": 0,
             "ticks": ""
            },
            "colorscale": [
             [
              0,
              "#0d0887"
             ],
             [
              0.1111111111111111,
              "#46039f"
             ],
             [
              0.2222222222222222,
              "#7201a8"
             ],
             [
              0.3333333333333333,
              "#9c179e"
             ],
             [
              0.4444444444444444,
              "#bd3786"
             ],
             [
              0.5555555555555556,
              "#d8576b"
             ],
             [
              0.6666666666666666,
              "#ed7953"
             ],
             [
              0.7777777777777778,
              "#fb9f3a"
             ],
             [
              0.8888888888888888,
              "#fdca26"
             ],
             [
              1,
              "#f0f921"
             ]
            ],
            "type": "heatmapgl"
           }
          ],
          "histogram": [
           {
            "marker": {
             "colorbar": {
              "outlinewidth": 0,
              "ticks": ""
             }
            },
            "type": "histogram"
           }
          ],
          "histogram2d": [
           {
            "colorbar": {
             "outlinewidth": 0,
             "ticks": ""
            },
            "colorscale": [
             [
              0,
              "#0d0887"
             ],
             [
              0.1111111111111111,
              "#46039f"
             ],
             [
              0.2222222222222222,
              "#7201a8"
             ],
             [
              0.3333333333333333,
              "#9c179e"
             ],
             [
              0.4444444444444444,
              "#bd3786"
             ],
             [
              0.5555555555555556,
              "#d8576b"
             ],
             [
              0.6666666666666666,
              "#ed7953"
             ],
             [
              0.7777777777777778,
              "#fb9f3a"
             ],
             [
              0.8888888888888888,
              "#fdca26"
             ],
             [
              1,
              "#f0f921"
             ]
            ],
            "type": "histogram2d"
           }
          ],
          "histogram2dcontour": [
           {
            "colorbar": {
             "outlinewidth": 0,
             "ticks": ""
            },
            "colorscale": [
             [
              0,
              "#0d0887"
             ],
             [
              0.1111111111111111,
              "#46039f"
             ],
             [
              0.2222222222222222,
              "#7201a8"
             ],
             [
              0.3333333333333333,
              "#9c179e"
             ],
             [
              0.4444444444444444,
              "#bd3786"
             ],
             [
              0.5555555555555556,
              "#d8576b"
             ],
             [
              0.6666666666666666,
              "#ed7953"
             ],
             [
              0.7777777777777778,
              "#fb9f3a"
             ],
             [
              0.8888888888888888,
              "#fdca26"
             ],
             [
              1,
              "#f0f921"
             ]
            ],
            "type": "histogram2dcontour"
           }
          ],
          "mesh3d": [
           {
            "colorbar": {
             "outlinewidth": 0,
             "ticks": ""
            },
            "type": "mesh3d"
           }
          ],
          "parcoords": [
           {
            "line": {
             "colorbar": {
              "outlinewidth": 0,
              "ticks": ""
             }
            },
            "type": "parcoords"
           }
          ],
          "pie": [
           {
            "automargin": true,
            "type": "pie"
           }
          ],
          "scatter": [
           {
            "marker": {
             "colorbar": {
              "outlinewidth": 0,
              "ticks": ""
             }
            },
            "type": "scatter"
           }
          ],
          "scatter3d": [
           {
            "line": {
             "colorbar": {
              "outlinewidth": 0,
              "ticks": ""
             }
            },
            "marker": {
             "colorbar": {
              "outlinewidth": 0,
              "ticks": ""
             }
            },
            "type": "scatter3d"
           }
          ],
          "scattercarpet": [
           {
            "marker": {
             "colorbar": {
              "outlinewidth": 0,
              "ticks": ""
             }
            },
            "type": "scattercarpet"
           }
          ],
          "scattergeo": [
           {
            "marker": {
             "colorbar": {
              "outlinewidth": 0,
              "ticks": ""
             }
            },
            "type": "scattergeo"
           }
          ],
          "scattergl": [
           {
            "marker": {
             "colorbar": {
              "outlinewidth": 0,
              "ticks": ""
             }
            },
            "type": "scattergl"
           }
          ],
          "scattermapbox": [
           {
            "marker": {
             "colorbar": {
              "outlinewidth": 0,
              "ticks": ""
             }
            },
            "type": "scattermapbox"
           }
          ],
          "scatterpolar": [
           {
            "marker": {
             "colorbar": {
              "outlinewidth": 0,
              "ticks": ""
             }
            },
            "type": "scatterpolar"
           }
          ],
          "scatterpolargl": [
           {
            "marker": {
             "colorbar": {
              "outlinewidth": 0,
              "ticks": ""
             }
            },
            "type": "scatterpolargl"
           }
          ],
          "scatterternary": [
           {
            "marker": {
             "colorbar": {
              "outlinewidth": 0,
              "ticks": ""
             }
            },
            "type": "scatterternary"
           }
          ],
          "surface": [
           {
            "colorbar": {
             "outlinewidth": 0,
             "ticks": ""
            },
            "colorscale": [
             [
              0,
              "#0d0887"
             ],
             [
              0.1111111111111111,
              "#46039f"
             ],
             [
              0.2222222222222222,
              "#7201a8"
             ],
             [
              0.3333333333333333,
              "#9c179e"
             ],
             [
              0.4444444444444444,
              "#bd3786"
             ],
             [
              0.5555555555555556,
              "#d8576b"
             ],
             [
              0.6666666666666666,
              "#ed7953"
             ],
             [
              0.7777777777777778,
              "#fb9f3a"
             ],
             [
              0.8888888888888888,
              "#fdca26"
             ],
             [
              1,
              "#f0f921"
             ]
            ],
            "type": "surface"
           }
          ],
          "table": [
           {
            "cells": {
             "fill": {
              "color": "#EBF0F8"
             },
             "line": {
              "color": "white"
             }
            },
            "header": {
             "fill": {
              "color": "#C8D4E3"
             },
             "line": {
              "color": "white"
             }
            },
            "type": "table"
           }
          ]
         },
         "layout": {
          "annotationdefaults": {
           "arrowcolor": "#2a3f5f",
           "arrowhead": 0,
           "arrowwidth": 1
          },
          "coloraxis": {
           "colorbar": {
            "outlinewidth": 0,
            "ticks": ""
           }
          },
          "colorscale": {
           "diverging": [
            [
             0,
             "#8e0152"
            ],
            [
             0.1,
             "#c51b7d"
            ],
            [
             0.2,
             "#de77ae"
            ],
            [
             0.3,
             "#f1b6da"
            ],
            [
             0.4,
             "#fde0ef"
            ],
            [
             0.5,
             "#f7f7f7"
            ],
            [
             0.6,
             "#e6f5d0"
            ],
            [
             0.7,
             "#b8e186"
            ],
            [
             0.8,
             "#7fbc41"
            ],
            [
             0.9,
             "#4d9221"
            ],
            [
             1,
             "#276419"
            ]
           ],
           "sequential": [
            [
             0,
             "#0d0887"
            ],
            [
             0.1111111111111111,
             "#46039f"
            ],
            [
             0.2222222222222222,
             "#7201a8"
            ],
            [
             0.3333333333333333,
             "#9c179e"
            ],
            [
             0.4444444444444444,
             "#bd3786"
            ],
            [
             0.5555555555555556,
             "#d8576b"
            ],
            [
             0.6666666666666666,
             "#ed7953"
            ],
            [
             0.7777777777777778,
             "#fb9f3a"
            ],
            [
             0.8888888888888888,
             "#fdca26"
            ],
            [
             1,
             "#f0f921"
            ]
           ],
           "sequentialminus": [
            [
             0,
             "#0d0887"
            ],
            [
             0.1111111111111111,
             "#46039f"
            ],
            [
             0.2222222222222222,
             "#7201a8"
            ],
            [
             0.3333333333333333,
             "#9c179e"
            ],
            [
             0.4444444444444444,
             "#bd3786"
            ],
            [
             0.5555555555555556,
             "#d8576b"
            ],
            [
             0.6666666666666666,
             "#ed7953"
            ],
            [
             0.7777777777777778,
             "#fb9f3a"
            ],
            [
             0.8888888888888888,
             "#fdca26"
            ],
            [
             1,
             "#f0f921"
            ]
           ]
          },
          "colorway": [
           "#636efa",
           "#EF553B",
           "#00cc96",
           "#ab63fa",
           "#FFA15A",
           "#19d3f3",
           "#FF6692",
           "#B6E880",
           "#FF97FF",
           "#FECB52"
          ],
          "font": {
           "color": "#2a3f5f"
          },
          "geo": {
           "bgcolor": "white",
           "lakecolor": "white",
           "landcolor": "#E5ECF6",
           "showlakes": true,
           "showland": true,
           "subunitcolor": "white"
          },
          "hoverlabel": {
           "align": "left"
          },
          "hovermode": "closest",
          "mapbox": {
           "style": "light"
          },
          "paper_bgcolor": "white",
          "plot_bgcolor": "#E5ECF6",
          "polar": {
           "angularaxis": {
            "gridcolor": "white",
            "linecolor": "white",
            "ticks": ""
           },
           "bgcolor": "#E5ECF6",
           "radialaxis": {
            "gridcolor": "white",
            "linecolor": "white",
            "ticks": ""
           }
          },
          "scene": {
           "xaxis": {
            "backgroundcolor": "#E5ECF6",
            "gridcolor": "white",
            "gridwidth": 2,
            "linecolor": "white",
            "showbackground": true,
            "ticks": "",
            "zerolinecolor": "white"
           },
           "yaxis": {
            "backgroundcolor": "#E5ECF6",
            "gridcolor": "white",
            "gridwidth": 2,
            "linecolor": "white",
            "showbackground": true,
            "ticks": "",
            "zerolinecolor": "white"
           },
           "zaxis": {
            "backgroundcolor": "#E5ECF6",
            "gridcolor": "white",
            "gridwidth": 2,
            "linecolor": "white",
            "showbackground": true,
            "ticks": "",
            "zerolinecolor": "white"
           }
          },
          "shapedefaults": {
           "line": {
            "color": "#2a3f5f"
           }
          },
          "ternary": {
           "aaxis": {
            "gridcolor": "white",
            "linecolor": "white",
            "ticks": ""
           },
           "baxis": {
            "gridcolor": "white",
            "linecolor": "white",
            "ticks": ""
           },
           "bgcolor": "#E5ECF6",
           "caxis": {
            "gridcolor": "white",
            "linecolor": "white",
            "ticks": ""
           }
          },
          "title": {
           "x": 0.05
          },
          "xaxis": {
           "automargin": true,
           "gridcolor": "white",
           "linecolor": "white",
           "ticks": "",
           "title": {
            "standoff": 15
           },
           "zerolinecolor": "white",
           "zerolinewidth": 2
          },
          "yaxis": {
           "automargin": true,
           "gridcolor": "white",
           "linecolor": "white",
           "ticks": "",
           "title": {
            "standoff": 15
           },
           "zerolinecolor": "white",
           "zerolinewidth": 2
          }
         }
        },
        "title": {
         "font": {
          "color": "#4D5663"
         }
        },
        "xaxis": {
         "gridcolor": "#E1E5ED",
         "showgrid": true,
         "tickfont": {
          "color": "#4D5663"
         },
         "title": {
          "font": {
           "color": "#4D5663"
          },
          "text": ""
         },
         "zerolinecolor": "#E1E5ED"
        },
        "yaxis": {
         "gridcolor": "#E1E5ED",
         "showgrid": true,
         "tickfont": {
          "color": "#4D5663"
         },
         "title": {
          "font": {
           "color": "#4D5663"
          },
          "text": ""
         },
         "zerolinecolor": "#E1E5ED"
        }
       }
      },
      "text/html": [
       "<div>                            <div id=\"52b661b3-4759-4f7b-9a94-7cae0d51032b\" class=\"plotly-graph-div\" style=\"height:525px; width:100%;\"></div>            <script type=\"text/javascript\">                require([\"plotly\"], function(Plotly) {                    window.PLOTLYENV=window.PLOTLYENV || {};\n",
       "                    window.PLOTLYENV.BASE_URL='https://plot.ly';                                    if (document.getElementById(\"52b661b3-4759-4f7b-9a94-7cae0d51032b\")) {                    Plotly.newPlot(                        \"52b661b3-4759-4f7b-9a94-7cae0d51032b\",                        [{\"colorscale\": [[0.0, \"rgb(165,0,38)\"], [0.1, \"rgb(215,48,39)\"], [0.2, \"rgb(244,109,67)\"], [0.3, \"rgb(253,174,97)\"], [0.4, \"rgb(254,224,144)\"], [0.5, \"rgb(255,255,191)\"], [0.6, \"rgb(224,243,248)\"], [0.7, \"rgb(171,217,233)\"], [0.8, \"rgb(116,173,209)\"], [0.9, \"rgb(69,117,180)\"], [1.0, \"rgb(49,54,149)\"]], \"type\": \"surface\", \"x\": [0, 1, 2, 3, 4], \"y\": [\"x\", \"y\", \"z\"], \"z\": [[1, 2, 3, 4, 5], [10, 20, 30, 20, 10], [5, 4, 3, 2, 1]]}],                        {\"legend\": {\"bgcolor\": \"#F5F6F9\", \"font\": {\"color\": \"#4D5663\"}}, \"paper_bgcolor\": \"#F5F6F9\", \"plot_bgcolor\": \"#F5F6F9\", \"template\": {\"data\": {\"bar\": [{\"error_x\": {\"color\": \"#2a3f5f\"}, \"error_y\": {\"color\": \"#2a3f5f\"}, \"marker\": {\"line\": {\"color\": \"#E5ECF6\", \"width\": 0.5}}, \"type\": \"bar\"}], \"barpolar\": [{\"marker\": {\"line\": {\"color\": \"#E5ECF6\", \"width\": 0.5}}, \"type\": \"barpolar\"}], \"carpet\": [{\"aaxis\": {\"endlinecolor\": \"#2a3f5f\", \"gridcolor\": \"white\", \"linecolor\": \"white\", \"minorgridcolor\": \"white\", \"startlinecolor\": \"#2a3f5f\"}, \"baxis\": {\"endlinecolor\": \"#2a3f5f\", \"gridcolor\": \"white\", \"linecolor\": \"white\", \"minorgridcolor\": \"white\", \"startlinecolor\": \"#2a3f5f\"}, \"type\": \"carpet\"}], \"choropleth\": [{\"colorbar\": {\"outlinewidth\": 0, \"ticks\": \"\"}, \"type\": \"choropleth\"}], \"contour\": [{\"colorbar\": {\"outlinewidth\": 0, \"ticks\": \"\"}, \"colorscale\": [[0.0, \"#0d0887\"], [0.1111111111111111, \"#46039f\"], [0.2222222222222222, \"#7201a8\"], [0.3333333333333333, \"#9c179e\"], [0.4444444444444444, \"#bd3786\"], [0.5555555555555556, \"#d8576b\"], [0.6666666666666666, \"#ed7953\"], [0.7777777777777778, \"#fb9f3a\"], [0.8888888888888888, \"#fdca26\"], [1.0, \"#f0f921\"]], \"type\": \"contour\"}], \"contourcarpet\": [{\"colorbar\": {\"outlinewidth\": 0, \"ticks\": \"\"}, \"type\": \"contourcarpet\"}], \"heatmap\": [{\"colorbar\": {\"outlinewidth\": 0, \"ticks\": \"\"}, \"colorscale\": [[0.0, \"#0d0887\"], [0.1111111111111111, \"#46039f\"], [0.2222222222222222, \"#7201a8\"], [0.3333333333333333, \"#9c179e\"], [0.4444444444444444, \"#bd3786\"], [0.5555555555555556, \"#d8576b\"], [0.6666666666666666, \"#ed7953\"], [0.7777777777777778, \"#fb9f3a\"], [0.8888888888888888, \"#fdca26\"], [1.0, \"#f0f921\"]], \"type\": \"heatmap\"}], \"heatmapgl\": [{\"colorbar\": {\"outlinewidth\": 0, \"ticks\": \"\"}, \"colorscale\": [[0.0, \"#0d0887\"], [0.1111111111111111, \"#46039f\"], [0.2222222222222222, \"#7201a8\"], [0.3333333333333333, \"#9c179e\"], [0.4444444444444444, \"#bd3786\"], [0.5555555555555556, \"#d8576b\"], [0.6666666666666666, \"#ed7953\"], [0.7777777777777778, \"#fb9f3a\"], [0.8888888888888888, \"#fdca26\"], [1.0, \"#f0f921\"]], \"type\": \"heatmapgl\"}], \"histogram\": [{\"marker\": {\"colorbar\": {\"outlinewidth\": 0, \"ticks\": \"\"}}, \"type\": \"histogram\"}], \"histogram2d\": [{\"colorbar\": {\"outlinewidth\": 0, \"ticks\": \"\"}, \"colorscale\": [[0.0, \"#0d0887\"], [0.1111111111111111, \"#46039f\"], [0.2222222222222222, \"#7201a8\"], [0.3333333333333333, \"#9c179e\"], [0.4444444444444444, \"#bd3786\"], [0.5555555555555556, \"#d8576b\"], [0.6666666666666666, \"#ed7953\"], [0.7777777777777778, \"#fb9f3a\"], [0.8888888888888888, \"#fdca26\"], [1.0, \"#f0f921\"]], \"type\": \"histogram2d\"}], \"histogram2dcontour\": [{\"colorbar\": {\"outlinewidth\": 0, \"ticks\": \"\"}, \"colorscale\": [[0.0, \"#0d0887\"], [0.1111111111111111, \"#46039f\"], [0.2222222222222222, \"#7201a8\"], [0.3333333333333333, \"#9c179e\"], [0.4444444444444444, \"#bd3786\"], [0.5555555555555556, \"#d8576b\"], [0.6666666666666666, \"#ed7953\"], [0.7777777777777778, \"#fb9f3a\"], [0.8888888888888888, \"#fdca26\"], [1.0, \"#f0f921\"]], \"type\": \"histogram2dcontour\"}], \"mesh3d\": [{\"colorbar\": {\"outlinewidth\": 0, \"ticks\": \"\"}, \"type\": \"mesh3d\"}], \"parcoords\": [{\"line\": {\"colorbar\": {\"outlinewidth\": 0, \"ticks\": \"\"}}, \"type\": \"parcoords\"}], \"pie\": [{\"automargin\": true, \"type\": \"pie\"}], \"scatter\": [{\"marker\": {\"colorbar\": {\"outlinewidth\": 0, \"ticks\": \"\"}}, \"type\": \"scatter\"}], \"scatter3d\": [{\"line\": {\"colorbar\": {\"outlinewidth\": 0, \"ticks\": \"\"}}, \"marker\": {\"colorbar\": {\"outlinewidth\": 0, \"ticks\": \"\"}}, \"type\": \"scatter3d\"}], \"scattercarpet\": [{\"marker\": {\"colorbar\": {\"outlinewidth\": 0, \"ticks\": \"\"}}, \"type\": \"scattercarpet\"}], \"scattergeo\": [{\"marker\": {\"colorbar\": {\"outlinewidth\": 0, \"ticks\": \"\"}}, \"type\": \"scattergeo\"}], \"scattergl\": [{\"marker\": {\"colorbar\": {\"outlinewidth\": 0, \"ticks\": \"\"}}, \"type\": \"scattergl\"}], \"scattermapbox\": [{\"marker\": {\"colorbar\": {\"outlinewidth\": 0, \"ticks\": \"\"}}, \"type\": \"scattermapbox\"}], \"scatterpolar\": [{\"marker\": {\"colorbar\": {\"outlinewidth\": 0, \"ticks\": \"\"}}, \"type\": \"scatterpolar\"}], \"scatterpolargl\": [{\"marker\": {\"colorbar\": {\"outlinewidth\": 0, \"ticks\": \"\"}}, \"type\": \"scatterpolargl\"}], \"scatterternary\": [{\"marker\": {\"colorbar\": {\"outlinewidth\": 0, \"ticks\": \"\"}}, \"type\": \"scatterternary\"}], \"surface\": [{\"colorbar\": {\"outlinewidth\": 0, \"ticks\": \"\"}, \"colorscale\": [[0.0, \"#0d0887\"], [0.1111111111111111, \"#46039f\"], [0.2222222222222222, \"#7201a8\"], [0.3333333333333333, \"#9c179e\"], [0.4444444444444444, \"#bd3786\"], [0.5555555555555556, \"#d8576b\"], [0.6666666666666666, \"#ed7953\"], [0.7777777777777778, \"#fb9f3a\"], [0.8888888888888888, \"#fdca26\"], [1.0, \"#f0f921\"]], \"type\": \"surface\"}], \"table\": [{\"cells\": {\"fill\": {\"color\": \"#EBF0F8\"}, \"line\": {\"color\": \"white\"}}, \"header\": {\"fill\": {\"color\": \"#C8D4E3\"}, \"line\": {\"color\": \"white\"}}, \"type\": \"table\"}]}, \"layout\": {\"annotationdefaults\": {\"arrowcolor\": \"#2a3f5f\", \"arrowhead\": 0, \"arrowwidth\": 1}, \"coloraxis\": {\"colorbar\": {\"outlinewidth\": 0, \"ticks\": \"\"}}, \"colorscale\": {\"diverging\": [[0, \"#8e0152\"], [0.1, \"#c51b7d\"], [0.2, \"#de77ae\"], [0.3, \"#f1b6da\"], [0.4, \"#fde0ef\"], [0.5, \"#f7f7f7\"], [0.6, \"#e6f5d0\"], [0.7, \"#b8e186\"], [0.8, \"#7fbc41\"], [0.9, \"#4d9221\"], [1, \"#276419\"]], \"sequential\": [[0.0, \"#0d0887\"], [0.1111111111111111, \"#46039f\"], [0.2222222222222222, \"#7201a8\"], [0.3333333333333333, \"#9c179e\"], [0.4444444444444444, \"#bd3786\"], [0.5555555555555556, \"#d8576b\"], [0.6666666666666666, \"#ed7953\"], [0.7777777777777778, \"#fb9f3a\"], [0.8888888888888888, \"#fdca26\"], [1.0, \"#f0f921\"]], \"sequentialminus\": [[0.0, \"#0d0887\"], [0.1111111111111111, \"#46039f\"], [0.2222222222222222, \"#7201a8\"], [0.3333333333333333, \"#9c179e\"], [0.4444444444444444, \"#bd3786\"], [0.5555555555555556, \"#d8576b\"], [0.6666666666666666, \"#ed7953\"], [0.7777777777777778, \"#fb9f3a\"], [0.8888888888888888, \"#fdca26\"], [1.0, \"#f0f921\"]]}, \"colorway\": [\"#636efa\", \"#EF553B\", \"#00cc96\", \"#ab63fa\", \"#FFA15A\", \"#19d3f3\", \"#FF6692\", \"#B6E880\", \"#FF97FF\", \"#FECB52\"], \"font\": {\"color\": \"#2a3f5f\"}, \"geo\": {\"bgcolor\": \"white\", \"lakecolor\": \"white\", \"landcolor\": \"#E5ECF6\", \"showlakes\": true, \"showland\": true, \"subunitcolor\": \"white\"}, \"hoverlabel\": {\"align\": \"left\"}, \"hovermode\": \"closest\", \"mapbox\": {\"style\": \"light\"}, \"paper_bgcolor\": \"white\", \"plot_bgcolor\": \"#E5ECF6\", \"polar\": {\"angularaxis\": {\"gridcolor\": \"white\", \"linecolor\": \"white\", \"ticks\": \"\"}, \"bgcolor\": \"#E5ECF6\", \"radialaxis\": {\"gridcolor\": \"white\", \"linecolor\": \"white\", \"ticks\": \"\"}}, \"scene\": {\"xaxis\": {\"backgroundcolor\": \"#E5ECF6\", \"gridcolor\": \"white\", \"gridwidth\": 2, \"linecolor\": \"white\", \"showbackground\": true, \"ticks\": \"\", \"zerolinecolor\": \"white\"}, \"yaxis\": {\"backgroundcolor\": \"#E5ECF6\", \"gridcolor\": \"white\", \"gridwidth\": 2, \"linecolor\": \"white\", \"showbackground\": true, \"ticks\": \"\", \"zerolinecolor\": \"white\"}, \"zaxis\": {\"backgroundcolor\": \"#E5ECF6\", \"gridcolor\": \"white\", \"gridwidth\": 2, \"linecolor\": \"white\", \"showbackground\": true, \"ticks\": \"\", \"zerolinecolor\": \"white\"}}, \"shapedefaults\": {\"line\": {\"color\": \"#2a3f5f\"}}, \"ternary\": {\"aaxis\": {\"gridcolor\": \"white\", \"linecolor\": \"white\", \"ticks\": \"\"}, \"baxis\": {\"gridcolor\": \"white\", \"linecolor\": \"white\", \"ticks\": \"\"}, \"bgcolor\": \"#E5ECF6\", \"caxis\": {\"gridcolor\": \"white\", \"linecolor\": \"white\", \"ticks\": \"\"}}, \"title\": {\"x\": 0.05}, \"xaxis\": {\"automargin\": true, \"gridcolor\": \"white\", \"linecolor\": \"white\", \"ticks\": \"\", \"title\": {\"standoff\": 15}, \"zerolinecolor\": \"white\", \"zerolinewidth\": 2}, \"yaxis\": {\"automargin\": true, \"gridcolor\": \"white\", \"linecolor\": \"white\", \"ticks\": \"\", \"title\": {\"standoff\": 15}, \"zerolinecolor\": \"white\", \"zerolinewidth\": 2}}}, \"title\": {\"font\": {\"color\": \"#4D5663\"}}, \"xaxis\": {\"gridcolor\": \"#E1E5ED\", \"showgrid\": true, \"tickfont\": {\"color\": \"#4D5663\"}, \"title\": {\"font\": {\"color\": \"#4D5663\"}, \"text\": \"\"}, \"zerolinecolor\": \"#E1E5ED\"}, \"yaxis\": {\"gridcolor\": \"#E1E5ED\", \"showgrid\": true, \"tickfont\": {\"color\": \"#4D5663\"}, \"title\": {\"font\": {\"color\": \"#4D5663\"}, \"text\": \"\"}, \"zerolinecolor\": \"#E1E5ED\"}},                        {\"showLink\": true, \"linkText\": \"Export to plot.ly\", \"plotlyServerURL\": \"https://plot.ly\", \"responsive\": true}                    ).then(function(){\n",
       "                            \n",
       "var gd = document.getElementById('52b661b3-4759-4f7b-9a94-7cae0d51032b');\n",
       "var x = new MutationObserver(function (mutations, observer) {{\n",
       "        var display = window.getComputedStyle(gd).display;\n",
       "        if (!display || display === 'none') {{\n",
       "            console.log([gd, 'removed!']);\n",
       "            Plotly.purge(gd);\n",
       "            observer.disconnect();\n",
       "        }}\n",
       "}});\n",
       "\n",
       "// Listen for the removal of the full notebook cells\n",
       "var notebookContainer = gd.closest('#notebook-container');\n",
       "if (notebookContainer) {{\n",
       "    x.observe(notebookContainer, {childList: true});\n",
       "}}\n",
       "\n",
       "// Listen for the clearing of the current output cell\n",
       "var outputEl = gd.closest('.output');\n",
       "if (outputEl) {{\n",
       "    x.observe(outputEl, {childList: true});\n",
       "}}\n",
       "\n",
       "                        })                };                });            </script>        </div>"
      ]
     },
     "metadata": {},
     "output_type": "display_data"
    }
   ],
   "source": [
    "df3.iplot(kind='surface',colorscale='rdylbu')"
   ]
  },
  {
   "cell_type": "code",
   "execution_count": 14,
   "metadata": {},
   "outputs": [
    {
     "data": {
      "application/vnd.plotly.v1+json": {
       "config": {
        "linkText": "Export to plot.ly",
        "plotlyServerURL": "https://plot.ly",
        "showLink": true
       },
       "data": [
        {
         "histfunc": "count",
         "histnorm": "",
         "marker": {
          "color": "rgba(255, 153, 51, 1.0)",
          "line": {
           "color": "#4D5663",
           "width": 1.3
          }
         },
         "name": "A",
         "nbinsx": 50,
         "opacity": 0.8,
         "orientation": "v",
         "type": "histogram",
         "x": [
          -1.3345721423538044,
          1.152744983274052,
          -0.4144432895718666,
          1.4302774060136265,
          1.1032714804754071,
          0.3191628341280002,
          0.29167766457536576,
          -0.2948260219573132,
          -0.7898916249391608,
          0.7579798280599954,
          0.7023990585262951,
          0.3617203499296237,
          1.3840609450336574,
          2.1234137119547905,
          0.2810105000977317,
          1.3417915860610645,
          -0.2412397886071698,
          -1.4800784340458517,
          -0.43730607784210224,
          1.2776043936563957,
          0.23681297531851184,
          0.540390995960289,
          1.6871090335390888,
          -0.12613605829513988,
          -0.5588115339425442,
          1.8051083114525888,
          -1.1726637178355273,
          0.8869084864979949,
          -0.6608453517139303,
          0.86318177144118,
          1.3220433452814955,
          -0.040310682232710525,
          -0.6822401059683589,
          1.0146630751377788,
          -0.09408866628468343,
          -0.3835960857750811,
          -0.033174674346961475,
          0.6882005981376775,
          -0.8463552045373701,
          0.3558779153321544,
          0.4162235961224696,
          1.2455350592782963,
          -0.4404736135266595,
          -0.021206617569660913,
          0.910807493204989,
          0.7261457915112387,
          -1.0852814847699983,
          -0.6116324809576813,
          0.4419712096882013,
          -0.9549757189699014,
          -1.0917298503989892,
          1.683458340637992,
          -2.34848252238384,
          -0.21404278096559237,
          1.7763779984983499,
          -0.6061798311193356,
          0.2018170117960935,
          1.1347757868560242,
          -0.036032949775629396,
          -0.34619100102470757,
          -0.288608149951723,
          0.5650826594364331,
          0.8499639803220693,
          0.9894872408033251,
          0.06569041064446172,
          0.054489734536987196,
          -1.9952387047587858,
          -2.2784797833534043,
          -0.3235225571592153,
          0.7985449754329478,
          0.5562115947213144,
          0.19932402438213523,
          -0.1403275336563558,
          0.9855129234750741,
          0.3045407336196398,
          0.53929898768602,
          -0.27575107464618664,
          -0.07407610262260471,
          0.11499769199840022,
          -0.7978934478689437,
          1.6231013726732846,
          0.11356346504298263,
          1.0257404298721093,
          0.38698431699048086,
          1.5573123378387754,
          -0.3575297031395702,
          -0.7186779504700587,
          -0.35459907027756954,
          1.0501179801717468,
          0.9723530993336464,
          -1.7859678584514145,
          -1.3568059526808665,
          1.620503617755656,
          1.0373614474576012,
          -1.6411237307693962,
          -2.052337862151146,
          1.5268582726716706,
          1.176810614698316,
          -0.511936349742928,
          1.8899167884179937
         ]
        },
        {
         "histfunc": "count",
         "histnorm": "",
         "marker": {
          "color": "rgba(55, 128, 191, 1.0)",
          "line": {
           "color": "#4D5663",
           "width": 1.3
          }
         },
         "name": "B",
         "nbinsx": 50,
         "opacity": 0.8,
         "orientation": "v",
         "type": "histogram",
         "x": [
          0.18934519564362062,
          -0.5168133289643818,
          -0.575887085195419,
          0.2654879300880599,
          -0.42270044140335306,
          0.49202396803406306,
          -0.05813887150593542,
          -1.9198333732052166,
          -1.1749861717602872,
          0.16124454493046997,
          -0.01733316004195805,
          -0.9257924593376672,
          0.09006921111651374,
          0.9734162863579563,
          -0.4518387082824791,
          -0.26153686886886934,
          0.28232403258757965,
          -1.0529426660554346,
          0.10202608047979453,
          0.23633183741611294,
          0.23498955155440895,
          0.9677590445244143,
          1.831253424242203,
          0.2415382607666498,
          -1.4230300649451495,
          2.2312182747485743,
          1.236202195805703,
          0.003390367770349785,
          -0.6237252050062434,
          -0.2342174145278324,
          -1.924925714689275,
          -0.9337128747220547,
          1.7543360784429163,
          0.7581829264781671,
          -0.08232277508753891,
          -0.45468484443795826,
          -0.19935092376725272,
          0.3432671525145582,
          -0.07884733212534094,
          0.9131918232446734,
          -0.8685402818250365,
          0.6883979203844126,
          1.0774186567698938,
          -1.2365006595554795,
          -0.604706613485279,
          0.5530504203367701,
          -1.1638121061985844,
          1.1266844459061904,
          -0.9565987159997782,
          0.46966062495493444,
          -0.15512534613084203,
          -1.201935972800709,
          1.0209556886714029,
          0.2795071484988548,
          1.4659564159180398,
          -0.4515262872130025,
          -0.4514630053316504,
          -0.0711730466463417,
          -2.1375937961790283,
          -0.7568430799085749,
          -1.051286755748964,
          0.27836127689014034,
          -0.4279875997952308,
          1.452930902585046,
          1.1703271571918823,
          -0.8463298634985316,
          0.6110841975955712,
          1.2940742777754228,
          -0.9945647867400169,
          1.5151241023797244,
          0.5075362134278456,
          -1.1735886638674613,
          1.98485816589851,
          0.7982761159418083,
          -0.07944727878078828,
          -0.7971158770598205,
          0.8537029643240611,
          -1.670795262780064,
          0.4918535139756341,
          -0.5521934592979183,
          -2.6713602633960485,
          -0.6402242514425622,
          -0.2530997756328507,
          0.13291790640185097,
          1.840027332124377,
          0.4256107998272355,
          -0.10524227119226856,
          0.7568395535199907,
          0.01227355678842452,
          -0.18777367729543826,
          0.11596626772388403,
          0.26977552573541597,
          -0.993101164784401,
          -0.05067529958534019,
          -0.5047305795737309,
          0.9070451286544564,
          0.5229498297030087,
          1.499042011679956,
          -0.9162419500042097,
          0.5257383477604088
         ]
        },
        {
         "histfunc": "count",
         "histnorm": "",
         "marker": {
          "color": "rgba(50, 171, 96, 1.0)",
          "line": {
           "color": "#4D5663",
           "width": 1.3
          }
         },
         "name": "C",
         "nbinsx": 50,
         "opacity": 0.8,
         "orientation": "v",
         "type": "histogram",
         "x": [
          -0.19805204132074813,
          0.9646667420835341,
          -0.38290571006574775,
          1.2998824481693891,
          0.6199825686029053,
          0.08892096656522798,
          0.5098550465401651,
          -0.8175291952481727,
          1.0545679319751429,
          -0.1556477627143782,
          -0.1863019976198989,
          -1.2337935362095873,
          1.045560857193049,
          0.22235565193506643,
          1.2160340742473208,
          0.9222476060634441,
          -2.1150062077557044,
          -0.7071029794118244,
          -0.5495551785557025,
          -0.693624646441118,
          0.7573958854662389,
          0.17394140635208538,
          0.15923490851638308,
          0.6044591173991921,
          0.20111232258003703,
          0.8655037106493844,
          0.9630306500178076,
          -0.09963405884054125,
          0.4222388126671568,
          0.5445417835050336,
          -1.386959953120186,
          -1.0837062233251824,
          0.16040783519433743,
          0.16319047043609794,
          1.7531305154443126,
          1.8061218262475787,
          -0.5403383234473761,
          0.8429293141000763,
          -1.6763240933556285,
          1.1545629167166047,
          -0.5536300681270807,
          -0.18367259297476848,
          -0.3400663977866649,
          1.1849804232281855,
          0.41627393795554407,
          -1.4313827588307508,
          0.20246720240624347,
          0.43721416281460995,
          -0.32579144844232655,
          -1.2131834608493348,
          -0.14687430590360748,
          0.353499906435496,
          1.628903729852802,
          0.20353596359746787,
          0.451665175048858,
          -0.39634930867957924,
          -0.9509101739093384,
          0.7191038547617834,
          0.8719578554533487,
          1.8326883546543777,
          1.2003448994521837,
          -0.030231896568255902,
          -0.1716641365372497,
          0.20431636378405235,
          -0.5598850080650927,
          -0.24031795880204332,
          0.7516002737771287,
          0.19254709258696615,
          -0.057442624087766986,
          -0.6793162222432404,
          0.4148860123267791,
          0.13762364150603934,
          1.3920049620919024,
          -0.14462229762839007,
          0.14342609156753108,
          0.6143080669181031,
          0.4474505683921285,
          -0.34739229148391937,
          1.061455226537793,
          0.24475617312531944,
          -1.2513199803763844,
          -0.6937990342235643,
          -2.3404491478112965,
          0.8320957832750987,
          0.4535701994994277,
          -0.38394936857027945,
          -0.6680721253788142,
          -0.6429137849954224,
          0.7147258770315915,
          -1.4985171428736122,
          2.0459145141636066,
          -0.467161741917224,
          0.8132661594542542,
          0.6293808269260213,
          -1.5107789396693025,
          -0.331917743684358,
          0.05867669275075526,
          0.20626723911401554,
          -0.7977795930039119,
          -0.5284544164088391
         ]
        },
        {
         "histfunc": "count",
         "histnorm": "",
         "marker": {
          "color": "rgba(128, 0, 128, 1.0)",
          "line": {
           "color": "#4D5663",
           "width": 1.3
          }
         },
         "name": "D",
         "nbinsx": 50,
         "opacity": 0.8,
         "orientation": "v",
         "type": "histogram",
         "x": [
          0.03384664178148704,
          0.5666429305505546,
          0.14885183843377175,
          0.2687473452003424,
          1.1200512766765096,
          -2.8225156356584993,
          -0.09857086367123338,
          0.6997016010550245,
          -1.3562792823740024,
          -0.41508056769541196,
          -0.44685046724214006,
          1.3317926725059546,
          -1.534398796805004,
          0.5107676096875485,
          -0.35539271221973195,
          -0.4691145512394626,
          0.46537551119090104,
          -0.28621288875761214,
          0.7206887872019336,
          0.9270397108725131,
          0.8876193880034717,
          0.3686998726486203,
          -1.2219477310842741,
          -0.3902957898404521,
          -1.1949112579311598,
          -1.0811713597675425,
          0.7916926529667945,
          0.31681376614310686,
          -0.663152266439661,
          1.1098423222784424,
          0.06581774155636329,
          0.34117151247625005,
          0.9824823102015346,
          -0.8329297644404557,
          -1.0255005113062103,
          0.38708767823694307,
          -0.2735876107312517,
          1.111757822490364,
          -0.8053566441383361,
          0.09470607282640017,
          0.47268776889119185,
          -0.5701393873577066,
          -2.1961399023737114,
          -0.2577127983341919,
          -1.2187126822403935,
          0.9816939651454246,
          0.09885494293423237,
          -0.49510179974921226,
          1.594516555206982,
          0.4108355407054973,
          0.168743533242441,
          0.7617110899069682,
          0.6445282167880872,
          0.24658352945846151,
          1.0633761369266885,
          -1.2952068758870838,
          1.2556355409200266,
          0.10525546514764797,
          1.4510068650768608,
          -0.9774440012734138,
          0.7573789005103825,
          -1.4692166603040264,
          -1.219866900508068,
          -0.03417242416064316,
          -0.8336711038622275,
          -1.289844436339557,
          -0.17837954060022773,
          0.732927473839943,
          0.08030871609250388,
          1.5402237130269205,
          -1.2010816922179652,
          1.0273283822842285,
          1.1362028082895037,
          -0.5904487631408297,
          0.767364935605862,
          1.2840530894008695,
          0.5443851698820155,
          0.12506924046431742,
          0.901584915943366,
          0.8559873278925225,
          -0.8604099889630961,
          -0.6517254944882362,
          0.7117137760304271,
          -0.9360005771624264,
          0.5851825508705968,
          -1.8351426246396962,
          -0.636312250227509,
          0.3815910085105638,
          -2.23757811597667,
          -0.3368141017962645,
          -0.005645035574050167,
          -0.16463055665192255,
          -0.1825924073902931,
          -1.0341953399573212,
          0.7064307122288477,
          -0.3307511781925198,
          -1.49616348983762,
          -0.6911493407982104,
          0.5079262001874038,
          1.8328031186789648
         ]
        }
       ],
       "layout": {
        "barmode": "overlay",
        "legend": {
         "bgcolor": "#F5F6F9",
         "font": {
          "color": "#4D5663"
         }
        },
        "paper_bgcolor": "#F5F6F9",
        "plot_bgcolor": "#F5F6F9",
        "template": {
         "data": {
          "bar": [
           {
            "error_x": {
             "color": "#2a3f5f"
            },
            "error_y": {
             "color": "#2a3f5f"
            },
            "marker": {
             "line": {
              "color": "#E5ECF6",
              "width": 0.5
             }
            },
            "type": "bar"
           }
          ],
          "barpolar": [
           {
            "marker": {
             "line": {
              "color": "#E5ECF6",
              "width": 0.5
             }
            },
            "type": "barpolar"
           }
          ],
          "carpet": [
           {
            "aaxis": {
             "endlinecolor": "#2a3f5f",
             "gridcolor": "white",
             "linecolor": "white",
             "minorgridcolor": "white",
             "startlinecolor": "#2a3f5f"
            },
            "baxis": {
             "endlinecolor": "#2a3f5f",
             "gridcolor": "white",
             "linecolor": "white",
             "minorgridcolor": "white",
             "startlinecolor": "#2a3f5f"
            },
            "type": "carpet"
           }
          ],
          "choropleth": [
           {
            "colorbar": {
             "outlinewidth": 0,
             "ticks": ""
            },
            "type": "choropleth"
           }
          ],
          "contour": [
           {
            "colorbar": {
             "outlinewidth": 0,
             "ticks": ""
            },
            "colorscale": [
             [
              0,
              "#0d0887"
             ],
             [
              0.1111111111111111,
              "#46039f"
             ],
             [
              0.2222222222222222,
              "#7201a8"
             ],
             [
              0.3333333333333333,
              "#9c179e"
             ],
             [
              0.4444444444444444,
              "#bd3786"
             ],
             [
              0.5555555555555556,
              "#d8576b"
             ],
             [
              0.6666666666666666,
              "#ed7953"
             ],
             [
              0.7777777777777778,
              "#fb9f3a"
             ],
             [
              0.8888888888888888,
              "#fdca26"
             ],
             [
              1,
              "#f0f921"
             ]
            ],
            "type": "contour"
           }
          ],
          "contourcarpet": [
           {
            "colorbar": {
             "outlinewidth": 0,
             "ticks": ""
            },
            "type": "contourcarpet"
           }
          ],
          "heatmap": [
           {
            "colorbar": {
             "outlinewidth": 0,
             "ticks": ""
            },
            "colorscale": [
             [
              0,
              "#0d0887"
             ],
             [
              0.1111111111111111,
              "#46039f"
             ],
             [
              0.2222222222222222,
              "#7201a8"
             ],
             [
              0.3333333333333333,
              "#9c179e"
             ],
             [
              0.4444444444444444,
              "#bd3786"
             ],
             [
              0.5555555555555556,
              "#d8576b"
             ],
             [
              0.6666666666666666,
              "#ed7953"
             ],
             [
              0.7777777777777778,
              "#fb9f3a"
             ],
             [
              0.8888888888888888,
              "#fdca26"
             ],
             [
              1,
              "#f0f921"
             ]
            ],
            "type": "heatmap"
           }
          ],
          "heatmapgl": [
           {
            "colorbar": {
             "outlinewidth": 0,
             "ticks": ""
            },
            "colorscale": [
             [
              0,
              "#0d0887"
             ],
             [
              0.1111111111111111,
              "#46039f"
             ],
             [
              0.2222222222222222,
              "#7201a8"
             ],
             [
              0.3333333333333333,
              "#9c179e"
             ],
             [
              0.4444444444444444,
              "#bd3786"
             ],
             [
              0.5555555555555556,
              "#d8576b"
             ],
             [
              0.6666666666666666,
              "#ed7953"
             ],
             [
              0.7777777777777778,
              "#fb9f3a"
             ],
             [
              0.8888888888888888,
              "#fdca26"
             ],
             [
              1,
              "#f0f921"
             ]
            ],
            "type": "heatmapgl"
           }
          ],
          "histogram": [
           {
            "marker": {
             "colorbar": {
              "outlinewidth": 0,
              "ticks": ""
             }
            },
            "type": "histogram"
           }
          ],
          "histogram2d": [
           {
            "colorbar": {
             "outlinewidth": 0,
             "ticks": ""
            },
            "colorscale": [
             [
              0,
              "#0d0887"
             ],
             [
              0.1111111111111111,
              "#46039f"
             ],
             [
              0.2222222222222222,
              "#7201a8"
             ],
             [
              0.3333333333333333,
              "#9c179e"
             ],
             [
              0.4444444444444444,
              "#bd3786"
             ],
             [
              0.5555555555555556,
              "#d8576b"
             ],
             [
              0.6666666666666666,
              "#ed7953"
             ],
             [
              0.7777777777777778,
              "#fb9f3a"
             ],
             [
              0.8888888888888888,
              "#fdca26"
             ],
             [
              1,
              "#f0f921"
             ]
            ],
            "type": "histogram2d"
           }
          ],
          "histogram2dcontour": [
           {
            "colorbar": {
             "outlinewidth": 0,
             "ticks": ""
            },
            "colorscale": [
             [
              0,
              "#0d0887"
             ],
             [
              0.1111111111111111,
              "#46039f"
             ],
             [
              0.2222222222222222,
              "#7201a8"
             ],
             [
              0.3333333333333333,
              "#9c179e"
             ],
             [
              0.4444444444444444,
              "#bd3786"
             ],
             [
              0.5555555555555556,
              "#d8576b"
             ],
             [
              0.6666666666666666,
              "#ed7953"
             ],
             [
              0.7777777777777778,
              "#fb9f3a"
             ],
             [
              0.8888888888888888,
              "#fdca26"
             ],
             [
              1,
              "#f0f921"
             ]
            ],
            "type": "histogram2dcontour"
           }
          ],
          "mesh3d": [
           {
            "colorbar": {
             "outlinewidth": 0,
             "ticks": ""
            },
            "type": "mesh3d"
           }
          ],
          "parcoords": [
           {
            "line": {
             "colorbar": {
              "outlinewidth": 0,
              "ticks": ""
             }
            },
            "type": "parcoords"
           }
          ],
          "pie": [
           {
            "automargin": true,
            "type": "pie"
           }
          ],
          "scatter": [
           {
            "marker": {
             "colorbar": {
              "outlinewidth": 0,
              "ticks": ""
             }
            },
            "type": "scatter"
           }
          ],
          "scatter3d": [
           {
            "line": {
             "colorbar": {
              "outlinewidth": 0,
              "ticks": ""
             }
            },
            "marker": {
             "colorbar": {
              "outlinewidth": 0,
              "ticks": ""
             }
            },
            "type": "scatter3d"
           }
          ],
          "scattercarpet": [
           {
            "marker": {
             "colorbar": {
              "outlinewidth": 0,
              "ticks": ""
             }
            },
            "type": "scattercarpet"
           }
          ],
          "scattergeo": [
           {
            "marker": {
             "colorbar": {
              "outlinewidth": 0,
              "ticks": ""
             }
            },
            "type": "scattergeo"
           }
          ],
          "scattergl": [
           {
            "marker": {
             "colorbar": {
              "outlinewidth": 0,
              "ticks": ""
             }
            },
            "type": "scattergl"
           }
          ],
          "scattermapbox": [
           {
            "marker": {
             "colorbar": {
              "outlinewidth": 0,
              "ticks": ""
             }
            },
            "type": "scattermapbox"
           }
          ],
          "scatterpolar": [
           {
            "marker": {
             "colorbar": {
              "outlinewidth": 0,
              "ticks": ""
             }
            },
            "type": "scatterpolar"
           }
          ],
          "scatterpolargl": [
           {
            "marker": {
             "colorbar": {
              "outlinewidth": 0,
              "ticks": ""
             }
            },
            "type": "scatterpolargl"
           }
          ],
          "scatterternary": [
           {
            "marker": {
             "colorbar": {
              "outlinewidth": 0,
              "ticks": ""
             }
            },
            "type": "scatterternary"
           }
          ],
          "surface": [
           {
            "colorbar": {
             "outlinewidth": 0,
             "ticks": ""
            },
            "colorscale": [
             [
              0,
              "#0d0887"
             ],
             [
              0.1111111111111111,
              "#46039f"
             ],
             [
              0.2222222222222222,
              "#7201a8"
             ],
             [
              0.3333333333333333,
              "#9c179e"
             ],
             [
              0.4444444444444444,
              "#bd3786"
             ],
             [
              0.5555555555555556,
              "#d8576b"
             ],
             [
              0.6666666666666666,
              "#ed7953"
             ],
             [
              0.7777777777777778,
              "#fb9f3a"
             ],
             [
              0.8888888888888888,
              "#fdca26"
             ],
             [
              1,
              "#f0f921"
             ]
            ],
            "type": "surface"
           }
          ],
          "table": [
           {
            "cells": {
             "fill": {
              "color": "#EBF0F8"
             },
             "line": {
              "color": "white"
             }
            },
            "header": {
             "fill": {
              "color": "#C8D4E3"
             },
             "line": {
              "color": "white"
             }
            },
            "type": "table"
           }
          ]
         },
         "layout": {
          "annotationdefaults": {
           "arrowcolor": "#2a3f5f",
           "arrowhead": 0,
           "arrowwidth": 1
          },
          "coloraxis": {
           "colorbar": {
            "outlinewidth": 0,
            "ticks": ""
           }
          },
          "colorscale": {
           "diverging": [
            [
             0,
             "#8e0152"
            ],
            [
             0.1,
             "#c51b7d"
            ],
            [
             0.2,
             "#de77ae"
            ],
            [
             0.3,
             "#f1b6da"
            ],
            [
             0.4,
             "#fde0ef"
            ],
            [
             0.5,
             "#f7f7f7"
            ],
            [
             0.6,
             "#e6f5d0"
            ],
            [
             0.7,
             "#b8e186"
            ],
            [
             0.8,
             "#7fbc41"
            ],
            [
             0.9,
             "#4d9221"
            ],
            [
             1,
             "#276419"
            ]
           ],
           "sequential": [
            [
             0,
             "#0d0887"
            ],
            [
             0.1111111111111111,
             "#46039f"
            ],
            [
             0.2222222222222222,
             "#7201a8"
            ],
            [
             0.3333333333333333,
             "#9c179e"
            ],
            [
             0.4444444444444444,
             "#bd3786"
            ],
            [
             0.5555555555555556,
             "#d8576b"
            ],
            [
             0.6666666666666666,
             "#ed7953"
            ],
            [
             0.7777777777777778,
             "#fb9f3a"
            ],
            [
             0.8888888888888888,
             "#fdca26"
            ],
            [
             1,
             "#f0f921"
            ]
           ],
           "sequentialminus": [
            [
             0,
             "#0d0887"
            ],
            [
             0.1111111111111111,
             "#46039f"
            ],
            [
             0.2222222222222222,
             "#7201a8"
            ],
            [
             0.3333333333333333,
             "#9c179e"
            ],
            [
             0.4444444444444444,
             "#bd3786"
            ],
            [
             0.5555555555555556,
             "#d8576b"
            ],
            [
             0.6666666666666666,
             "#ed7953"
            ],
            [
             0.7777777777777778,
             "#fb9f3a"
            ],
            [
             0.8888888888888888,
             "#fdca26"
            ],
            [
             1,
             "#f0f921"
            ]
           ]
          },
          "colorway": [
           "#636efa",
           "#EF553B",
           "#00cc96",
           "#ab63fa",
           "#FFA15A",
           "#19d3f3",
           "#FF6692",
           "#B6E880",
           "#FF97FF",
           "#FECB52"
          ],
          "font": {
           "color": "#2a3f5f"
          },
          "geo": {
           "bgcolor": "white",
           "lakecolor": "white",
           "landcolor": "#E5ECF6",
           "showlakes": true,
           "showland": true,
           "subunitcolor": "white"
          },
          "hoverlabel": {
           "align": "left"
          },
          "hovermode": "closest",
          "mapbox": {
           "style": "light"
          },
          "paper_bgcolor": "white",
          "plot_bgcolor": "#E5ECF6",
          "polar": {
           "angularaxis": {
            "gridcolor": "white",
            "linecolor": "white",
            "ticks": ""
           },
           "bgcolor": "#E5ECF6",
           "radialaxis": {
            "gridcolor": "white",
            "linecolor": "white",
            "ticks": ""
           }
          },
          "scene": {
           "xaxis": {
            "backgroundcolor": "#E5ECF6",
            "gridcolor": "white",
            "gridwidth": 2,
            "linecolor": "white",
            "showbackground": true,
            "ticks": "",
            "zerolinecolor": "white"
           },
           "yaxis": {
            "backgroundcolor": "#E5ECF6",
            "gridcolor": "white",
            "gridwidth": 2,
            "linecolor": "white",
            "showbackground": true,
            "ticks": "",
            "zerolinecolor": "white"
           },
           "zaxis": {
            "backgroundcolor": "#E5ECF6",
            "gridcolor": "white",
            "gridwidth": 2,
            "linecolor": "white",
            "showbackground": true,
            "ticks": "",
            "zerolinecolor": "white"
           }
          },
          "shapedefaults": {
           "line": {
            "color": "#2a3f5f"
           }
          },
          "ternary": {
           "aaxis": {
            "gridcolor": "white",
            "linecolor": "white",
            "ticks": ""
           },
           "baxis": {
            "gridcolor": "white",
            "linecolor": "white",
            "ticks": ""
           },
           "bgcolor": "#E5ECF6",
           "caxis": {
            "gridcolor": "white",
            "linecolor": "white",
            "ticks": ""
           }
          },
          "title": {
           "x": 0.05
          },
          "xaxis": {
           "automargin": true,
           "gridcolor": "white",
           "linecolor": "white",
           "ticks": "",
           "title": {
            "standoff": 15
           },
           "zerolinecolor": "white",
           "zerolinewidth": 2
          },
          "yaxis": {
           "automargin": true,
           "gridcolor": "white",
           "linecolor": "white",
           "ticks": "",
           "title": {
            "standoff": 15
           },
           "zerolinecolor": "white",
           "zerolinewidth": 2
          }
         }
        },
        "title": {
         "font": {
          "color": "#4D5663"
         }
        },
        "xaxis": {
         "gridcolor": "#E1E5ED",
         "showgrid": true,
         "tickfont": {
          "color": "#4D5663"
         },
         "title": {
          "font": {
           "color": "#4D5663"
          },
          "text": ""
         },
         "zerolinecolor": "#E1E5ED"
        },
        "yaxis": {
         "gridcolor": "#E1E5ED",
         "showgrid": true,
         "tickfont": {
          "color": "#4D5663"
         },
         "title": {
          "font": {
           "color": "#4D5663"
          },
          "text": ""
         },
         "zerolinecolor": "#E1E5ED"
        }
       }
      },
      "text/html": [
       "<div>                            <div id=\"245d4ec1-3095-4029-ae2c-96f3174e6deb\" class=\"plotly-graph-div\" style=\"height:525px; width:100%;\"></div>            <script type=\"text/javascript\">                require([\"plotly\"], function(Plotly) {                    window.PLOTLYENV=window.PLOTLYENV || {};\n",
       "                    window.PLOTLYENV.BASE_URL='https://plot.ly';                                    if (document.getElementById(\"245d4ec1-3095-4029-ae2c-96f3174e6deb\")) {                    Plotly.newPlot(                        \"245d4ec1-3095-4029-ae2c-96f3174e6deb\",                        [{\"histfunc\": \"count\", \"histnorm\": \"\", \"marker\": {\"color\": \"rgba(255, 153, 51, 1.0)\", \"line\": {\"color\": \"#4D5663\", \"width\": 1.3}}, \"name\": \"A\", \"nbinsx\": 50, \"opacity\": 0.8, \"orientation\": \"v\", \"type\": \"histogram\", \"x\": [-1.3345721423538044, 1.152744983274052, -0.4144432895718666, 1.4302774060136265, 1.1032714804754071, 0.3191628341280002, 0.29167766457536576, -0.2948260219573132, -0.7898916249391608, 0.7579798280599954, 0.7023990585262951, 0.3617203499296237, 1.3840609450336574, 2.1234137119547905, 0.2810105000977317, 1.3417915860610645, -0.2412397886071698, -1.4800784340458517, -0.43730607784210224, 1.2776043936563957, 0.23681297531851184, 0.540390995960289, 1.6871090335390888, -0.12613605829513988, -0.5588115339425442, 1.8051083114525888, -1.1726637178355273, 0.8869084864979949, -0.6608453517139303, 0.86318177144118, 1.3220433452814955, -0.040310682232710525, -0.6822401059683589, 1.0146630751377788, -0.09408866628468343, -0.3835960857750811, -0.033174674346961475, 0.6882005981376775, -0.8463552045373701, 0.3558779153321544, 0.4162235961224696, 1.2455350592782963, -0.4404736135266595, -0.021206617569660913, 0.910807493204989, 0.7261457915112387, -1.0852814847699983, -0.6116324809576813, 0.4419712096882013, -0.9549757189699014, -1.0917298503989892, 1.683458340637992, -2.34848252238384, -0.21404278096559237, 1.7763779984983499, -0.6061798311193356, 0.2018170117960935, 1.1347757868560242, -0.036032949775629396, -0.34619100102470757, -0.288608149951723, 0.5650826594364331, 0.8499639803220693, 0.9894872408033251, 0.06569041064446172, 0.054489734536987196, -1.9952387047587858, -2.2784797833534043, -0.3235225571592153, 0.7985449754329478, 0.5562115947213144, 0.19932402438213523, -0.1403275336563558, 0.9855129234750741, 0.3045407336196398, 0.53929898768602, -0.27575107464618664, -0.07407610262260471, 0.11499769199840022, -0.7978934478689437, 1.6231013726732846, 0.11356346504298263, 1.0257404298721093, 0.38698431699048086, 1.5573123378387754, -0.3575297031395702, -0.7186779504700587, -0.35459907027756954, 1.0501179801717468, 0.9723530993336464, -1.7859678584514145, -1.3568059526808665, 1.620503617755656, 1.0373614474576012, -1.6411237307693962, -2.052337862151146, 1.5268582726716706, 1.176810614698316, -0.511936349742928, 1.8899167884179937]}, {\"histfunc\": \"count\", \"histnorm\": \"\", \"marker\": {\"color\": \"rgba(55, 128, 191, 1.0)\", \"line\": {\"color\": \"#4D5663\", \"width\": 1.3}}, \"name\": \"B\", \"nbinsx\": 50, \"opacity\": 0.8, \"orientation\": \"v\", \"type\": \"histogram\", \"x\": [0.18934519564362062, -0.5168133289643818, -0.575887085195419, 0.2654879300880599, -0.42270044140335306, 0.49202396803406306, -0.05813887150593542, -1.9198333732052166, -1.1749861717602872, 0.16124454493046997, -0.01733316004195805, -0.9257924593376672, 0.09006921111651374, 0.9734162863579563, -0.4518387082824791, -0.26153686886886934, 0.28232403258757965, -1.0529426660554346, 0.10202608047979453, 0.23633183741611294, 0.23498955155440895, 0.9677590445244143, 1.831253424242203, 0.2415382607666498, -1.4230300649451495, 2.2312182747485743, 1.236202195805703, 0.003390367770349785, -0.6237252050062434, -0.2342174145278324, -1.924925714689275, -0.9337128747220547, 1.7543360784429163, 0.7581829264781671, -0.08232277508753891, -0.45468484443795826, -0.19935092376725272, 0.3432671525145582, -0.07884733212534094, 0.9131918232446734, -0.8685402818250365, 0.6883979203844126, 1.0774186567698938, -1.2365006595554795, -0.604706613485279, 0.5530504203367701, -1.1638121061985844, 1.1266844459061904, -0.9565987159997782, 0.46966062495493444, -0.15512534613084203, -1.201935972800709, 1.0209556886714029, 0.2795071484988548, 1.4659564159180398, -0.4515262872130025, -0.4514630053316504, -0.0711730466463417, -2.1375937961790283, -0.7568430799085749, -1.051286755748964, 0.27836127689014034, -0.4279875997952308, 1.452930902585046, 1.1703271571918823, -0.8463298634985316, 0.6110841975955712, 1.2940742777754228, -0.9945647867400169, 1.5151241023797244, 0.5075362134278456, -1.1735886638674613, 1.98485816589851, 0.7982761159418083, -0.07944727878078828, -0.7971158770598205, 0.8537029643240611, -1.670795262780064, 0.4918535139756341, -0.5521934592979183, -2.6713602633960485, -0.6402242514425622, -0.2530997756328507, 0.13291790640185097, 1.840027332124377, 0.4256107998272355, -0.10524227119226856, 0.7568395535199907, 0.01227355678842452, -0.18777367729543826, 0.11596626772388403, 0.26977552573541597, -0.993101164784401, -0.05067529958534019, -0.5047305795737309, 0.9070451286544564, 0.5229498297030087, 1.499042011679956, -0.9162419500042097, 0.5257383477604088]}, {\"histfunc\": \"count\", \"histnorm\": \"\", \"marker\": {\"color\": \"rgba(50, 171, 96, 1.0)\", \"line\": {\"color\": \"#4D5663\", \"width\": 1.3}}, \"name\": \"C\", \"nbinsx\": 50, \"opacity\": 0.8, \"orientation\": \"v\", \"type\": \"histogram\", \"x\": [-0.19805204132074813, 0.9646667420835341, -0.38290571006574775, 1.2998824481693891, 0.6199825686029053, 0.08892096656522798, 0.5098550465401651, -0.8175291952481727, 1.0545679319751429, -0.1556477627143782, -0.1863019976198989, -1.2337935362095873, 1.045560857193049, 0.22235565193506643, 1.2160340742473208, 0.9222476060634441, -2.1150062077557044, -0.7071029794118244, -0.5495551785557025, -0.693624646441118, 0.7573958854662389, 0.17394140635208538, 0.15923490851638308, 0.6044591173991921, 0.20111232258003703, 0.8655037106493844, 0.9630306500178076, -0.09963405884054125, 0.4222388126671568, 0.5445417835050336, -1.386959953120186, -1.0837062233251824, 0.16040783519433743, 0.16319047043609794, 1.7531305154443126, 1.8061218262475787, -0.5403383234473761, 0.8429293141000763, -1.6763240933556285, 1.1545629167166047, -0.5536300681270807, -0.18367259297476848, -0.3400663977866649, 1.1849804232281855, 0.41627393795554407, -1.4313827588307508, 0.20246720240624347, 0.43721416281460995, -0.32579144844232655, -1.2131834608493348, -0.14687430590360748, 0.353499906435496, 1.628903729852802, 0.20353596359746787, 0.451665175048858, -0.39634930867957924, -0.9509101739093384, 0.7191038547617834, 0.8719578554533487, 1.8326883546543777, 1.2003448994521837, -0.030231896568255902, -0.1716641365372497, 0.20431636378405235, -0.5598850080650927, -0.24031795880204332, 0.7516002737771287, 0.19254709258696615, -0.057442624087766986, -0.6793162222432404, 0.4148860123267791, 0.13762364150603934, 1.3920049620919024, -0.14462229762839007, 0.14342609156753108, 0.6143080669181031, 0.4474505683921285, -0.34739229148391937, 1.061455226537793, 0.24475617312531944, -1.2513199803763844, -0.6937990342235643, -2.3404491478112965, 0.8320957832750987, 0.4535701994994277, -0.38394936857027945, -0.6680721253788142, -0.6429137849954224, 0.7147258770315915, -1.4985171428736122, 2.0459145141636066, -0.467161741917224, 0.8132661594542542, 0.6293808269260213, -1.5107789396693025, -0.331917743684358, 0.05867669275075526, 0.20626723911401554, -0.7977795930039119, -0.5284544164088391]}, {\"histfunc\": \"count\", \"histnorm\": \"\", \"marker\": {\"color\": \"rgba(128, 0, 128, 1.0)\", \"line\": {\"color\": \"#4D5663\", \"width\": 1.3}}, \"name\": \"D\", \"nbinsx\": 50, \"opacity\": 0.8, \"orientation\": \"v\", \"type\": \"histogram\", \"x\": [0.03384664178148704, 0.5666429305505546, 0.14885183843377175, 0.2687473452003424, 1.1200512766765096, -2.8225156356584993, -0.09857086367123338, 0.6997016010550245, -1.3562792823740024, -0.41508056769541196, -0.44685046724214006, 1.3317926725059546, -1.534398796805004, 0.5107676096875485, -0.35539271221973195, -0.4691145512394626, 0.46537551119090104, -0.28621288875761214, 0.7206887872019336, 0.9270397108725131, 0.8876193880034717, 0.3686998726486203, -1.2219477310842741, -0.3902957898404521, -1.1949112579311598, -1.0811713597675425, 0.7916926529667945, 0.31681376614310686, -0.663152266439661, 1.1098423222784424, 0.06581774155636329, 0.34117151247625005, 0.9824823102015346, -0.8329297644404557, -1.0255005113062103, 0.38708767823694307, -0.2735876107312517, 1.111757822490364, -0.8053566441383361, 0.09470607282640017, 0.47268776889119185, -0.5701393873577066, -2.1961399023737114, -0.2577127983341919, -1.2187126822403935, 0.9816939651454246, 0.09885494293423237, -0.49510179974921226, 1.594516555206982, 0.4108355407054973, 0.168743533242441, 0.7617110899069682, 0.6445282167880872, 0.24658352945846151, 1.0633761369266885, -1.2952068758870838, 1.2556355409200266, 0.10525546514764797, 1.4510068650768608, -0.9774440012734138, 0.7573789005103825, -1.4692166603040264, -1.219866900508068, -0.03417242416064316, -0.8336711038622275, -1.289844436339557, -0.17837954060022773, 0.732927473839943, 0.08030871609250388, 1.5402237130269205, -1.2010816922179652, 1.0273283822842285, 1.1362028082895037, -0.5904487631408297, 0.767364935605862, 1.2840530894008695, 0.5443851698820155, 0.12506924046431742, 0.901584915943366, 0.8559873278925225, -0.8604099889630961, -0.6517254944882362, 0.7117137760304271, -0.9360005771624264, 0.5851825508705968, -1.8351426246396962, -0.636312250227509, 0.3815910085105638, -2.23757811597667, -0.3368141017962645, -0.005645035574050167, -0.16463055665192255, -0.1825924073902931, -1.0341953399573212, 0.7064307122288477, -0.3307511781925198, -1.49616348983762, -0.6911493407982104, 0.5079262001874038, 1.8328031186789648]}],                        {\"barmode\": \"overlay\", \"legend\": {\"bgcolor\": \"#F5F6F9\", \"font\": {\"color\": \"#4D5663\"}}, \"paper_bgcolor\": \"#F5F6F9\", \"plot_bgcolor\": \"#F5F6F9\", \"template\": {\"data\": {\"bar\": [{\"error_x\": {\"color\": \"#2a3f5f\"}, \"error_y\": {\"color\": \"#2a3f5f\"}, \"marker\": {\"line\": {\"color\": \"#E5ECF6\", \"width\": 0.5}}, \"type\": \"bar\"}], \"barpolar\": [{\"marker\": {\"line\": {\"color\": \"#E5ECF6\", \"width\": 0.5}}, \"type\": \"barpolar\"}], \"carpet\": [{\"aaxis\": {\"endlinecolor\": \"#2a3f5f\", \"gridcolor\": \"white\", \"linecolor\": \"white\", \"minorgridcolor\": \"white\", \"startlinecolor\": \"#2a3f5f\"}, \"baxis\": {\"endlinecolor\": \"#2a3f5f\", \"gridcolor\": \"white\", \"linecolor\": \"white\", \"minorgridcolor\": \"white\", \"startlinecolor\": \"#2a3f5f\"}, \"type\": \"carpet\"}], \"choropleth\": [{\"colorbar\": {\"outlinewidth\": 0, \"ticks\": \"\"}, \"type\": \"choropleth\"}], \"contour\": [{\"colorbar\": {\"outlinewidth\": 0, \"ticks\": \"\"}, \"colorscale\": [[0.0, \"#0d0887\"], [0.1111111111111111, \"#46039f\"], [0.2222222222222222, \"#7201a8\"], [0.3333333333333333, \"#9c179e\"], [0.4444444444444444, \"#bd3786\"], [0.5555555555555556, \"#d8576b\"], [0.6666666666666666, \"#ed7953\"], [0.7777777777777778, \"#fb9f3a\"], [0.8888888888888888, \"#fdca26\"], [1.0, \"#f0f921\"]], \"type\": \"contour\"}], \"contourcarpet\": [{\"colorbar\": {\"outlinewidth\": 0, \"ticks\": \"\"}, \"type\": \"contourcarpet\"}], \"heatmap\": [{\"colorbar\": {\"outlinewidth\": 0, \"ticks\": \"\"}, \"colorscale\": [[0.0, \"#0d0887\"], [0.1111111111111111, \"#46039f\"], [0.2222222222222222, \"#7201a8\"], [0.3333333333333333, \"#9c179e\"], [0.4444444444444444, \"#bd3786\"], [0.5555555555555556, \"#d8576b\"], [0.6666666666666666, \"#ed7953\"], [0.7777777777777778, \"#fb9f3a\"], [0.8888888888888888, \"#fdca26\"], [1.0, \"#f0f921\"]], \"type\": \"heatmap\"}], \"heatmapgl\": [{\"colorbar\": {\"outlinewidth\": 0, \"ticks\": \"\"}, \"colorscale\": [[0.0, \"#0d0887\"], [0.1111111111111111, \"#46039f\"], [0.2222222222222222, \"#7201a8\"], [0.3333333333333333, \"#9c179e\"], [0.4444444444444444, \"#bd3786\"], [0.5555555555555556, \"#d8576b\"], [0.6666666666666666, \"#ed7953\"], [0.7777777777777778, \"#fb9f3a\"], [0.8888888888888888, \"#fdca26\"], [1.0, \"#f0f921\"]], \"type\": \"heatmapgl\"}], \"histogram\": [{\"marker\": {\"colorbar\": {\"outlinewidth\": 0, \"ticks\": \"\"}}, \"type\": \"histogram\"}], \"histogram2d\": [{\"colorbar\": {\"outlinewidth\": 0, \"ticks\": \"\"}, \"colorscale\": [[0.0, \"#0d0887\"], [0.1111111111111111, \"#46039f\"], [0.2222222222222222, \"#7201a8\"], [0.3333333333333333, \"#9c179e\"], [0.4444444444444444, \"#bd3786\"], [0.5555555555555556, \"#d8576b\"], [0.6666666666666666, \"#ed7953\"], [0.7777777777777778, \"#fb9f3a\"], [0.8888888888888888, \"#fdca26\"], [1.0, \"#f0f921\"]], \"type\": \"histogram2d\"}], \"histogram2dcontour\": [{\"colorbar\": {\"outlinewidth\": 0, \"ticks\": \"\"}, \"colorscale\": [[0.0, \"#0d0887\"], [0.1111111111111111, \"#46039f\"], [0.2222222222222222, \"#7201a8\"], [0.3333333333333333, \"#9c179e\"], [0.4444444444444444, \"#bd3786\"], [0.5555555555555556, \"#d8576b\"], [0.6666666666666666, \"#ed7953\"], [0.7777777777777778, \"#fb9f3a\"], [0.8888888888888888, \"#fdca26\"], [1.0, \"#f0f921\"]], \"type\": \"histogram2dcontour\"}], \"mesh3d\": [{\"colorbar\": {\"outlinewidth\": 0, \"ticks\": \"\"}, \"type\": \"mesh3d\"}], \"parcoords\": [{\"line\": {\"colorbar\": {\"outlinewidth\": 0, \"ticks\": \"\"}}, \"type\": \"parcoords\"}], \"pie\": [{\"automargin\": true, \"type\": \"pie\"}], \"scatter\": [{\"marker\": {\"colorbar\": {\"outlinewidth\": 0, \"ticks\": \"\"}}, \"type\": \"scatter\"}], \"scatter3d\": [{\"line\": {\"colorbar\": {\"outlinewidth\": 0, \"ticks\": \"\"}}, \"marker\": {\"colorbar\": {\"outlinewidth\": 0, \"ticks\": \"\"}}, \"type\": \"scatter3d\"}], \"scattercarpet\": [{\"marker\": {\"colorbar\": {\"outlinewidth\": 0, \"ticks\": \"\"}}, \"type\": \"scattercarpet\"}], \"scattergeo\": [{\"marker\": {\"colorbar\": {\"outlinewidth\": 0, \"ticks\": \"\"}}, \"type\": \"scattergeo\"}], \"scattergl\": [{\"marker\": {\"colorbar\": {\"outlinewidth\": 0, \"ticks\": \"\"}}, \"type\": \"scattergl\"}], \"scattermapbox\": [{\"marker\": {\"colorbar\": {\"outlinewidth\": 0, \"ticks\": \"\"}}, \"type\": \"scattermapbox\"}], \"scatterpolar\": [{\"marker\": {\"colorbar\": {\"outlinewidth\": 0, \"ticks\": \"\"}}, \"type\": \"scatterpolar\"}], \"scatterpolargl\": [{\"marker\": {\"colorbar\": {\"outlinewidth\": 0, \"ticks\": \"\"}}, \"type\": \"scatterpolargl\"}], \"scatterternary\": [{\"marker\": {\"colorbar\": {\"outlinewidth\": 0, \"ticks\": \"\"}}, \"type\": \"scatterternary\"}], \"surface\": [{\"colorbar\": {\"outlinewidth\": 0, \"ticks\": \"\"}, \"colorscale\": [[0.0, \"#0d0887\"], [0.1111111111111111, \"#46039f\"], [0.2222222222222222, \"#7201a8\"], [0.3333333333333333, \"#9c179e\"], [0.4444444444444444, \"#bd3786\"], [0.5555555555555556, \"#d8576b\"], [0.6666666666666666, \"#ed7953\"], [0.7777777777777778, \"#fb9f3a\"], [0.8888888888888888, \"#fdca26\"], [1.0, \"#f0f921\"]], \"type\": \"surface\"}], \"table\": [{\"cells\": {\"fill\": {\"color\": \"#EBF0F8\"}, \"line\": {\"color\": \"white\"}}, \"header\": {\"fill\": {\"color\": \"#C8D4E3\"}, \"line\": {\"color\": \"white\"}}, \"type\": \"table\"}]}, \"layout\": {\"annotationdefaults\": {\"arrowcolor\": \"#2a3f5f\", \"arrowhead\": 0, \"arrowwidth\": 1}, \"coloraxis\": {\"colorbar\": {\"outlinewidth\": 0, \"ticks\": \"\"}}, \"colorscale\": {\"diverging\": [[0, \"#8e0152\"], [0.1, \"#c51b7d\"], [0.2, \"#de77ae\"], [0.3, \"#f1b6da\"], [0.4, \"#fde0ef\"], [0.5, \"#f7f7f7\"], [0.6, \"#e6f5d0\"], [0.7, \"#b8e186\"], [0.8, \"#7fbc41\"], [0.9, \"#4d9221\"], [1, \"#276419\"]], \"sequential\": [[0.0, \"#0d0887\"], [0.1111111111111111, \"#46039f\"], [0.2222222222222222, \"#7201a8\"], [0.3333333333333333, \"#9c179e\"], [0.4444444444444444, \"#bd3786\"], [0.5555555555555556, \"#d8576b\"], [0.6666666666666666, \"#ed7953\"], [0.7777777777777778, \"#fb9f3a\"], [0.8888888888888888, \"#fdca26\"], [1.0, \"#f0f921\"]], \"sequentialminus\": [[0.0, \"#0d0887\"], [0.1111111111111111, \"#46039f\"], [0.2222222222222222, \"#7201a8\"], [0.3333333333333333, \"#9c179e\"], [0.4444444444444444, \"#bd3786\"], [0.5555555555555556, \"#d8576b\"], [0.6666666666666666, \"#ed7953\"], [0.7777777777777778, \"#fb9f3a\"], [0.8888888888888888, \"#fdca26\"], [1.0, \"#f0f921\"]]}, \"colorway\": [\"#636efa\", \"#EF553B\", \"#00cc96\", \"#ab63fa\", \"#FFA15A\", \"#19d3f3\", \"#FF6692\", \"#B6E880\", \"#FF97FF\", \"#FECB52\"], \"font\": {\"color\": \"#2a3f5f\"}, \"geo\": {\"bgcolor\": \"white\", \"lakecolor\": \"white\", \"landcolor\": \"#E5ECF6\", \"showlakes\": true, \"showland\": true, \"subunitcolor\": \"white\"}, \"hoverlabel\": {\"align\": \"left\"}, \"hovermode\": \"closest\", \"mapbox\": {\"style\": \"light\"}, \"paper_bgcolor\": \"white\", \"plot_bgcolor\": \"#E5ECF6\", \"polar\": {\"angularaxis\": {\"gridcolor\": \"white\", \"linecolor\": \"white\", \"ticks\": \"\"}, \"bgcolor\": \"#E5ECF6\", \"radialaxis\": {\"gridcolor\": \"white\", \"linecolor\": \"white\", \"ticks\": \"\"}}, \"scene\": {\"xaxis\": {\"backgroundcolor\": \"#E5ECF6\", \"gridcolor\": \"white\", \"gridwidth\": 2, \"linecolor\": \"white\", \"showbackground\": true, \"ticks\": \"\", \"zerolinecolor\": \"white\"}, \"yaxis\": {\"backgroundcolor\": \"#E5ECF6\", \"gridcolor\": \"white\", \"gridwidth\": 2, \"linecolor\": \"white\", \"showbackground\": true, \"ticks\": \"\", \"zerolinecolor\": \"white\"}, \"zaxis\": {\"backgroundcolor\": \"#E5ECF6\", \"gridcolor\": \"white\", \"gridwidth\": 2, \"linecolor\": \"white\", \"showbackground\": true, \"ticks\": \"\", \"zerolinecolor\": \"white\"}}, \"shapedefaults\": {\"line\": {\"color\": \"#2a3f5f\"}}, \"ternary\": {\"aaxis\": {\"gridcolor\": \"white\", \"linecolor\": \"white\", \"ticks\": \"\"}, \"baxis\": {\"gridcolor\": \"white\", \"linecolor\": \"white\", \"ticks\": \"\"}, \"bgcolor\": \"#E5ECF6\", \"caxis\": {\"gridcolor\": \"white\", \"linecolor\": \"white\", \"ticks\": \"\"}}, \"title\": {\"x\": 0.05}, \"xaxis\": {\"automargin\": true, \"gridcolor\": \"white\", \"linecolor\": \"white\", \"ticks\": \"\", \"title\": {\"standoff\": 15}, \"zerolinecolor\": \"white\", \"zerolinewidth\": 2}, \"yaxis\": {\"automargin\": true, \"gridcolor\": \"white\", \"linecolor\": \"white\", \"ticks\": \"\", \"title\": {\"standoff\": 15}, \"zerolinecolor\": \"white\", \"zerolinewidth\": 2}}}, \"title\": {\"font\": {\"color\": \"#4D5663\"}}, \"xaxis\": {\"gridcolor\": \"#E1E5ED\", \"showgrid\": true, \"tickfont\": {\"color\": \"#4D5663\"}, \"title\": {\"font\": {\"color\": \"#4D5663\"}, \"text\": \"\"}, \"zerolinecolor\": \"#E1E5ED\"}, \"yaxis\": {\"gridcolor\": \"#E1E5ED\", \"showgrid\": true, \"tickfont\": {\"color\": \"#4D5663\"}, \"title\": {\"font\": {\"color\": \"#4D5663\"}, \"text\": \"\"}, \"zerolinecolor\": \"#E1E5ED\"}},                        {\"showLink\": true, \"linkText\": \"Export to plot.ly\", \"plotlyServerURL\": \"https://plot.ly\", \"responsive\": true}                    ).then(function(){\n",
       "                            \n",
       "var gd = document.getElementById('245d4ec1-3095-4029-ae2c-96f3174e6deb');\n",
       "var x = new MutationObserver(function (mutations, observer) {{\n",
       "        var display = window.getComputedStyle(gd).display;\n",
       "        if (!display || display === 'none') {{\n",
       "            console.log([gd, 'removed!']);\n",
       "            Plotly.purge(gd);\n",
       "            observer.disconnect();\n",
       "        }}\n",
       "}});\n",
       "\n",
       "// Listen for the removal of the full notebook cells\n",
       "var notebookContainer = gd.closest('#notebook-container');\n",
       "if (notebookContainer) {{\n",
       "    x.observe(notebookContainer, {childList: true});\n",
       "}}\n",
       "\n",
       "// Listen for the clearing of the current output cell\n",
       "var outputEl = gd.closest('.output');\n",
       "if (outputEl) {{\n",
       "    x.observe(outputEl, {childList: true});\n",
       "}}\n",
       "\n",
       "                        })                };                });            </script>        </div>"
      ]
     },
     "metadata": {},
     "output_type": "display_data"
    }
   ],
   "source": [
    "df.iplot(kind='hist',bins=50)"
   ]
  },
  {
   "cell_type": "code",
   "execution_count": 15,
   "metadata": {},
   "outputs": [
    {
     "name": "stderr",
     "output_type": "stream",
     "text": [
      "/home/kdeluna/miniconda3/envs/py36/lib/python3.6/site-packages/cufflinks/plotlytools.py:849: FutureWarning:\n",
      "\n",
      "The pandas.np module is deprecated and will be removed from pandas in a future version. Import numpy directly instead\n",
      "\n",
      "/home/kdeluna/miniconda3/envs/py36/lib/python3.6/site-packages/cufflinks/plotlytools.py:850: FutureWarning:\n",
      "\n",
      "The pandas.np module is deprecated and will be removed from pandas in a future version. Import numpy directly instead\n",
      "\n"
     ]
    },
    {
     "data": {
      "application/vnd.plotly.v1+json": {
       "config": {
        "linkText": "Export to plot.ly",
        "plotlyServerURL": "https://plot.ly",
        "showLink": true
       },
       "data": [
        {
         "line": {
          "color": "rgba(255, 153, 51, 1.0)",
          "dash": "solid",
          "shape": "linear",
          "width": 1.3
         },
         "mode": "lines",
         "name": "A",
         "text": "",
         "type": "scatter",
         "x": [
          0,
          1,
          2,
          3,
          4,
          5,
          6,
          7,
          8,
          9,
          10,
          11,
          12,
          13,
          14,
          15,
          16,
          17,
          18,
          19,
          20,
          21,
          22,
          23,
          24,
          25,
          26,
          27,
          28,
          29,
          30,
          31,
          32,
          33,
          34,
          35,
          36,
          37,
          38,
          39,
          40,
          41,
          42,
          43,
          44,
          45,
          46,
          47,
          48,
          49,
          50,
          51,
          52,
          53,
          54,
          55,
          56,
          57,
          58,
          59,
          60,
          61,
          62,
          63,
          64,
          65,
          66,
          67,
          68,
          69,
          70,
          71,
          72,
          73,
          74,
          75,
          76,
          77,
          78,
          79,
          80,
          81,
          82,
          83,
          84,
          85,
          86,
          87,
          88,
          89,
          90,
          91,
          92,
          93,
          94,
          95,
          96,
          97,
          98,
          99
         ],
         "y": [
          -1.3345721423538044,
          1.152744983274052,
          -0.4144432895718666,
          1.4302774060136265,
          1.1032714804754071,
          0.3191628341280002,
          0.29167766457536576,
          -0.2948260219573132,
          -0.7898916249391608,
          0.7579798280599954,
          0.7023990585262951,
          0.3617203499296237,
          1.3840609450336574,
          2.1234137119547905,
          0.2810105000977317,
          1.3417915860610645,
          -0.2412397886071698,
          -1.4800784340458517,
          -0.43730607784210224,
          1.2776043936563957,
          0.23681297531851184,
          0.540390995960289,
          1.6871090335390888,
          -0.12613605829513988,
          -0.5588115339425442,
          1.8051083114525888,
          -1.1726637178355273,
          0.8869084864979949,
          -0.6608453517139303,
          0.86318177144118,
          1.3220433452814955,
          -0.040310682232710525,
          -0.6822401059683589,
          1.0146630751377788,
          -0.09408866628468343,
          -0.3835960857750811,
          -0.033174674346961475,
          0.6882005981376775,
          -0.8463552045373701,
          0.3558779153321544,
          0.4162235961224696,
          1.2455350592782963,
          -0.4404736135266595,
          -0.021206617569660913,
          0.910807493204989,
          0.7261457915112387,
          -1.0852814847699983,
          -0.6116324809576813,
          0.4419712096882013,
          -0.9549757189699014,
          -1.0917298503989892,
          1.683458340637992,
          -2.34848252238384,
          -0.21404278096559237,
          1.7763779984983499,
          -0.6061798311193356,
          0.2018170117960935,
          1.1347757868560242,
          -0.036032949775629396,
          -0.34619100102470757,
          -0.288608149951723,
          0.5650826594364331,
          0.8499639803220693,
          0.9894872408033251,
          0.06569041064446172,
          0.054489734536987196,
          -1.9952387047587858,
          -2.2784797833534043,
          -0.3235225571592153,
          0.7985449754329478,
          0.5562115947213144,
          0.19932402438213523,
          -0.1403275336563558,
          0.9855129234750741,
          0.3045407336196398,
          0.53929898768602,
          -0.27575107464618664,
          -0.07407610262260471,
          0.11499769199840022,
          -0.7978934478689437,
          1.6231013726732846,
          0.11356346504298263,
          1.0257404298721093,
          0.38698431699048086,
          1.5573123378387754,
          -0.3575297031395702,
          -0.7186779504700587,
          -0.35459907027756954,
          1.0501179801717468,
          0.9723530993336464,
          -1.7859678584514145,
          -1.3568059526808665,
          1.620503617755656,
          1.0373614474576012,
          -1.6411237307693962,
          -2.052337862151146,
          1.5268582726716706,
          1.176810614698316,
          -0.511936349742928,
          1.8899167884179937
         ]
        },
        {
         "line": {
          "color": "rgba(55, 128, 191, 1.0)",
          "dash": "solid",
          "shape": "linear",
          "width": 1.3
         },
         "mode": "lines",
         "name": "B",
         "text": "",
         "type": "scatter",
         "x": [
          0,
          1,
          2,
          3,
          4,
          5,
          6,
          7,
          8,
          9,
          10,
          11,
          12,
          13,
          14,
          15,
          16,
          17,
          18,
          19,
          20,
          21,
          22,
          23,
          24,
          25,
          26,
          27,
          28,
          29,
          30,
          31,
          32,
          33,
          34,
          35,
          36,
          37,
          38,
          39,
          40,
          41,
          42,
          43,
          44,
          45,
          46,
          47,
          48,
          49,
          50,
          51,
          52,
          53,
          54,
          55,
          56,
          57,
          58,
          59,
          60,
          61,
          62,
          63,
          64,
          65,
          66,
          67,
          68,
          69,
          70,
          71,
          72,
          73,
          74,
          75,
          76,
          77,
          78,
          79,
          80,
          81,
          82,
          83,
          84,
          85,
          86,
          87,
          88,
          89,
          90,
          91,
          92,
          93,
          94,
          95,
          96,
          97,
          98,
          99
         ],
         "y": [
          0.18934519564362062,
          -0.5168133289643818,
          -0.575887085195419,
          0.2654879300880599,
          -0.42270044140335306,
          0.49202396803406306,
          -0.05813887150593542,
          -1.9198333732052166,
          -1.1749861717602872,
          0.16124454493046997,
          -0.01733316004195805,
          -0.9257924593376672,
          0.09006921111651374,
          0.9734162863579563,
          -0.4518387082824791,
          -0.26153686886886934,
          0.28232403258757965,
          -1.0529426660554346,
          0.10202608047979453,
          0.23633183741611294,
          0.23498955155440895,
          0.9677590445244143,
          1.831253424242203,
          0.2415382607666498,
          -1.4230300649451495,
          2.2312182747485743,
          1.236202195805703,
          0.003390367770349785,
          -0.6237252050062434,
          -0.2342174145278324,
          -1.924925714689275,
          -0.9337128747220547,
          1.7543360784429163,
          0.7581829264781671,
          -0.08232277508753891,
          -0.45468484443795826,
          -0.19935092376725272,
          0.3432671525145582,
          -0.07884733212534094,
          0.9131918232446734,
          -0.8685402818250365,
          0.6883979203844126,
          1.0774186567698938,
          -1.2365006595554795,
          -0.604706613485279,
          0.5530504203367701,
          -1.1638121061985844,
          1.1266844459061904,
          -0.9565987159997782,
          0.46966062495493444,
          -0.15512534613084203,
          -1.201935972800709,
          1.0209556886714029,
          0.2795071484988548,
          1.4659564159180398,
          -0.4515262872130025,
          -0.4514630053316504,
          -0.0711730466463417,
          -2.1375937961790283,
          -0.7568430799085749,
          -1.051286755748964,
          0.27836127689014034,
          -0.4279875997952308,
          1.452930902585046,
          1.1703271571918823,
          -0.8463298634985316,
          0.6110841975955712,
          1.2940742777754228,
          -0.9945647867400169,
          1.5151241023797244,
          0.5075362134278456,
          -1.1735886638674613,
          1.98485816589851,
          0.7982761159418083,
          -0.07944727878078828,
          -0.7971158770598205,
          0.8537029643240611,
          -1.670795262780064,
          0.4918535139756341,
          -0.5521934592979183,
          -2.6713602633960485,
          -0.6402242514425622,
          -0.2530997756328507,
          0.13291790640185097,
          1.840027332124377,
          0.4256107998272355,
          -0.10524227119226856,
          0.7568395535199907,
          0.01227355678842452,
          -0.18777367729543826,
          0.11596626772388403,
          0.26977552573541597,
          -0.993101164784401,
          -0.05067529958534019,
          -0.5047305795737309,
          0.9070451286544564,
          0.5229498297030087,
          1.499042011679956,
          -0.9162419500042097,
          0.5257383477604088
         ]
        },
        {
         "connectgaps": false,
         "fill": "tozeroy",
         "line": {
          "color": "green",
          "dash": "solid",
          "shape": "linear",
          "width": 0.5
         },
         "mode": "lines",
         "name": "Spread",
         "showlegend": false,
         "type": "scatter",
         "x": [
          0,
          1,
          2,
          3,
          4,
          5,
          6,
          7,
          8,
          9,
          10,
          11,
          12,
          13,
          14,
          15,
          16,
          17,
          18,
          19,
          20,
          21,
          22,
          23,
          24,
          25,
          26,
          27,
          28,
          29,
          30,
          31,
          32,
          33,
          34,
          35,
          36,
          37,
          38,
          39,
          40,
          41,
          42,
          43,
          44,
          45,
          46,
          47,
          48,
          49,
          50,
          51,
          52,
          53,
          54,
          55,
          56,
          57,
          58,
          59,
          60,
          61,
          62,
          63,
          64,
          65,
          66,
          67,
          68,
          69,
          70,
          71,
          72,
          73,
          74,
          75,
          76,
          77,
          78,
          79,
          80,
          81,
          82,
          83,
          84,
          85,
          86,
          87,
          88,
          89,
          90,
          91,
          92,
          93,
          94,
          95,
          96,
          97,
          98,
          99
         ],
         "xaxis": "x2",
         "y": [
          "",
          1.6695583122384337,
          0.16144379562355238,
          1.1647894759255666,
          1.5259719218787602,
          "",
          0.3498165360813012,
          1.6250073512479033,
          0.3850945468211264,
          0.5967352831295254,
          0.7197322185682532,
          1.287512809267291,
          1.2939917339171436,
          1.1499974255968342,
          0.7328492083802107,
          1.6033284549299338,
          "",
          "",
          "",
          1.0412725562402827,
          0.0018234237641028828,
          "",
          "",
          "",
          0.8642185310026053,
          "",
          "",
          0.8835181187276452,
          "",
          1.0973991859690124,
          3.2469690599707706,
          0.8934021924893442,
          "",
          0.25648014865961166,
          "",
          0.07108875866287717,
          0.16617624942029124,
          0.34493344562311934,
          "",
          "",
          1.2847638779475061,
          0.5571371388938837,
          "",
          1.2152940419858185,
          1.515514106690268,
          0.1730953711744686,
          0.07853062142858613,
          "",
          1.3985699256879796,
          "",
          "",
          2.885394313438701,
          "",
          "",
          0.31042158258031005,
          "",
          0.6532800171277439,
          1.2059488335023658,
          2.101560846403399,
          0.41065207888386734,
          0.762678605797241,
          0.28672138254629276,
          1.2779515801173003,
          "",
          "",
          0.9008195980355188,
          "",
          "",
          0.6710422295808016,
          "",
          0.04867538129346882,
          1.3729126882495966,
          "",
          0.18723680753326588,
          0.38398801240042807,
          1.3364148647458405,
          "",
          1.5967191601574593,
          "",
          "",
          4.294461636069333,
          0.7537877164855449,
          1.27884020550496,
          0.2540664105886299,
          "",
          "",
          "",
          "",
          1.0378444233833224,
          1.1601267766290846,
          "",
          "",
          2.6136047825400572,
          1.0880367470429413,
          "",
          "",
          1.0039084429686618,
          "",
          0.4043056002612817,
          1.364178440657585
         ],
         "yaxis": "y2"
        },
        {
         "connectgaps": false,
         "fill": "tozeroy",
         "line": {
          "color": "red",
          "dash": "solid",
          "shape": "linear",
          "width": 0.5
         },
         "mode": "lines",
         "name": "Spread",
         "showlegend": false,
         "type": "scatter",
         "x": [
          0,
          1,
          2,
          3,
          4,
          5,
          6,
          7,
          8,
          9,
          10,
          11,
          12,
          13,
          14,
          15,
          16,
          17,
          18,
          19,
          20,
          21,
          22,
          23,
          24,
          25,
          26,
          27,
          28,
          29,
          30,
          31,
          32,
          33,
          34,
          35,
          36,
          37,
          38,
          39,
          40,
          41,
          42,
          43,
          44,
          45,
          46,
          47,
          48,
          49,
          50,
          51,
          52,
          53,
          54,
          55,
          56,
          57,
          58,
          59,
          60,
          61,
          62,
          63,
          64,
          65,
          66,
          67,
          68,
          69,
          70,
          71,
          72,
          73,
          74,
          75,
          76,
          77,
          78,
          79,
          80,
          81,
          82,
          83,
          84,
          85,
          86,
          87,
          88,
          89,
          90,
          91,
          92,
          93,
          94,
          95,
          96,
          97,
          98,
          99
         ],
         "xaxis": "x2",
         "y": [
          -1.5239173379974251,
          "",
          "",
          "",
          "",
          -0.1728611339060629,
          "",
          "",
          "",
          "",
          "",
          "",
          "",
          "",
          "",
          "",
          -0.5235638211947494,
          -0.4271357679904171,
          -0.5393321583218967,
          "",
          "",
          -0.42736804856412536,
          -0.14414439070311413,
          -0.3676743190617897,
          "",
          -0.4261099632959855,
          -2.4088659136412303,
          "",
          -0.03712014670768693,
          "",
          "",
          "",
          -2.436576184411275,
          "",
          -0.011765891197144523,
          "",
          "",
          "",
          -0.7675078724120292,
          -0.557313907912519,
          "",
          "",
          -1.5178922702965534,
          "",
          "",
          "",
          "",
          -1.7383169268638716,
          "",
          -1.4246363439248357,
          -0.9366045042681471,
          "",
          -3.3694382110552428,
          -0.49354992946444715,
          "",
          -0.15465354390633312,
          "",
          "",
          "",
          "",
          "",
          "",
          "",
          -0.46344366178172103,
          -1.1046367465474205,
          "",
          -2.606322902354357,
          -3.572554061128827,
          "",
          -0.7165791269467766,
          "",
          "",
          -2.1251856995548657,
          "",
          "",
          "",
          -1.1294540389702479,
          "",
          -0.3768558219772339,
          -0.24569998857102537,
          "",
          "",
          "",
          "",
          -0.28271499428560154,
          -0.7831405029668057,
          -0.6134356792777901,
          -1.1114386237975602,
          "",
          "",
          -1.9019341261752984,
          -1.6265814784162824,
          "",
          "",
          -1.1363931511956653,
          -2.9593829908056026,
          "",
          -0.32223139698164016,
          "",
          ""
         ],
         "yaxis": "y2"
        }
       ],
       "layout": {
        "hovermode": "x",
        "legend": {
         "bgcolor": "#F5F6F9",
         "font": {
          "color": "#4D5663"
         }
        },
        "paper_bgcolor": "#F5F6F9",
        "plot_bgcolor": "#F5F6F9",
        "template": {
         "data": {
          "bar": [
           {
            "error_x": {
             "color": "#2a3f5f"
            },
            "error_y": {
             "color": "#2a3f5f"
            },
            "marker": {
             "line": {
              "color": "#E5ECF6",
              "width": 0.5
             }
            },
            "type": "bar"
           }
          ],
          "barpolar": [
           {
            "marker": {
             "line": {
              "color": "#E5ECF6",
              "width": 0.5
             }
            },
            "type": "barpolar"
           }
          ],
          "carpet": [
           {
            "aaxis": {
             "endlinecolor": "#2a3f5f",
             "gridcolor": "white",
             "linecolor": "white",
             "minorgridcolor": "white",
             "startlinecolor": "#2a3f5f"
            },
            "baxis": {
             "endlinecolor": "#2a3f5f",
             "gridcolor": "white",
             "linecolor": "white",
             "minorgridcolor": "white",
             "startlinecolor": "#2a3f5f"
            },
            "type": "carpet"
           }
          ],
          "choropleth": [
           {
            "colorbar": {
             "outlinewidth": 0,
             "ticks": ""
            },
            "type": "choropleth"
           }
          ],
          "contour": [
           {
            "colorbar": {
             "outlinewidth": 0,
             "ticks": ""
            },
            "colorscale": [
             [
              0,
              "#0d0887"
             ],
             [
              0.1111111111111111,
              "#46039f"
             ],
             [
              0.2222222222222222,
              "#7201a8"
             ],
             [
              0.3333333333333333,
              "#9c179e"
             ],
             [
              0.4444444444444444,
              "#bd3786"
             ],
             [
              0.5555555555555556,
              "#d8576b"
             ],
             [
              0.6666666666666666,
              "#ed7953"
             ],
             [
              0.7777777777777778,
              "#fb9f3a"
             ],
             [
              0.8888888888888888,
              "#fdca26"
             ],
             [
              1,
              "#f0f921"
             ]
            ],
            "type": "contour"
           }
          ],
          "contourcarpet": [
           {
            "colorbar": {
             "outlinewidth": 0,
             "ticks": ""
            },
            "type": "contourcarpet"
           }
          ],
          "heatmap": [
           {
            "colorbar": {
             "outlinewidth": 0,
             "ticks": ""
            },
            "colorscale": [
             [
              0,
              "#0d0887"
             ],
             [
              0.1111111111111111,
              "#46039f"
             ],
             [
              0.2222222222222222,
              "#7201a8"
             ],
             [
              0.3333333333333333,
              "#9c179e"
             ],
             [
              0.4444444444444444,
              "#bd3786"
             ],
             [
              0.5555555555555556,
              "#d8576b"
             ],
             [
              0.6666666666666666,
              "#ed7953"
             ],
             [
              0.7777777777777778,
              "#fb9f3a"
             ],
             [
              0.8888888888888888,
              "#fdca26"
             ],
             [
              1,
              "#f0f921"
             ]
            ],
            "type": "heatmap"
           }
          ],
          "heatmapgl": [
           {
            "colorbar": {
             "outlinewidth": 0,
             "ticks": ""
            },
            "colorscale": [
             [
              0,
              "#0d0887"
             ],
             [
              0.1111111111111111,
              "#46039f"
             ],
             [
              0.2222222222222222,
              "#7201a8"
             ],
             [
              0.3333333333333333,
              "#9c179e"
             ],
             [
              0.4444444444444444,
              "#bd3786"
             ],
             [
              0.5555555555555556,
              "#d8576b"
             ],
             [
              0.6666666666666666,
              "#ed7953"
             ],
             [
              0.7777777777777778,
              "#fb9f3a"
             ],
             [
              0.8888888888888888,
              "#fdca26"
             ],
             [
              1,
              "#f0f921"
             ]
            ],
            "type": "heatmapgl"
           }
          ],
          "histogram": [
           {
            "marker": {
             "colorbar": {
              "outlinewidth": 0,
              "ticks": ""
             }
            },
            "type": "histogram"
           }
          ],
          "histogram2d": [
           {
            "colorbar": {
             "outlinewidth": 0,
             "ticks": ""
            },
            "colorscale": [
             [
              0,
              "#0d0887"
             ],
             [
              0.1111111111111111,
              "#46039f"
             ],
             [
              0.2222222222222222,
              "#7201a8"
             ],
             [
              0.3333333333333333,
              "#9c179e"
             ],
             [
              0.4444444444444444,
              "#bd3786"
             ],
             [
              0.5555555555555556,
              "#d8576b"
             ],
             [
              0.6666666666666666,
              "#ed7953"
             ],
             [
              0.7777777777777778,
              "#fb9f3a"
             ],
             [
              0.8888888888888888,
              "#fdca26"
             ],
             [
              1,
              "#f0f921"
             ]
            ],
            "type": "histogram2d"
           }
          ],
          "histogram2dcontour": [
           {
            "colorbar": {
             "outlinewidth": 0,
             "ticks": ""
            },
            "colorscale": [
             [
              0,
              "#0d0887"
             ],
             [
              0.1111111111111111,
              "#46039f"
             ],
             [
              0.2222222222222222,
              "#7201a8"
             ],
             [
              0.3333333333333333,
              "#9c179e"
             ],
             [
              0.4444444444444444,
              "#bd3786"
             ],
             [
              0.5555555555555556,
              "#d8576b"
             ],
             [
              0.6666666666666666,
              "#ed7953"
             ],
             [
              0.7777777777777778,
              "#fb9f3a"
             ],
             [
              0.8888888888888888,
              "#fdca26"
             ],
             [
              1,
              "#f0f921"
             ]
            ],
            "type": "histogram2dcontour"
           }
          ],
          "mesh3d": [
           {
            "colorbar": {
             "outlinewidth": 0,
             "ticks": ""
            },
            "type": "mesh3d"
           }
          ],
          "parcoords": [
           {
            "line": {
             "colorbar": {
              "outlinewidth": 0,
              "ticks": ""
             }
            },
            "type": "parcoords"
           }
          ],
          "pie": [
           {
            "automargin": true,
            "type": "pie"
           }
          ],
          "scatter": [
           {
            "marker": {
             "colorbar": {
              "outlinewidth": 0,
              "ticks": ""
             }
            },
            "type": "scatter"
           }
          ],
          "scatter3d": [
           {
            "line": {
             "colorbar": {
              "outlinewidth": 0,
              "ticks": ""
             }
            },
            "marker": {
             "colorbar": {
              "outlinewidth": 0,
              "ticks": ""
             }
            },
            "type": "scatter3d"
           }
          ],
          "scattercarpet": [
           {
            "marker": {
             "colorbar": {
              "outlinewidth": 0,
              "ticks": ""
             }
            },
            "type": "scattercarpet"
           }
          ],
          "scattergeo": [
           {
            "marker": {
             "colorbar": {
              "outlinewidth": 0,
              "ticks": ""
             }
            },
            "type": "scattergeo"
           }
          ],
          "scattergl": [
           {
            "marker": {
             "colorbar": {
              "outlinewidth": 0,
              "ticks": ""
             }
            },
            "type": "scattergl"
           }
          ],
          "scattermapbox": [
           {
            "marker": {
             "colorbar": {
              "outlinewidth": 0,
              "ticks": ""
             }
            },
            "type": "scattermapbox"
           }
          ],
          "scatterpolar": [
           {
            "marker": {
             "colorbar": {
              "outlinewidth": 0,
              "ticks": ""
             }
            },
            "type": "scatterpolar"
           }
          ],
          "scatterpolargl": [
           {
            "marker": {
             "colorbar": {
              "outlinewidth": 0,
              "ticks": ""
             }
            },
            "type": "scatterpolargl"
           }
          ],
          "scatterternary": [
           {
            "marker": {
             "colorbar": {
              "outlinewidth": 0,
              "ticks": ""
             }
            },
            "type": "scatterternary"
           }
          ],
          "surface": [
           {
            "colorbar": {
             "outlinewidth": 0,
             "ticks": ""
            },
            "colorscale": [
             [
              0,
              "#0d0887"
             ],
             [
              0.1111111111111111,
              "#46039f"
             ],
             [
              0.2222222222222222,
              "#7201a8"
             ],
             [
              0.3333333333333333,
              "#9c179e"
             ],
             [
              0.4444444444444444,
              "#bd3786"
             ],
             [
              0.5555555555555556,
              "#d8576b"
             ],
             [
              0.6666666666666666,
              "#ed7953"
             ],
             [
              0.7777777777777778,
              "#fb9f3a"
             ],
             [
              0.8888888888888888,
              "#fdca26"
             ],
             [
              1,
              "#f0f921"
             ]
            ],
            "type": "surface"
           }
          ],
          "table": [
           {
            "cells": {
             "fill": {
              "color": "#EBF0F8"
             },
             "line": {
              "color": "white"
             }
            },
            "header": {
             "fill": {
              "color": "#C8D4E3"
             },
             "line": {
              "color": "white"
             }
            },
            "type": "table"
           }
          ]
         },
         "layout": {
          "annotationdefaults": {
           "arrowcolor": "#2a3f5f",
           "arrowhead": 0,
           "arrowwidth": 1
          },
          "coloraxis": {
           "colorbar": {
            "outlinewidth": 0,
            "ticks": ""
           }
          },
          "colorscale": {
           "diverging": [
            [
             0,
             "#8e0152"
            ],
            [
             0.1,
             "#c51b7d"
            ],
            [
             0.2,
             "#de77ae"
            ],
            [
             0.3,
             "#f1b6da"
            ],
            [
             0.4,
             "#fde0ef"
            ],
            [
             0.5,
             "#f7f7f7"
            ],
            [
             0.6,
             "#e6f5d0"
            ],
            [
             0.7,
             "#b8e186"
            ],
            [
             0.8,
             "#7fbc41"
            ],
            [
             0.9,
             "#4d9221"
            ],
            [
             1,
             "#276419"
            ]
           ],
           "sequential": [
            [
             0,
             "#0d0887"
            ],
            [
             0.1111111111111111,
             "#46039f"
            ],
            [
             0.2222222222222222,
             "#7201a8"
            ],
            [
             0.3333333333333333,
             "#9c179e"
            ],
            [
             0.4444444444444444,
             "#bd3786"
            ],
            [
             0.5555555555555556,
             "#d8576b"
            ],
            [
             0.6666666666666666,
             "#ed7953"
            ],
            [
             0.7777777777777778,
             "#fb9f3a"
            ],
            [
             0.8888888888888888,
             "#fdca26"
            ],
            [
             1,
             "#f0f921"
            ]
           ],
           "sequentialminus": [
            [
             0,
             "#0d0887"
            ],
            [
             0.1111111111111111,
             "#46039f"
            ],
            [
             0.2222222222222222,
             "#7201a8"
            ],
            [
             0.3333333333333333,
             "#9c179e"
            ],
            [
             0.4444444444444444,
             "#bd3786"
            ],
            [
             0.5555555555555556,
             "#d8576b"
            ],
            [
             0.6666666666666666,
             "#ed7953"
            ],
            [
             0.7777777777777778,
             "#fb9f3a"
            ],
            [
             0.8888888888888888,
             "#fdca26"
            ],
            [
             1,
             "#f0f921"
            ]
           ]
          },
          "colorway": [
           "#636efa",
           "#EF553B",
           "#00cc96",
           "#ab63fa",
           "#FFA15A",
           "#19d3f3",
           "#FF6692",
           "#B6E880",
           "#FF97FF",
           "#FECB52"
          ],
          "font": {
           "color": "#2a3f5f"
          },
          "geo": {
           "bgcolor": "white",
           "lakecolor": "white",
           "landcolor": "#E5ECF6",
           "showlakes": true,
           "showland": true,
           "subunitcolor": "white"
          },
          "hoverlabel": {
           "align": "left"
          },
          "hovermode": "closest",
          "mapbox": {
           "style": "light"
          },
          "paper_bgcolor": "white",
          "plot_bgcolor": "#E5ECF6",
          "polar": {
           "angularaxis": {
            "gridcolor": "white",
            "linecolor": "white",
            "ticks": ""
           },
           "bgcolor": "#E5ECF6",
           "radialaxis": {
            "gridcolor": "white",
            "linecolor": "white",
            "ticks": ""
           }
          },
          "scene": {
           "xaxis": {
            "backgroundcolor": "#E5ECF6",
            "gridcolor": "white",
            "gridwidth": 2,
            "linecolor": "white",
            "showbackground": true,
            "ticks": "",
            "zerolinecolor": "white"
           },
           "yaxis": {
            "backgroundcolor": "#E5ECF6",
            "gridcolor": "white",
            "gridwidth": 2,
            "linecolor": "white",
            "showbackground": true,
            "ticks": "",
            "zerolinecolor": "white"
           },
           "zaxis": {
            "backgroundcolor": "#E5ECF6",
            "gridcolor": "white",
            "gridwidth": 2,
            "linecolor": "white",
            "showbackground": true,
            "ticks": "",
            "zerolinecolor": "white"
           }
          },
          "shapedefaults": {
           "line": {
            "color": "#2a3f5f"
           }
          },
          "ternary": {
           "aaxis": {
            "gridcolor": "white",
            "linecolor": "white",
            "ticks": ""
           },
           "baxis": {
            "gridcolor": "white",
            "linecolor": "white",
            "ticks": ""
           },
           "bgcolor": "#E5ECF6",
           "caxis": {
            "gridcolor": "white",
            "linecolor": "white",
            "ticks": ""
           }
          },
          "title": {
           "x": 0.05
          },
          "xaxis": {
           "automargin": true,
           "gridcolor": "white",
           "linecolor": "white",
           "ticks": "",
           "title": {
            "standoff": 15
           },
           "zerolinecolor": "white",
           "zerolinewidth": 2
          },
          "yaxis": {
           "automargin": true,
           "gridcolor": "white",
           "linecolor": "white",
           "ticks": "",
           "title": {
            "standoff": 15
           },
           "zerolinecolor": "white",
           "zerolinewidth": 2
          }
         }
        },
        "title": {
         "font": {
          "color": "#4D5663"
         }
        },
        "xaxis": {
         "gridcolor": "#E1E5ED",
         "showgrid": true,
         "tickfont": {
          "color": "#4D5663"
         },
         "title": {
          "font": {
           "color": "#4D5663"
          },
          "text": ""
         },
         "zerolinecolor": "#E1E5ED"
        },
        "xaxis2": {
         "anchor": "y2",
         "gridcolor": "#E1E5ED",
         "showgrid": true,
         "showticklabels": false,
         "tickfont": {
          "color": "#4D5663"
         },
         "title": {
          "font": {
           "color": "#4D5663"
          },
          "text": ""
         },
         "zerolinecolor": "#E1E5ED"
        },
        "yaxis": {
         "domain": [
          0.3,
          1
         ],
         "gridcolor": "#E1E5ED",
         "showgrid": true,
         "tickfont": {
          "color": "#4D5663"
         },
         "title": {
          "font": {
           "color": "#4D5663"
          },
          "text": ""
         },
         "zerolinecolor": "#E1E5ED"
        },
        "yaxis2": {
         "domain": [
          0,
          0.25
         ],
         "gridcolor": "#E1E5ED",
         "showgrid": true,
         "tickfont": {
          "color": "#4D5663"
         },
         "title": {
          "font": {
           "color": "#4D5663"
          },
          "text": "Spread"
         },
         "zerolinecolor": "#E1E5ED"
        }
       }
      },
      "text/html": [
       "<div>                            <div id=\"bda3ff99-844b-46ea-9d1c-2bd15a648129\" class=\"plotly-graph-div\" style=\"height:525px; width:100%;\"></div>            <script type=\"text/javascript\">                require([\"plotly\"], function(Plotly) {                    window.PLOTLYENV=window.PLOTLYENV || {};\n",
       "                    window.PLOTLYENV.BASE_URL='https://plot.ly';                                    if (document.getElementById(\"bda3ff99-844b-46ea-9d1c-2bd15a648129\")) {                    Plotly.newPlot(                        \"bda3ff99-844b-46ea-9d1c-2bd15a648129\",                        [{\"line\": {\"color\": \"rgba(255, 153, 51, 1.0)\", \"dash\": \"solid\", \"shape\": \"linear\", \"width\": 1.3}, \"mode\": \"lines\", \"name\": \"A\", \"text\": \"\", \"type\": \"scatter\", \"x\": [0, 1, 2, 3, 4, 5, 6, 7, 8, 9, 10, 11, 12, 13, 14, 15, 16, 17, 18, 19, 20, 21, 22, 23, 24, 25, 26, 27, 28, 29, 30, 31, 32, 33, 34, 35, 36, 37, 38, 39, 40, 41, 42, 43, 44, 45, 46, 47, 48, 49, 50, 51, 52, 53, 54, 55, 56, 57, 58, 59, 60, 61, 62, 63, 64, 65, 66, 67, 68, 69, 70, 71, 72, 73, 74, 75, 76, 77, 78, 79, 80, 81, 82, 83, 84, 85, 86, 87, 88, 89, 90, 91, 92, 93, 94, 95, 96, 97, 98, 99], \"y\": [-1.3345721423538044, 1.152744983274052, -0.4144432895718666, 1.4302774060136265, 1.1032714804754071, 0.3191628341280002, 0.29167766457536576, -0.2948260219573132, -0.7898916249391608, 0.7579798280599954, 0.7023990585262951, 0.3617203499296237, 1.3840609450336574, 2.1234137119547905, 0.2810105000977317, 1.3417915860610645, -0.2412397886071698, -1.4800784340458517, -0.43730607784210224, 1.2776043936563957, 0.23681297531851184, 0.540390995960289, 1.6871090335390888, -0.12613605829513988, -0.5588115339425442, 1.8051083114525888, -1.1726637178355273, 0.8869084864979949, -0.6608453517139303, 0.86318177144118, 1.3220433452814955, -0.040310682232710525, -0.6822401059683589, 1.0146630751377788, -0.09408866628468343, -0.3835960857750811, -0.033174674346961475, 0.6882005981376775, -0.8463552045373701, 0.3558779153321544, 0.4162235961224696, 1.2455350592782963, -0.4404736135266595, -0.021206617569660913, 0.910807493204989, 0.7261457915112387, -1.0852814847699983, -0.6116324809576813, 0.4419712096882013, -0.9549757189699014, -1.0917298503989892, 1.683458340637992, -2.34848252238384, -0.21404278096559237, 1.7763779984983499, -0.6061798311193356, 0.2018170117960935, 1.1347757868560242, -0.036032949775629396, -0.34619100102470757, -0.288608149951723, 0.5650826594364331, 0.8499639803220693, 0.9894872408033251, 0.06569041064446172, 0.054489734536987196, -1.9952387047587858, -2.2784797833534043, -0.3235225571592153, 0.7985449754329478, 0.5562115947213144, 0.19932402438213523, -0.1403275336563558, 0.9855129234750741, 0.3045407336196398, 0.53929898768602, -0.27575107464618664, -0.07407610262260471, 0.11499769199840022, -0.7978934478689437, 1.6231013726732846, 0.11356346504298263, 1.0257404298721093, 0.38698431699048086, 1.5573123378387754, -0.3575297031395702, -0.7186779504700587, -0.35459907027756954, 1.0501179801717468, 0.9723530993336464, -1.7859678584514145, -1.3568059526808665, 1.620503617755656, 1.0373614474576012, -1.6411237307693962, -2.052337862151146, 1.5268582726716706, 1.176810614698316, -0.511936349742928, 1.8899167884179937]}, {\"line\": {\"color\": \"rgba(55, 128, 191, 1.0)\", \"dash\": \"solid\", \"shape\": \"linear\", \"width\": 1.3}, \"mode\": \"lines\", \"name\": \"B\", \"text\": \"\", \"type\": \"scatter\", \"x\": [0, 1, 2, 3, 4, 5, 6, 7, 8, 9, 10, 11, 12, 13, 14, 15, 16, 17, 18, 19, 20, 21, 22, 23, 24, 25, 26, 27, 28, 29, 30, 31, 32, 33, 34, 35, 36, 37, 38, 39, 40, 41, 42, 43, 44, 45, 46, 47, 48, 49, 50, 51, 52, 53, 54, 55, 56, 57, 58, 59, 60, 61, 62, 63, 64, 65, 66, 67, 68, 69, 70, 71, 72, 73, 74, 75, 76, 77, 78, 79, 80, 81, 82, 83, 84, 85, 86, 87, 88, 89, 90, 91, 92, 93, 94, 95, 96, 97, 98, 99], \"y\": [0.18934519564362062, -0.5168133289643818, -0.575887085195419, 0.2654879300880599, -0.42270044140335306, 0.49202396803406306, -0.05813887150593542, -1.9198333732052166, -1.1749861717602872, 0.16124454493046997, -0.01733316004195805, -0.9257924593376672, 0.09006921111651374, 0.9734162863579563, -0.4518387082824791, -0.26153686886886934, 0.28232403258757965, -1.0529426660554346, 0.10202608047979453, 0.23633183741611294, 0.23498955155440895, 0.9677590445244143, 1.831253424242203, 0.2415382607666498, -1.4230300649451495, 2.2312182747485743, 1.236202195805703, 0.003390367770349785, -0.6237252050062434, -0.2342174145278324, -1.924925714689275, -0.9337128747220547, 1.7543360784429163, 0.7581829264781671, -0.08232277508753891, -0.45468484443795826, -0.19935092376725272, 0.3432671525145582, -0.07884733212534094, 0.9131918232446734, -0.8685402818250365, 0.6883979203844126, 1.0774186567698938, -1.2365006595554795, -0.604706613485279, 0.5530504203367701, -1.1638121061985844, 1.1266844459061904, -0.9565987159997782, 0.46966062495493444, -0.15512534613084203, -1.201935972800709, 1.0209556886714029, 0.2795071484988548, 1.4659564159180398, -0.4515262872130025, -0.4514630053316504, -0.0711730466463417, -2.1375937961790283, -0.7568430799085749, -1.051286755748964, 0.27836127689014034, -0.4279875997952308, 1.452930902585046, 1.1703271571918823, -0.8463298634985316, 0.6110841975955712, 1.2940742777754228, -0.9945647867400169, 1.5151241023797244, 0.5075362134278456, -1.1735886638674613, 1.98485816589851, 0.7982761159418083, -0.07944727878078828, -0.7971158770598205, 0.8537029643240611, -1.670795262780064, 0.4918535139756341, -0.5521934592979183, -2.6713602633960485, -0.6402242514425622, -0.2530997756328507, 0.13291790640185097, 1.840027332124377, 0.4256107998272355, -0.10524227119226856, 0.7568395535199907, 0.01227355678842452, -0.18777367729543826, 0.11596626772388403, 0.26977552573541597, -0.993101164784401, -0.05067529958534019, -0.5047305795737309, 0.9070451286544564, 0.5229498297030087, 1.499042011679956, -0.9162419500042097, 0.5257383477604088]}, {\"connectgaps\": false, \"fill\": \"tozeroy\", \"line\": {\"color\": \"green\", \"dash\": \"solid\", \"shape\": \"linear\", \"width\": 0.5}, \"mode\": \"lines\", \"name\": \"Spread\", \"showlegend\": false, \"type\": \"scatter\", \"x\": [0, 1, 2, 3, 4, 5, 6, 7, 8, 9, 10, 11, 12, 13, 14, 15, 16, 17, 18, 19, 20, 21, 22, 23, 24, 25, 26, 27, 28, 29, 30, 31, 32, 33, 34, 35, 36, 37, 38, 39, 40, 41, 42, 43, 44, 45, 46, 47, 48, 49, 50, 51, 52, 53, 54, 55, 56, 57, 58, 59, 60, 61, 62, 63, 64, 65, 66, 67, 68, 69, 70, 71, 72, 73, 74, 75, 76, 77, 78, 79, 80, 81, 82, 83, 84, 85, 86, 87, 88, 89, 90, 91, 92, 93, 94, 95, 96, 97, 98, 99], \"xaxis\": \"x2\", \"y\": [\"\", 1.6695583122384337, 0.16144379562355238, 1.1647894759255666, 1.5259719218787602, \"\", 0.3498165360813012, 1.6250073512479033, 0.3850945468211264, 0.5967352831295254, 0.7197322185682532, 1.287512809267291, 1.2939917339171436, 1.1499974255968342, 0.7328492083802107, 1.6033284549299338, \"\", \"\", \"\", 1.0412725562402827, 0.0018234237641028828, \"\", \"\", \"\", 0.8642185310026053, \"\", \"\", 0.8835181187276452, \"\", 1.0973991859690124, 3.2469690599707706, 0.8934021924893442, \"\", 0.25648014865961166, \"\", 0.07108875866287717, 0.16617624942029124, 0.34493344562311934, \"\", \"\", 1.2847638779475061, 0.5571371388938837, \"\", 1.2152940419858185, 1.515514106690268, 0.1730953711744686, 0.07853062142858613, \"\", 1.3985699256879796, \"\", \"\", 2.885394313438701, \"\", \"\", 0.31042158258031005, \"\", 0.6532800171277439, 1.2059488335023658, 2.101560846403399, 0.41065207888386734, 0.762678605797241, 0.28672138254629276, 1.2779515801173003, \"\", \"\", 0.9008195980355188, \"\", \"\", 0.6710422295808016, \"\", 0.04867538129346882, 1.3729126882495966, \"\", 0.18723680753326588, 0.38398801240042807, 1.3364148647458405, \"\", 1.5967191601574593, \"\", \"\", 4.294461636069333, 0.7537877164855449, 1.27884020550496, 0.2540664105886299, \"\", \"\", \"\", \"\", 1.0378444233833224, 1.1601267766290846, \"\", \"\", 2.6136047825400572, 1.0880367470429413, \"\", \"\", 1.0039084429686618, \"\", 0.4043056002612817, 1.364178440657585], \"yaxis\": \"y2\"}, {\"connectgaps\": false, \"fill\": \"tozeroy\", \"line\": {\"color\": \"red\", \"dash\": \"solid\", \"shape\": \"linear\", \"width\": 0.5}, \"mode\": \"lines\", \"name\": \"Spread\", \"showlegend\": false, \"type\": \"scatter\", \"x\": [0, 1, 2, 3, 4, 5, 6, 7, 8, 9, 10, 11, 12, 13, 14, 15, 16, 17, 18, 19, 20, 21, 22, 23, 24, 25, 26, 27, 28, 29, 30, 31, 32, 33, 34, 35, 36, 37, 38, 39, 40, 41, 42, 43, 44, 45, 46, 47, 48, 49, 50, 51, 52, 53, 54, 55, 56, 57, 58, 59, 60, 61, 62, 63, 64, 65, 66, 67, 68, 69, 70, 71, 72, 73, 74, 75, 76, 77, 78, 79, 80, 81, 82, 83, 84, 85, 86, 87, 88, 89, 90, 91, 92, 93, 94, 95, 96, 97, 98, 99], \"xaxis\": \"x2\", \"y\": [-1.5239173379974251, \"\", \"\", \"\", \"\", -0.1728611339060629, \"\", \"\", \"\", \"\", \"\", \"\", \"\", \"\", \"\", \"\", -0.5235638211947494, -0.4271357679904171, -0.5393321583218967, \"\", \"\", -0.42736804856412536, -0.14414439070311413, -0.3676743190617897, \"\", -0.4261099632959855, -2.4088659136412303, \"\", -0.03712014670768693, \"\", \"\", \"\", -2.436576184411275, \"\", -0.011765891197144523, \"\", \"\", \"\", -0.7675078724120292, -0.557313907912519, \"\", \"\", -1.5178922702965534, \"\", \"\", \"\", \"\", -1.7383169268638716, \"\", -1.4246363439248357, -0.9366045042681471, \"\", -3.3694382110552428, -0.49354992946444715, \"\", -0.15465354390633312, \"\", \"\", \"\", \"\", \"\", \"\", \"\", -0.46344366178172103, -1.1046367465474205, \"\", -2.606322902354357, -3.572554061128827, \"\", -0.7165791269467766, \"\", \"\", -2.1251856995548657, \"\", \"\", \"\", -1.1294540389702479, \"\", -0.3768558219772339, -0.24569998857102537, \"\", \"\", \"\", \"\", -0.28271499428560154, -0.7831405029668057, -0.6134356792777901, -1.1114386237975602, \"\", \"\", -1.9019341261752984, -1.6265814784162824, \"\", \"\", -1.1363931511956653, -2.9593829908056026, \"\", -0.32223139698164016, \"\", \"\"], \"yaxis\": \"y2\"}],                        {\"hovermode\": \"x\", \"legend\": {\"bgcolor\": \"#F5F6F9\", \"font\": {\"color\": \"#4D5663\"}}, \"paper_bgcolor\": \"#F5F6F9\", \"plot_bgcolor\": \"#F5F6F9\", \"template\": {\"data\": {\"bar\": [{\"error_x\": {\"color\": \"#2a3f5f\"}, \"error_y\": {\"color\": \"#2a3f5f\"}, \"marker\": {\"line\": {\"color\": \"#E5ECF6\", \"width\": 0.5}}, \"type\": \"bar\"}], \"barpolar\": [{\"marker\": {\"line\": {\"color\": \"#E5ECF6\", \"width\": 0.5}}, \"type\": \"barpolar\"}], \"carpet\": [{\"aaxis\": {\"endlinecolor\": \"#2a3f5f\", \"gridcolor\": \"white\", \"linecolor\": \"white\", \"minorgridcolor\": \"white\", \"startlinecolor\": \"#2a3f5f\"}, \"baxis\": {\"endlinecolor\": \"#2a3f5f\", \"gridcolor\": \"white\", \"linecolor\": \"white\", \"minorgridcolor\": \"white\", \"startlinecolor\": \"#2a3f5f\"}, \"type\": \"carpet\"}], \"choropleth\": [{\"colorbar\": {\"outlinewidth\": 0, \"ticks\": \"\"}, \"type\": \"choropleth\"}], \"contour\": [{\"colorbar\": {\"outlinewidth\": 0, \"ticks\": \"\"}, \"colorscale\": [[0.0, \"#0d0887\"], [0.1111111111111111, \"#46039f\"], [0.2222222222222222, \"#7201a8\"], [0.3333333333333333, \"#9c179e\"], [0.4444444444444444, \"#bd3786\"], [0.5555555555555556, \"#d8576b\"], [0.6666666666666666, \"#ed7953\"], [0.7777777777777778, \"#fb9f3a\"], [0.8888888888888888, \"#fdca26\"], [1.0, \"#f0f921\"]], \"type\": \"contour\"}], \"contourcarpet\": [{\"colorbar\": {\"outlinewidth\": 0, \"ticks\": \"\"}, \"type\": \"contourcarpet\"}], \"heatmap\": [{\"colorbar\": {\"outlinewidth\": 0, \"ticks\": \"\"}, \"colorscale\": [[0.0, \"#0d0887\"], [0.1111111111111111, \"#46039f\"], [0.2222222222222222, \"#7201a8\"], [0.3333333333333333, \"#9c179e\"], [0.4444444444444444, \"#bd3786\"], [0.5555555555555556, \"#d8576b\"], [0.6666666666666666, \"#ed7953\"], [0.7777777777777778, \"#fb9f3a\"], [0.8888888888888888, \"#fdca26\"], [1.0, \"#f0f921\"]], \"type\": \"heatmap\"}], \"heatmapgl\": [{\"colorbar\": {\"outlinewidth\": 0, \"ticks\": \"\"}, \"colorscale\": [[0.0, \"#0d0887\"], [0.1111111111111111, \"#46039f\"], [0.2222222222222222, \"#7201a8\"], [0.3333333333333333, \"#9c179e\"], [0.4444444444444444, \"#bd3786\"], [0.5555555555555556, \"#d8576b\"], [0.6666666666666666, \"#ed7953\"], [0.7777777777777778, \"#fb9f3a\"], [0.8888888888888888, \"#fdca26\"], [1.0, \"#f0f921\"]], \"type\": \"heatmapgl\"}], \"histogram\": [{\"marker\": {\"colorbar\": {\"outlinewidth\": 0, \"ticks\": \"\"}}, \"type\": \"histogram\"}], \"histogram2d\": [{\"colorbar\": {\"outlinewidth\": 0, \"ticks\": \"\"}, \"colorscale\": [[0.0, \"#0d0887\"], [0.1111111111111111, \"#46039f\"], [0.2222222222222222, \"#7201a8\"], [0.3333333333333333, \"#9c179e\"], [0.4444444444444444, \"#bd3786\"], [0.5555555555555556, \"#d8576b\"], [0.6666666666666666, \"#ed7953\"], [0.7777777777777778, \"#fb9f3a\"], [0.8888888888888888, \"#fdca26\"], [1.0, \"#f0f921\"]], \"type\": \"histogram2d\"}], \"histogram2dcontour\": [{\"colorbar\": {\"outlinewidth\": 0, \"ticks\": \"\"}, \"colorscale\": [[0.0, \"#0d0887\"], [0.1111111111111111, \"#46039f\"], [0.2222222222222222, \"#7201a8\"], [0.3333333333333333, \"#9c179e\"], [0.4444444444444444, \"#bd3786\"], [0.5555555555555556, \"#d8576b\"], [0.6666666666666666, \"#ed7953\"], [0.7777777777777778, \"#fb9f3a\"], [0.8888888888888888, \"#fdca26\"], [1.0, \"#f0f921\"]], \"type\": \"histogram2dcontour\"}], \"mesh3d\": [{\"colorbar\": {\"outlinewidth\": 0, \"ticks\": \"\"}, \"type\": \"mesh3d\"}], \"parcoords\": [{\"line\": {\"colorbar\": {\"outlinewidth\": 0, \"ticks\": \"\"}}, \"type\": \"parcoords\"}], \"pie\": [{\"automargin\": true, \"type\": \"pie\"}], \"scatter\": [{\"marker\": {\"colorbar\": {\"outlinewidth\": 0, \"ticks\": \"\"}}, \"type\": \"scatter\"}], \"scatter3d\": [{\"line\": {\"colorbar\": {\"outlinewidth\": 0, \"ticks\": \"\"}}, \"marker\": {\"colorbar\": {\"outlinewidth\": 0, \"ticks\": \"\"}}, \"type\": \"scatter3d\"}], \"scattercarpet\": [{\"marker\": {\"colorbar\": {\"outlinewidth\": 0, \"ticks\": \"\"}}, \"type\": \"scattercarpet\"}], \"scattergeo\": [{\"marker\": {\"colorbar\": {\"outlinewidth\": 0, \"ticks\": \"\"}}, \"type\": \"scattergeo\"}], \"scattergl\": [{\"marker\": {\"colorbar\": {\"outlinewidth\": 0, \"ticks\": \"\"}}, \"type\": \"scattergl\"}], \"scattermapbox\": [{\"marker\": {\"colorbar\": {\"outlinewidth\": 0, \"ticks\": \"\"}}, \"type\": \"scattermapbox\"}], \"scatterpolar\": [{\"marker\": {\"colorbar\": {\"outlinewidth\": 0, \"ticks\": \"\"}}, \"type\": \"scatterpolar\"}], \"scatterpolargl\": [{\"marker\": {\"colorbar\": {\"outlinewidth\": 0, \"ticks\": \"\"}}, \"type\": \"scatterpolargl\"}], \"scatterternary\": [{\"marker\": {\"colorbar\": {\"outlinewidth\": 0, \"ticks\": \"\"}}, \"type\": \"scatterternary\"}], \"surface\": [{\"colorbar\": {\"outlinewidth\": 0, \"ticks\": \"\"}, \"colorscale\": [[0.0, \"#0d0887\"], [0.1111111111111111, \"#46039f\"], [0.2222222222222222, \"#7201a8\"], [0.3333333333333333, \"#9c179e\"], [0.4444444444444444, \"#bd3786\"], [0.5555555555555556, \"#d8576b\"], [0.6666666666666666, \"#ed7953\"], [0.7777777777777778, \"#fb9f3a\"], [0.8888888888888888, \"#fdca26\"], [1.0, \"#f0f921\"]], \"type\": \"surface\"}], \"table\": [{\"cells\": {\"fill\": {\"color\": \"#EBF0F8\"}, \"line\": {\"color\": \"white\"}}, \"header\": {\"fill\": {\"color\": \"#C8D4E3\"}, \"line\": {\"color\": \"white\"}}, \"type\": \"table\"}]}, \"layout\": {\"annotationdefaults\": {\"arrowcolor\": \"#2a3f5f\", \"arrowhead\": 0, \"arrowwidth\": 1}, \"coloraxis\": {\"colorbar\": {\"outlinewidth\": 0, \"ticks\": \"\"}}, \"colorscale\": {\"diverging\": [[0, \"#8e0152\"], [0.1, \"#c51b7d\"], [0.2, \"#de77ae\"], [0.3, \"#f1b6da\"], [0.4, \"#fde0ef\"], [0.5, \"#f7f7f7\"], [0.6, \"#e6f5d0\"], [0.7, \"#b8e186\"], [0.8, \"#7fbc41\"], [0.9, \"#4d9221\"], [1, \"#276419\"]], \"sequential\": [[0.0, \"#0d0887\"], [0.1111111111111111, \"#46039f\"], [0.2222222222222222, \"#7201a8\"], [0.3333333333333333, \"#9c179e\"], [0.4444444444444444, \"#bd3786\"], [0.5555555555555556, \"#d8576b\"], [0.6666666666666666, \"#ed7953\"], [0.7777777777777778, \"#fb9f3a\"], [0.8888888888888888, \"#fdca26\"], [1.0, \"#f0f921\"]], \"sequentialminus\": [[0.0, \"#0d0887\"], [0.1111111111111111, \"#46039f\"], [0.2222222222222222, \"#7201a8\"], [0.3333333333333333, \"#9c179e\"], [0.4444444444444444, \"#bd3786\"], [0.5555555555555556, \"#d8576b\"], [0.6666666666666666, \"#ed7953\"], [0.7777777777777778, \"#fb9f3a\"], [0.8888888888888888, \"#fdca26\"], [1.0, \"#f0f921\"]]}, \"colorway\": [\"#636efa\", \"#EF553B\", \"#00cc96\", \"#ab63fa\", \"#FFA15A\", \"#19d3f3\", \"#FF6692\", \"#B6E880\", \"#FF97FF\", \"#FECB52\"], \"font\": {\"color\": \"#2a3f5f\"}, \"geo\": {\"bgcolor\": \"white\", \"lakecolor\": \"white\", \"landcolor\": \"#E5ECF6\", \"showlakes\": true, \"showland\": true, \"subunitcolor\": \"white\"}, \"hoverlabel\": {\"align\": \"left\"}, \"hovermode\": \"closest\", \"mapbox\": {\"style\": \"light\"}, \"paper_bgcolor\": \"white\", \"plot_bgcolor\": \"#E5ECF6\", \"polar\": {\"angularaxis\": {\"gridcolor\": \"white\", \"linecolor\": \"white\", \"ticks\": \"\"}, \"bgcolor\": \"#E5ECF6\", \"radialaxis\": {\"gridcolor\": \"white\", \"linecolor\": \"white\", \"ticks\": \"\"}}, \"scene\": {\"xaxis\": {\"backgroundcolor\": \"#E5ECF6\", \"gridcolor\": \"white\", \"gridwidth\": 2, \"linecolor\": \"white\", \"showbackground\": true, \"ticks\": \"\", \"zerolinecolor\": \"white\"}, \"yaxis\": {\"backgroundcolor\": \"#E5ECF6\", \"gridcolor\": \"white\", \"gridwidth\": 2, \"linecolor\": \"white\", \"showbackground\": true, \"ticks\": \"\", \"zerolinecolor\": \"white\"}, \"zaxis\": {\"backgroundcolor\": \"#E5ECF6\", \"gridcolor\": \"white\", \"gridwidth\": 2, \"linecolor\": \"white\", \"showbackground\": true, \"ticks\": \"\", \"zerolinecolor\": \"white\"}}, \"shapedefaults\": {\"line\": {\"color\": \"#2a3f5f\"}}, \"ternary\": {\"aaxis\": {\"gridcolor\": \"white\", \"linecolor\": \"white\", \"ticks\": \"\"}, \"baxis\": {\"gridcolor\": \"white\", \"linecolor\": \"white\", \"ticks\": \"\"}, \"bgcolor\": \"#E5ECF6\", \"caxis\": {\"gridcolor\": \"white\", \"linecolor\": \"white\", \"ticks\": \"\"}}, \"title\": {\"x\": 0.05}, \"xaxis\": {\"automargin\": true, \"gridcolor\": \"white\", \"linecolor\": \"white\", \"ticks\": \"\", \"title\": {\"standoff\": 15}, \"zerolinecolor\": \"white\", \"zerolinewidth\": 2}, \"yaxis\": {\"automargin\": true, \"gridcolor\": \"white\", \"linecolor\": \"white\", \"ticks\": \"\", \"title\": {\"standoff\": 15}, \"zerolinecolor\": \"white\", \"zerolinewidth\": 2}}}, \"title\": {\"font\": {\"color\": \"#4D5663\"}}, \"xaxis\": {\"gridcolor\": \"#E1E5ED\", \"showgrid\": true, \"tickfont\": {\"color\": \"#4D5663\"}, \"title\": {\"font\": {\"color\": \"#4D5663\"}, \"text\": \"\"}, \"zerolinecolor\": \"#E1E5ED\"}, \"xaxis2\": {\"anchor\": \"y2\", \"gridcolor\": \"#E1E5ED\", \"showgrid\": true, \"showticklabels\": false, \"tickfont\": {\"color\": \"#4D5663\"}, \"title\": {\"font\": {\"color\": \"#4D5663\"}, \"text\": \"\"}, \"zerolinecolor\": \"#E1E5ED\"}, \"yaxis\": {\"domain\": [0.3, 1], \"gridcolor\": \"#E1E5ED\", \"showgrid\": true, \"tickfont\": {\"color\": \"#4D5663\"}, \"title\": {\"font\": {\"color\": \"#4D5663\"}, \"text\": \"\"}, \"zerolinecolor\": \"#E1E5ED\"}, \"yaxis2\": {\"domain\": [0, 0.25], \"gridcolor\": \"#E1E5ED\", \"showgrid\": true, \"tickfont\": {\"color\": \"#4D5663\"}, \"title\": {\"font\": {\"color\": \"#4D5663\"}, \"text\": \"Spread\"}, \"zerolinecolor\": \"#E1E5ED\"}},                        {\"showLink\": true, \"linkText\": \"Export to plot.ly\", \"plotlyServerURL\": \"https://plot.ly\", \"responsive\": true}                    ).then(function(){\n",
       "                            \n",
       "var gd = document.getElementById('bda3ff99-844b-46ea-9d1c-2bd15a648129');\n",
       "var x = new MutationObserver(function (mutations, observer) {{\n",
       "        var display = window.getComputedStyle(gd).display;\n",
       "        if (!display || display === 'none') {{\n",
       "            console.log([gd, 'removed!']);\n",
       "            Plotly.purge(gd);\n",
       "            observer.disconnect();\n",
       "        }}\n",
       "}});\n",
       "\n",
       "// Listen for the removal of the full notebook cells\n",
       "var notebookContainer = gd.closest('#notebook-container');\n",
       "if (notebookContainer) {{\n",
       "    x.observe(notebookContainer, {childList: true});\n",
       "}}\n",
       "\n",
       "// Listen for the clearing of the current output cell\n",
       "var outputEl = gd.closest('.output');\n",
       "if (outputEl) {{\n",
       "    x.observe(outputEl, {childList: true});\n",
       "}}\n",
       "\n",
       "                        })                };                });            </script>        </div>"
      ]
     },
     "metadata": {},
     "output_type": "display_data"
    }
   ],
   "source": [
    "df[['A','B']].iplot(kind='spread')"
   ]
  },
  {
   "cell_type": "code",
   "execution_count": 16,
   "metadata": {},
   "outputs": [
    {
     "data": {
      "application/vnd.plotly.v1+json": {
       "config": {
        "linkText": "Export to plot.ly",
        "plotlyServerURL": "https://plot.ly",
        "showLink": true
       },
       "data": [
        {
         "marker": {
          "color": [
           "rgb(165,0,38)",
           "rgb(215,48,39)",
           "rgb(244,109,67)",
           "rgb(253,174,97)",
           "rgb(254,224,144)",
           "rgb(255,255,191)",
           "rgb(224,243,248)",
           "rgb(171,217,233)",
           "rgb(116,173,209)",
           "rgb(69,117,180)",
           "rgb(49,54,149)"
          ],
          "line": {
           "width": 1.3
          },
          "size": [
           60,
           87,
           56,
           94,
           79,
           67,
           76,
           46,
           89,
           61,
           61,
           37,
           89,
           70,
           93,
           86,
           17,
           49,
           52,
           49,
           82,
           69,
           68,
           79,
           69,
           85,
           87,
           63,
           74,
           77,
           33,
           40,
           69,
           69,
           105,
           106,
           53,
           84,
           27,
           91,
           52,
           61,
           57,
           92,
           74,
           32,
           69,
           75,
           57,
           37,
           62,
           73,
           102,
           69,
           75,
           56,
           43,
           81,
           85,
           107,
           92,
           64,
           61,
           70,
           52,
           59,
           82,
           69,
           64,
           49,
           74,
           68,
           97,
           62,
           68,
           79,
           75,
           57,
           89,
           70,
           36,
           49,
           12,
           84,
           75,
           56,
           50,
           50,
           81,
           31,
           112,
           54,
           83,
           79,
           30,
           57,
           66,
           70,
           47,
           53
          ],
          "symbol": "circle"
         },
         "mode": "markers",
         "text": "",
         "type": "scatter",
         "x": [
          -1.3345721423538044,
          1.152744983274052,
          -0.4144432895718666,
          1.4302774060136265,
          1.1032714804754071,
          0.3191628341280002,
          0.29167766457536576,
          -0.2948260219573132,
          -0.7898916249391608,
          0.7579798280599954,
          0.7023990585262951,
          0.3617203499296237,
          1.3840609450336574,
          2.1234137119547905,
          0.2810105000977317,
          1.3417915860610645,
          -0.2412397886071698,
          -1.4800784340458517,
          -0.43730607784210224,
          1.2776043936563957,
          0.23681297531851184,
          0.540390995960289,
          1.6871090335390888,
          -0.12613605829513988,
          -0.5588115339425442,
          1.8051083114525888,
          -1.1726637178355273,
          0.8869084864979949,
          -0.6608453517139303,
          0.86318177144118,
          1.3220433452814955,
          -0.040310682232710525,
          -0.6822401059683589,
          1.0146630751377788,
          -0.09408866628468343,
          -0.3835960857750811,
          -0.033174674346961475,
          0.6882005981376775,
          -0.8463552045373701,
          0.3558779153321544,
          0.4162235961224696,
          1.2455350592782963,
          -0.4404736135266595,
          -0.021206617569660913,
          0.910807493204989,
          0.7261457915112387,
          -1.0852814847699983,
          -0.6116324809576813,
          0.4419712096882013,
          -0.9549757189699014,
          -1.0917298503989892,
          1.683458340637992,
          -2.34848252238384,
          -0.21404278096559237,
          1.7763779984983499,
          -0.6061798311193356,
          0.2018170117960935,
          1.1347757868560242,
          -0.036032949775629396,
          -0.34619100102470757,
          -0.288608149951723,
          0.5650826594364331,
          0.8499639803220693,
          0.9894872408033251,
          0.06569041064446172,
          0.054489734536987196,
          -1.9952387047587858,
          -2.2784797833534043,
          -0.3235225571592153,
          0.7985449754329478,
          0.5562115947213144,
          0.19932402438213523,
          -0.1403275336563558,
          0.9855129234750741,
          0.3045407336196398,
          0.53929898768602,
          -0.27575107464618664,
          -0.07407610262260471,
          0.11499769199840022,
          -0.7978934478689437,
          1.6231013726732846,
          0.11356346504298263,
          1.0257404298721093,
          0.38698431699048086,
          1.5573123378387754,
          -0.3575297031395702,
          -0.7186779504700587,
          -0.35459907027756954,
          1.0501179801717468,
          0.9723530993336464,
          -1.7859678584514145,
          -1.3568059526808665,
          1.620503617755656,
          1.0373614474576012,
          -1.6411237307693962,
          -2.052337862151146,
          1.5268582726716706,
          1.176810614698316,
          -0.511936349742928,
          1.8899167884179937
         ],
         "y": [
          0.18934519564362062,
          -0.5168133289643818,
          -0.575887085195419,
          0.2654879300880599,
          -0.42270044140335306,
          0.49202396803406306,
          -0.05813887150593542,
          -1.9198333732052166,
          -1.1749861717602872,
          0.16124454493046997,
          -0.01733316004195805,
          -0.9257924593376672,
          0.09006921111651374,
          0.9734162863579563,
          -0.4518387082824791,
          -0.26153686886886934,
          0.28232403258757965,
          -1.0529426660554346,
          0.10202608047979453,
          0.23633183741611294,
          0.23498955155440895,
          0.9677590445244143,
          1.831253424242203,
          0.2415382607666498,
          -1.4230300649451495,
          2.2312182747485743,
          1.236202195805703,
          0.003390367770349785,
          -0.6237252050062434,
          -0.2342174145278324,
          -1.924925714689275,
          -0.9337128747220547,
          1.7543360784429163,
          0.7581829264781671,
          -0.08232277508753891,
          -0.45468484443795826,
          -0.19935092376725272,
          0.3432671525145582,
          -0.07884733212534094,
          0.9131918232446734,
          -0.8685402818250365,
          0.6883979203844126,
          1.0774186567698938,
          -1.2365006595554795,
          -0.604706613485279,
          0.5530504203367701,
          -1.1638121061985844,
          1.1266844459061904,
          -0.9565987159997782,
          0.46966062495493444,
          -0.15512534613084203,
          -1.201935972800709,
          1.0209556886714029,
          0.2795071484988548,
          1.4659564159180398,
          -0.4515262872130025,
          -0.4514630053316504,
          -0.0711730466463417,
          -2.1375937961790283,
          -0.7568430799085749,
          -1.051286755748964,
          0.27836127689014034,
          -0.4279875997952308,
          1.452930902585046,
          1.1703271571918823,
          -0.8463298634985316,
          0.6110841975955712,
          1.2940742777754228,
          -0.9945647867400169,
          1.5151241023797244,
          0.5075362134278456,
          -1.1735886638674613,
          1.98485816589851,
          0.7982761159418083,
          -0.07944727878078828,
          -0.7971158770598205,
          0.8537029643240611,
          -1.670795262780064,
          0.4918535139756341,
          -0.5521934592979183,
          -2.6713602633960485,
          -0.6402242514425622,
          -0.2530997756328507,
          0.13291790640185097,
          1.840027332124377,
          0.4256107998272355,
          -0.10524227119226856,
          0.7568395535199907,
          0.01227355678842452,
          -0.18777367729543826,
          0.11596626772388403,
          0.26977552573541597,
          -0.993101164784401,
          -0.05067529958534019,
          -0.5047305795737309,
          0.9070451286544564,
          0.5229498297030087,
          1.499042011679956,
          -0.9162419500042097,
          0.5257383477604088
         ]
        }
       ],
       "layout": {
        "legend": {
         "bgcolor": "#F5F6F9",
         "font": {
          "color": "#4D5663"
         }
        },
        "paper_bgcolor": "#F5F6F9",
        "plot_bgcolor": "#F5F6F9",
        "template": {
         "data": {
          "bar": [
           {
            "error_x": {
             "color": "#2a3f5f"
            },
            "error_y": {
             "color": "#2a3f5f"
            },
            "marker": {
             "line": {
              "color": "#E5ECF6",
              "width": 0.5
             }
            },
            "type": "bar"
           }
          ],
          "barpolar": [
           {
            "marker": {
             "line": {
              "color": "#E5ECF6",
              "width": 0.5
             }
            },
            "type": "barpolar"
           }
          ],
          "carpet": [
           {
            "aaxis": {
             "endlinecolor": "#2a3f5f",
             "gridcolor": "white",
             "linecolor": "white",
             "minorgridcolor": "white",
             "startlinecolor": "#2a3f5f"
            },
            "baxis": {
             "endlinecolor": "#2a3f5f",
             "gridcolor": "white",
             "linecolor": "white",
             "minorgridcolor": "white",
             "startlinecolor": "#2a3f5f"
            },
            "type": "carpet"
           }
          ],
          "choropleth": [
           {
            "colorbar": {
             "outlinewidth": 0,
             "ticks": ""
            },
            "type": "choropleth"
           }
          ],
          "contour": [
           {
            "colorbar": {
             "outlinewidth": 0,
             "ticks": ""
            },
            "colorscale": [
             [
              0,
              "#0d0887"
             ],
             [
              0.1111111111111111,
              "#46039f"
             ],
             [
              0.2222222222222222,
              "#7201a8"
             ],
             [
              0.3333333333333333,
              "#9c179e"
             ],
             [
              0.4444444444444444,
              "#bd3786"
             ],
             [
              0.5555555555555556,
              "#d8576b"
             ],
             [
              0.6666666666666666,
              "#ed7953"
             ],
             [
              0.7777777777777778,
              "#fb9f3a"
             ],
             [
              0.8888888888888888,
              "#fdca26"
             ],
             [
              1,
              "#f0f921"
             ]
            ],
            "type": "contour"
           }
          ],
          "contourcarpet": [
           {
            "colorbar": {
             "outlinewidth": 0,
             "ticks": ""
            },
            "type": "contourcarpet"
           }
          ],
          "heatmap": [
           {
            "colorbar": {
             "outlinewidth": 0,
             "ticks": ""
            },
            "colorscale": [
             [
              0,
              "#0d0887"
             ],
             [
              0.1111111111111111,
              "#46039f"
             ],
             [
              0.2222222222222222,
              "#7201a8"
             ],
             [
              0.3333333333333333,
              "#9c179e"
             ],
             [
              0.4444444444444444,
              "#bd3786"
             ],
             [
              0.5555555555555556,
              "#d8576b"
             ],
             [
              0.6666666666666666,
              "#ed7953"
             ],
             [
              0.7777777777777778,
              "#fb9f3a"
             ],
             [
              0.8888888888888888,
              "#fdca26"
             ],
             [
              1,
              "#f0f921"
             ]
            ],
            "type": "heatmap"
           }
          ],
          "heatmapgl": [
           {
            "colorbar": {
             "outlinewidth": 0,
             "ticks": ""
            },
            "colorscale": [
             [
              0,
              "#0d0887"
             ],
             [
              0.1111111111111111,
              "#46039f"
             ],
             [
              0.2222222222222222,
              "#7201a8"
             ],
             [
              0.3333333333333333,
              "#9c179e"
             ],
             [
              0.4444444444444444,
              "#bd3786"
             ],
             [
              0.5555555555555556,
              "#d8576b"
             ],
             [
              0.6666666666666666,
              "#ed7953"
             ],
             [
              0.7777777777777778,
              "#fb9f3a"
             ],
             [
              0.8888888888888888,
              "#fdca26"
             ],
             [
              1,
              "#f0f921"
             ]
            ],
            "type": "heatmapgl"
           }
          ],
          "histogram": [
           {
            "marker": {
             "colorbar": {
              "outlinewidth": 0,
              "ticks": ""
             }
            },
            "type": "histogram"
           }
          ],
          "histogram2d": [
           {
            "colorbar": {
             "outlinewidth": 0,
             "ticks": ""
            },
            "colorscale": [
             [
              0,
              "#0d0887"
             ],
             [
              0.1111111111111111,
              "#46039f"
             ],
             [
              0.2222222222222222,
              "#7201a8"
             ],
             [
              0.3333333333333333,
              "#9c179e"
             ],
             [
              0.4444444444444444,
              "#bd3786"
             ],
             [
              0.5555555555555556,
              "#d8576b"
             ],
             [
              0.6666666666666666,
              "#ed7953"
             ],
             [
              0.7777777777777778,
              "#fb9f3a"
             ],
             [
              0.8888888888888888,
              "#fdca26"
             ],
             [
              1,
              "#f0f921"
             ]
            ],
            "type": "histogram2d"
           }
          ],
          "histogram2dcontour": [
           {
            "colorbar": {
             "outlinewidth": 0,
             "ticks": ""
            },
            "colorscale": [
             [
              0,
              "#0d0887"
             ],
             [
              0.1111111111111111,
              "#46039f"
             ],
             [
              0.2222222222222222,
              "#7201a8"
             ],
             [
              0.3333333333333333,
              "#9c179e"
             ],
             [
              0.4444444444444444,
              "#bd3786"
             ],
             [
              0.5555555555555556,
              "#d8576b"
             ],
             [
              0.6666666666666666,
              "#ed7953"
             ],
             [
              0.7777777777777778,
              "#fb9f3a"
             ],
             [
              0.8888888888888888,
              "#fdca26"
             ],
             [
              1,
              "#f0f921"
             ]
            ],
            "type": "histogram2dcontour"
           }
          ],
          "mesh3d": [
           {
            "colorbar": {
             "outlinewidth": 0,
             "ticks": ""
            },
            "type": "mesh3d"
           }
          ],
          "parcoords": [
           {
            "line": {
             "colorbar": {
              "outlinewidth": 0,
              "ticks": ""
             }
            },
            "type": "parcoords"
           }
          ],
          "pie": [
           {
            "automargin": true,
            "type": "pie"
           }
          ],
          "scatter": [
           {
            "marker": {
             "colorbar": {
              "outlinewidth": 0,
              "ticks": ""
             }
            },
            "type": "scatter"
           }
          ],
          "scatter3d": [
           {
            "line": {
             "colorbar": {
              "outlinewidth": 0,
              "ticks": ""
             }
            },
            "marker": {
             "colorbar": {
              "outlinewidth": 0,
              "ticks": ""
             }
            },
            "type": "scatter3d"
           }
          ],
          "scattercarpet": [
           {
            "marker": {
             "colorbar": {
              "outlinewidth": 0,
              "ticks": ""
             }
            },
            "type": "scattercarpet"
           }
          ],
          "scattergeo": [
           {
            "marker": {
             "colorbar": {
              "outlinewidth": 0,
              "ticks": ""
             }
            },
            "type": "scattergeo"
           }
          ],
          "scattergl": [
           {
            "marker": {
             "colorbar": {
              "outlinewidth": 0,
              "ticks": ""
             }
            },
            "type": "scattergl"
           }
          ],
          "scattermapbox": [
           {
            "marker": {
             "colorbar": {
              "outlinewidth": 0,
              "ticks": ""
             }
            },
            "type": "scattermapbox"
           }
          ],
          "scatterpolar": [
           {
            "marker": {
             "colorbar": {
              "outlinewidth": 0,
              "ticks": ""
             }
            },
            "type": "scatterpolar"
           }
          ],
          "scatterpolargl": [
           {
            "marker": {
             "colorbar": {
              "outlinewidth": 0,
              "ticks": ""
             }
            },
            "type": "scatterpolargl"
           }
          ],
          "scatterternary": [
           {
            "marker": {
             "colorbar": {
              "outlinewidth": 0,
              "ticks": ""
             }
            },
            "type": "scatterternary"
           }
          ],
          "surface": [
           {
            "colorbar": {
             "outlinewidth": 0,
             "ticks": ""
            },
            "colorscale": [
             [
              0,
              "#0d0887"
             ],
             [
              0.1111111111111111,
              "#46039f"
             ],
             [
              0.2222222222222222,
              "#7201a8"
             ],
             [
              0.3333333333333333,
              "#9c179e"
             ],
             [
              0.4444444444444444,
              "#bd3786"
             ],
             [
              0.5555555555555556,
              "#d8576b"
             ],
             [
              0.6666666666666666,
              "#ed7953"
             ],
             [
              0.7777777777777778,
              "#fb9f3a"
             ],
             [
              0.8888888888888888,
              "#fdca26"
             ],
             [
              1,
              "#f0f921"
             ]
            ],
            "type": "surface"
           }
          ],
          "table": [
           {
            "cells": {
             "fill": {
              "color": "#EBF0F8"
             },
             "line": {
              "color": "white"
             }
            },
            "header": {
             "fill": {
              "color": "#C8D4E3"
             },
             "line": {
              "color": "white"
             }
            },
            "type": "table"
           }
          ]
         },
         "layout": {
          "annotationdefaults": {
           "arrowcolor": "#2a3f5f",
           "arrowhead": 0,
           "arrowwidth": 1
          },
          "coloraxis": {
           "colorbar": {
            "outlinewidth": 0,
            "ticks": ""
           }
          },
          "colorscale": {
           "diverging": [
            [
             0,
             "#8e0152"
            ],
            [
             0.1,
             "#c51b7d"
            ],
            [
             0.2,
             "#de77ae"
            ],
            [
             0.3,
             "#f1b6da"
            ],
            [
             0.4,
             "#fde0ef"
            ],
            [
             0.5,
             "#f7f7f7"
            ],
            [
             0.6,
             "#e6f5d0"
            ],
            [
             0.7,
             "#b8e186"
            ],
            [
             0.8,
             "#7fbc41"
            ],
            [
             0.9,
             "#4d9221"
            ],
            [
             1,
             "#276419"
            ]
           ],
           "sequential": [
            [
             0,
             "#0d0887"
            ],
            [
             0.1111111111111111,
             "#46039f"
            ],
            [
             0.2222222222222222,
             "#7201a8"
            ],
            [
             0.3333333333333333,
             "#9c179e"
            ],
            [
             0.4444444444444444,
             "#bd3786"
            ],
            [
             0.5555555555555556,
             "#d8576b"
            ],
            [
             0.6666666666666666,
             "#ed7953"
            ],
            [
             0.7777777777777778,
             "#fb9f3a"
            ],
            [
             0.8888888888888888,
             "#fdca26"
            ],
            [
             1,
             "#f0f921"
            ]
           ],
           "sequentialminus": [
            [
             0,
             "#0d0887"
            ],
            [
             0.1111111111111111,
             "#46039f"
            ],
            [
             0.2222222222222222,
             "#7201a8"
            ],
            [
             0.3333333333333333,
             "#9c179e"
            ],
            [
             0.4444444444444444,
             "#bd3786"
            ],
            [
             0.5555555555555556,
             "#d8576b"
            ],
            [
             0.6666666666666666,
             "#ed7953"
            ],
            [
             0.7777777777777778,
             "#fb9f3a"
            ],
            [
             0.8888888888888888,
             "#fdca26"
            ],
            [
             1,
             "#f0f921"
            ]
           ]
          },
          "colorway": [
           "#636efa",
           "#EF553B",
           "#00cc96",
           "#ab63fa",
           "#FFA15A",
           "#19d3f3",
           "#FF6692",
           "#B6E880",
           "#FF97FF",
           "#FECB52"
          ],
          "font": {
           "color": "#2a3f5f"
          },
          "geo": {
           "bgcolor": "white",
           "lakecolor": "white",
           "landcolor": "#E5ECF6",
           "showlakes": true,
           "showland": true,
           "subunitcolor": "white"
          },
          "hoverlabel": {
           "align": "left"
          },
          "hovermode": "closest",
          "mapbox": {
           "style": "light"
          },
          "paper_bgcolor": "white",
          "plot_bgcolor": "#E5ECF6",
          "polar": {
           "angularaxis": {
            "gridcolor": "white",
            "linecolor": "white",
            "ticks": ""
           },
           "bgcolor": "#E5ECF6",
           "radialaxis": {
            "gridcolor": "white",
            "linecolor": "white",
            "ticks": ""
           }
          },
          "scene": {
           "xaxis": {
            "backgroundcolor": "#E5ECF6",
            "gridcolor": "white",
            "gridwidth": 2,
            "linecolor": "white",
            "showbackground": true,
            "ticks": "",
            "zerolinecolor": "white"
           },
           "yaxis": {
            "backgroundcolor": "#E5ECF6",
            "gridcolor": "white",
            "gridwidth": 2,
            "linecolor": "white",
            "showbackground": true,
            "ticks": "",
            "zerolinecolor": "white"
           },
           "zaxis": {
            "backgroundcolor": "#E5ECF6",
            "gridcolor": "white",
            "gridwidth": 2,
            "linecolor": "white",
            "showbackground": true,
            "ticks": "",
            "zerolinecolor": "white"
           }
          },
          "shapedefaults": {
           "line": {
            "color": "#2a3f5f"
           }
          },
          "ternary": {
           "aaxis": {
            "gridcolor": "white",
            "linecolor": "white",
            "ticks": ""
           },
           "baxis": {
            "gridcolor": "white",
            "linecolor": "white",
            "ticks": ""
           },
           "bgcolor": "#E5ECF6",
           "caxis": {
            "gridcolor": "white",
            "linecolor": "white",
            "ticks": ""
           }
          },
          "title": {
           "x": 0.05
          },
          "xaxis": {
           "automargin": true,
           "gridcolor": "white",
           "linecolor": "white",
           "ticks": "",
           "title": {
            "standoff": 15
           },
           "zerolinecolor": "white",
           "zerolinewidth": 2
          },
          "yaxis": {
           "automargin": true,
           "gridcolor": "white",
           "linecolor": "white",
           "ticks": "",
           "title": {
            "standoff": 15
           },
           "zerolinecolor": "white",
           "zerolinewidth": 2
          }
         }
        },
        "title": {
         "font": {
          "color": "#4D5663"
         }
        },
        "xaxis": {
         "gridcolor": "#E1E5ED",
         "showgrid": true,
         "tickfont": {
          "color": "#4D5663"
         },
         "title": {
          "font": {
           "color": "#4D5663"
          },
          "text": ""
         },
         "zerolinecolor": "#E1E5ED"
        },
        "yaxis": {
         "gridcolor": "#E1E5ED",
         "showgrid": true,
         "tickfont": {
          "color": "#4D5663"
         },
         "title": {
          "font": {
           "color": "#4D5663"
          },
          "text": ""
         },
         "zerolinecolor": "#E1E5ED"
        }
       }
      },
      "text/html": [
       "<div>                            <div id=\"3594dad9-a9e5-465e-a670-40ad42896fc3\" class=\"plotly-graph-div\" style=\"height:525px; width:100%;\"></div>            <script type=\"text/javascript\">                require([\"plotly\"], function(Plotly) {                    window.PLOTLYENV=window.PLOTLYENV || {};\n",
       "                    window.PLOTLYENV.BASE_URL='https://plot.ly';                                    if (document.getElementById(\"3594dad9-a9e5-465e-a670-40ad42896fc3\")) {                    Plotly.newPlot(                        \"3594dad9-a9e5-465e-a670-40ad42896fc3\",                        [{\"marker\": {\"color\": [\"rgb(165,0,38)\", \"rgb(215,48,39)\", \"rgb(244,109,67)\", \"rgb(253,174,97)\", \"rgb(254,224,144)\", \"rgb(255,255,191)\", \"rgb(224,243,248)\", \"rgb(171,217,233)\", \"rgb(116,173,209)\", \"rgb(69,117,180)\", \"rgb(49,54,149)\"], \"line\": {\"width\": 1.3}, \"size\": [60, 87, 56, 94, 79, 67, 76, 46, 89, 61, 61, 37, 89, 70, 93, 86, 17, 49, 52, 49, 82, 69, 68, 79, 69, 85, 87, 63, 74, 77, 33, 40, 69, 69, 105, 106, 53, 84, 27, 91, 52, 61, 57, 92, 74, 32, 69, 75, 57, 37, 62, 73, 102, 69, 75, 56, 43, 81, 85, 107, 92, 64, 61, 70, 52, 59, 82, 69, 64, 49, 74, 68, 97, 62, 68, 79, 75, 57, 89, 70, 36, 49, 12, 84, 75, 56, 50, 50, 81, 31, 112, 54, 83, 79, 30, 57, 66, 70, 47, 53], \"symbol\": \"circle\"}, \"mode\": \"markers\", \"text\": \"\", \"type\": \"scatter\", \"x\": [-1.3345721423538044, 1.152744983274052, -0.4144432895718666, 1.4302774060136265, 1.1032714804754071, 0.3191628341280002, 0.29167766457536576, -0.2948260219573132, -0.7898916249391608, 0.7579798280599954, 0.7023990585262951, 0.3617203499296237, 1.3840609450336574, 2.1234137119547905, 0.2810105000977317, 1.3417915860610645, -0.2412397886071698, -1.4800784340458517, -0.43730607784210224, 1.2776043936563957, 0.23681297531851184, 0.540390995960289, 1.6871090335390888, -0.12613605829513988, -0.5588115339425442, 1.8051083114525888, -1.1726637178355273, 0.8869084864979949, -0.6608453517139303, 0.86318177144118, 1.3220433452814955, -0.040310682232710525, -0.6822401059683589, 1.0146630751377788, -0.09408866628468343, -0.3835960857750811, -0.033174674346961475, 0.6882005981376775, -0.8463552045373701, 0.3558779153321544, 0.4162235961224696, 1.2455350592782963, -0.4404736135266595, -0.021206617569660913, 0.910807493204989, 0.7261457915112387, -1.0852814847699983, -0.6116324809576813, 0.4419712096882013, -0.9549757189699014, -1.0917298503989892, 1.683458340637992, -2.34848252238384, -0.21404278096559237, 1.7763779984983499, -0.6061798311193356, 0.2018170117960935, 1.1347757868560242, -0.036032949775629396, -0.34619100102470757, -0.288608149951723, 0.5650826594364331, 0.8499639803220693, 0.9894872408033251, 0.06569041064446172, 0.054489734536987196, -1.9952387047587858, -2.2784797833534043, -0.3235225571592153, 0.7985449754329478, 0.5562115947213144, 0.19932402438213523, -0.1403275336563558, 0.9855129234750741, 0.3045407336196398, 0.53929898768602, -0.27575107464618664, -0.07407610262260471, 0.11499769199840022, -0.7978934478689437, 1.6231013726732846, 0.11356346504298263, 1.0257404298721093, 0.38698431699048086, 1.5573123378387754, -0.3575297031395702, -0.7186779504700587, -0.35459907027756954, 1.0501179801717468, 0.9723530993336464, -1.7859678584514145, -1.3568059526808665, 1.620503617755656, 1.0373614474576012, -1.6411237307693962, -2.052337862151146, 1.5268582726716706, 1.176810614698316, -0.511936349742928, 1.8899167884179937], \"y\": [0.18934519564362062, -0.5168133289643818, -0.575887085195419, 0.2654879300880599, -0.42270044140335306, 0.49202396803406306, -0.05813887150593542, -1.9198333732052166, -1.1749861717602872, 0.16124454493046997, -0.01733316004195805, -0.9257924593376672, 0.09006921111651374, 0.9734162863579563, -0.4518387082824791, -0.26153686886886934, 0.28232403258757965, -1.0529426660554346, 0.10202608047979453, 0.23633183741611294, 0.23498955155440895, 0.9677590445244143, 1.831253424242203, 0.2415382607666498, -1.4230300649451495, 2.2312182747485743, 1.236202195805703, 0.003390367770349785, -0.6237252050062434, -0.2342174145278324, -1.924925714689275, -0.9337128747220547, 1.7543360784429163, 0.7581829264781671, -0.08232277508753891, -0.45468484443795826, -0.19935092376725272, 0.3432671525145582, -0.07884733212534094, 0.9131918232446734, -0.8685402818250365, 0.6883979203844126, 1.0774186567698938, -1.2365006595554795, -0.604706613485279, 0.5530504203367701, -1.1638121061985844, 1.1266844459061904, -0.9565987159997782, 0.46966062495493444, -0.15512534613084203, -1.201935972800709, 1.0209556886714029, 0.2795071484988548, 1.4659564159180398, -0.4515262872130025, -0.4514630053316504, -0.0711730466463417, -2.1375937961790283, -0.7568430799085749, -1.051286755748964, 0.27836127689014034, -0.4279875997952308, 1.452930902585046, 1.1703271571918823, -0.8463298634985316, 0.6110841975955712, 1.2940742777754228, -0.9945647867400169, 1.5151241023797244, 0.5075362134278456, -1.1735886638674613, 1.98485816589851, 0.7982761159418083, -0.07944727878078828, -0.7971158770598205, 0.8537029643240611, -1.670795262780064, 0.4918535139756341, -0.5521934592979183, -2.6713602633960485, -0.6402242514425622, -0.2530997756328507, 0.13291790640185097, 1.840027332124377, 0.4256107998272355, -0.10524227119226856, 0.7568395535199907, 0.01227355678842452, -0.18777367729543826, 0.11596626772388403, 0.26977552573541597, -0.993101164784401, -0.05067529958534019, -0.5047305795737309, 0.9070451286544564, 0.5229498297030087, 1.499042011679956, -0.9162419500042097, 0.5257383477604088]}],                        {\"legend\": {\"bgcolor\": \"#F5F6F9\", \"font\": {\"color\": \"#4D5663\"}}, \"paper_bgcolor\": \"#F5F6F9\", \"plot_bgcolor\": \"#F5F6F9\", \"template\": {\"data\": {\"bar\": [{\"error_x\": {\"color\": \"#2a3f5f\"}, \"error_y\": {\"color\": \"#2a3f5f\"}, \"marker\": {\"line\": {\"color\": \"#E5ECF6\", \"width\": 0.5}}, \"type\": \"bar\"}], \"barpolar\": [{\"marker\": {\"line\": {\"color\": \"#E5ECF6\", \"width\": 0.5}}, \"type\": \"barpolar\"}], \"carpet\": [{\"aaxis\": {\"endlinecolor\": \"#2a3f5f\", \"gridcolor\": \"white\", \"linecolor\": \"white\", \"minorgridcolor\": \"white\", \"startlinecolor\": \"#2a3f5f\"}, \"baxis\": {\"endlinecolor\": \"#2a3f5f\", \"gridcolor\": \"white\", \"linecolor\": \"white\", \"minorgridcolor\": \"white\", \"startlinecolor\": \"#2a3f5f\"}, \"type\": \"carpet\"}], \"choropleth\": [{\"colorbar\": {\"outlinewidth\": 0, \"ticks\": \"\"}, \"type\": \"choropleth\"}], \"contour\": [{\"colorbar\": {\"outlinewidth\": 0, \"ticks\": \"\"}, \"colorscale\": [[0.0, \"#0d0887\"], [0.1111111111111111, \"#46039f\"], [0.2222222222222222, \"#7201a8\"], [0.3333333333333333, \"#9c179e\"], [0.4444444444444444, \"#bd3786\"], [0.5555555555555556, \"#d8576b\"], [0.6666666666666666, \"#ed7953\"], [0.7777777777777778, \"#fb9f3a\"], [0.8888888888888888, \"#fdca26\"], [1.0, \"#f0f921\"]], \"type\": \"contour\"}], \"contourcarpet\": [{\"colorbar\": {\"outlinewidth\": 0, \"ticks\": \"\"}, \"type\": \"contourcarpet\"}], \"heatmap\": [{\"colorbar\": {\"outlinewidth\": 0, \"ticks\": \"\"}, \"colorscale\": [[0.0, \"#0d0887\"], [0.1111111111111111, \"#46039f\"], [0.2222222222222222, \"#7201a8\"], [0.3333333333333333, \"#9c179e\"], [0.4444444444444444, \"#bd3786\"], [0.5555555555555556, \"#d8576b\"], [0.6666666666666666, \"#ed7953\"], [0.7777777777777778, \"#fb9f3a\"], [0.8888888888888888, \"#fdca26\"], [1.0, \"#f0f921\"]], \"type\": \"heatmap\"}], \"heatmapgl\": [{\"colorbar\": {\"outlinewidth\": 0, \"ticks\": \"\"}, \"colorscale\": [[0.0, \"#0d0887\"], [0.1111111111111111, \"#46039f\"], [0.2222222222222222, \"#7201a8\"], [0.3333333333333333, \"#9c179e\"], [0.4444444444444444, \"#bd3786\"], [0.5555555555555556, \"#d8576b\"], [0.6666666666666666, \"#ed7953\"], [0.7777777777777778, \"#fb9f3a\"], [0.8888888888888888, \"#fdca26\"], [1.0, \"#f0f921\"]], \"type\": \"heatmapgl\"}], \"histogram\": [{\"marker\": {\"colorbar\": {\"outlinewidth\": 0, \"ticks\": \"\"}}, \"type\": \"histogram\"}], \"histogram2d\": [{\"colorbar\": {\"outlinewidth\": 0, \"ticks\": \"\"}, \"colorscale\": [[0.0, \"#0d0887\"], [0.1111111111111111, \"#46039f\"], [0.2222222222222222, \"#7201a8\"], [0.3333333333333333, \"#9c179e\"], [0.4444444444444444, \"#bd3786\"], [0.5555555555555556, \"#d8576b\"], [0.6666666666666666, \"#ed7953\"], [0.7777777777777778, \"#fb9f3a\"], [0.8888888888888888, \"#fdca26\"], [1.0, \"#f0f921\"]], \"type\": \"histogram2d\"}], \"histogram2dcontour\": [{\"colorbar\": {\"outlinewidth\": 0, \"ticks\": \"\"}, \"colorscale\": [[0.0, \"#0d0887\"], [0.1111111111111111, \"#46039f\"], [0.2222222222222222, \"#7201a8\"], [0.3333333333333333, \"#9c179e\"], [0.4444444444444444, \"#bd3786\"], [0.5555555555555556, \"#d8576b\"], [0.6666666666666666, \"#ed7953\"], [0.7777777777777778, \"#fb9f3a\"], [0.8888888888888888, \"#fdca26\"], [1.0, \"#f0f921\"]], \"type\": \"histogram2dcontour\"}], \"mesh3d\": [{\"colorbar\": {\"outlinewidth\": 0, \"ticks\": \"\"}, \"type\": \"mesh3d\"}], \"parcoords\": [{\"line\": {\"colorbar\": {\"outlinewidth\": 0, \"ticks\": \"\"}}, \"type\": \"parcoords\"}], \"pie\": [{\"automargin\": true, \"type\": \"pie\"}], \"scatter\": [{\"marker\": {\"colorbar\": {\"outlinewidth\": 0, \"ticks\": \"\"}}, \"type\": \"scatter\"}], \"scatter3d\": [{\"line\": {\"colorbar\": {\"outlinewidth\": 0, \"ticks\": \"\"}}, \"marker\": {\"colorbar\": {\"outlinewidth\": 0, \"ticks\": \"\"}}, \"type\": \"scatter3d\"}], \"scattercarpet\": [{\"marker\": {\"colorbar\": {\"outlinewidth\": 0, \"ticks\": \"\"}}, \"type\": \"scattercarpet\"}], \"scattergeo\": [{\"marker\": {\"colorbar\": {\"outlinewidth\": 0, \"ticks\": \"\"}}, \"type\": \"scattergeo\"}], \"scattergl\": [{\"marker\": {\"colorbar\": {\"outlinewidth\": 0, \"ticks\": \"\"}}, \"type\": \"scattergl\"}], \"scattermapbox\": [{\"marker\": {\"colorbar\": {\"outlinewidth\": 0, \"ticks\": \"\"}}, \"type\": \"scattermapbox\"}], \"scatterpolar\": [{\"marker\": {\"colorbar\": {\"outlinewidth\": 0, \"ticks\": \"\"}}, \"type\": \"scatterpolar\"}], \"scatterpolargl\": [{\"marker\": {\"colorbar\": {\"outlinewidth\": 0, \"ticks\": \"\"}}, \"type\": \"scatterpolargl\"}], \"scatterternary\": [{\"marker\": {\"colorbar\": {\"outlinewidth\": 0, \"ticks\": \"\"}}, \"type\": \"scatterternary\"}], \"surface\": [{\"colorbar\": {\"outlinewidth\": 0, \"ticks\": \"\"}, \"colorscale\": [[0.0, \"#0d0887\"], [0.1111111111111111, \"#46039f\"], [0.2222222222222222, \"#7201a8\"], [0.3333333333333333, \"#9c179e\"], [0.4444444444444444, \"#bd3786\"], [0.5555555555555556, \"#d8576b\"], [0.6666666666666666, \"#ed7953\"], [0.7777777777777778, \"#fb9f3a\"], [0.8888888888888888, \"#fdca26\"], [1.0, \"#f0f921\"]], \"type\": \"surface\"}], \"table\": [{\"cells\": {\"fill\": {\"color\": \"#EBF0F8\"}, \"line\": {\"color\": \"white\"}}, \"header\": {\"fill\": {\"color\": \"#C8D4E3\"}, \"line\": {\"color\": \"white\"}}, \"type\": \"table\"}]}, \"layout\": {\"annotationdefaults\": {\"arrowcolor\": \"#2a3f5f\", \"arrowhead\": 0, \"arrowwidth\": 1}, \"coloraxis\": {\"colorbar\": {\"outlinewidth\": 0, \"ticks\": \"\"}}, \"colorscale\": {\"diverging\": [[0, \"#8e0152\"], [0.1, \"#c51b7d\"], [0.2, \"#de77ae\"], [0.3, \"#f1b6da\"], [0.4, \"#fde0ef\"], [0.5, \"#f7f7f7\"], [0.6, \"#e6f5d0\"], [0.7, \"#b8e186\"], [0.8, \"#7fbc41\"], [0.9, \"#4d9221\"], [1, \"#276419\"]], \"sequential\": [[0.0, \"#0d0887\"], [0.1111111111111111, \"#46039f\"], [0.2222222222222222, \"#7201a8\"], [0.3333333333333333, \"#9c179e\"], [0.4444444444444444, \"#bd3786\"], [0.5555555555555556, \"#d8576b\"], [0.6666666666666666, \"#ed7953\"], [0.7777777777777778, \"#fb9f3a\"], [0.8888888888888888, \"#fdca26\"], [1.0, \"#f0f921\"]], \"sequentialminus\": [[0.0, \"#0d0887\"], [0.1111111111111111, \"#46039f\"], [0.2222222222222222, \"#7201a8\"], [0.3333333333333333, \"#9c179e\"], [0.4444444444444444, \"#bd3786\"], [0.5555555555555556, \"#d8576b\"], [0.6666666666666666, \"#ed7953\"], [0.7777777777777778, \"#fb9f3a\"], [0.8888888888888888, \"#fdca26\"], [1.0, \"#f0f921\"]]}, \"colorway\": [\"#636efa\", \"#EF553B\", \"#00cc96\", \"#ab63fa\", \"#FFA15A\", \"#19d3f3\", \"#FF6692\", \"#B6E880\", \"#FF97FF\", \"#FECB52\"], \"font\": {\"color\": \"#2a3f5f\"}, \"geo\": {\"bgcolor\": \"white\", \"lakecolor\": \"white\", \"landcolor\": \"#E5ECF6\", \"showlakes\": true, \"showland\": true, \"subunitcolor\": \"white\"}, \"hoverlabel\": {\"align\": \"left\"}, \"hovermode\": \"closest\", \"mapbox\": {\"style\": \"light\"}, \"paper_bgcolor\": \"white\", \"plot_bgcolor\": \"#E5ECF6\", \"polar\": {\"angularaxis\": {\"gridcolor\": \"white\", \"linecolor\": \"white\", \"ticks\": \"\"}, \"bgcolor\": \"#E5ECF6\", \"radialaxis\": {\"gridcolor\": \"white\", \"linecolor\": \"white\", \"ticks\": \"\"}}, \"scene\": {\"xaxis\": {\"backgroundcolor\": \"#E5ECF6\", \"gridcolor\": \"white\", \"gridwidth\": 2, \"linecolor\": \"white\", \"showbackground\": true, \"ticks\": \"\", \"zerolinecolor\": \"white\"}, \"yaxis\": {\"backgroundcolor\": \"#E5ECF6\", \"gridcolor\": \"white\", \"gridwidth\": 2, \"linecolor\": \"white\", \"showbackground\": true, \"ticks\": \"\", \"zerolinecolor\": \"white\"}, \"zaxis\": {\"backgroundcolor\": \"#E5ECF6\", \"gridcolor\": \"white\", \"gridwidth\": 2, \"linecolor\": \"white\", \"showbackground\": true, \"ticks\": \"\", \"zerolinecolor\": \"white\"}}, \"shapedefaults\": {\"line\": {\"color\": \"#2a3f5f\"}}, \"ternary\": {\"aaxis\": {\"gridcolor\": \"white\", \"linecolor\": \"white\", \"ticks\": \"\"}, \"baxis\": {\"gridcolor\": \"white\", \"linecolor\": \"white\", \"ticks\": \"\"}, \"bgcolor\": \"#E5ECF6\", \"caxis\": {\"gridcolor\": \"white\", \"linecolor\": \"white\", \"ticks\": \"\"}}, \"title\": {\"x\": 0.05}, \"xaxis\": {\"automargin\": true, \"gridcolor\": \"white\", \"linecolor\": \"white\", \"ticks\": \"\", \"title\": {\"standoff\": 15}, \"zerolinecolor\": \"white\", \"zerolinewidth\": 2}, \"yaxis\": {\"automargin\": true, \"gridcolor\": \"white\", \"linecolor\": \"white\", \"ticks\": \"\", \"title\": {\"standoff\": 15}, \"zerolinecolor\": \"white\", \"zerolinewidth\": 2}}}, \"title\": {\"font\": {\"color\": \"#4D5663\"}}, \"xaxis\": {\"gridcolor\": \"#E1E5ED\", \"showgrid\": true, \"tickfont\": {\"color\": \"#4D5663\"}, \"title\": {\"font\": {\"color\": \"#4D5663\"}, \"text\": \"\"}, \"zerolinecolor\": \"#E1E5ED\"}, \"yaxis\": {\"gridcolor\": \"#E1E5ED\", \"showgrid\": true, \"tickfont\": {\"color\": \"#4D5663\"}, \"title\": {\"font\": {\"color\": \"#4D5663\"}, \"text\": \"\"}, \"zerolinecolor\": \"#E1E5ED\"}},                        {\"showLink\": true, \"linkText\": \"Export to plot.ly\", \"plotlyServerURL\": \"https://plot.ly\", \"responsive\": true}                    ).then(function(){\n",
       "                            \n",
       "var gd = document.getElementById('3594dad9-a9e5-465e-a670-40ad42896fc3');\n",
       "var x = new MutationObserver(function (mutations, observer) {{\n",
       "        var display = window.getComputedStyle(gd).display;\n",
       "        if (!display || display === 'none') {{\n",
       "            console.log([gd, 'removed!']);\n",
       "            Plotly.purge(gd);\n",
       "            observer.disconnect();\n",
       "        }}\n",
       "}});\n",
       "\n",
       "// Listen for the removal of the full notebook cells\n",
       "var notebookContainer = gd.closest('#notebook-container');\n",
       "if (notebookContainer) {{\n",
       "    x.observe(notebookContainer, {childList: true});\n",
       "}}\n",
       "\n",
       "// Listen for the clearing of the current output cell\n",
       "var outputEl = gd.closest('.output');\n",
       "if (outputEl) {{\n",
       "    x.observe(outputEl, {childList: true});\n",
       "}}\n",
       "\n",
       "                        })                };                });            </script>        </div>"
      ]
     },
     "metadata": {},
     "output_type": "display_data"
    }
   ],
   "source": [
    "df.iplot(kind='bubble',x='A',y='B',size='C',colorscale='rdylbu')"
   ]
  },
  {
   "cell_type": "code",
   "execution_count": 18,
   "metadata": {},
   "outputs": [
    {
     "data": {
      "application/vnd.plotly.v1+json": {
       "config": {
        "linkText": "Export to plot.ly",
        "plotlyServerURL": "https://plot.ly",
        "showLink": true
       },
       "data": [
        {
         "histfunc": "count",
         "histnorm": "",
         "marker": {
          "color": "rgba(255, 153, 51, 1.0)",
          "line": {
           "color": "#4D5663",
           "width": 1.3
          }
         },
         "name": "A",
         "nbinsx": 10,
         "opacity": 0.8,
         "orientation": "v",
         "type": "histogram",
         "x": [
          -1.3345721423538044,
          1.152744983274052,
          -0.4144432895718666,
          1.4302774060136265,
          1.1032714804754071,
          0.3191628341280002,
          0.29167766457536576,
          -0.2948260219573132,
          -0.7898916249391608,
          0.7579798280599954,
          0.7023990585262951,
          0.3617203499296237,
          1.3840609450336574,
          2.1234137119547905,
          0.2810105000977317,
          1.3417915860610645,
          -0.2412397886071698,
          -1.4800784340458517,
          -0.43730607784210224,
          1.2776043936563957,
          0.23681297531851184,
          0.540390995960289,
          1.6871090335390888,
          -0.12613605829513988,
          -0.5588115339425442,
          1.8051083114525888,
          -1.1726637178355273,
          0.8869084864979949,
          -0.6608453517139303,
          0.86318177144118,
          1.3220433452814955,
          -0.040310682232710525,
          -0.6822401059683589,
          1.0146630751377788,
          -0.09408866628468343,
          -0.3835960857750811,
          -0.033174674346961475,
          0.6882005981376775,
          -0.8463552045373701,
          0.3558779153321544,
          0.4162235961224696,
          1.2455350592782963,
          -0.4404736135266595,
          -0.021206617569660913,
          0.910807493204989,
          0.7261457915112387,
          -1.0852814847699983,
          -0.6116324809576813,
          0.4419712096882013,
          -0.9549757189699014,
          -1.0917298503989892,
          1.683458340637992,
          -2.34848252238384,
          -0.21404278096559237,
          1.7763779984983499,
          -0.6061798311193356,
          0.2018170117960935,
          1.1347757868560242,
          -0.036032949775629396,
          -0.34619100102470757,
          -0.288608149951723,
          0.5650826594364331,
          0.8499639803220693,
          0.9894872408033251,
          0.06569041064446172,
          0.054489734536987196,
          -1.9952387047587858,
          -2.2784797833534043,
          -0.3235225571592153,
          0.7985449754329478,
          0.5562115947213144,
          0.19932402438213523,
          -0.1403275336563558,
          0.9855129234750741,
          0.3045407336196398,
          0.53929898768602,
          -0.27575107464618664,
          -0.07407610262260471,
          0.11499769199840022,
          -0.7978934478689437,
          1.6231013726732846,
          0.11356346504298263,
          1.0257404298721093,
          0.38698431699048086,
          1.5573123378387754,
          -0.3575297031395702,
          -0.7186779504700587,
          -0.35459907027756954,
          1.0501179801717468,
          0.9723530993336464,
          -1.7859678584514145,
          -1.3568059526808665,
          1.620503617755656,
          1.0373614474576012,
          -1.6411237307693962,
          -2.052337862151146,
          1.5268582726716706,
          1.176810614698316,
          -0.511936349742928,
          1.8899167884179937
         ],
         "xaxis": "x",
         "yaxis": "y"
        },
        {
         "line": {
          "color": "rgba(128, 128, 128, 1.0)",
          "dash": "solid",
          "shape": "linear",
          "width": 1.3
         },
         "marker": {
          "size": 2,
          "symbol": "circle"
         },
         "mode": "markers",
         "name": "A",
         "text": "",
         "type": "scatter",
         "x": [
          0.18934519564362062,
          -0.5168133289643818,
          -0.575887085195419,
          0.2654879300880599,
          -0.42270044140335306,
          0.49202396803406306,
          -0.05813887150593542,
          -1.9198333732052166,
          -1.1749861717602872,
          0.16124454493046997,
          -0.01733316004195805,
          -0.9257924593376672,
          0.09006921111651374,
          0.9734162863579563,
          -0.4518387082824791,
          -0.26153686886886934,
          0.28232403258757965,
          -1.0529426660554346,
          0.10202608047979453,
          0.23633183741611294,
          0.23498955155440895,
          0.9677590445244143,
          1.831253424242203,
          0.2415382607666498,
          -1.4230300649451495,
          2.2312182747485743,
          1.236202195805703,
          0.003390367770349785,
          -0.6237252050062434,
          -0.2342174145278324,
          -1.924925714689275,
          -0.9337128747220547,
          1.7543360784429163,
          0.7581829264781671,
          -0.08232277508753891,
          -0.45468484443795826,
          -0.19935092376725272,
          0.3432671525145582,
          -0.07884733212534094,
          0.9131918232446734,
          -0.8685402818250365,
          0.6883979203844126,
          1.0774186567698938,
          -1.2365006595554795,
          -0.604706613485279,
          0.5530504203367701,
          -1.1638121061985844,
          1.1266844459061904,
          -0.9565987159997782,
          0.46966062495493444,
          -0.15512534613084203,
          -1.201935972800709,
          1.0209556886714029,
          0.2795071484988548,
          1.4659564159180398,
          -0.4515262872130025,
          -0.4514630053316504,
          -0.0711730466463417,
          -2.1375937961790283,
          -0.7568430799085749,
          -1.051286755748964,
          0.27836127689014034,
          -0.4279875997952308,
          1.452930902585046,
          1.1703271571918823,
          -0.8463298634985316,
          0.6110841975955712,
          1.2940742777754228,
          -0.9945647867400169,
          1.5151241023797244,
          0.5075362134278456,
          -1.1735886638674613,
          1.98485816589851,
          0.7982761159418083,
          -0.07944727878078828,
          -0.7971158770598205,
          0.8537029643240611,
          -1.670795262780064,
          0.4918535139756341,
          -0.5521934592979183,
          -2.6713602633960485,
          -0.6402242514425622,
          -0.2530997756328507,
          0.13291790640185097,
          1.840027332124377,
          0.4256107998272355,
          -0.10524227119226856,
          0.7568395535199907,
          0.01227355678842452,
          -0.18777367729543826,
          0.11596626772388403,
          0.26977552573541597,
          -0.993101164784401,
          -0.05067529958534019,
          -0.5047305795737309,
          0.9070451286544564,
          0.5229498297030087,
          1.499042011679956,
          -0.9162419500042097,
          0.5257383477604088
         ],
         "xaxis": "x2",
         "y": [
          -1.3345721423538044,
          1.152744983274052,
          -0.4144432895718666,
          1.4302774060136265,
          1.1032714804754071,
          0.3191628341280002,
          0.29167766457536576,
          -0.2948260219573132,
          -0.7898916249391608,
          0.7579798280599954,
          0.7023990585262951,
          0.3617203499296237,
          1.3840609450336574,
          2.1234137119547905,
          0.2810105000977317,
          1.3417915860610645,
          -0.2412397886071698,
          -1.4800784340458517,
          -0.43730607784210224,
          1.2776043936563957,
          0.23681297531851184,
          0.540390995960289,
          1.6871090335390888,
          -0.12613605829513988,
          -0.5588115339425442,
          1.8051083114525888,
          -1.1726637178355273,
          0.8869084864979949,
          -0.6608453517139303,
          0.86318177144118,
          1.3220433452814955,
          -0.040310682232710525,
          -0.6822401059683589,
          1.0146630751377788,
          -0.09408866628468343,
          -0.3835960857750811,
          -0.033174674346961475,
          0.6882005981376775,
          -0.8463552045373701,
          0.3558779153321544,
          0.4162235961224696,
          1.2455350592782963,
          -0.4404736135266595,
          -0.021206617569660913,
          0.910807493204989,
          0.7261457915112387,
          -1.0852814847699983,
          -0.6116324809576813,
          0.4419712096882013,
          -0.9549757189699014,
          -1.0917298503989892,
          1.683458340637992,
          -2.34848252238384,
          -0.21404278096559237,
          1.7763779984983499,
          -0.6061798311193356,
          0.2018170117960935,
          1.1347757868560242,
          -0.036032949775629396,
          -0.34619100102470757,
          -0.288608149951723,
          0.5650826594364331,
          0.8499639803220693,
          0.9894872408033251,
          0.06569041064446172,
          0.054489734536987196,
          -1.9952387047587858,
          -2.2784797833534043,
          -0.3235225571592153,
          0.7985449754329478,
          0.5562115947213144,
          0.19932402438213523,
          -0.1403275336563558,
          0.9855129234750741,
          0.3045407336196398,
          0.53929898768602,
          -0.27575107464618664,
          -0.07407610262260471,
          0.11499769199840022,
          -0.7978934478689437,
          1.6231013726732846,
          0.11356346504298263,
          1.0257404298721093,
          0.38698431699048086,
          1.5573123378387754,
          -0.3575297031395702,
          -0.7186779504700587,
          -0.35459907027756954,
          1.0501179801717468,
          0.9723530993336464,
          -1.7859678584514145,
          -1.3568059526808665,
          1.620503617755656,
          1.0373614474576012,
          -1.6411237307693962,
          -2.052337862151146,
          1.5268582726716706,
          1.176810614698316,
          -0.511936349742928,
          1.8899167884179937
         ],
         "yaxis": "y2"
        },
        {
         "line": {
          "color": "rgba(128, 128, 128, 1.0)",
          "dash": "solid",
          "shape": "linear",
          "width": 1.3
         },
         "marker": {
          "size": 2,
          "symbol": "circle"
         },
         "mode": "markers",
         "name": "A",
         "text": "",
         "type": "scatter",
         "x": [
          -0.19805204132074813,
          0.9646667420835341,
          -0.38290571006574775,
          1.2998824481693891,
          0.6199825686029053,
          0.08892096656522798,
          0.5098550465401651,
          -0.8175291952481727,
          1.0545679319751429,
          -0.1556477627143782,
          -0.1863019976198989,
          -1.2337935362095873,
          1.045560857193049,
          0.22235565193506643,
          1.2160340742473208,
          0.9222476060634441,
          -2.1150062077557044,
          -0.7071029794118244,
          -0.5495551785557025,
          -0.693624646441118,
          0.7573958854662389,
          0.17394140635208538,
          0.15923490851638308,
          0.6044591173991921,
          0.20111232258003703,
          0.8655037106493844,
          0.9630306500178076,
          -0.09963405884054125,
          0.4222388126671568,
          0.5445417835050336,
          -1.386959953120186,
          -1.0837062233251824,
          0.16040783519433743,
          0.16319047043609794,
          1.7531305154443126,
          1.8061218262475787,
          -0.5403383234473761,
          0.8429293141000763,
          -1.6763240933556285,
          1.1545629167166047,
          -0.5536300681270807,
          -0.18367259297476848,
          -0.3400663977866649,
          1.1849804232281855,
          0.41627393795554407,
          -1.4313827588307508,
          0.20246720240624347,
          0.43721416281460995,
          -0.32579144844232655,
          -1.2131834608493348,
          -0.14687430590360748,
          0.353499906435496,
          1.628903729852802,
          0.20353596359746787,
          0.451665175048858,
          -0.39634930867957924,
          -0.9509101739093384,
          0.7191038547617834,
          0.8719578554533487,
          1.8326883546543777,
          1.2003448994521837,
          -0.030231896568255902,
          -0.1716641365372497,
          0.20431636378405235,
          -0.5598850080650927,
          -0.24031795880204332,
          0.7516002737771287,
          0.19254709258696615,
          -0.057442624087766986,
          -0.6793162222432404,
          0.4148860123267791,
          0.13762364150603934,
          1.3920049620919024,
          -0.14462229762839007,
          0.14342609156753108,
          0.6143080669181031,
          0.4474505683921285,
          -0.34739229148391937,
          1.061455226537793,
          0.24475617312531944,
          -1.2513199803763844,
          -0.6937990342235643,
          -2.3404491478112965,
          0.8320957832750987,
          0.4535701994994277,
          -0.38394936857027945,
          -0.6680721253788142,
          -0.6429137849954224,
          0.7147258770315915,
          -1.4985171428736122,
          2.0459145141636066,
          -0.467161741917224,
          0.8132661594542542,
          0.6293808269260213,
          -1.5107789396693025,
          -0.331917743684358,
          0.05867669275075526,
          0.20626723911401554,
          -0.7977795930039119,
          -0.5284544164088391
         ],
         "xaxis": "x3",
         "y": [
          -1.3345721423538044,
          1.152744983274052,
          -0.4144432895718666,
          1.4302774060136265,
          1.1032714804754071,
          0.3191628341280002,
          0.29167766457536576,
          -0.2948260219573132,
          -0.7898916249391608,
          0.7579798280599954,
          0.7023990585262951,
          0.3617203499296237,
          1.3840609450336574,
          2.1234137119547905,
          0.2810105000977317,
          1.3417915860610645,
          -0.2412397886071698,
          -1.4800784340458517,
          -0.43730607784210224,
          1.2776043936563957,
          0.23681297531851184,
          0.540390995960289,
          1.6871090335390888,
          -0.12613605829513988,
          -0.5588115339425442,
          1.8051083114525888,
          -1.1726637178355273,
          0.8869084864979949,
          -0.6608453517139303,
          0.86318177144118,
          1.3220433452814955,
          -0.040310682232710525,
          -0.6822401059683589,
          1.0146630751377788,
          -0.09408866628468343,
          -0.3835960857750811,
          -0.033174674346961475,
          0.6882005981376775,
          -0.8463552045373701,
          0.3558779153321544,
          0.4162235961224696,
          1.2455350592782963,
          -0.4404736135266595,
          -0.021206617569660913,
          0.910807493204989,
          0.7261457915112387,
          -1.0852814847699983,
          -0.6116324809576813,
          0.4419712096882013,
          -0.9549757189699014,
          -1.0917298503989892,
          1.683458340637992,
          -2.34848252238384,
          -0.21404278096559237,
          1.7763779984983499,
          -0.6061798311193356,
          0.2018170117960935,
          1.1347757868560242,
          -0.036032949775629396,
          -0.34619100102470757,
          -0.288608149951723,
          0.5650826594364331,
          0.8499639803220693,
          0.9894872408033251,
          0.06569041064446172,
          0.054489734536987196,
          -1.9952387047587858,
          -2.2784797833534043,
          -0.3235225571592153,
          0.7985449754329478,
          0.5562115947213144,
          0.19932402438213523,
          -0.1403275336563558,
          0.9855129234750741,
          0.3045407336196398,
          0.53929898768602,
          -0.27575107464618664,
          -0.07407610262260471,
          0.11499769199840022,
          -0.7978934478689437,
          1.6231013726732846,
          0.11356346504298263,
          1.0257404298721093,
          0.38698431699048086,
          1.5573123378387754,
          -0.3575297031395702,
          -0.7186779504700587,
          -0.35459907027756954,
          1.0501179801717468,
          0.9723530993336464,
          -1.7859678584514145,
          -1.3568059526808665,
          1.620503617755656,
          1.0373614474576012,
          -1.6411237307693962,
          -2.052337862151146,
          1.5268582726716706,
          1.176810614698316,
          -0.511936349742928,
          1.8899167884179937
         ],
         "yaxis": "y3"
        },
        {
         "line": {
          "color": "rgba(128, 128, 128, 1.0)",
          "dash": "solid",
          "shape": "linear",
          "width": 1.3
         },
         "marker": {
          "size": 2,
          "symbol": "circle"
         },
         "mode": "markers",
         "name": "A",
         "text": "",
         "type": "scatter",
         "x": [
          0.03384664178148704,
          0.5666429305505546,
          0.14885183843377175,
          0.2687473452003424,
          1.1200512766765096,
          -2.8225156356584993,
          -0.09857086367123338,
          0.6997016010550245,
          -1.3562792823740024,
          -0.41508056769541196,
          -0.44685046724214006,
          1.3317926725059546,
          -1.534398796805004,
          0.5107676096875485,
          -0.35539271221973195,
          -0.4691145512394626,
          0.46537551119090104,
          -0.28621288875761214,
          0.7206887872019336,
          0.9270397108725131,
          0.8876193880034717,
          0.3686998726486203,
          -1.2219477310842741,
          -0.3902957898404521,
          -1.1949112579311598,
          -1.0811713597675425,
          0.7916926529667945,
          0.31681376614310686,
          -0.663152266439661,
          1.1098423222784424,
          0.06581774155636329,
          0.34117151247625005,
          0.9824823102015346,
          -0.8329297644404557,
          -1.0255005113062103,
          0.38708767823694307,
          -0.2735876107312517,
          1.111757822490364,
          -0.8053566441383361,
          0.09470607282640017,
          0.47268776889119185,
          -0.5701393873577066,
          -2.1961399023737114,
          -0.2577127983341919,
          -1.2187126822403935,
          0.9816939651454246,
          0.09885494293423237,
          -0.49510179974921226,
          1.594516555206982,
          0.4108355407054973,
          0.168743533242441,
          0.7617110899069682,
          0.6445282167880872,
          0.24658352945846151,
          1.0633761369266885,
          -1.2952068758870838,
          1.2556355409200266,
          0.10525546514764797,
          1.4510068650768608,
          -0.9774440012734138,
          0.7573789005103825,
          -1.4692166603040264,
          -1.219866900508068,
          -0.03417242416064316,
          -0.8336711038622275,
          -1.289844436339557,
          -0.17837954060022773,
          0.732927473839943,
          0.08030871609250388,
          1.5402237130269205,
          -1.2010816922179652,
          1.0273283822842285,
          1.1362028082895037,
          -0.5904487631408297,
          0.767364935605862,
          1.2840530894008695,
          0.5443851698820155,
          0.12506924046431742,
          0.901584915943366,
          0.8559873278925225,
          -0.8604099889630961,
          -0.6517254944882362,
          0.7117137760304271,
          -0.9360005771624264,
          0.5851825508705968,
          -1.8351426246396962,
          -0.636312250227509,
          0.3815910085105638,
          -2.23757811597667,
          -0.3368141017962645,
          -0.005645035574050167,
          -0.16463055665192255,
          -0.1825924073902931,
          -1.0341953399573212,
          0.7064307122288477,
          -0.3307511781925198,
          -1.49616348983762,
          -0.6911493407982104,
          0.5079262001874038,
          1.8328031186789648
         ],
         "xaxis": "x4",
         "y": [
          -1.3345721423538044,
          1.152744983274052,
          -0.4144432895718666,
          1.4302774060136265,
          1.1032714804754071,
          0.3191628341280002,
          0.29167766457536576,
          -0.2948260219573132,
          -0.7898916249391608,
          0.7579798280599954,
          0.7023990585262951,
          0.3617203499296237,
          1.3840609450336574,
          2.1234137119547905,
          0.2810105000977317,
          1.3417915860610645,
          -0.2412397886071698,
          -1.4800784340458517,
          -0.43730607784210224,
          1.2776043936563957,
          0.23681297531851184,
          0.540390995960289,
          1.6871090335390888,
          -0.12613605829513988,
          -0.5588115339425442,
          1.8051083114525888,
          -1.1726637178355273,
          0.8869084864979949,
          -0.6608453517139303,
          0.86318177144118,
          1.3220433452814955,
          -0.040310682232710525,
          -0.6822401059683589,
          1.0146630751377788,
          -0.09408866628468343,
          -0.3835960857750811,
          -0.033174674346961475,
          0.6882005981376775,
          -0.8463552045373701,
          0.3558779153321544,
          0.4162235961224696,
          1.2455350592782963,
          -0.4404736135266595,
          -0.021206617569660913,
          0.910807493204989,
          0.7261457915112387,
          -1.0852814847699983,
          -0.6116324809576813,
          0.4419712096882013,
          -0.9549757189699014,
          -1.0917298503989892,
          1.683458340637992,
          -2.34848252238384,
          -0.21404278096559237,
          1.7763779984983499,
          -0.6061798311193356,
          0.2018170117960935,
          1.1347757868560242,
          -0.036032949775629396,
          -0.34619100102470757,
          -0.288608149951723,
          0.5650826594364331,
          0.8499639803220693,
          0.9894872408033251,
          0.06569041064446172,
          0.054489734536987196,
          -1.9952387047587858,
          -2.2784797833534043,
          -0.3235225571592153,
          0.7985449754329478,
          0.5562115947213144,
          0.19932402438213523,
          -0.1403275336563558,
          0.9855129234750741,
          0.3045407336196398,
          0.53929898768602,
          -0.27575107464618664,
          -0.07407610262260471,
          0.11499769199840022,
          -0.7978934478689437,
          1.6231013726732846,
          0.11356346504298263,
          1.0257404298721093,
          0.38698431699048086,
          1.5573123378387754,
          -0.3575297031395702,
          -0.7186779504700587,
          -0.35459907027756954,
          1.0501179801717468,
          0.9723530993336464,
          -1.7859678584514145,
          -1.3568059526808665,
          1.620503617755656,
          1.0373614474576012,
          -1.6411237307693962,
          -2.052337862151146,
          1.5268582726716706,
          1.176810614698316,
          -0.511936349742928,
          1.8899167884179937
         ],
         "yaxis": "y4"
        },
        {
         "line": {
          "color": "rgba(128, 128, 128, 1.0)",
          "dash": "solid",
          "shape": "linear",
          "width": 1.3
         },
         "marker": {
          "size": 2,
          "symbol": "circle"
         },
         "mode": "markers",
         "name": "B",
         "text": "",
         "type": "scatter",
         "x": [
          -1.3345721423538044,
          1.152744983274052,
          -0.4144432895718666,
          1.4302774060136265,
          1.1032714804754071,
          0.3191628341280002,
          0.29167766457536576,
          -0.2948260219573132,
          -0.7898916249391608,
          0.7579798280599954,
          0.7023990585262951,
          0.3617203499296237,
          1.3840609450336574,
          2.1234137119547905,
          0.2810105000977317,
          1.3417915860610645,
          -0.2412397886071698,
          -1.4800784340458517,
          -0.43730607784210224,
          1.2776043936563957,
          0.23681297531851184,
          0.540390995960289,
          1.6871090335390888,
          -0.12613605829513988,
          -0.5588115339425442,
          1.8051083114525888,
          -1.1726637178355273,
          0.8869084864979949,
          -0.6608453517139303,
          0.86318177144118,
          1.3220433452814955,
          -0.040310682232710525,
          -0.6822401059683589,
          1.0146630751377788,
          -0.09408866628468343,
          -0.3835960857750811,
          -0.033174674346961475,
          0.6882005981376775,
          -0.8463552045373701,
          0.3558779153321544,
          0.4162235961224696,
          1.2455350592782963,
          -0.4404736135266595,
          -0.021206617569660913,
          0.910807493204989,
          0.7261457915112387,
          -1.0852814847699983,
          -0.6116324809576813,
          0.4419712096882013,
          -0.9549757189699014,
          -1.0917298503989892,
          1.683458340637992,
          -2.34848252238384,
          -0.21404278096559237,
          1.7763779984983499,
          -0.6061798311193356,
          0.2018170117960935,
          1.1347757868560242,
          -0.036032949775629396,
          -0.34619100102470757,
          -0.288608149951723,
          0.5650826594364331,
          0.8499639803220693,
          0.9894872408033251,
          0.06569041064446172,
          0.054489734536987196,
          -1.9952387047587858,
          -2.2784797833534043,
          -0.3235225571592153,
          0.7985449754329478,
          0.5562115947213144,
          0.19932402438213523,
          -0.1403275336563558,
          0.9855129234750741,
          0.3045407336196398,
          0.53929898768602,
          -0.27575107464618664,
          -0.07407610262260471,
          0.11499769199840022,
          -0.7978934478689437,
          1.6231013726732846,
          0.11356346504298263,
          1.0257404298721093,
          0.38698431699048086,
          1.5573123378387754,
          -0.3575297031395702,
          -0.7186779504700587,
          -0.35459907027756954,
          1.0501179801717468,
          0.9723530993336464,
          -1.7859678584514145,
          -1.3568059526808665,
          1.620503617755656,
          1.0373614474576012,
          -1.6411237307693962,
          -2.052337862151146,
          1.5268582726716706,
          1.176810614698316,
          -0.511936349742928,
          1.8899167884179937
         ],
         "xaxis": "x5",
         "y": [
          0.18934519564362062,
          -0.5168133289643818,
          -0.575887085195419,
          0.2654879300880599,
          -0.42270044140335306,
          0.49202396803406306,
          -0.05813887150593542,
          -1.9198333732052166,
          -1.1749861717602872,
          0.16124454493046997,
          -0.01733316004195805,
          -0.9257924593376672,
          0.09006921111651374,
          0.9734162863579563,
          -0.4518387082824791,
          -0.26153686886886934,
          0.28232403258757965,
          -1.0529426660554346,
          0.10202608047979453,
          0.23633183741611294,
          0.23498955155440895,
          0.9677590445244143,
          1.831253424242203,
          0.2415382607666498,
          -1.4230300649451495,
          2.2312182747485743,
          1.236202195805703,
          0.003390367770349785,
          -0.6237252050062434,
          -0.2342174145278324,
          -1.924925714689275,
          -0.9337128747220547,
          1.7543360784429163,
          0.7581829264781671,
          -0.08232277508753891,
          -0.45468484443795826,
          -0.19935092376725272,
          0.3432671525145582,
          -0.07884733212534094,
          0.9131918232446734,
          -0.8685402818250365,
          0.6883979203844126,
          1.0774186567698938,
          -1.2365006595554795,
          -0.604706613485279,
          0.5530504203367701,
          -1.1638121061985844,
          1.1266844459061904,
          -0.9565987159997782,
          0.46966062495493444,
          -0.15512534613084203,
          -1.201935972800709,
          1.0209556886714029,
          0.2795071484988548,
          1.4659564159180398,
          -0.4515262872130025,
          -0.4514630053316504,
          -0.0711730466463417,
          -2.1375937961790283,
          -0.7568430799085749,
          -1.051286755748964,
          0.27836127689014034,
          -0.4279875997952308,
          1.452930902585046,
          1.1703271571918823,
          -0.8463298634985316,
          0.6110841975955712,
          1.2940742777754228,
          -0.9945647867400169,
          1.5151241023797244,
          0.5075362134278456,
          -1.1735886638674613,
          1.98485816589851,
          0.7982761159418083,
          -0.07944727878078828,
          -0.7971158770598205,
          0.8537029643240611,
          -1.670795262780064,
          0.4918535139756341,
          -0.5521934592979183,
          -2.6713602633960485,
          -0.6402242514425622,
          -0.2530997756328507,
          0.13291790640185097,
          1.840027332124377,
          0.4256107998272355,
          -0.10524227119226856,
          0.7568395535199907,
          0.01227355678842452,
          -0.18777367729543826,
          0.11596626772388403,
          0.26977552573541597,
          -0.993101164784401,
          -0.05067529958534019,
          -0.5047305795737309,
          0.9070451286544564,
          0.5229498297030087,
          1.499042011679956,
          -0.9162419500042097,
          0.5257383477604088
         ],
         "yaxis": "y5"
        },
        {
         "histfunc": "count",
         "histnorm": "",
         "marker": {
          "color": "rgba(55, 128, 191, 1.0)",
          "line": {
           "color": "#4D5663",
           "width": 1.3
          }
         },
         "name": "B",
         "nbinsx": 10,
         "opacity": 0.8,
         "orientation": "v",
         "type": "histogram",
         "x": [
          0.18934519564362062,
          -0.5168133289643818,
          -0.575887085195419,
          0.2654879300880599,
          -0.42270044140335306,
          0.49202396803406306,
          -0.05813887150593542,
          -1.9198333732052166,
          -1.1749861717602872,
          0.16124454493046997,
          -0.01733316004195805,
          -0.9257924593376672,
          0.09006921111651374,
          0.9734162863579563,
          -0.4518387082824791,
          -0.26153686886886934,
          0.28232403258757965,
          -1.0529426660554346,
          0.10202608047979453,
          0.23633183741611294,
          0.23498955155440895,
          0.9677590445244143,
          1.831253424242203,
          0.2415382607666498,
          -1.4230300649451495,
          2.2312182747485743,
          1.236202195805703,
          0.003390367770349785,
          -0.6237252050062434,
          -0.2342174145278324,
          -1.924925714689275,
          -0.9337128747220547,
          1.7543360784429163,
          0.7581829264781671,
          -0.08232277508753891,
          -0.45468484443795826,
          -0.19935092376725272,
          0.3432671525145582,
          -0.07884733212534094,
          0.9131918232446734,
          -0.8685402818250365,
          0.6883979203844126,
          1.0774186567698938,
          -1.2365006595554795,
          -0.604706613485279,
          0.5530504203367701,
          -1.1638121061985844,
          1.1266844459061904,
          -0.9565987159997782,
          0.46966062495493444,
          -0.15512534613084203,
          -1.201935972800709,
          1.0209556886714029,
          0.2795071484988548,
          1.4659564159180398,
          -0.4515262872130025,
          -0.4514630053316504,
          -0.0711730466463417,
          -2.1375937961790283,
          -0.7568430799085749,
          -1.051286755748964,
          0.27836127689014034,
          -0.4279875997952308,
          1.452930902585046,
          1.1703271571918823,
          -0.8463298634985316,
          0.6110841975955712,
          1.2940742777754228,
          -0.9945647867400169,
          1.5151241023797244,
          0.5075362134278456,
          -1.1735886638674613,
          1.98485816589851,
          0.7982761159418083,
          -0.07944727878078828,
          -0.7971158770598205,
          0.8537029643240611,
          -1.670795262780064,
          0.4918535139756341,
          -0.5521934592979183,
          -2.6713602633960485,
          -0.6402242514425622,
          -0.2530997756328507,
          0.13291790640185097,
          1.840027332124377,
          0.4256107998272355,
          -0.10524227119226856,
          0.7568395535199907,
          0.01227355678842452,
          -0.18777367729543826,
          0.11596626772388403,
          0.26977552573541597,
          -0.993101164784401,
          -0.05067529958534019,
          -0.5047305795737309,
          0.9070451286544564,
          0.5229498297030087,
          1.499042011679956,
          -0.9162419500042097,
          0.5257383477604088
         ],
         "xaxis": "x6",
         "yaxis": "y6"
        },
        {
         "line": {
          "color": "rgba(128, 128, 128, 1.0)",
          "dash": "solid",
          "shape": "linear",
          "width": 1.3
         },
         "marker": {
          "size": 2,
          "symbol": "circle"
         },
         "mode": "markers",
         "name": "B",
         "text": "",
         "type": "scatter",
         "x": [
          -0.19805204132074813,
          0.9646667420835341,
          -0.38290571006574775,
          1.2998824481693891,
          0.6199825686029053,
          0.08892096656522798,
          0.5098550465401651,
          -0.8175291952481727,
          1.0545679319751429,
          -0.1556477627143782,
          -0.1863019976198989,
          -1.2337935362095873,
          1.045560857193049,
          0.22235565193506643,
          1.2160340742473208,
          0.9222476060634441,
          -2.1150062077557044,
          -0.7071029794118244,
          -0.5495551785557025,
          -0.693624646441118,
          0.7573958854662389,
          0.17394140635208538,
          0.15923490851638308,
          0.6044591173991921,
          0.20111232258003703,
          0.8655037106493844,
          0.9630306500178076,
          -0.09963405884054125,
          0.4222388126671568,
          0.5445417835050336,
          -1.386959953120186,
          -1.0837062233251824,
          0.16040783519433743,
          0.16319047043609794,
          1.7531305154443126,
          1.8061218262475787,
          -0.5403383234473761,
          0.8429293141000763,
          -1.6763240933556285,
          1.1545629167166047,
          -0.5536300681270807,
          -0.18367259297476848,
          -0.3400663977866649,
          1.1849804232281855,
          0.41627393795554407,
          -1.4313827588307508,
          0.20246720240624347,
          0.43721416281460995,
          -0.32579144844232655,
          -1.2131834608493348,
          -0.14687430590360748,
          0.353499906435496,
          1.628903729852802,
          0.20353596359746787,
          0.451665175048858,
          -0.39634930867957924,
          -0.9509101739093384,
          0.7191038547617834,
          0.8719578554533487,
          1.8326883546543777,
          1.2003448994521837,
          -0.030231896568255902,
          -0.1716641365372497,
          0.20431636378405235,
          -0.5598850080650927,
          -0.24031795880204332,
          0.7516002737771287,
          0.19254709258696615,
          -0.057442624087766986,
          -0.6793162222432404,
          0.4148860123267791,
          0.13762364150603934,
          1.3920049620919024,
          -0.14462229762839007,
          0.14342609156753108,
          0.6143080669181031,
          0.4474505683921285,
          -0.34739229148391937,
          1.061455226537793,
          0.24475617312531944,
          -1.2513199803763844,
          -0.6937990342235643,
          -2.3404491478112965,
          0.8320957832750987,
          0.4535701994994277,
          -0.38394936857027945,
          -0.6680721253788142,
          -0.6429137849954224,
          0.7147258770315915,
          -1.4985171428736122,
          2.0459145141636066,
          -0.467161741917224,
          0.8132661594542542,
          0.6293808269260213,
          -1.5107789396693025,
          -0.331917743684358,
          0.05867669275075526,
          0.20626723911401554,
          -0.7977795930039119,
          -0.5284544164088391
         ],
         "xaxis": "x7",
         "y": [
          0.18934519564362062,
          -0.5168133289643818,
          -0.575887085195419,
          0.2654879300880599,
          -0.42270044140335306,
          0.49202396803406306,
          -0.05813887150593542,
          -1.9198333732052166,
          -1.1749861717602872,
          0.16124454493046997,
          -0.01733316004195805,
          -0.9257924593376672,
          0.09006921111651374,
          0.9734162863579563,
          -0.4518387082824791,
          -0.26153686886886934,
          0.28232403258757965,
          -1.0529426660554346,
          0.10202608047979453,
          0.23633183741611294,
          0.23498955155440895,
          0.9677590445244143,
          1.831253424242203,
          0.2415382607666498,
          -1.4230300649451495,
          2.2312182747485743,
          1.236202195805703,
          0.003390367770349785,
          -0.6237252050062434,
          -0.2342174145278324,
          -1.924925714689275,
          -0.9337128747220547,
          1.7543360784429163,
          0.7581829264781671,
          -0.08232277508753891,
          -0.45468484443795826,
          -0.19935092376725272,
          0.3432671525145582,
          -0.07884733212534094,
          0.9131918232446734,
          -0.8685402818250365,
          0.6883979203844126,
          1.0774186567698938,
          -1.2365006595554795,
          -0.604706613485279,
          0.5530504203367701,
          -1.1638121061985844,
          1.1266844459061904,
          -0.9565987159997782,
          0.46966062495493444,
          -0.15512534613084203,
          -1.201935972800709,
          1.0209556886714029,
          0.2795071484988548,
          1.4659564159180398,
          -0.4515262872130025,
          -0.4514630053316504,
          -0.0711730466463417,
          -2.1375937961790283,
          -0.7568430799085749,
          -1.051286755748964,
          0.27836127689014034,
          -0.4279875997952308,
          1.452930902585046,
          1.1703271571918823,
          -0.8463298634985316,
          0.6110841975955712,
          1.2940742777754228,
          -0.9945647867400169,
          1.5151241023797244,
          0.5075362134278456,
          -1.1735886638674613,
          1.98485816589851,
          0.7982761159418083,
          -0.07944727878078828,
          -0.7971158770598205,
          0.8537029643240611,
          -1.670795262780064,
          0.4918535139756341,
          -0.5521934592979183,
          -2.6713602633960485,
          -0.6402242514425622,
          -0.2530997756328507,
          0.13291790640185097,
          1.840027332124377,
          0.4256107998272355,
          -0.10524227119226856,
          0.7568395535199907,
          0.01227355678842452,
          -0.18777367729543826,
          0.11596626772388403,
          0.26977552573541597,
          -0.993101164784401,
          -0.05067529958534019,
          -0.5047305795737309,
          0.9070451286544564,
          0.5229498297030087,
          1.499042011679956,
          -0.9162419500042097,
          0.5257383477604088
         ],
         "yaxis": "y7"
        },
        {
         "line": {
          "color": "rgba(128, 128, 128, 1.0)",
          "dash": "solid",
          "shape": "linear",
          "width": 1.3
         },
         "marker": {
          "size": 2,
          "symbol": "circle"
         },
         "mode": "markers",
         "name": "B",
         "text": "",
         "type": "scatter",
         "x": [
          0.03384664178148704,
          0.5666429305505546,
          0.14885183843377175,
          0.2687473452003424,
          1.1200512766765096,
          -2.8225156356584993,
          -0.09857086367123338,
          0.6997016010550245,
          -1.3562792823740024,
          -0.41508056769541196,
          -0.44685046724214006,
          1.3317926725059546,
          -1.534398796805004,
          0.5107676096875485,
          -0.35539271221973195,
          -0.4691145512394626,
          0.46537551119090104,
          -0.28621288875761214,
          0.7206887872019336,
          0.9270397108725131,
          0.8876193880034717,
          0.3686998726486203,
          -1.2219477310842741,
          -0.3902957898404521,
          -1.1949112579311598,
          -1.0811713597675425,
          0.7916926529667945,
          0.31681376614310686,
          -0.663152266439661,
          1.1098423222784424,
          0.06581774155636329,
          0.34117151247625005,
          0.9824823102015346,
          -0.8329297644404557,
          -1.0255005113062103,
          0.38708767823694307,
          -0.2735876107312517,
          1.111757822490364,
          -0.8053566441383361,
          0.09470607282640017,
          0.47268776889119185,
          -0.5701393873577066,
          -2.1961399023737114,
          -0.2577127983341919,
          -1.2187126822403935,
          0.9816939651454246,
          0.09885494293423237,
          -0.49510179974921226,
          1.594516555206982,
          0.4108355407054973,
          0.168743533242441,
          0.7617110899069682,
          0.6445282167880872,
          0.24658352945846151,
          1.0633761369266885,
          -1.2952068758870838,
          1.2556355409200266,
          0.10525546514764797,
          1.4510068650768608,
          -0.9774440012734138,
          0.7573789005103825,
          -1.4692166603040264,
          -1.219866900508068,
          -0.03417242416064316,
          -0.8336711038622275,
          -1.289844436339557,
          -0.17837954060022773,
          0.732927473839943,
          0.08030871609250388,
          1.5402237130269205,
          -1.2010816922179652,
          1.0273283822842285,
          1.1362028082895037,
          -0.5904487631408297,
          0.767364935605862,
          1.2840530894008695,
          0.5443851698820155,
          0.12506924046431742,
          0.901584915943366,
          0.8559873278925225,
          -0.8604099889630961,
          -0.6517254944882362,
          0.7117137760304271,
          -0.9360005771624264,
          0.5851825508705968,
          -1.8351426246396962,
          -0.636312250227509,
          0.3815910085105638,
          -2.23757811597667,
          -0.3368141017962645,
          -0.005645035574050167,
          -0.16463055665192255,
          -0.1825924073902931,
          -1.0341953399573212,
          0.7064307122288477,
          -0.3307511781925198,
          -1.49616348983762,
          -0.6911493407982104,
          0.5079262001874038,
          1.8328031186789648
         ],
         "xaxis": "x8",
         "y": [
          0.18934519564362062,
          -0.5168133289643818,
          -0.575887085195419,
          0.2654879300880599,
          -0.42270044140335306,
          0.49202396803406306,
          -0.05813887150593542,
          -1.9198333732052166,
          -1.1749861717602872,
          0.16124454493046997,
          -0.01733316004195805,
          -0.9257924593376672,
          0.09006921111651374,
          0.9734162863579563,
          -0.4518387082824791,
          -0.26153686886886934,
          0.28232403258757965,
          -1.0529426660554346,
          0.10202608047979453,
          0.23633183741611294,
          0.23498955155440895,
          0.9677590445244143,
          1.831253424242203,
          0.2415382607666498,
          -1.4230300649451495,
          2.2312182747485743,
          1.236202195805703,
          0.003390367770349785,
          -0.6237252050062434,
          -0.2342174145278324,
          -1.924925714689275,
          -0.9337128747220547,
          1.7543360784429163,
          0.7581829264781671,
          -0.08232277508753891,
          -0.45468484443795826,
          -0.19935092376725272,
          0.3432671525145582,
          -0.07884733212534094,
          0.9131918232446734,
          -0.8685402818250365,
          0.6883979203844126,
          1.0774186567698938,
          -1.2365006595554795,
          -0.604706613485279,
          0.5530504203367701,
          -1.1638121061985844,
          1.1266844459061904,
          -0.9565987159997782,
          0.46966062495493444,
          -0.15512534613084203,
          -1.201935972800709,
          1.0209556886714029,
          0.2795071484988548,
          1.4659564159180398,
          -0.4515262872130025,
          -0.4514630053316504,
          -0.0711730466463417,
          -2.1375937961790283,
          -0.7568430799085749,
          -1.051286755748964,
          0.27836127689014034,
          -0.4279875997952308,
          1.452930902585046,
          1.1703271571918823,
          -0.8463298634985316,
          0.6110841975955712,
          1.2940742777754228,
          -0.9945647867400169,
          1.5151241023797244,
          0.5075362134278456,
          -1.1735886638674613,
          1.98485816589851,
          0.7982761159418083,
          -0.07944727878078828,
          -0.7971158770598205,
          0.8537029643240611,
          -1.670795262780064,
          0.4918535139756341,
          -0.5521934592979183,
          -2.6713602633960485,
          -0.6402242514425622,
          -0.2530997756328507,
          0.13291790640185097,
          1.840027332124377,
          0.4256107998272355,
          -0.10524227119226856,
          0.7568395535199907,
          0.01227355678842452,
          -0.18777367729543826,
          0.11596626772388403,
          0.26977552573541597,
          -0.993101164784401,
          -0.05067529958534019,
          -0.5047305795737309,
          0.9070451286544564,
          0.5229498297030087,
          1.499042011679956,
          -0.9162419500042097,
          0.5257383477604088
         ],
         "yaxis": "y8"
        },
        {
         "line": {
          "color": "rgba(128, 128, 128, 1.0)",
          "dash": "solid",
          "shape": "linear",
          "width": 1.3
         },
         "marker": {
          "size": 2,
          "symbol": "circle"
         },
         "mode": "markers",
         "name": "C",
         "text": "",
         "type": "scatter",
         "x": [
          -1.3345721423538044,
          1.152744983274052,
          -0.4144432895718666,
          1.4302774060136265,
          1.1032714804754071,
          0.3191628341280002,
          0.29167766457536576,
          -0.2948260219573132,
          -0.7898916249391608,
          0.7579798280599954,
          0.7023990585262951,
          0.3617203499296237,
          1.3840609450336574,
          2.1234137119547905,
          0.2810105000977317,
          1.3417915860610645,
          -0.2412397886071698,
          -1.4800784340458517,
          -0.43730607784210224,
          1.2776043936563957,
          0.23681297531851184,
          0.540390995960289,
          1.6871090335390888,
          -0.12613605829513988,
          -0.5588115339425442,
          1.8051083114525888,
          -1.1726637178355273,
          0.8869084864979949,
          -0.6608453517139303,
          0.86318177144118,
          1.3220433452814955,
          -0.040310682232710525,
          -0.6822401059683589,
          1.0146630751377788,
          -0.09408866628468343,
          -0.3835960857750811,
          -0.033174674346961475,
          0.6882005981376775,
          -0.8463552045373701,
          0.3558779153321544,
          0.4162235961224696,
          1.2455350592782963,
          -0.4404736135266595,
          -0.021206617569660913,
          0.910807493204989,
          0.7261457915112387,
          -1.0852814847699983,
          -0.6116324809576813,
          0.4419712096882013,
          -0.9549757189699014,
          -1.0917298503989892,
          1.683458340637992,
          -2.34848252238384,
          -0.21404278096559237,
          1.7763779984983499,
          -0.6061798311193356,
          0.2018170117960935,
          1.1347757868560242,
          -0.036032949775629396,
          -0.34619100102470757,
          -0.288608149951723,
          0.5650826594364331,
          0.8499639803220693,
          0.9894872408033251,
          0.06569041064446172,
          0.054489734536987196,
          -1.9952387047587858,
          -2.2784797833534043,
          -0.3235225571592153,
          0.7985449754329478,
          0.5562115947213144,
          0.19932402438213523,
          -0.1403275336563558,
          0.9855129234750741,
          0.3045407336196398,
          0.53929898768602,
          -0.27575107464618664,
          -0.07407610262260471,
          0.11499769199840022,
          -0.7978934478689437,
          1.6231013726732846,
          0.11356346504298263,
          1.0257404298721093,
          0.38698431699048086,
          1.5573123378387754,
          -0.3575297031395702,
          -0.7186779504700587,
          -0.35459907027756954,
          1.0501179801717468,
          0.9723530993336464,
          -1.7859678584514145,
          -1.3568059526808665,
          1.620503617755656,
          1.0373614474576012,
          -1.6411237307693962,
          -2.052337862151146,
          1.5268582726716706,
          1.176810614698316,
          -0.511936349742928,
          1.8899167884179937
         ],
         "xaxis": "x9",
         "y": [
          -0.19805204132074813,
          0.9646667420835341,
          -0.38290571006574775,
          1.2998824481693891,
          0.6199825686029053,
          0.08892096656522798,
          0.5098550465401651,
          -0.8175291952481727,
          1.0545679319751429,
          -0.1556477627143782,
          -0.1863019976198989,
          -1.2337935362095873,
          1.045560857193049,
          0.22235565193506643,
          1.2160340742473208,
          0.9222476060634441,
          -2.1150062077557044,
          -0.7071029794118244,
          -0.5495551785557025,
          -0.693624646441118,
          0.7573958854662389,
          0.17394140635208538,
          0.15923490851638308,
          0.6044591173991921,
          0.20111232258003703,
          0.8655037106493844,
          0.9630306500178076,
          -0.09963405884054125,
          0.4222388126671568,
          0.5445417835050336,
          -1.386959953120186,
          -1.0837062233251824,
          0.16040783519433743,
          0.16319047043609794,
          1.7531305154443126,
          1.8061218262475787,
          -0.5403383234473761,
          0.8429293141000763,
          -1.6763240933556285,
          1.1545629167166047,
          -0.5536300681270807,
          -0.18367259297476848,
          -0.3400663977866649,
          1.1849804232281855,
          0.41627393795554407,
          -1.4313827588307508,
          0.20246720240624347,
          0.43721416281460995,
          -0.32579144844232655,
          -1.2131834608493348,
          -0.14687430590360748,
          0.353499906435496,
          1.628903729852802,
          0.20353596359746787,
          0.451665175048858,
          -0.39634930867957924,
          -0.9509101739093384,
          0.7191038547617834,
          0.8719578554533487,
          1.8326883546543777,
          1.2003448994521837,
          -0.030231896568255902,
          -0.1716641365372497,
          0.20431636378405235,
          -0.5598850080650927,
          -0.24031795880204332,
          0.7516002737771287,
          0.19254709258696615,
          -0.057442624087766986,
          -0.6793162222432404,
          0.4148860123267791,
          0.13762364150603934,
          1.3920049620919024,
          -0.14462229762839007,
          0.14342609156753108,
          0.6143080669181031,
          0.4474505683921285,
          -0.34739229148391937,
          1.061455226537793,
          0.24475617312531944,
          -1.2513199803763844,
          -0.6937990342235643,
          -2.3404491478112965,
          0.8320957832750987,
          0.4535701994994277,
          -0.38394936857027945,
          -0.6680721253788142,
          -0.6429137849954224,
          0.7147258770315915,
          -1.4985171428736122,
          2.0459145141636066,
          -0.467161741917224,
          0.8132661594542542,
          0.6293808269260213,
          -1.5107789396693025,
          -0.331917743684358,
          0.05867669275075526,
          0.20626723911401554,
          -0.7977795930039119,
          -0.5284544164088391
         ],
         "yaxis": "y9"
        },
        {
         "line": {
          "color": "rgba(128, 128, 128, 1.0)",
          "dash": "solid",
          "shape": "linear",
          "width": 1.3
         },
         "marker": {
          "size": 2,
          "symbol": "circle"
         },
         "mode": "markers",
         "name": "C",
         "text": "",
         "type": "scatter",
         "x": [
          0.18934519564362062,
          -0.5168133289643818,
          -0.575887085195419,
          0.2654879300880599,
          -0.42270044140335306,
          0.49202396803406306,
          -0.05813887150593542,
          -1.9198333732052166,
          -1.1749861717602872,
          0.16124454493046997,
          -0.01733316004195805,
          -0.9257924593376672,
          0.09006921111651374,
          0.9734162863579563,
          -0.4518387082824791,
          -0.26153686886886934,
          0.28232403258757965,
          -1.0529426660554346,
          0.10202608047979453,
          0.23633183741611294,
          0.23498955155440895,
          0.9677590445244143,
          1.831253424242203,
          0.2415382607666498,
          -1.4230300649451495,
          2.2312182747485743,
          1.236202195805703,
          0.003390367770349785,
          -0.6237252050062434,
          -0.2342174145278324,
          -1.924925714689275,
          -0.9337128747220547,
          1.7543360784429163,
          0.7581829264781671,
          -0.08232277508753891,
          -0.45468484443795826,
          -0.19935092376725272,
          0.3432671525145582,
          -0.07884733212534094,
          0.9131918232446734,
          -0.8685402818250365,
          0.6883979203844126,
          1.0774186567698938,
          -1.2365006595554795,
          -0.604706613485279,
          0.5530504203367701,
          -1.1638121061985844,
          1.1266844459061904,
          -0.9565987159997782,
          0.46966062495493444,
          -0.15512534613084203,
          -1.201935972800709,
          1.0209556886714029,
          0.2795071484988548,
          1.4659564159180398,
          -0.4515262872130025,
          -0.4514630053316504,
          -0.0711730466463417,
          -2.1375937961790283,
          -0.7568430799085749,
          -1.051286755748964,
          0.27836127689014034,
          -0.4279875997952308,
          1.452930902585046,
          1.1703271571918823,
          -0.8463298634985316,
          0.6110841975955712,
          1.2940742777754228,
          -0.9945647867400169,
          1.5151241023797244,
          0.5075362134278456,
          -1.1735886638674613,
          1.98485816589851,
          0.7982761159418083,
          -0.07944727878078828,
          -0.7971158770598205,
          0.8537029643240611,
          -1.670795262780064,
          0.4918535139756341,
          -0.5521934592979183,
          -2.6713602633960485,
          -0.6402242514425622,
          -0.2530997756328507,
          0.13291790640185097,
          1.840027332124377,
          0.4256107998272355,
          -0.10524227119226856,
          0.7568395535199907,
          0.01227355678842452,
          -0.18777367729543826,
          0.11596626772388403,
          0.26977552573541597,
          -0.993101164784401,
          -0.05067529958534019,
          -0.5047305795737309,
          0.9070451286544564,
          0.5229498297030087,
          1.499042011679956,
          -0.9162419500042097,
          0.5257383477604088
         ],
         "xaxis": "x10",
         "y": [
          -0.19805204132074813,
          0.9646667420835341,
          -0.38290571006574775,
          1.2998824481693891,
          0.6199825686029053,
          0.08892096656522798,
          0.5098550465401651,
          -0.8175291952481727,
          1.0545679319751429,
          -0.1556477627143782,
          -0.1863019976198989,
          -1.2337935362095873,
          1.045560857193049,
          0.22235565193506643,
          1.2160340742473208,
          0.9222476060634441,
          -2.1150062077557044,
          -0.7071029794118244,
          -0.5495551785557025,
          -0.693624646441118,
          0.7573958854662389,
          0.17394140635208538,
          0.15923490851638308,
          0.6044591173991921,
          0.20111232258003703,
          0.8655037106493844,
          0.9630306500178076,
          -0.09963405884054125,
          0.4222388126671568,
          0.5445417835050336,
          -1.386959953120186,
          -1.0837062233251824,
          0.16040783519433743,
          0.16319047043609794,
          1.7531305154443126,
          1.8061218262475787,
          -0.5403383234473761,
          0.8429293141000763,
          -1.6763240933556285,
          1.1545629167166047,
          -0.5536300681270807,
          -0.18367259297476848,
          -0.3400663977866649,
          1.1849804232281855,
          0.41627393795554407,
          -1.4313827588307508,
          0.20246720240624347,
          0.43721416281460995,
          -0.32579144844232655,
          -1.2131834608493348,
          -0.14687430590360748,
          0.353499906435496,
          1.628903729852802,
          0.20353596359746787,
          0.451665175048858,
          -0.39634930867957924,
          -0.9509101739093384,
          0.7191038547617834,
          0.8719578554533487,
          1.8326883546543777,
          1.2003448994521837,
          -0.030231896568255902,
          -0.1716641365372497,
          0.20431636378405235,
          -0.5598850080650927,
          -0.24031795880204332,
          0.7516002737771287,
          0.19254709258696615,
          -0.057442624087766986,
          -0.6793162222432404,
          0.4148860123267791,
          0.13762364150603934,
          1.3920049620919024,
          -0.14462229762839007,
          0.14342609156753108,
          0.6143080669181031,
          0.4474505683921285,
          -0.34739229148391937,
          1.061455226537793,
          0.24475617312531944,
          -1.2513199803763844,
          -0.6937990342235643,
          -2.3404491478112965,
          0.8320957832750987,
          0.4535701994994277,
          -0.38394936857027945,
          -0.6680721253788142,
          -0.6429137849954224,
          0.7147258770315915,
          -1.4985171428736122,
          2.0459145141636066,
          -0.467161741917224,
          0.8132661594542542,
          0.6293808269260213,
          -1.5107789396693025,
          -0.331917743684358,
          0.05867669275075526,
          0.20626723911401554,
          -0.7977795930039119,
          -0.5284544164088391
         ],
         "yaxis": "y10"
        },
        {
         "histfunc": "count",
         "histnorm": "",
         "marker": {
          "color": "rgba(50, 171, 96, 1.0)",
          "line": {
           "color": "#4D5663",
           "width": 1.3
          }
         },
         "name": "C",
         "nbinsx": 10,
         "opacity": 0.8,
         "orientation": "v",
         "type": "histogram",
         "x": [
          -0.19805204132074813,
          0.9646667420835341,
          -0.38290571006574775,
          1.2998824481693891,
          0.6199825686029053,
          0.08892096656522798,
          0.5098550465401651,
          -0.8175291952481727,
          1.0545679319751429,
          -0.1556477627143782,
          -0.1863019976198989,
          -1.2337935362095873,
          1.045560857193049,
          0.22235565193506643,
          1.2160340742473208,
          0.9222476060634441,
          -2.1150062077557044,
          -0.7071029794118244,
          -0.5495551785557025,
          -0.693624646441118,
          0.7573958854662389,
          0.17394140635208538,
          0.15923490851638308,
          0.6044591173991921,
          0.20111232258003703,
          0.8655037106493844,
          0.9630306500178076,
          -0.09963405884054125,
          0.4222388126671568,
          0.5445417835050336,
          -1.386959953120186,
          -1.0837062233251824,
          0.16040783519433743,
          0.16319047043609794,
          1.7531305154443126,
          1.8061218262475787,
          -0.5403383234473761,
          0.8429293141000763,
          -1.6763240933556285,
          1.1545629167166047,
          -0.5536300681270807,
          -0.18367259297476848,
          -0.3400663977866649,
          1.1849804232281855,
          0.41627393795554407,
          -1.4313827588307508,
          0.20246720240624347,
          0.43721416281460995,
          -0.32579144844232655,
          -1.2131834608493348,
          -0.14687430590360748,
          0.353499906435496,
          1.628903729852802,
          0.20353596359746787,
          0.451665175048858,
          -0.39634930867957924,
          -0.9509101739093384,
          0.7191038547617834,
          0.8719578554533487,
          1.8326883546543777,
          1.2003448994521837,
          -0.030231896568255902,
          -0.1716641365372497,
          0.20431636378405235,
          -0.5598850080650927,
          -0.24031795880204332,
          0.7516002737771287,
          0.19254709258696615,
          -0.057442624087766986,
          -0.6793162222432404,
          0.4148860123267791,
          0.13762364150603934,
          1.3920049620919024,
          -0.14462229762839007,
          0.14342609156753108,
          0.6143080669181031,
          0.4474505683921285,
          -0.34739229148391937,
          1.061455226537793,
          0.24475617312531944,
          -1.2513199803763844,
          -0.6937990342235643,
          -2.3404491478112965,
          0.8320957832750987,
          0.4535701994994277,
          -0.38394936857027945,
          -0.6680721253788142,
          -0.6429137849954224,
          0.7147258770315915,
          -1.4985171428736122,
          2.0459145141636066,
          -0.467161741917224,
          0.8132661594542542,
          0.6293808269260213,
          -1.5107789396693025,
          -0.331917743684358,
          0.05867669275075526,
          0.20626723911401554,
          -0.7977795930039119,
          -0.5284544164088391
         ],
         "xaxis": "x11",
         "yaxis": "y11"
        },
        {
         "line": {
          "color": "rgba(128, 128, 128, 1.0)",
          "dash": "solid",
          "shape": "linear",
          "width": 1.3
         },
         "marker": {
          "size": 2,
          "symbol": "circle"
         },
         "mode": "markers",
         "name": "C",
         "text": "",
         "type": "scatter",
         "x": [
          0.03384664178148704,
          0.5666429305505546,
          0.14885183843377175,
          0.2687473452003424,
          1.1200512766765096,
          -2.8225156356584993,
          -0.09857086367123338,
          0.6997016010550245,
          -1.3562792823740024,
          -0.41508056769541196,
          -0.44685046724214006,
          1.3317926725059546,
          -1.534398796805004,
          0.5107676096875485,
          -0.35539271221973195,
          -0.4691145512394626,
          0.46537551119090104,
          -0.28621288875761214,
          0.7206887872019336,
          0.9270397108725131,
          0.8876193880034717,
          0.3686998726486203,
          -1.2219477310842741,
          -0.3902957898404521,
          -1.1949112579311598,
          -1.0811713597675425,
          0.7916926529667945,
          0.31681376614310686,
          -0.663152266439661,
          1.1098423222784424,
          0.06581774155636329,
          0.34117151247625005,
          0.9824823102015346,
          -0.8329297644404557,
          -1.0255005113062103,
          0.38708767823694307,
          -0.2735876107312517,
          1.111757822490364,
          -0.8053566441383361,
          0.09470607282640017,
          0.47268776889119185,
          -0.5701393873577066,
          -2.1961399023737114,
          -0.2577127983341919,
          -1.2187126822403935,
          0.9816939651454246,
          0.09885494293423237,
          -0.49510179974921226,
          1.594516555206982,
          0.4108355407054973,
          0.168743533242441,
          0.7617110899069682,
          0.6445282167880872,
          0.24658352945846151,
          1.0633761369266885,
          -1.2952068758870838,
          1.2556355409200266,
          0.10525546514764797,
          1.4510068650768608,
          -0.9774440012734138,
          0.7573789005103825,
          -1.4692166603040264,
          -1.219866900508068,
          -0.03417242416064316,
          -0.8336711038622275,
          -1.289844436339557,
          -0.17837954060022773,
          0.732927473839943,
          0.08030871609250388,
          1.5402237130269205,
          -1.2010816922179652,
          1.0273283822842285,
          1.1362028082895037,
          -0.5904487631408297,
          0.767364935605862,
          1.2840530894008695,
          0.5443851698820155,
          0.12506924046431742,
          0.901584915943366,
          0.8559873278925225,
          -0.8604099889630961,
          -0.6517254944882362,
          0.7117137760304271,
          -0.9360005771624264,
          0.5851825508705968,
          -1.8351426246396962,
          -0.636312250227509,
          0.3815910085105638,
          -2.23757811597667,
          -0.3368141017962645,
          -0.005645035574050167,
          -0.16463055665192255,
          -0.1825924073902931,
          -1.0341953399573212,
          0.7064307122288477,
          -0.3307511781925198,
          -1.49616348983762,
          -0.6911493407982104,
          0.5079262001874038,
          1.8328031186789648
         ],
         "xaxis": "x12",
         "y": [
          -0.19805204132074813,
          0.9646667420835341,
          -0.38290571006574775,
          1.2998824481693891,
          0.6199825686029053,
          0.08892096656522798,
          0.5098550465401651,
          -0.8175291952481727,
          1.0545679319751429,
          -0.1556477627143782,
          -0.1863019976198989,
          -1.2337935362095873,
          1.045560857193049,
          0.22235565193506643,
          1.2160340742473208,
          0.9222476060634441,
          -2.1150062077557044,
          -0.7071029794118244,
          -0.5495551785557025,
          -0.693624646441118,
          0.7573958854662389,
          0.17394140635208538,
          0.15923490851638308,
          0.6044591173991921,
          0.20111232258003703,
          0.8655037106493844,
          0.9630306500178076,
          -0.09963405884054125,
          0.4222388126671568,
          0.5445417835050336,
          -1.386959953120186,
          -1.0837062233251824,
          0.16040783519433743,
          0.16319047043609794,
          1.7531305154443126,
          1.8061218262475787,
          -0.5403383234473761,
          0.8429293141000763,
          -1.6763240933556285,
          1.1545629167166047,
          -0.5536300681270807,
          -0.18367259297476848,
          -0.3400663977866649,
          1.1849804232281855,
          0.41627393795554407,
          -1.4313827588307508,
          0.20246720240624347,
          0.43721416281460995,
          -0.32579144844232655,
          -1.2131834608493348,
          -0.14687430590360748,
          0.353499906435496,
          1.628903729852802,
          0.20353596359746787,
          0.451665175048858,
          -0.39634930867957924,
          -0.9509101739093384,
          0.7191038547617834,
          0.8719578554533487,
          1.8326883546543777,
          1.2003448994521837,
          -0.030231896568255902,
          -0.1716641365372497,
          0.20431636378405235,
          -0.5598850080650927,
          -0.24031795880204332,
          0.7516002737771287,
          0.19254709258696615,
          -0.057442624087766986,
          -0.6793162222432404,
          0.4148860123267791,
          0.13762364150603934,
          1.3920049620919024,
          -0.14462229762839007,
          0.14342609156753108,
          0.6143080669181031,
          0.4474505683921285,
          -0.34739229148391937,
          1.061455226537793,
          0.24475617312531944,
          -1.2513199803763844,
          -0.6937990342235643,
          -2.3404491478112965,
          0.8320957832750987,
          0.4535701994994277,
          -0.38394936857027945,
          -0.6680721253788142,
          -0.6429137849954224,
          0.7147258770315915,
          -1.4985171428736122,
          2.0459145141636066,
          -0.467161741917224,
          0.8132661594542542,
          0.6293808269260213,
          -1.5107789396693025,
          -0.331917743684358,
          0.05867669275075526,
          0.20626723911401554,
          -0.7977795930039119,
          -0.5284544164088391
         ],
         "yaxis": "y12"
        },
        {
         "line": {
          "color": "rgba(128, 128, 128, 1.0)",
          "dash": "solid",
          "shape": "linear",
          "width": 1.3
         },
         "marker": {
          "size": 2,
          "symbol": "circle"
         },
         "mode": "markers",
         "name": "D",
         "text": "",
         "type": "scatter",
         "x": [
          -1.3345721423538044,
          1.152744983274052,
          -0.4144432895718666,
          1.4302774060136265,
          1.1032714804754071,
          0.3191628341280002,
          0.29167766457536576,
          -0.2948260219573132,
          -0.7898916249391608,
          0.7579798280599954,
          0.7023990585262951,
          0.3617203499296237,
          1.3840609450336574,
          2.1234137119547905,
          0.2810105000977317,
          1.3417915860610645,
          -0.2412397886071698,
          -1.4800784340458517,
          -0.43730607784210224,
          1.2776043936563957,
          0.23681297531851184,
          0.540390995960289,
          1.6871090335390888,
          -0.12613605829513988,
          -0.5588115339425442,
          1.8051083114525888,
          -1.1726637178355273,
          0.8869084864979949,
          -0.6608453517139303,
          0.86318177144118,
          1.3220433452814955,
          -0.040310682232710525,
          -0.6822401059683589,
          1.0146630751377788,
          -0.09408866628468343,
          -0.3835960857750811,
          -0.033174674346961475,
          0.6882005981376775,
          -0.8463552045373701,
          0.3558779153321544,
          0.4162235961224696,
          1.2455350592782963,
          -0.4404736135266595,
          -0.021206617569660913,
          0.910807493204989,
          0.7261457915112387,
          -1.0852814847699983,
          -0.6116324809576813,
          0.4419712096882013,
          -0.9549757189699014,
          -1.0917298503989892,
          1.683458340637992,
          -2.34848252238384,
          -0.21404278096559237,
          1.7763779984983499,
          -0.6061798311193356,
          0.2018170117960935,
          1.1347757868560242,
          -0.036032949775629396,
          -0.34619100102470757,
          -0.288608149951723,
          0.5650826594364331,
          0.8499639803220693,
          0.9894872408033251,
          0.06569041064446172,
          0.054489734536987196,
          -1.9952387047587858,
          -2.2784797833534043,
          -0.3235225571592153,
          0.7985449754329478,
          0.5562115947213144,
          0.19932402438213523,
          -0.1403275336563558,
          0.9855129234750741,
          0.3045407336196398,
          0.53929898768602,
          -0.27575107464618664,
          -0.07407610262260471,
          0.11499769199840022,
          -0.7978934478689437,
          1.6231013726732846,
          0.11356346504298263,
          1.0257404298721093,
          0.38698431699048086,
          1.5573123378387754,
          -0.3575297031395702,
          -0.7186779504700587,
          -0.35459907027756954,
          1.0501179801717468,
          0.9723530993336464,
          -1.7859678584514145,
          -1.3568059526808665,
          1.620503617755656,
          1.0373614474576012,
          -1.6411237307693962,
          -2.052337862151146,
          1.5268582726716706,
          1.176810614698316,
          -0.511936349742928,
          1.8899167884179937
         ],
         "xaxis": "x13",
         "y": [
          0.03384664178148704,
          0.5666429305505546,
          0.14885183843377175,
          0.2687473452003424,
          1.1200512766765096,
          -2.8225156356584993,
          -0.09857086367123338,
          0.6997016010550245,
          -1.3562792823740024,
          -0.41508056769541196,
          -0.44685046724214006,
          1.3317926725059546,
          -1.534398796805004,
          0.5107676096875485,
          -0.35539271221973195,
          -0.4691145512394626,
          0.46537551119090104,
          -0.28621288875761214,
          0.7206887872019336,
          0.9270397108725131,
          0.8876193880034717,
          0.3686998726486203,
          -1.2219477310842741,
          -0.3902957898404521,
          -1.1949112579311598,
          -1.0811713597675425,
          0.7916926529667945,
          0.31681376614310686,
          -0.663152266439661,
          1.1098423222784424,
          0.06581774155636329,
          0.34117151247625005,
          0.9824823102015346,
          -0.8329297644404557,
          -1.0255005113062103,
          0.38708767823694307,
          -0.2735876107312517,
          1.111757822490364,
          -0.8053566441383361,
          0.09470607282640017,
          0.47268776889119185,
          -0.5701393873577066,
          -2.1961399023737114,
          -0.2577127983341919,
          -1.2187126822403935,
          0.9816939651454246,
          0.09885494293423237,
          -0.49510179974921226,
          1.594516555206982,
          0.4108355407054973,
          0.168743533242441,
          0.7617110899069682,
          0.6445282167880872,
          0.24658352945846151,
          1.0633761369266885,
          -1.2952068758870838,
          1.2556355409200266,
          0.10525546514764797,
          1.4510068650768608,
          -0.9774440012734138,
          0.7573789005103825,
          -1.4692166603040264,
          -1.219866900508068,
          -0.03417242416064316,
          -0.8336711038622275,
          -1.289844436339557,
          -0.17837954060022773,
          0.732927473839943,
          0.08030871609250388,
          1.5402237130269205,
          -1.2010816922179652,
          1.0273283822842285,
          1.1362028082895037,
          -0.5904487631408297,
          0.767364935605862,
          1.2840530894008695,
          0.5443851698820155,
          0.12506924046431742,
          0.901584915943366,
          0.8559873278925225,
          -0.8604099889630961,
          -0.6517254944882362,
          0.7117137760304271,
          -0.9360005771624264,
          0.5851825508705968,
          -1.8351426246396962,
          -0.636312250227509,
          0.3815910085105638,
          -2.23757811597667,
          -0.3368141017962645,
          -0.005645035574050167,
          -0.16463055665192255,
          -0.1825924073902931,
          -1.0341953399573212,
          0.7064307122288477,
          -0.3307511781925198,
          -1.49616348983762,
          -0.6911493407982104,
          0.5079262001874038,
          1.8328031186789648
         ],
         "yaxis": "y13"
        },
        {
         "line": {
          "color": "rgba(128, 128, 128, 1.0)",
          "dash": "solid",
          "shape": "linear",
          "width": 1.3
         },
         "marker": {
          "size": 2,
          "symbol": "circle"
         },
         "mode": "markers",
         "name": "D",
         "text": "",
         "type": "scatter",
         "x": [
          0.18934519564362062,
          -0.5168133289643818,
          -0.575887085195419,
          0.2654879300880599,
          -0.42270044140335306,
          0.49202396803406306,
          -0.05813887150593542,
          -1.9198333732052166,
          -1.1749861717602872,
          0.16124454493046997,
          -0.01733316004195805,
          -0.9257924593376672,
          0.09006921111651374,
          0.9734162863579563,
          -0.4518387082824791,
          -0.26153686886886934,
          0.28232403258757965,
          -1.0529426660554346,
          0.10202608047979453,
          0.23633183741611294,
          0.23498955155440895,
          0.9677590445244143,
          1.831253424242203,
          0.2415382607666498,
          -1.4230300649451495,
          2.2312182747485743,
          1.236202195805703,
          0.003390367770349785,
          -0.6237252050062434,
          -0.2342174145278324,
          -1.924925714689275,
          -0.9337128747220547,
          1.7543360784429163,
          0.7581829264781671,
          -0.08232277508753891,
          -0.45468484443795826,
          -0.19935092376725272,
          0.3432671525145582,
          -0.07884733212534094,
          0.9131918232446734,
          -0.8685402818250365,
          0.6883979203844126,
          1.0774186567698938,
          -1.2365006595554795,
          -0.604706613485279,
          0.5530504203367701,
          -1.1638121061985844,
          1.1266844459061904,
          -0.9565987159997782,
          0.46966062495493444,
          -0.15512534613084203,
          -1.201935972800709,
          1.0209556886714029,
          0.2795071484988548,
          1.4659564159180398,
          -0.4515262872130025,
          -0.4514630053316504,
          -0.0711730466463417,
          -2.1375937961790283,
          -0.7568430799085749,
          -1.051286755748964,
          0.27836127689014034,
          -0.4279875997952308,
          1.452930902585046,
          1.1703271571918823,
          -0.8463298634985316,
          0.6110841975955712,
          1.2940742777754228,
          -0.9945647867400169,
          1.5151241023797244,
          0.5075362134278456,
          -1.1735886638674613,
          1.98485816589851,
          0.7982761159418083,
          -0.07944727878078828,
          -0.7971158770598205,
          0.8537029643240611,
          -1.670795262780064,
          0.4918535139756341,
          -0.5521934592979183,
          -2.6713602633960485,
          -0.6402242514425622,
          -0.2530997756328507,
          0.13291790640185097,
          1.840027332124377,
          0.4256107998272355,
          -0.10524227119226856,
          0.7568395535199907,
          0.01227355678842452,
          -0.18777367729543826,
          0.11596626772388403,
          0.26977552573541597,
          -0.993101164784401,
          -0.05067529958534019,
          -0.5047305795737309,
          0.9070451286544564,
          0.5229498297030087,
          1.499042011679956,
          -0.9162419500042097,
          0.5257383477604088
         ],
         "xaxis": "x14",
         "y": [
          0.03384664178148704,
          0.5666429305505546,
          0.14885183843377175,
          0.2687473452003424,
          1.1200512766765096,
          -2.8225156356584993,
          -0.09857086367123338,
          0.6997016010550245,
          -1.3562792823740024,
          -0.41508056769541196,
          -0.44685046724214006,
          1.3317926725059546,
          -1.534398796805004,
          0.5107676096875485,
          -0.35539271221973195,
          -0.4691145512394626,
          0.46537551119090104,
          -0.28621288875761214,
          0.7206887872019336,
          0.9270397108725131,
          0.8876193880034717,
          0.3686998726486203,
          -1.2219477310842741,
          -0.3902957898404521,
          -1.1949112579311598,
          -1.0811713597675425,
          0.7916926529667945,
          0.31681376614310686,
          -0.663152266439661,
          1.1098423222784424,
          0.06581774155636329,
          0.34117151247625005,
          0.9824823102015346,
          -0.8329297644404557,
          -1.0255005113062103,
          0.38708767823694307,
          -0.2735876107312517,
          1.111757822490364,
          -0.8053566441383361,
          0.09470607282640017,
          0.47268776889119185,
          -0.5701393873577066,
          -2.1961399023737114,
          -0.2577127983341919,
          -1.2187126822403935,
          0.9816939651454246,
          0.09885494293423237,
          -0.49510179974921226,
          1.594516555206982,
          0.4108355407054973,
          0.168743533242441,
          0.7617110899069682,
          0.6445282167880872,
          0.24658352945846151,
          1.0633761369266885,
          -1.2952068758870838,
          1.2556355409200266,
          0.10525546514764797,
          1.4510068650768608,
          -0.9774440012734138,
          0.7573789005103825,
          -1.4692166603040264,
          -1.219866900508068,
          -0.03417242416064316,
          -0.8336711038622275,
          -1.289844436339557,
          -0.17837954060022773,
          0.732927473839943,
          0.08030871609250388,
          1.5402237130269205,
          -1.2010816922179652,
          1.0273283822842285,
          1.1362028082895037,
          -0.5904487631408297,
          0.767364935605862,
          1.2840530894008695,
          0.5443851698820155,
          0.12506924046431742,
          0.901584915943366,
          0.8559873278925225,
          -0.8604099889630961,
          -0.6517254944882362,
          0.7117137760304271,
          -0.9360005771624264,
          0.5851825508705968,
          -1.8351426246396962,
          -0.636312250227509,
          0.3815910085105638,
          -2.23757811597667,
          -0.3368141017962645,
          -0.005645035574050167,
          -0.16463055665192255,
          -0.1825924073902931,
          -1.0341953399573212,
          0.7064307122288477,
          -0.3307511781925198,
          -1.49616348983762,
          -0.6911493407982104,
          0.5079262001874038,
          1.8328031186789648
         ],
         "yaxis": "y14"
        },
        {
         "line": {
          "color": "rgba(128, 128, 128, 1.0)",
          "dash": "solid",
          "shape": "linear",
          "width": 1.3
         },
         "marker": {
          "size": 2,
          "symbol": "circle"
         },
         "mode": "markers",
         "name": "D",
         "text": "",
         "type": "scatter",
         "x": [
          -0.19805204132074813,
          0.9646667420835341,
          -0.38290571006574775,
          1.2998824481693891,
          0.6199825686029053,
          0.08892096656522798,
          0.5098550465401651,
          -0.8175291952481727,
          1.0545679319751429,
          -0.1556477627143782,
          -0.1863019976198989,
          -1.2337935362095873,
          1.045560857193049,
          0.22235565193506643,
          1.2160340742473208,
          0.9222476060634441,
          -2.1150062077557044,
          -0.7071029794118244,
          -0.5495551785557025,
          -0.693624646441118,
          0.7573958854662389,
          0.17394140635208538,
          0.15923490851638308,
          0.6044591173991921,
          0.20111232258003703,
          0.8655037106493844,
          0.9630306500178076,
          -0.09963405884054125,
          0.4222388126671568,
          0.5445417835050336,
          -1.386959953120186,
          -1.0837062233251824,
          0.16040783519433743,
          0.16319047043609794,
          1.7531305154443126,
          1.8061218262475787,
          -0.5403383234473761,
          0.8429293141000763,
          -1.6763240933556285,
          1.1545629167166047,
          -0.5536300681270807,
          -0.18367259297476848,
          -0.3400663977866649,
          1.1849804232281855,
          0.41627393795554407,
          -1.4313827588307508,
          0.20246720240624347,
          0.43721416281460995,
          -0.32579144844232655,
          -1.2131834608493348,
          -0.14687430590360748,
          0.353499906435496,
          1.628903729852802,
          0.20353596359746787,
          0.451665175048858,
          -0.39634930867957924,
          -0.9509101739093384,
          0.7191038547617834,
          0.8719578554533487,
          1.8326883546543777,
          1.2003448994521837,
          -0.030231896568255902,
          -0.1716641365372497,
          0.20431636378405235,
          -0.5598850080650927,
          -0.24031795880204332,
          0.7516002737771287,
          0.19254709258696615,
          -0.057442624087766986,
          -0.6793162222432404,
          0.4148860123267791,
          0.13762364150603934,
          1.3920049620919024,
          -0.14462229762839007,
          0.14342609156753108,
          0.6143080669181031,
          0.4474505683921285,
          -0.34739229148391937,
          1.061455226537793,
          0.24475617312531944,
          -1.2513199803763844,
          -0.6937990342235643,
          -2.3404491478112965,
          0.8320957832750987,
          0.4535701994994277,
          -0.38394936857027945,
          -0.6680721253788142,
          -0.6429137849954224,
          0.7147258770315915,
          -1.4985171428736122,
          2.0459145141636066,
          -0.467161741917224,
          0.8132661594542542,
          0.6293808269260213,
          -1.5107789396693025,
          -0.331917743684358,
          0.05867669275075526,
          0.20626723911401554,
          -0.7977795930039119,
          -0.5284544164088391
         ],
         "xaxis": "x15",
         "y": [
          0.03384664178148704,
          0.5666429305505546,
          0.14885183843377175,
          0.2687473452003424,
          1.1200512766765096,
          -2.8225156356584993,
          -0.09857086367123338,
          0.6997016010550245,
          -1.3562792823740024,
          -0.41508056769541196,
          -0.44685046724214006,
          1.3317926725059546,
          -1.534398796805004,
          0.5107676096875485,
          -0.35539271221973195,
          -0.4691145512394626,
          0.46537551119090104,
          -0.28621288875761214,
          0.7206887872019336,
          0.9270397108725131,
          0.8876193880034717,
          0.3686998726486203,
          -1.2219477310842741,
          -0.3902957898404521,
          -1.1949112579311598,
          -1.0811713597675425,
          0.7916926529667945,
          0.31681376614310686,
          -0.663152266439661,
          1.1098423222784424,
          0.06581774155636329,
          0.34117151247625005,
          0.9824823102015346,
          -0.8329297644404557,
          -1.0255005113062103,
          0.38708767823694307,
          -0.2735876107312517,
          1.111757822490364,
          -0.8053566441383361,
          0.09470607282640017,
          0.47268776889119185,
          -0.5701393873577066,
          -2.1961399023737114,
          -0.2577127983341919,
          -1.2187126822403935,
          0.9816939651454246,
          0.09885494293423237,
          -0.49510179974921226,
          1.594516555206982,
          0.4108355407054973,
          0.168743533242441,
          0.7617110899069682,
          0.6445282167880872,
          0.24658352945846151,
          1.0633761369266885,
          -1.2952068758870838,
          1.2556355409200266,
          0.10525546514764797,
          1.4510068650768608,
          -0.9774440012734138,
          0.7573789005103825,
          -1.4692166603040264,
          -1.219866900508068,
          -0.03417242416064316,
          -0.8336711038622275,
          -1.289844436339557,
          -0.17837954060022773,
          0.732927473839943,
          0.08030871609250388,
          1.5402237130269205,
          -1.2010816922179652,
          1.0273283822842285,
          1.1362028082895037,
          -0.5904487631408297,
          0.767364935605862,
          1.2840530894008695,
          0.5443851698820155,
          0.12506924046431742,
          0.901584915943366,
          0.8559873278925225,
          -0.8604099889630961,
          -0.6517254944882362,
          0.7117137760304271,
          -0.9360005771624264,
          0.5851825508705968,
          -1.8351426246396962,
          -0.636312250227509,
          0.3815910085105638,
          -2.23757811597667,
          -0.3368141017962645,
          -0.005645035574050167,
          -0.16463055665192255,
          -0.1825924073902931,
          -1.0341953399573212,
          0.7064307122288477,
          -0.3307511781925198,
          -1.49616348983762,
          -0.6911493407982104,
          0.5079262001874038,
          1.8328031186789648
         ],
         "yaxis": "y15"
        },
        {
         "histfunc": "count",
         "histnorm": "",
         "marker": {
          "color": "rgba(128, 0, 128, 1.0)",
          "line": {
           "color": "#4D5663",
           "width": 1.3
          }
         },
         "name": "D",
         "nbinsx": 10,
         "opacity": 0.8,
         "orientation": "v",
         "type": "histogram",
         "x": [
          0.03384664178148704,
          0.5666429305505546,
          0.14885183843377175,
          0.2687473452003424,
          1.1200512766765096,
          -2.8225156356584993,
          -0.09857086367123338,
          0.6997016010550245,
          -1.3562792823740024,
          -0.41508056769541196,
          -0.44685046724214006,
          1.3317926725059546,
          -1.534398796805004,
          0.5107676096875485,
          -0.35539271221973195,
          -0.4691145512394626,
          0.46537551119090104,
          -0.28621288875761214,
          0.7206887872019336,
          0.9270397108725131,
          0.8876193880034717,
          0.3686998726486203,
          -1.2219477310842741,
          -0.3902957898404521,
          -1.1949112579311598,
          -1.0811713597675425,
          0.7916926529667945,
          0.31681376614310686,
          -0.663152266439661,
          1.1098423222784424,
          0.06581774155636329,
          0.34117151247625005,
          0.9824823102015346,
          -0.8329297644404557,
          -1.0255005113062103,
          0.38708767823694307,
          -0.2735876107312517,
          1.111757822490364,
          -0.8053566441383361,
          0.09470607282640017,
          0.47268776889119185,
          -0.5701393873577066,
          -2.1961399023737114,
          -0.2577127983341919,
          -1.2187126822403935,
          0.9816939651454246,
          0.09885494293423237,
          -0.49510179974921226,
          1.594516555206982,
          0.4108355407054973,
          0.168743533242441,
          0.7617110899069682,
          0.6445282167880872,
          0.24658352945846151,
          1.0633761369266885,
          -1.2952068758870838,
          1.2556355409200266,
          0.10525546514764797,
          1.4510068650768608,
          -0.9774440012734138,
          0.7573789005103825,
          -1.4692166603040264,
          -1.219866900508068,
          -0.03417242416064316,
          -0.8336711038622275,
          -1.289844436339557,
          -0.17837954060022773,
          0.732927473839943,
          0.08030871609250388,
          1.5402237130269205,
          -1.2010816922179652,
          1.0273283822842285,
          1.1362028082895037,
          -0.5904487631408297,
          0.767364935605862,
          1.2840530894008695,
          0.5443851698820155,
          0.12506924046431742,
          0.901584915943366,
          0.8559873278925225,
          -0.8604099889630961,
          -0.6517254944882362,
          0.7117137760304271,
          -0.9360005771624264,
          0.5851825508705968,
          -1.8351426246396962,
          -0.636312250227509,
          0.3815910085105638,
          -2.23757811597667,
          -0.3368141017962645,
          -0.005645035574050167,
          -0.16463055665192255,
          -0.1825924073902931,
          -1.0341953399573212,
          0.7064307122288477,
          -0.3307511781925198,
          -1.49616348983762,
          -0.6911493407982104,
          0.5079262001874038,
          1.8328031186789648
         ],
         "xaxis": "x16",
         "yaxis": "y16"
        }
       ],
       "layout": {
        "bargap": 0.02,
        "legend": {
         "bgcolor": "#F5F6F9",
         "font": {
          "color": "#4D5663"
         }
        },
        "paper_bgcolor": "#F5F6F9",
        "plot_bgcolor": "#F5F6F9",
        "showlegend": false,
        "template": {
         "data": {
          "bar": [
           {
            "error_x": {
             "color": "#2a3f5f"
            },
            "error_y": {
             "color": "#2a3f5f"
            },
            "marker": {
             "line": {
              "color": "#E5ECF6",
              "width": 0.5
             }
            },
            "type": "bar"
           }
          ],
          "barpolar": [
           {
            "marker": {
             "line": {
              "color": "#E5ECF6",
              "width": 0.5
             }
            },
            "type": "barpolar"
           }
          ],
          "carpet": [
           {
            "aaxis": {
             "endlinecolor": "#2a3f5f",
             "gridcolor": "white",
             "linecolor": "white",
             "minorgridcolor": "white",
             "startlinecolor": "#2a3f5f"
            },
            "baxis": {
             "endlinecolor": "#2a3f5f",
             "gridcolor": "white",
             "linecolor": "white",
             "minorgridcolor": "white",
             "startlinecolor": "#2a3f5f"
            },
            "type": "carpet"
           }
          ],
          "choropleth": [
           {
            "colorbar": {
             "outlinewidth": 0,
             "ticks": ""
            },
            "type": "choropleth"
           }
          ],
          "contour": [
           {
            "colorbar": {
             "outlinewidth": 0,
             "ticks": ""
            },
            "colorscale": [
             [
              0,
              "#0d0887"
             ],
             [
              0.1111111111111111,
              "#46039f"
             ],
             [
              0.2222222222222222,
              "#7201a8"
             ],
             [
              0.3333333333333333,
              "#9c179e"
             ],
             [
              0.4444444444444444,
              "#bd3786"
             ],
             [
              0.5555555555555556,
              "#d8576b"
             ],
             [
              0.6666666666666666,
              "#ed7953"
             ],
             [
              0.7777777777777778,
              "#fb9f3a"
             ],
             [
              0.8888888888888888,
              "#fdca26"
             ],
             [
              1,
              "#f0f921"
             ]
            ],
            "type": "contour"
           }
          ],
          "contourcarpet": [
           {
            "colorbar": {
             "outlinewidth": 0,
             "ticks": ""
            },
            "type": "contourcarpet"
           }
          ],
          "heatmap": [
           {
            "colorbar": {
             "outlinewidth": 0,
             "ticks": ""
            },
            "colorscale": [
             [
              0,
              "#0d0887"
             ],
             [
              0.1111111111111111,
              "#46039f"
             ],
             [
              0.2222222222222222,
              "#7201a8"
             ],
             [
              0.3333333333333333,
              "#9c179e"
             ],
             [
              0.4444444444444444,
              "#bd3786"
             ],
             [
              0.5555555555555556,
              "#d8576b"
             ],
             [
              0.6666666666666666,
              "#ed7953"
             ],
             [
              0.7777777777777778,
              "#fb9f3a"
             ],
             [
              0.8888888888888888,
              "#fdca26"
             ],
             [
              1,
              "#f0f921"
             ]
            ],
            "type": "heatmap"
           }
          ],
          "heatmapgl": [
           {
            "colorbar": {
             "outlinewidth": 0,
             "ticks": ""
            },
            "colorscale": [
             [
              0,
              "#0d0887"
             ],
             [
              0.1111111111111111,
              "#46039f"
             ],
             [
              0.2222222222222222,
              "#7201a8"
             ],
             [
              0.3333333333333333,
              "#9c179e"
             ],
             [
              0.4444444444444444,
              "#bd3786"
             ],
             [
              0.5555555555555556,
              "#d8576b"
             ],
             [
              0.6666666666666666,
              "#ed7953"
             ],
             [
              0.7777777777777778,
              "#fb9f3a"
             ],
             [
              0.8888888888888888,
              "#fdca26"
             ],
             [
              1,
              "#f0f921"
             ]
            ],
            "type": "heatmapgl"
           }
          ],
          "histogram": [
           {
            "marker": {
             "colorbar": {
              "outlinewidth": 0,
              "ticks": ""
             }
            },
            "type": "histogram"
           }
          ],
          "histogram2d": [
           {
            "colorbar": {
             "outlinewidth": 0,
             "ticks": ""
            },
            "colorscale": [
             [
              0,
              "#0d0887"
             ],
             [
              0.1111111111111111,
              "#46039f"
             ],
             [
              0.2222222222222222,
              "#7201a8"
             ],
             [
              0.3333333333333333,
              "#9c179e"
             ],
             [
              0.4444444444444444,
              "#bd3786"
             ],
             [
              0.5555555555555556,
              "#d8576b"
             ],
             [
              0.6666666666666666,
              "#ed7953"
             ],
             [
              0.7777777777777778,
              "#fb9f3a"
             ],
             [
              0.8888888888888888,
              "#fdca26"
             ],
             [
              1,
              "#f0f921"
             ]
            ],
            "type": "histogram2d"
           }
          ],
          "histogram2dcontour": [
           {
            "colorbar": {
             "outlinewidth": 0,
             "ticks": ""
            },
            "colorscale": [
             [
              0,
              "#0d0887"
             ],
             [
              0.1111111111111111,
              "#46039f"
             ],
             [
              0.2222222222222222,
              "#7201a8"
             ],
             [
              0.3333333333333333,
              "#9c179e"
             ],
             [
              0.4444444444444444,
              "#bd3786"
             ],
             [
              0.5555555555555556,
              "#d8576b"
             ],
             [
              0.6666666666666666,
              "#ed7953"
             ],
             [
              0.7777777777777778,
              "#fb9f3a"
             ],
             [
              0.8888888888888888,
              "#fdca26"
             ],
             [
              1,
              "#f0f921"
             ]
            ],
            "type": "histogram2dcontour"
           }
          ],
          "mesh3d": [
           {
            "colorbar": {
             "outlinewidth": 0,
             "ticks": ""
            },
            "type": "mesh3d"
           }
          ],
          "parcoords": [
           {
            "line": {
             "colorbar": {
              "outlinewidth": 0,
              "ticks": ""
             }
            },
            "type": "parcoords"
           }
          ],
          "pie": [
           {
            "automargin": true,
            "type": "pie"
           }
          ],
          "scatter": [
           {
            "marker": {
             "colorbar": {
              "outlinewidth": 0,
              "ticks": ""
             }
            },
            "type": "scatter"
           }
          ],
          "scatter3d": [
           {
            "line": {
             "colorbar": {
              "outlinewidth": 0,
              "ticks": ""
             }
            },
            "marker": {
             "colorbar": {
              "outlinewidth": 0,
              "ticks": ""
             }
            },
            "type": "scatter3d"
           }
          ],
          "scattercarpet": [
           {
            "marker": {
             "colorbar": {
              "outlinewidth": 0,
              "ticks": ""
             }
            },
            "type": "scattercarpet"
           }
          ],
          "scattergeo": [
           {
            "marker": {
             "colorbar": {
              "outlinewidth": 0,
              "ticks": ""
             }
            },
            "type": "scattergeo"
           }
          ],
          "scattergl": [
           {
            "marker": {
             "colorbar": {
              "outlinewidth": 0,
              "ticks": ""
             }
            },
            "type": "scattergl"
           }
          ],
          "scattermapbox": [
           {
            "marker": {
             "colorbar": {
              "outlinewidth": 0,
              "ticks": ""
             }
            },
            "type": "scattermapbox"
           }
          ],
          "scatterpolar": [
           {
            "marker": {
             "colorbar": {
              "outlinewidth": 0,
              "ticks": ""
             }
            },
            "type": "scatterpolar"
           }
          ],
          "scatterpolargl": [
           {
            "marker": {
             "colorbar": {
              "outlinewidth": 0,
              "ticks": ""
             }
            },
            "type": "scatterpolargl"
           }
          ],
          "scatterternary": [
           {
            "marker": {
             "colorbar": {
              "outlinewidth": 0,
              "ticks": ""
             }
            },
            "type": "scatterternary"
           }
          ],
          "surface": [
           {
            "colorbar": {
             "outlinewidth": 0,
             "ticks": ""
            },
            "colorscale": [
             [
              0,
              "#0d0887"
             ],
             [
              0.1111111111111111,
              "#46039f"
             ],
             [
              0.2222222222222222,
              "#7201a8"
             ],
             [
              0.3333333333333333,
              "#9c179e"
             ],
             [
              0.4444444444444444,
              "#bd3786"
             ],
             [
              0.5555555555555556,
              "#d8576b"
             ],
             [
              0.6666666666666666,
              "#ed7953"
             ],
             [
              0.7777777777777778,
              "#fb9f3a"
             ],
             [
              0.8888888888888888,
              "#fdca26"
             ],
             [
              1,
              "#f0f921"
             ]
            ],
            "type": "surface"
           }
          ],
          "table": [
           {
            "cells": {
             "fill": {
              "color": "#EBF0F8"
             },
             "line": {
              "color": "white"
             }
            },
            "header": {
             "fill": {
              "color": "#C8D4E3"
             },
             "line": {
              "color": "white"
             }
            },
            "type": "table"
           }
          ]
         },
         "layout": {
          "annotationdefaults": {
           "arrowcolor": "#2a3f5f",
           "arrowhead": 0,
           "arrowwidth": 1
          },
          "coloraxis": {
           "colorbar": {
            "outlinewidth": 0,
            "ticks": ""
           }
          },
          "colorscale": {
           "diverging": [
            [
             0,
             "#8e0152"
            ],
            [
             0.1,
             "#c51b7d"
            ],
            [
             0.2,
             "#de77ae"
            ],
            [
             0.3,
             "#f1b6da"
            ],
            [
             0.4,
             "#fde0ef"
            ],
            [
             0.5,
             "#f7f7f7"
            ],
            [
             0.6,
             "#e6f5d0"
            ],
            [
             0.7,
             "#b8e186"
            ],
            [
             0.8,
             "#7fbc41"
            ],
            [
             0.9,
             "#4d9221"
            ],
            [
             1,
             "#276419"
            ]
           ],
           "sequential": [
            [
             0,
             "#0d0887"
            ],
            [
             0.1111111111111111,
             "#46039f"
            ],
            [
             0.2222222222222222,
             "#7201a8"
            ],
            [
             0.3333333333333333,
             "#9c179e"
            ],
            [
             0.4444444444444444,
             "#bd3786"
            ],
            [
             0.5555555555555556,
             "#d8576b"
            ],
            [
             0.6666666666666666,
             "#ed7953"
            ],
            [
             0.7777777777777778,
             "#fb9f3a"
            ],
            [
             0.8888888888888888,
             "#fdca26"
            ],
            [
             1,
             "#f0f921"
            ]
           ],
           "sequentialminus": [
            [
             0,
             "#0d0887"
            ],
            [
             0.1111111111111111,
             "#46039f"
            ],
            [
             0.2222222222222222,
             "#7201a8"
            ],
            [
             0.3333333333333333,
             "#9c179e"
            ],
            [
             0.4444444444444444,
             "#bd3786"
            ],
            [
             0.5555555555555556,
             "#d8576b"
            ],
            [
             0.6666666666666666,
             "#ed7953"
            ],
            [
             0.7777777777777778,
             "#fb9f3a"
            ],
            [
             0.8888888888888888,
             "#fdca26"
            ],
            [
             1,
             "#f0f921"
            ]
           ]
          },
          "colorway": [
           "#636efa",
           "#EF553B",
           "#00cc96",
           "#ab63fa",
           "#FFA15A",
           "#19d3f3",
           "#FF6692",
           "#B6E880",
           "#FF97FF",
           "#FECB52"
          ],
          "font": {
           "color": "#2a3f5f"
          },
          "geo": {
           "bgcolor": "white",
           "lakecolor": "white",
           "landcolor": "#E5ECF6",
           "showlakes": true,
           "showland": true,
           "subunitcolor": "white"
          },
          "hoverlabel": {
           "align": "left"
          },
          "hovermode": "closest",
          "mapbox": {
           "style": "light"
          },
          "paper_bgcolor": "white",
          "plot_bgcolor": "#E5ECF6",
          "polar": {
           "angularaxis": {
            "gridcolor": "white",
            "linecolor": "white",
            "ticks": ""
           },
           "bgcolor": "#E5ECF6",
           "radialaxis": {
            "gridcolor": "white",
            "linecolor": "white",
            "ticks": ""
           }
          },
          "scene": {
           "xaxis": {
            "backgroundcolor": "#E5ECF6",
            "gridcolor": "white",
            "gridwidth": 2,
            "linecolor": "white",
            "showbackground": true,
            "ticks": "",
            "zerolinecolor": "white"
           },
           "yaxis": {
            "backgroundcolor": "#E5ECF6",
            "gridcolor": "white",
            "gridwidth": 2,
            "linecolor": "white",
            "showbackground": true,
            "ticks": "",
            "zerolinecolor": "white"
           },
           "zaxis": {
            "backgroundcolor": "#E5ECF6",
            "gridcolor": "white",
            "gridwidth": 2,
            "linecolor": "white",
            "showbackground": true,
            "ticks": "",
            "zerolinecolor": "white"
           }
          },
          "shapedefaults": {
           "line": {
            "color": "#2a3f5f"
           }
          },
          "ternary": {
           "aaxis": {
            "gridcolor": "white",
            "linecolor": "white",
            "ticks": ""
           },
           "baxis": {
            "gridcolor": "white",
            "linecolor": "white",
            "ticks": ""
           },
           "bgcolor": "#E5ECF6",
           "caxis": {
            "gridcolor": "white",
            "linecolor": "white",
            "ticks": ""
           }
          },
          "title": {
           "x": 0.05
          },
          "xaxis": {
           "automargin": true,
           "gridcolor": "white",
           "linecolor": "white",
           "ticks": "",
           "title": {
            "standoff": 15
           },
           "zerolinecolor": "white",
           "zerolinewidth": 2
          },
          "yaxis": {
           "automargin": true,
           "gridcolor": "white",
           "linecolor": "white",
           "ticks": "",
           "title": {
            "standoff": 15
           },
           "zerolinecolor": "white",
           "zerolinewidth": 2
          }
         }
        },
        "title": {
         "font": {
          "color": "#4D5663"
         }
        },
        "xaxis": {
         "anchor": "y",
         "domain": [
          0,
          0.2125
         ],
         "gridcolor": "#E1E5ED",
         "showgrid": false,
         "tickfont": {
          "color": "#4D5663"
         },
         "title": {
          "font": {
           "color": "#4D5663"
          },
          "text": ""
         },
         "zerolinecolor": "#E1E5ED"
        },
        "xaxis10": {
         "anchor": "y10",
         "domain": [
          0.2625,
          0.475
         ],
         "gridcolor": "#E1E5ED",
         "showgrid": false,
         "tickfont": {
          "color": "#4D5663"
         },
         "title": {
          "font": {
           "color": "#4D5663"
          },
          "text": ""
         },
         "zerolinecolor": "#E1E5ED"
        },
        "xaxis11": {
         "anchor": "y11",
         "domain": [
          0.525,
          0.7375
         ],
         "gridcolor": "#E1E5ED",
         "showgrid": false,
         "tickfont": {
          "color": "#4D5663"
         },
         "title": {
          "font": {
           "color": "#4D5663"
          },
          "text": ""
         },
         "zerolinecolor": "#E1E5ED"
        },
        "xaxis12": {
         "anchor": "y12",
         "domain": [
          0.7875,
          1
         ],
         "gridcolor": "#E1E5ED",
         "showgrid": false,
         "tickfont": {
          "color": "#4D5663"
         },
         "title": {
          "font": {
           "color": "#4D5663"
          },
          "text": ""
         },
         "zerolinecolor": "#E1E5ED"
        },
        "xaxis13": {
         "anchor": "y13",
         "domain": [
          0,
          0.2125
         ],
         "gridcolor": "#E1E5ED",
         "showgrid": false,
         "tickfont": {
          "color": "#4D5663"
         },
         "title": {
          "font": {
           "color": "#4D5663"
          },
          "text": ""
         },
         "zerolinecolor": "#E1E5ED"
        },
        "xaxis14": {
         "anchor": "y14",
         "domain": [
          0.2625,
          0.475
         ],
         "gridcolor": "#E1E5ED",
         "showgrid": false,
         "tickfont": {
          "color": "#4D5663"
         },
         "title": {
          "font": {
           "color": "#4D5663"
          },
          "text": ""
         },
         "zerolinecolor": "#E1E5ED"
        },
        "xaxis15": {
         "anchor": "y15",
         "domain": [
          0.525,
          0.7375
         ],
         "gridcolor": "#E1E5ED",
         "showgrid": false,
         "tickfont": {
          "color": "#4D5663"
         },
         "title": {
          "font": {
           "color": "#4D5663"
          },
          "text": ""
         },
         "zerolinecolor": "#E1E5ED"
        },
        "xaxis16": {
         "anchor": "y16",
         "domain": [
          0.7875,
          1
         ],
         "gridcolor": "#E1E5ED",
         "showgrid": false,
         "tickfont": {
          "color": "#4D5663"
         },
         "title": {
          "font": {
           "color": "#4D5663"
          },
          "text": ""
         },
         "zerolinecolor": "#E1E5ED"
        },
        "xaxis2": {
         "anchor": "y2",
         "domain": [
          0.2625,
          0.475
         ],
         "gridcolor": "#E1E5ED",
         "showgrid": false,
         "tickfont": {
          "color": "#4D5663"
         },
         "title": {
          "font": {
           "color": "#4D5663"
          },
          "text": ""
         },
         "zerolinecolor": "#E1E5ED"
        },
        "xaxis3": {
         "anchor": "y3",
         "domain": [
          0.525,
          0.7375
         ],
         "gridcolor": "#E1E5ED",
         "showgrid": false,
         "tickfont": {
          "color": "#4D5663"
         },
         "title": {
          "font": {
           "color": "#4D5663"
          },
          "text": ""
         },
         "zerolinecolor": "#E1E5ED"
        },
        "xaxis4": {
         "anchor": "y4",
         "domain": [
          0.7875,
          1
         ],
         "gridcolor": "#E1E5ED",
         "showgrid": false,
         "tickfont": {
          "color": "#4D5663"
         },
         "title": {
          "font": {
           "color": "#4D5663"
          },
          "text": ""
         },
         "zerolinecolor": "#E1E5ED"
        },
        "xaxis5": {
         "anchor": "y5",
         "domain": [
          0,
          0.2125
         ],
         "gridcolor": "#E1E5ED",
         "showgrid": false,
         "tickfont": {
          "color": "#4D5663"
         },
         "title": {
          "font": {
           "color": "#4D5663"
          },
          "text": ""
         },
         "zerolinecolor": "#E1E5ED"
        },
        "xaxis6": {
         "anchor": "y6",
         "domain": [
          0.2625,
          0.475
         ],
         "gridcolor": "#E1E5ED",
         "showgrid": false,
         "tickfont": {
          "color": "#4D5663"
         },
         "title": {
          "font": {
           "color": "#4D5663"
          },
          "text": ""
         },
         "zerolinecolor": "#E1E5ED"
        },
        "xaxis7": {
         "anchor": "y7",
         "domain": [
          0.525,
          0.7375
         ],
         "gridcolor": "#E1E5ED",
         "showgrid": false,
         "tickfont": {
          "color": "#4D5663"
         },
         "title": {
          "font": {
           "color": "#4D5663"
          },
          "text": ""
         },
         "zerolinecolor": "#E1E5ED"
        },
        "xaxis8": {
         "anchor": "y8",
         "domain": [
          0.7875,
          1
         ],
         "gridcolor": "#E1E5ED",
         "showgrid": false,
         "tickfont": {
          "color": "#4D5663"
         },
         "title": {
          "font": {
           "color": "#4D5663"
          },
          "text": ""
         },
         "zerolinecolor": "#E1E5ED"
        },
        "xaxis9": {
         "anchor": "y9",
         "domain": [
          0,
          0.2125
         ],
         "gridcolor": "#E1E5ED",
         "showgrid": false,
         "tickfont": {
          "color": "#4D5663"
         },
         "title": {
          "font": {
           "color": "#4D5663"
          },
          "text": ""
         },
         "zerolinecolor": "#E1E5ED"
        },
        "yaxis": {
         "anchor": "x",
         "domain": [
          0.8025,
          1
         ],
         "gridcolor": "#E1E5ED",
         "showgrid": false,
         "tickfont": {
          "color": "#4D5663"
         },
         "title": {
          "font": {
           "color": "#4D5663"
          },
          "text": ""
         },
         "zerolinecolor": "#E1E5ED"
        },
        "yaxis10": {
         "anchor": "x10",
         "domain": [
          0.2675,
          0.465
         ],
         "gridcolor": "#E1E5ED",
         "showgrid": false,
         "tickfont": {
          "color": "#4D5663"
         },
         "title": {
          "font": {
           "color": "#4D5663"
          },
          "text": ""
         },
         "zerolinecolor": "#E1E5ED"
        },
        "yaxis11": {
         "anchor": "x11",
         "domain": [
          0.2675,
          0.465
         ],
         "gridcolor": "#E1E5ED",
         "showgrid": false,
         "tickfont": {
          "color": "#4D5663"
         },
         "title": {
          "font": {
           "color": "#4D5663"
          },
          "text": ""
         },
         "zerolinecolor": "#E1E5ED"
        },
        "yaxis12": {
         "anchor": "x12",
         "domain": [
          0.2675,
          0.465
         ],
         "gridcolor": "#E1E5ED",
         "showgrid": false,
         "tickfont": {
          "color": "#4D5663"
         },
         "title": {
          "font": {
           "color": "#4D5663"
          },
          "text": ""
         },
         "zerolinecolor": "#E1E5ED"
        },
        "yaxis13": {
         "anchor": "x13",
         "domain": [
          0,
          0.1975
         ],
         "gridcolor": "#E1E5ED",
         "showgrid": false,
         "tickfont": {
          "color": "#4D5663"
         },
         "title": {
          "font": {
           "color": "#4D5663"
          },
          "text": ""
         },
         "zerolinecolor": "#E1E5ED"
        },
        "yaxis14": {
         "anchor": "x14",
         "domain": [
          0,
          0.1975
         ],
         "gridcolor": "#E1E5ED",
         "showgrid": false,
         "tickfont": {
          "color": "#4D5663"
         },
         "title": {
          "font": {
           "color": "#4D5663"
          },
          "text": ""
         },
         "zerolinecolor": "#E1E5ED"
        },
        "yaxis15": {
         "anchor": "x15",
         "domain": [
          0,
          0.1975
         ],
         "gridcolor": "#E1E5ED",
         "showgrid": false,
         "tickfont": {
          "color": "#4D5663"
         },
         "title": {
          "font": {
           "color": "#4D5663"
          },
          "text": ""
         },
         "zerolinecolor": "#E1E5ED"
        },
        "yaxis16": {
         "anchor": "x16",
         "domain": [
          0,
          0.1975
         ],
         "gridcolor": "#E1E5ED",
         "showgrid": false,
         "tickfont": {
          "color": "#4D5663"
         },
         "title": {
          "font": {
           "color": "#4D5663"
          },
          "text": ""
         },
         "zerolinecolor": "#E1E5ED"
        },
        "yaxis2": {
         "anchor": "x2",
         "domain": [
          0.8025,
          1
         ],
         "gridcolor": "#E1E5ED",
         "showgrid": false,
         "tickfont": {
          "color": "#4D5663"
         },
         "title": {
          "font": {
           "color": "#4D5663"
          },
          "text": ""
         },
         "zerolinecolor": "#E1E5ED"
        },
        "yaxis3": {
         "anchor": "x3",
         "domain": [
          0.8025,
          1
         ],
         "gridcolor": "#E1E5ED",
         "showgrid": false,
         "tickfont": {
          "color": "#4D5663"
         },
         "title": {
          "font": {
           "color": "#4D5663"
          },
          "text": ""
         },
         "zerolinecolor": "#E1E5ED"
        },
        "yaxis4": {
         "anchor": "x4",
         "domain": [
          0.8025,
          1
         ],
         "gridcolor": "#E1E5ED",
         "showgrid": false,
         "tickfont": {
          "color": "#4D5663"
         },
         "title": {
          "font": {
           "color": "#4D5663"
          },
          "text": ""
         },
         "zerolinecolor": "#E1E5ED"
        },
        "yaxis5": {
         "anchor": "x5",
         "domain": [
          0.535,
          0.7325
         ],
         "gridcolor": "#E1E5ED",
         "showgrid": false,
         "tickfont": {
          "color": "#4D5663"
         },
         "title": {
          "font": {
           "color": "#4D5663"
          },
          "text": ""
         },
         "zerolinecolor": "#E1E5ED"
        },
        "yaxis6": {
         "anchor": "x6",
         "domain": [
          0.535,
          0.7325
         ],
         "gridcolor": "#E1E5ED",
         "showgrid": false,
         "tickfont": {
          "color": "#4D5663"
         },
         "title": {
          "font": {
           "color": "#4D5663"
          },
          "text": ""
         },
         "zerolinecolor": "#E1E5ED"
        },
        "yaxis7": {
         "anchor": "x7",
         "domain": [
          0.535,
          0.7325
         ],
         "gridcolor": "#E1E5ED",
         "showgrid": false,
         "tickfont": {
          "color": "#4D5663"
         },
         "title": {
          "font": {
           "color": "#4D5663"
          },
          "text": ""
         },
         "zerolinecolor": "#E1E5ED"
        },
        "yaxis8": {
         "anchor": "x8",
         "domain": [
          0.535,
          0.7325
         ],
         "gridcolor": "#E1E5ED",
         "showgrid": false,
         "tickfont": {
          "color": "#4D5663"
         },
         "title": {
          "font": {
           "color": "#4D5663"
          },
          "text": ""
         },
         "zerolinecolor": "#E1E5ED"
        },
        "yaxis9": {
         "anchor": "x9",
         "domain": [
          0.2675,
          0.465
         ],
         "gridcolor": "#E1E5ED",
         "showgrid": false,
         "tickfont": {
          "color": "#4D5663"
         },
         "title": {
          "font": {
           "color": "#4D5663"
          },
          "text": ""
         },
         "zerolinecolor": "#E1E5ED"
        }
       }
      },
      "text/html": [
       "<div>                            <div id=\"d8dbaa26-5899-4744-a5db-4d2683b18913\" class=\"plotly-graph-div\" style=\"height:525px; width:100%;\"></div>            <script type=\"text/javascript\">                require([\"plotly\"], function(Plotly) {                    window.PLOTLYENV=window.PLOTLYENV || {};\n",
       "                    window.PLOTLYENV.BASE_URL='https://plot.ly';                                    if (document.getElementById(\"d8dbaa26-5899-4744-a5db-4d2683b18913\")) {                    Plotly.newPlot(                        \"d8dbaa26-5899-4744-a5db-4d2683b18913\",                        [{\"histfunc\": \"count\", \"histnorm\": \"\", \"marker\": {\"color\": \"rgba(255, 153, 51, 1.0)\", \"line\": {\"color\": \"#4D5663\", \"width\": 1.3}}, \"name\": \"A\", \"nbinsx\": 10, \"opacity\": 0.8, \"orientation\": \"v\", \"type\": \"histogram\", \"x\": [-1.3345721423538044, 1.152744983274052, -0.4144432895718666, 1.4302774060136265, 1.1032714804754071, 0.3191628341280002, 0.29167766457536576, -0.2948260219573132, -0.7898916249391608, 0.7579798280599954, 0.7023990585262951, 0.3617203499296237, 1.3840609450336574, 2.1234137119547905, 0.2810105000977317, 1.3417915860610645, -0.2412397886071698, -1.4800784340458517, -0.43730607784210224, 1.2776043936563957, 0.23681297531851184, 0.540390995960289, 1.6871090335390888, -0.12613605829513988, -0.5588115339425442, 1.8051083114525888, -1.1726637178355273, 0.8869084864979949, -0.6608453517139303, 0.86318177144118, 1.3220433452814955, -0.040310682232710525, -0.6822401059683589, 1.0146630751377788, -0.09408866628468343, -0.3835960857750811, -0.033174674346961475, 0.6882005981376775, -0.8463552045373701, 0.3558779153321544, 0.4162235961224696, 1.2455350592782963, -0.4404736135266595, -0.021206617569660913, 0.910807493204989, 0.7261457915112387, -1.0852814847699983, -0.6116324809576813, 0.4419712096882013, -0.9549757189699014, -1.0917298503989892, 1.683458340637992, -2.34848252238384, -0.21404278096559237, 1.7763779984983499, -0.6061798311193356, 0.2018170117960935, 1.1347757868560242, -0.036032949775629396, -0.34619100102470757, -0.288608149951723, 0.5650826594364331, 0.8499639803220693, 0.9894872408033251, 0.06569041064446172, 0.054489734536987196, -1.9952387047587858, -2.2784797833534043, -0.3235225571592153, 0.7985449754329478, 0.5562115947213144, 0.19932402438213523, -0.1403275336563558, 0.9855129234750741, 0.3045407336196398, 0.53929898768602, -0.27575107464618664, -0.07407610262260471, 0.11499769199840022, -0.7978934478689437, 1.6231013726732846, 0.11356346504298263, 1.0257404298721093, 0.38698431699048086, 1.5573123378387754, -0.3575297031395702, -0.7186779504700587, -0.35459907027756954, 1.0501179801717468, 0.9723530993336464, -1.7859678584514145, -1.3568059526808665, 1.620503617755656, 1.0373614474576012, -1.6411237307693962, -2.052337862151146, 1.5268582726716706, 1.176810614698316, -0.511936349742928, 1.8899167884179937], \"xaxis\": \"x\", \"yaxis\": \"y\"}, {\"line\": {\"color\": \"rgba(128, 128, 128, 1.0)\", \"dash\": \"solid\", \"shape\": \"linear\", \"width\": 1.3}, \"marker\": {\"size\": 2, \"symbol\": \"circle\"}, \"mode\": \"markers\", \"name\": \"A\", \"text\": \"\", \"type\": \"scatter\", \"x\": [0.18934519564362062, -0.5168133289643818, -0.575887085195419, 0.2654879300880599, -0.42270044140335306, 0.49202396803406306, -0.05813887150593542, -1.9198333732052166, -1.1749861717602872, 0.16124454493046997, -0.01733316004195805, -0.9257924593376672, 0.09006921111651374, 0.9734162863579563, -0.4518387082824791, -0.26153686886886934, 0.28232403258757965, -1.0529426660554346, 0.10202608047979453, 0.23633183741611294, 0.23498955155440895, 0.9677590445244143, 1.831253424242203, 0.2415382607666498, -1.4230300649451495, 2.2312182747485743, 1.236202195805703, 0.003390367770349785, -0.6237252050062434, -0.2342174145278324, -1.924925714689275, -0.9337128747220547, 1.7543360784429163, 0.7581829264781671, -0.08232277508753891, -0.45468484443795826, -0.19935092376725272, 0.3432671525145582, -0.07884733212534094, 0.9131918232446734, -0.8685402818250365, 0.6883979203844126, 1.0774186567698938, -1.2365006595554795, -0.604706613485279, 0.5530504203367701, -1.1638121061985844, 1.1266844459061904, -0.9565987159997782, 0.46966062495493444, -0.15512534613084203, -1.201935972800709, 1.0209556886714029, 0.2795071484988548, 1.4659564159180398, -0.4515262872130025, -0.4514630053316504, -0.0711730466463417, -2.1375937961790283, -0.7568430799085749, -1.051286755748964, 0.27836127689014034, -0.4279875997952308, 1.452930902585046, 1.1703271571918823, -0.8463298634985316, 0.6110841975955712, 1.2940742777754228, -0.9945647867400169, 1.5151241023797244, 0.5075362134278456, -1.1735886638674613, 1.98485816589851, 0.7982761159418083, -0.07944727878078828, -0.7971158770598205, 0.8537029643240611, -1.670795262780064, 0.4918535139756341, -0.5521934592979183, -2.6713602633960485, -0.6402242514425622, -0.2530997756328507, 0.13291790640185097, 1.840027332124377, 0.4256107998272355, -0.10524227119226856, 0.7568395535199907, 0.01227355678842452, -0.18777367729543826, 0.11596626772388403, 0.26977552573541597, -0.993101164784401, -0.05067529958534019, -0.5047305795737309, 0.9070451286544564, 0.5229498297030087, 1.499042011679956, -0.9162419500042097, 0.5257383477604088], \"xaxis\": \"x2\", \"y\": [-1.3345721423538044, 1.152744983274052, -0.4144432895718666, 1.4302774060136265, 1.1032714804754071, 0.3191628341280002, 0.29167766457536576, -0.2948260219573132, -0.7898916249391608, 0.7579798280599954, 0.7023990585262951, 0.3617203499296237, 1.3840609450336574, 2.1234137119547905, 0.2810105000977317, 1.3417915860610645, -0.2412397886071698, -1.4800784340458517, -0.43730607784210224, 1.2776043936563957, 0.23681297531851184, 0.540390995960289, 1.6871090335390888, -0.12613605829513988, -0.5588115339425442, 1.8051083114525888, -1.1726637178355273, 0.8869084864979949, -0.6608453517139303, 0.86318177144118, 1.3220433452814955, -0.040310682232710525, -0.6822401059683589, 1.0146630751377788, -0.09408866628468343, -0.3835960857750811, -0.033174674346961475, 0.6882005981376775, -0.8463552045373701, 0.3558779153321544, 0.4162235961224696, 1.2455350592782963, -0.4404736135266595, -0.021206617569660913, 0.910807493204989, 0.7261457915112387, -1.0852814847699983, -0.6116324809576813, 0.4419712096882013, -0.9549757189699014, -1.0917298503989892, 1.683458340637992, -2.34848252238384, -0.21404278096559237, 1.7763779984983499, -0.6061798311193356, 0.2018170117960935, 1.1347757868560242, -0.036032949775629396, -0.34619100102470757, -0.288608149951723, 0.5650826594364331, 0.8499639803220693, 0.9894872408033251, 0.06569041064446172, 0.054489734536987196, -1.9952387047587858, -2.2784797833534043, -0.3235225571592153, 0.7985449754329478, 0.5562115947213144, 0.19932402438213523, -0.1403275336563558, 0.9855129234750741, 0.3045407336196398, 0.53929898768602, -0.27575107464618664, -0.07407610262260471, 0.11499769199840022, -0.7978934478689437, 1.6231013726732846, 0.11356346504298263, 1.0257404298721093, 0.38698431699048086, 1.5573123378387754, -0.3575297031395702, -0.7186779504700587, -0.35459907027756954, 1.0501179801717468, 0.9723530993336464, -1.7859678584514145, -1.3568059526808665, 1.620503617755656, 1.0373614474576012, -1.6411237307693962, -2.052337862151146, 1.5268582726716706, 1.176810614698316, -0.511936349742928, 1.8899167884179937], \"yaxis\": \"y2\"}, {\"line\": {\"color\": \"rgba(128, 128, 128, 1.0)\", \"dash\": \"solid\", \"shape\": \"linear\", \"width\": 1.3}, \"marker\": {\"size\": 2, \"symbol\": \"circle\"}, \"mode\": \"markers\", \"name\": \"A\", \"text\": \"\", \"type\": \"scatter\", \"x\": [-0.19805204132074813, 0.9646667420835341, -0.38290571006574775, 1.2998824481693891, 0.6199825686029053, 0.08892096656522798, 0.5098550465401651, -0.8175291952481727, 1.0545679319751429, -0.1556477627143782, -0.1863019976198989, -1.2337935362095873, 1.045560857193049, 0.22235565193506643, 1.2160340742473208, 0.9222476060634441, -2.1150062077557044, -0.7071029794118244, -0.5495551785557025, -0.693624646441118, 0.7573958854662389, 0.17394140635208538, 0.15923490851638308, 0.6044591173991921, 0.20111232258003703, 0.8655037106493844, 0.9630306500178076, -0.09963405884054125, 0.4222388126671568, 0.5445417835050336, -1.386959953120186, -1.0837062233251824, 0.16040783519433743, 0.16319047043609794, 1.7531305154443126, 1.8061218262475787, -0.5403383234473761, 0.8429293141000763, -1.6763240933556285, 1.1545629167166047, -0.5536300681270807, -0.18367259297476848, -0.3400663977866649, 1.1849804232281855, 0.41627393795554407, -1.4313827588307508, 0.20246720240624347, 0.43721416281460995, -0.32579144844232655, -1.2131834608493348, -0.14687430590360748, 0.353499906435496, 1.628903729852802, 0.20353596359746787, 0.451665175048858, -0.39634930867957924, -0.9509101739093384, 0.7191038547617834, 0.8719578554533487, 1.8326883546543777, 1.2003448994521837, -0.030231896568255902, -0.1716641365372497, 0.20431636378405235, -0.5598850080650927, -0.24031795880204332, 0.7516002737771287, 0.19254709258696615, -0.057442624087766986, -0.6793162222432404, 0.4148860123267791, 0.13762364150603934, 1.3920049620919024, -0.14462229762839007, 0.14342609156753108, 0.6143080669181031, 0.4474505683921285, -0.34739229148391937, 1.061455226537793, 0.24475617312531944, -1.2513199803763844, -0.6937990342235643, -2.3404491478112965, 0.8320957832750987, 0.4535701994994277, -0.38394936857027945, -0.6680721253788142, -0.6429137849954224, 0.7147258770315915, -1.4985171428736122, 2.0459145141636066, -0.467161741917224, 0.8132661594542542, 0.6293808269260213, -1.5107789396693025, -0.331917743684358, 0.05867669275075526, 0.20626723911401554, -0.7977795930039119, -0.5284544164088391], \"xaxis\": \"x3\", \"y\": [-1.3345721423538044, 1.152744983274052, -0.4144432895718666, 1.4302774060136265, 1.1032714804754071, 0.3191628341280002, 0.29167766457536576, -0.2948260219573132, -0.7898916249391608, 0.7579798280599954, 0.7023990585262951, 0.3617203499296237, 1.3840609450336574, 2.1234137119547905, 0.2810105000977317, 1.3417915860610645, -0.2412397886071698, -1.4800784340458517, -0.43730607784210224, 1.2776043936563957, 0.23681297531851184, 0.540390995960289, 1.6871090335390888, -0.12613605829513988, -0.5588115339425442, 1.8051083114525888, -1.1726637178355273, 0.8869084864979949, -0.6608453517139303, 0.86318177144118, 1.3220433452814955, -0.040310682232710525, -0.6822401059683589, 1.0146630751377788, -0.09408866628468343, -0.3835960857750811, -0.033174674346961475, 0.6882005981376775, -0.8463552045373701, 0.3558779153321544, 0.4162235961224696, 1.2455350592782963, -0.4404736135266595, -0.021206617569660913, 0.910807493204989, 0.7261457915112387, -1.0852814847699983, -0.6116324809576813, 0.4419712096882013, -0.9549757189699014, -1.0917298503989892, 1.683458340637992, -2.34848252238384, -0.21404278096559237, 1.7763779984983499, -0.6061798311193356, 0.2018170117960935, 1.1347757868560242, -0.036032949775629396, -0.34619100102470757, -0.288608149951723, 0.5650826594364331, 0.8499639803220693, 0.9894872408033251, 0.06569041064446172, 0.054489734536987196, -1.9952387047587858, -2.2784797833534043, -0.3235225571592153, 0.7985449754329478, 0.5562115947213144, 0.19932402438213523, -0.1403275336563558, 0.9855129234750741, 0.3045407336196398, 0.53929898768602, -0.27575107464618664, -0.07407610262260471, 0.11499769199840022, -0.7978934478689437, 1.6231013726732846, 0.11356346504298263, 1.0257404298721093, 0.38698431699048086, 1.5573123378387754, -0.3575297031395702, -0.7186779504700587, -0.35459907027756954, 1.0501179801717468, 0.9723530993336464, -1.7859678584514145, -1.3568059526808665, 1.620503617755656, 1.0373614474576012, -1.6411237307693962, -2.052337862151146, 1.5268582726716706, 1.176810614698316, -0.511936349742928, 1.8899167884179937], \"yaxis\": \"y3\"}, {\"line\": {\"color\": \"rgba(128, 128, 128, 1.0)\", \"dash\": \"solid\", \"shape\": \"linear\", \"width\": 1.3}, \"marker\": {\"size\": 2, \"symbol\": \"circle\"}, \"mode\": \"markers\", \"name\": \"A\", \"text\": \"\", \"type\": \"scatter\", \"x\": [0.03384664178148704, 0.5666429305505546, 0.14885183843377175, 0.2687473452003424, 1.1200512766765096, -2.8225156356584993, -0.09857086367123338, 0.6997016010550245, -1.3562792823740024, -0.41508056769541196, -0.44685046724214006, 1.3317926725059546, -1.534398796805004, 0.5107676096875485, -0.35539271221973195, -0.4691145512394626, 0.46537551119090104, -0.28621288875761214, 0.7206887872019336, 0.9270397108725131, 0.8876193880034717, 0.3686998726486203, -1.2219477310842741, -0.3902957898404521, -1.1949112579311598, -1.0811713597675425, 0.7916926529667945, 0.31681376614310686, -0.663152266439661, 1.1098423222784424, 0.06581774155636329, 0.34117151247625005, 0.9824823102015346, -0.8329297644404557, -1.0255005113062103, 0.38708767823694307, -0.2735876107312517, 1.111757822490364, -0.8053566441383361, 0.09470607282640017, 0.47268776889119185, -0.5701393873577066, -2.1961399023737114, -0.2577127983341919, -1.2187126822403935, 0.9816939651454246, 0.09885494293423237, -0.49510179974921226, 1.594516555206982, 0.4108355407054973, 0.168743533242441, 0.7617110899069682, 0.6445282167880872, 0.24658352945846151, 1.0633761369266885, -1.2952068758870838, 1.2556355409200266, 0.10525546514764797, 1.4510068650768608, -0.9774440012734138, 0.7573789005103825, -1.4692166603040264, -1.219866900508068, -0.03417242416064316, -0.8336711038622275, -1.289844436339557, -0.17837954060022773, 0.732927473839943, 0.08030871609250388, 1.5402237130269205, -1.2010816922179652, 1.0273283822842285, 1.1362028082895037, -0.5904487631408297, 0.767364935605862, 1.2840530894008695, 0.5443851698820155, 0.12506924046431742, 0.901584915943366, 0.8559873278925225, -0.8604099889630961, -0.6517254944882362, 0.7117137760304271, -0.9360005771624264, 0.5851825508705968, -1.8351426246396962, -0.636312250227509, 0.3815910085105638, -2.23757811597667, -0.3368141017962645, -0.005645035574050167, -0.16463055665192255, -0.1825924073902931, -1.0341953399573212, 0.7064307122288477, -0.3307511781925198, -1.49616348983762, -0.6911493407982104, 0.5079262001874038, 1.8328031186789648], \"xaxis\": \"x4\", \"y\": [-1.3345721423538044, 1.152744983274052, -0.4144432895718666, 1.4302774060136265, 1.1032714804754071, 0.3191628341280002, 0.29167766457536576, -0.2948260219573132, -0.7898916249391608, 0.7579798280599954, 0.7023990585262951, 0.3617203499296237, 1.3840609450336574, 2.1234137119547905, 0.2810105000977317, 1.3417915860610645, -0.2412397886071698, -1.4800784340458517, -0.43730607784210224, 1.2776043936563957, 0.23681297531851184, 0.540390995960289, 1.6871090335390888, -0.12613605829513988, -0.5588115339425442, 1.8051083114525888, -1.1726637178355273, 0.8869084864979949, -0.6608453517139303, 0.86318177144118, 1.3220433452814955, -0.040310682232710525, -0.6822401059683589, 1.0146630751377788, -0.09408866628468343, -0.3835960857750811, -0.033174674346961475, 0.6882005981376775, -0.8463552045373701, 0.3558779153321544, 0.4162235961224696, 1.2455350592782963, -0.4404736135266595, -0.021206617569660913, 0.910807493204989, 0.7261457915112387, -1.0852814847699983, -0.6116324809576813, 0.4419712096882013, -0.9549757189699014, -1.0917298503989892, 1.683458340637992, -2.34848252238384, -0.21404278096559237, 1.7763779984983499, -0.6061798311193356, 0.2018170117960935, 1.1347757868560242, -0.036032949775629396, -0.34619100102470757, -0.288608149951723, 0.5650826594364331, 0.8499639803220693, 0.9894872408033251, 0.06569041064446172, 0.054489734536987196, -1.9952387047587858, -2.2784797833534043, -0.3235225571592153, 0.7985449754329478, 0.5562115947213144, 0.19932402438213523, -0.1403275336563558, 0.9855129234750741, 0.3045407336196398, 0.53929898768602, -0.27575107464618664, -0.07407610262260471, 0.11499769199840022, -0.7978934478689437, 1.6231013726732846, 0.11356346504298263, 1.0257404298721093, 0.38698431699048086, 1.5573123378387754, -0.3575297031395702, -0.7186779504700587, -0.35459907027756954, 1.0501179801717468, 0.9723530993336464, -1.7859678584514145, -1.3568059526808665, 1.620503617755656, 1.0373614474576012, -1.6411237307693962, -2.052337862151146, 1.5268582726716706, 1.176810614698316, -0.511936349742928, 1.8899167884179937], \"yaxis\": \"y4\"}, {\"line\": {\"color\": \"rgba(128, 128, 128, 1.0)\", \"dash\": \"solid\", \"shape\": \"linear\", \"width\": 1.3}, \"marker\": {\"size\": 2, \"symbol\": \"circle\"}, \"mode\": \"markers\", \"name\": \"B\", \"text\": \"\", \"type\": \"scatter\", \"x\": [-1.3345721423538044, 1.152744983274052, -0.4144432895718666, 1.4302774060136265, 1.1032714804754071, 0.3191628341280002, 0.29167766457536576, -0.2948260219573132, -0.7898916249391608, 0.7579798280599954, 0.7023990585262951, 0.3617203499296237, 1.3840609450336574, 2.1234137119547905, 0.2810105000977317, 1.3417915860610645, -0.2412397886071698, -1.4800784340458517, -0.43730607784210224, 1.2776043936563957, 0.23681297531851184, 0.540390995960289, 1.6871090335390888, -0.12613605829513988, -0.5588115339425442, 1.8051083114525888, -1.1726637178355273, 0.8869084864979949, -0.6608453517139303, 0.86318177144118, 1.3220433452814955, -0.040310682232710525, -0.6822401059683589, 1.0146630751377788, -0.09408866628468343, -0.3835960857750811, -0.033174674346961475, 0.6882005981376775, -0.8463552045373701, 0.3558779153321544, 0.4162235961224696, 1.2455350592782963, -0.4404736135266595, -0.021206617569660913, 0.910807493204989, 0.7261457915112387, -1.0852814847699983, -0.6116324809576813, 0.4419712096882013, -0.9549757189699014, -1.0917298503989892, 1.683458340637992, -2.34848252238384, -0.21404278096559237, 1.7763779984983499, -0.6061798311193356, 0.2018170117960935, 1.1347757868560242, -0.036032949775629396, -0.34619100102470757, -0.288608149951723, 0.5650826594364331, 0.8499639803220693, 0.9894872408033251, 0.06569041064446172, 0.054489734536987196, -1.9952387047587858, -2.2784797833534043, -0.3235225571592153, 0.7985449754329478, 0.5562115947213144, 0.19932402438213523, -0.1403275336563558, 0.9855129234750741, 0.3045407336196398, 0.53929898768602, -0.27575107464618664, -0.07407610262260471, 0.11499769199840022, -0.7978934478689437, 1.6231013726732846, 0.11356346504298263, 1.0257404298721093, 0.38698431699048086, 1.5573123378387754, -0.3575297031395702, -0.7186779504700587, -0.35459907027756954, 1.0501179801717468, 0.9723530993336464, -1.7859678584514145, -1.3568059526808665, 1.620503617755656, 1.0373614474576012, -1.6411237307693962, -2.052337862151146, 1.5268582726716706, 1.176810614698316, -0.511936349742928, 1.8899167884179937], \"xaxis\": \"x5\", \"y\": [0.18934519564362062, -0.5168133289643818, -0.575887085195419, 0.2654879300880599, -0.42270044140335306, 0.49202396803406306, -0.05813887150593542, -1.9198333732052166, -1.1749861717602872, 0.16124454493046997, -0.01733316004195805, -0.9257924593376672, 0.09006921111651374, 0.9734162863579563, -0.4518387082824791, -0.26153686886886934, 0.28232403258757965, -1.0529426660554346, 0.10202608047979453, 0.23633183741611294, 0.23498955155440895, 0.9677590445244143, 1.831253424242203, 0.2415382607666498, -1.4230300649451495, 2.2312182747485743, 1.236202195805703, 0.003390367770349785, -0.6237252050062434, -0.2342174145278324, -1.924925714689275, -0.9337128747220547, 1.7543360784429163, 0.7581829264781671, -0.08232277508753891, -0.45468484443795826, -0.19935092376725272, 0.3432671525145582, -0.07884733212534094, 0.9131918232446734, -0.8685402818250365, 0.6883979203844126, 1.0774186567698938, -1.2365006595554795, -0.604706613485279, 0.5530504203367701, -1.1638121061985844, 1.1266844459061904, -0.9565987159997782, 0.46966062495493444, -0.15512534613084203, -1.201935972800709, 1.0209556886714029, 0.2795071484988548, 1.4659564159180398, -0.4515262872130025, -0.4514630053316504, -0.0711730466463417, -2.1375937961790283, -0.7568430799085749, -1.051286755748964, 0.27836127689014034, -0.4279875997952308, 1.452930902585046, 1.1703271571918823, -0.8463298634985316, 0.6110841975955712, 1.2940742777754228, -0.9945647867400169, 1.5151241023797244, 0.5075362134278456, -1.1735886638674613, 1.98485816589851, 0.7982761159418083, -0.07944727878078828, -0.7971158770598205, 0.8537029643240611, -1.670795262780064, 0.4918535139756341, -0.5521934592979183, -2.6713602633960485, -0.6402242514425622, -0.2530997756328507, 0.13291790640185097, 1.840027332124377, 0.4256107998272355, -0.10524227119226856, 0.7568395535199907, 0.01227355678842452, -0.18777367729543826, 0.11596626772388403, 0.26977552573541597, -0.993101164784401, -0.05067529958534019, -0.5047305795737309, 0.9070451286544564, 0.5229498297030087, 1.499042011679956, -0.9162419500042097, 0.5257383477604088], \"yaxis\": \"y5\"}, {\"histfunc\": \"count\", \"histnorm\": \"\", \"marker\": {\"color\": \"rgba(55, 128, 191, 1.0)\", \"line\": {\"color\": \"#4D5663\", \"width\": 1.3}}, \"name\": \"B\", \"nbinsx\": 10, \"opacity\": 0.8, \"orientation\": \"v\", \"type\": \"histogram\", \"x\": [0.18934519564362062, -0.5168133289643818, -0.575887085195419, 0.2654879300880599, -0.42270044140335306, 0.49202396803406306, -0.05813887150593542, -1.9198333732052166, -1.1749861717602872, 0.16124454493046997, -0.01733316004195805, -0.9257924593376672, 0.09006921111651374, 0.9734162863579563, -0.4518387082824791, -0.26153686886886934, 0.28232403258757965, -1.0529426660554346, 0.10202608047979453, 0.23633183741611294, 0.23498955155440895, 0.9677590445244143, 1.831253424242203, 0.2415382607666498, -1.4230300649451495, 2.2312182747485743, 1.236202195805703, 0.003390367770349785, -0.6237252050062434, -0.2342174145278324, -1.924925714689275, -0.9337128747220547, 1.7543360784429163, 0.7581829264781671, -0.08232277508753891, -0.45468484443795826, -0.19935092376725272, 0.3432671525145582, -0.07884733212534094, 0.9131918232446734, -0.8685402818250365, 0.6883979203844126, 1.0774186567698938, -1.2365006595554795, -0.604706613485279, 0.5530504203367701, -1.1638121061985844, 1.1266844459061904, -0.9565987159997782, 0.46966062495493444, -0.15512534613084203, -1.201935972800709, 1.0209556886714029, 0.2795071484988548, 1.4659564159180398, -0.4515262872130025, -0.4514630053316504, -0.0711730466463417, -2.1375937961790283, -0.7568430799085749, -1.051286755748964, 0.27836127689014034, -0.4279875997952308, 1.452930902585046, 1.1703271571918823, -0.8463298634985316, 0.6110841975955712, 1.2940742777754228, -0.9945647867400169, 1.5151241023797244, 0.5075362134278456, -1.1735886638674613, 1.98485816589851, 0.7982761159418083, -0.07944727878078828, -0.7971158770598205, 0.8537029643240611, -1.670795262780064, 0.4918535139756341, -0.5521934592979183, -2.6713602633960485, -0.6402242514425622, -0.2530997756328507, 0.13291790640185097, 1.840027332124377, 0.4256107998272355, -0.10524227119226856, 0.7568395535199907, 0.01227355678842452, -0.18777367729543826, 0.11596626772388403, 0.26977552573541597, -0.993101164784401, -0.05067529958534019, -0.5047305795737309, 0.9070451286544564, 0.5229498297030087, 1.499042011679956, -0.9162419500042097, 0.5257383477604088], \"xaxis\": \"x6\", \"yaxis\": \"y6\"}, {\"line\": {\"color\": \"rgba(128, 128, 128, 1.0)\", \"dash\": \"solid\", \"shape\": \"linear\", \"width\": 1.3}, \"marker\": {\"size\": 2, \"symbol\": \"circle\"}, \"mode\": \"markers\", \"name\": \"B\", \"text\": \"\", \"type\": \"scatter\", \"x\": [-0.19805204132074813, 0.9646667420835341, -0.38290571006574775, 1.2998824481693891, 0.6199825686029053, 0.08892096656522798, 0.5098550465401651, -0.8175291952481727, 1.0545679319751429, -0.1556477627143782, -0.1863019976198989, -1.2337935362095873, 1.045560857193049, 0.22235565193506643, 1.2160340742473208, 0.9222476060634441, -2.1150062077557044, -0.7071029794118244, -0.5495551785557025, -0.693624646441118, 0.7573958854662389, 0.17394140635208538, 0.15923490851638308, 0.6044591173991921, 0.20111232258003703, 0.8655037106493844, 0.9630306500178076, -0.09963405884054125, 0.4222388126671568, 0.5445417835050336, -1.386959953120186, -1.0837062233251824, 0.16040783519433743, 0.16319047043609794, 1.7531305154443126, 1.8061218262475787, -0.5403383234473761, 0.8429293141000763, -1.6763240933556285, 1.1545629167166047, -0.5536300681270807, -0.18367259297476848, -0.3400663977866649, 1.1849804232281855, 0.41627393795554407, -1.4313827588307508, 0.20246720240624347, 0.43721416281460995, -0.32579144844232655, -1.2131834608493348, -0.14687430590360748, 0.353499906435496, 1.628903729852802, 0.20353596359746787, 0.451665175048858, -0.39634930867957924, -0.9509101739093384, 0.7191038547617834, 0.8719578554533487, 1.8326883546543777, 1.2003448994521837, -0.030231896568255902, -0.1716641365372497, 0.20431636378405235, -0.5598850080650927, -0.24031795880204332, 0.7516002737771287, 0.19254709258696615, -0.057442624087766986, -0.6793162222432404, 0.4148860123267791, 0.13762364150603934, 1.3920049620919024, -0.14462229762839007, 0.14342609156753108, 0.6143080669181031, 0.4474505683921285, -0.34739229148391937, 1.061455226537793, 0.24475617312531944, -1.2513199803763844, -0.6937990342235643, -2.3404491478112965, 0.8320957832750987, 0.4535701994994277, -0.38394936857027945, -0.6680721253788142, -0.6429137849954224, 0.7147258770315915, -1.4985171428736122, 2.0459145141636066, -0.467161741917224, 0.8132661594542542, 0.6293808269260213, -1.5107789396693025, -0.331917743684358, 0.05867669275075526, 0.20626723911401554, -0.7977795930039119, -0.5284544164088391], \"xaxis\": \"x7\", \"y\": [0.18934519564362062, -0.5168133289643818, -0.575887085195419, 0.2654879300880599, -0.42270044140335306, 0.49202396803406306, -0.05813887150593542, -1.9198333732052166, -1.1749861717602872, 0.16124454493046997, -0.01733316004195805, -0.9257924593376672, 0.09006921111651374, 0.9734162863579563, -0.4518387082824791, -0.26153686886886934, 0.28232403258757965, -1.0529426660554346, 0.10202608047979453, 0.23633183741611294, 0.23498955155440895, 0.9677590445244143, 1.831253424242203, 0.2415382607666498, -1.4230300649451495, 2.2312182747485743, 1.236202195805703, 0.003390367770349785, -0.6237252050062434, -0.2342174145278324, -1.924925714689275, -0.9337128747220547, 1.7543360784429163, 0.7581829264781671, -0.08232277508753891, -0.45468484443795826, -0.19935092376725272, 0.3432671525145582, -0.07884733212534094, 0.9131918232446734, -0.8685402818250365, 0.6883979203844126, 1.0774186567698938, -1.2365006595554795, -0.604706613485279, 0.5530504203367701, -1.1638121061985844, 1.1266844459061904, -0.9565987159997782, 0.46966062495493444, -0.15512534613084203, -1.201935972800709, 1.0209556886714029, 0.2795071484988548, 1.4659564159180398, -0.4515262872130025, -0.4514630053316504, -0.0711730466463417, -2.1375937961790283, -0.7568430799085749, -1.051286755748964, 0.27836127689014034, -0.4279875997952308, 1.452930902585046, 1.1703271571918823, -0.8463298634985316, 0.6110841975955712, 1.2940742777754228, -0.9945647867400169, 1.5151241023797244, 0.5075362134278456, -1.1735886638674613, 1.98485816589851, 0.7982761159418083, -0.07944727878078828, -0.7971158770598205, 0.8537029643240611, -1.670795262780064, 0.4918535139756341, -0.5521934592979183, -2.6713602633960485, -0.6402242514425622, -0.2530997756328507, 0.13291790640185097, 1.840027332124377, 0.4256107998272355, -0.10524227119226856, 0.7568395535199907, 0.01227355678842452, -0.18777367729543826, 0.11596626772388403, 0.26977552573541597, -0.993101164784401, -0.05067529958534019, -0.5047305795737309, 0.9070451286544564, 0.5229498297030087, 1.499042011679956, -0.9162419500042097, 0.5257383477604088], \"yaxis\": \"y7\"}, {\"line\": {\"color\": \"rgba(128, 128, 128, 1.0)\", \"dash\": \"solid\", \"shape\": \"linear\", \"width\": 1.3}, \"marker\": {\"size\": 2, \"symbol\": \"circle\"}, \"mode\": \"markers\", \"name\": \"B\", \"text\": \"\", \"type\": \"scatter\", \"x\": [0.03384664178148704, 0.5666429305505546, 0.14885183843377175, 0.2687473452003424, 1.1200512766765096, -2.8225156356584993, -0.09857086367123338, 0.6997016010550245, -1.3562792823740024, -0.41508056769541196, -0.44685046724214006, 1.3317926725059546, -1.534398796805004, 0.5107676096875485, -0.35539271221973195, -0.4691145512394626, 0.46537551119090104, -0.28621288875761214, 0.7206887872019336, 0.9270397108725131, 0.8876193880034717, 0.3686998726486203, -1.2219477310842741, -0.3902957898404521, -1.1949112579311598, -1.0811713597675425, 0.7916926529667945, 0.31681376614310686, -0.663152266439661, 1.1098423222784424, 0.06581774155636329, 0.34117151247625005, 0.9824823102015346, -0.8329297644404557, -1.0255005113062103, 0.38708767823694307, -0.2735876107312517, 1.111757822490364, -0.8053566441383361, 0.09470607282640017, 0.47268776889119185, -0.5701393873577066, -2.1961399023737114, -0.2577127983341919, -1.2187126822403935, 0.9816939651454246, 0.09885494293423237, -0.49510179974921226, 1.594516555206982, 0.4108355407054973, 0.168743533242441, 0.7617110899069682, 0.6445282167880872, 0.24658352945846151, 1.0633761369266885, -1.2952068758870838, 1.2556355409200266, 0.10525546514764797, 1.4510068650768608, -0.9774440012734138, 0.7573789005103825, -1.4692166603040264, -1.219866900508068, -0.03417242416064316, -0.8336711038622275, -1.289844436339557, -0.17837954060022773, 0.732927473839943, 0.08030871609250388, 1.5402237130269205, -1.2010816922179652, 1.0273283822842285, 1.1362028082895037, -0.5904487631408297, 0.767364935605862, 1.2840530894008695, 0.5443851698820155, 0.12506924046431742, 0.901584915943366, 0.8559873278925225, -0.8604099889630961, -0.6517254944882362, 0.7117137760304271, -0.9360005771624264, 0.5851825508705968, -1.8351426246396962, -0.636312250227509, 0.3815910085105638, -2.23757811597667, -0.3368141017962645, -0.005645035574050167, -0.16463055665192255, -0.1825924073902931, -1.0341953399573212, 0.7064307122288477, -0.3307511781925198, -1.49616348983762, -0.6911493407982104, 0.5079262001874038, 1.8328031186789648], \"xaxis\": \"x8\", \"y\": [0.18934519564362062, -0.5168133289643818, -0.575887085195419, 0.2654879300880599, -0.42270044140335306, 0.49202396803406306, -0.05813887150593542, -1.9198333732052166, -1.1749861717602872, 0.16124454493046997, -0.01733316004195805, -0.9257924593376672, 0.09006921111651374, 0.9734162863579563, -0.4518387082824791, -0.26153686886886934, 0.28232403258757965, -1.0529426660554346, 0.10202608047979453, 0.23633183741611294, 0.23498955155440895, 0.9677590445244143, 1.831253424242203, 0.2415382607666498, -1.4230300649451495, 2.2312182747485743, 1.236202195805703, 0.003390367770349785, -0.6237252050062434, -0.2342174145278324, -1.924925714689275, -0.9337128747220547, 1.7543360784429163, 0.7581829264781671, -0.08232277508753891, -0.45468484443795826, -0.19935092376725272, 0.3432671525145582, -0.07884733212534094, 0.9131918232446734, -0.8685402818250365, 0.6883979203844126, 1.0774186567698938, -1.2365006595554795, -0.604706613485279, 0.5530504203367701, -1.1638121061985844, 1.1266844459061904, -0.9565987159997782, 0.46966062495493444, -0.15512534613084203, -1.201935972800709, 1.0209556886714029, 0.2795071484988548, 1.4659564159180398, -0.4515262872130025, -0.4514630053316504, -0.0711730466463417, -2.1375937961790283, -0.7568430799085749, -1.051286755748964, 0.27836127689014034, -0.4279875997952308, 1.452930902585046, 1.1703271571918823, -0.8463298634985316, 0.6110841975955712, 1.2940742777754228, -0.9945647867400169, 1.5151241023797244, 0.5075362134278456, -1.1735886638674613, 1.98485816589851, 0.7982761159418083, -0.07944727878078828, -0.7971158770598205, 0.8537029643240611, -1.670795262780064, 0.4918535139756341, -0.5521934592979183, -2.6713602633960485, -0.6402242514425622, -0.2530997756328507, 0.13291790640185097, 1.840027332124377, 0.4256107998272355, -0.10524227119226856, 0.7568395535199907, 0.01227355678842452, -0.18777367729543826, 0.11596626772388403, 0.26977552573541597, -0.993101164784401, -0.05067529958534019, -0.5047305795737309, 0.9070451286544564, 0.5229498297030087, 1.499042011679956, -0.9162419500042097, 0.5257383477604088], \"yaxis\": \"y8\"}, {\"line\": {\"color\": \"rgba(128, 128, 128, 1.0)\", \"dash\": \"solid\", \"shape\": \"linear\", \"width\": 1.3}, \"marker\": {\"size\": 2, \"symbol\": \"circle\"}, \"mode\": \"markers\", \"name\": \"C\", \"text\": \"\", \"type\": \"scatter\", \"x\": [-1.3345721423538044, 1.152744983274052, -0.4144432895718666, 1.4302774060136265, 1.1032714804754071, 0.3191628341280002, 0.29167766457536576, -0.2948260219573132, -0.7898916249391608, 0.7579798280599954, 0.7023990585262951, 0.3617203499296237, 1.3840609450336574, 2.1234137119547905, 0.2810105000977317, 1.3417915860610645, -0.2412397886071698, -1.4800784340458517, -0.43730607784210224, 1.2776043936563957, 0.23681297531851184, 0.540390995960289, 1.6871090335390888, -0.12613605829513988, -0.5588115339425442, 1.8051083114525888, -1.1726637178355273, 0.8869084864979949, -0.6608453517139303, 0.86318177144118, 1.3220433452814955, -0.040310682232710525, -0.6822401059683589, 1.0146630751377788, -0.09408866628468343, -0.3835960857750811, -0.033174674346961475, 0.6882005981376775, -0.8463552045373701, 0.3558779153321544, 0.4162235961224696, 1.2455350592782963, -0.4404736135266595, -0.021206617569660913, 0.910807493204989, 0.7261457915112387, -1.0852814847699983, -0.6116324809576813, 0.4419712096882013, -0.9549757189699014, -1.0917298503989892, 1.683458340637992, -2.34848252238384, -0.21404278096559237, 1.7763779984983499, -0.6061798311193356, 0.2018170117960935, 1.1347757868560242, -0.036032949775629396, -0.34619100102470757, -0.288608149951723, 0.5650826594364331, 0.8499639803220693, 0.9894872408033251, 0.06569041064446172, 0.054489734536987196, -1.9952387047587858, -2.2784797833534043, -0.3235225571592153, 0.7985449754329478, 0.5562115947213144, 0.19932402438213523, -0.1403275336563558, 0.9855129234750741, 0.3045407336196398, 0.53929898768602, -0.27575107464618664, -0.07407610262260471, 0.11499769199840022, -0.7978934478689437, 1.6231013726732846, 0.11356346504298263, 1.0257404298721093, 0.38698431699048086, 1.5573123378387754, -0.3575297031395702, -0.7186779504700587, -0.35459907027756954, 1.0501179801717468, 0.9723530993336464, -1.7859678584514145, -1.3568059526808665, 1.620503617755656, 1.0373614474576012, -1.6411237307693962, -2.052337862151146, 1.5268582726716706, 1.176810614698316, -0.511936349742928, 1.8899167884179937], \"xaxis\": \"x9\", \"y\": [-0.19805204132074813, 0.9646667420835341, -0.38290571006574775, 1.2998824481693891, 0.6199825686029053, 0.08892096656522798, 0.5098550465401651, -0.8175291952481727, 1.0545679319751429, -0.1556477627143782, -0.1863019976198989, -1.2337935362095873, 1.045560857193049, 0.22235565193506643, 1.2160340742473208, 0.9222476060634441, -2.1150062077557044, -0.7071029794118244, -0.5495551785557025, -0.693624646441118, 0.7573958854662389, 0.17394140635208538, 0.15923490851638308, 0.6044591173991921, 0.20111232258003703, 0.8655037106493844, 0.9630306500178076, -0.09963405884054125, 0.4222388126671568, 0.5445417835050336, -1.386959953120186, -1.0837062233251824, 0.16040783519433743, 0.16319047043609794, 1.7531305154443126, 1.8061218262475787, -0.5403383234473761, 0.8429293141000763, -1.6763240933556285, 1.1545629167166047, -0.5536300681270807, -0.18367259297476848, -0.3400663977866649, 1.1849804232281855, 0.41627393795554407, -1.4313827588307508, 0.20246720240624347, 0.43721416281460995, -0.32579144844232655, -1.2131834608493348, -0.14687430590360748, 0.353499906435496, 1.628903729852802, 0.20353596359746787, 0.451665175048858, -0.39634930867957924, -0.9509101739093384, 0.7191038547617834, 0.8719578554533487, 1.8326883546543777, 1.2003448994521837, -0.030231896568255902, -0.1716641365372497, 0.20431636378405235, -0.5598850080650927, -0.24031795880204332, 0.7516002737771287, 0.19254709258696615, -0.057442624087766986, -0.6793162222432404, 0.4148860123267791, 0.13762364150603934, 1.3920049620919024, -0.14462229762839007, 0.14342609156753108, 0.6143080669181031, 0.4474505683921285, -0.34739229148391937, 1.061455226537793, 0.24475617312531944, -1.2513199803763844, -0.6937990342235643, -2.3404491478112965, 0.8320957832750987, 0.4535701994994277, -0.38394936857027945, -0.6680721253788142, -0.6429137849954224, 0.7147258770315915, -1.4985171428736122, 2.0459145141636066, -0.467161741917224, 0.8132661594542542, 0.6293808269260213, -1.5107789396693025, -0.331917743684358, 0.05867669275075526, 0.20626723911401554, -0.7977795930039119, -0.5284544164088391], \"yaxis\": \"y9\"}, {\"line\": {\"color\": \"rgba(128, 128, 128, 1.0)\", \"dash\": \"solid\", \"shape\": \"linear\", \"width\": 1.3}, \"marker\": {\"size\": 2, \"symbol\": \"circle\"}, \"mode\": \"markers\", \"name\": \"C\", \"text\": \"\", \"type\": \"scatter\", \"x\": [0.18934519564362062, -0.5168133289643818, -0.575887085195419, 0.2654879300880599, -0.42270044140335306, 0.49202396803406306, -0.05813887150593542, -1.9198333732052166, -1.1749861717602872, 0.16124454493046997, -0.01733316004195805, -0.9257924593376672, 0.09006921111651374, 0.9734162863579563, -0.4518387082824791, -0.26153686886886934, 0.28232403258757965, -1.0529426660554346, 0.10202608047979453, 0.23633183741611294, 0.23498955155440895, 0.9677590445244143, 1.831253424242203, 0.2415382607666498, -1.4230300649451495, 2.2312182747485743, 1.236202195805703, 0.003390367770349785, -0.6237252050062434, -0.2342174145278324, -1.924925714689275, -0.9337128747220547, 1.7543360784429163, 0.7581829264781671, -0.08232277508753891, -0.45468484443795826, -0.19935092376725272, 0.3432671525145582, -0.07884733212534094, 0.9131918232446734, -0.8685402818250365, 0.6883979203844126, 1.0774186567698938, -1.2365006595554795, -0.604706613485279, 0.5530504203367701, -1.1638121061985844, 1.1266844459061904, -0.9565987159997782, 0.46966062495493444, -0.15512534613084203, -1.201935972800709, 1.0209556886714029, 0.2795071484988548, 1.4659564159180398, -0.4515262872130025, -0.4514630053316504, -0.0711730466463417, -2.1375937961790283, -0.7568430799085749, -1.051286755748964, 0.27836127689014034, -0.4279875997952308, 1.452930902585046, 1.1703271571918823, -0.8463298634985316, 0.6110841975955712, 1.2940742777754228, -0.9945647867400169, 1.5151241023797244, 0.5075362134278456, -1.1735886638674613, 1.98485816589851, 0.7982761159418083, -0.07944727878078828, -0.7971158770598205, 0.8537029643240611, -1.670795262780064, 0.4918535139756341, -0.5521934592979183, -2.6713602633960485, -0.6402242514425622, -0.2530997756328507, 0.13291790640185097, 1.840027332124377, 0.4256107998272355, -0.10524227119226856, 0.7568395535199907, 0.01227355678842452, -0.18777367729543826, 0.11596626772388403, 0.26977552573541597, -0.993101164784401, -0.05067529958534019, -0.5047305795737309, 0.9070451286544564, 0.5229498297030087, 1.499042011679956, -0.9162419500042097, 0.5257383477604088], \"xaxis\": \"x10\", \"y\": [-0.19805204132074813, 0.9646667420835341, -0.38290571006574775, 1.2998824481693891, 0.6199825686029053, 0.08892096656522798, 0.5098550465401651, -0.8175291952481727, 1.0545679319751429, -0.1556477627143782, -0.1863019976198989, -1.2337935362095873, 1.045560857193049, 0.22235565193506643, 1.2160340742473208, 0.9222476060634441, -2.1150062077557044, -0.7071029794118244, -0.5495551785557025, -0.693624646441118, 0.7573958854662389, 0.17394140635208538, 0.15923490851638308, 0.6044591173991921, 0.20111232258003703, 0.8655037106493844, 0.9630306500178076, -0.09963405884054125, 0.4222388126671568, 0.5445417835050336, -1.386959953120186, -1.0837062233251824, 0.16040783519433743, 0.16319047043609794, 1.7531305154443126, 1.8061218262475787, -0.5403383234473761, 0.8429293141000763, -1.6763240933556285, 1.1545629167166047, -0.5536300681270807, -0.18367259297476848, -0.3400663977866649, 1.1849804232281855, 0.41627393795554407, -1.4313827588307508, 0.20246720240624347, 0.43721416281460995, -0.32579144844232655, -1.2131834608493348, -0.14687430590360748, 0.353499906435496, 1.628903729852802, 0.20353596359746787, 0.451665175048858, -0.39634930867957924, -0.9509101739093384, 0.7191038547617834, 0.8719578554533487, 1.8326883546543777, 1.2003448994521837, -0.030231896568255902, -0.1716641365372497, 0.20431636378405235, -0.5598850080650927, -0.24031795880204332, 0.7516002737771287, 0.19254709258696615, -0.057442624087766986, -0.6793162222432404, 0.4148860123267791, 0.13762364150603934, 1.3920049620919024, -0.14462229762839007, 0.14342609156753108, 0.6143080669181031, 0.4474505683921285, -0.34739229148391937, 1.061455226537793, 0.24475617312531944, -1.2513199803763844, -0.6937990342235643, -2.3404491478112965, 0.8320957832750987, 0.4535701994994277, -0.38394936857027945, -0.6680721253788142, -0.6429137849954224, 0.7147258770315915, -1.4985171428736122, 2.0459145141636066, -0.467161741917224, 0.8132661594542542, 0.6293808269260213, -1.5107789396693025, -0.331917743684358, 0.05867669275075526, 0.20626723911401554, -0.7977795930039119, -0.5284544164088391], \"yaxis\": \"y10\"}, {\"histfunc\": \"count\", \"histnorm\": \"\", \"marker\": {\"color\": \"rgba(50, 171, 96, 1.0)\", \"line\": {\"color\": \"#4D5663\", \"width\": 1.3}}, \"name\": \"C\", \"nbinsx\": 10, \"opacity\": 0.8, \"orientation\": \"v\", \"type\": \"histogram\", \"x\": [-0.19805204132074813, 0.9646667420835341, -0.38290571006574775, 1.2998824481693891, 0.6199825686029053, 0.08892096656522798, 0.5098550465401651, -0.8175291952481727, 1.0545679319751429, -0.1556477627143782, -0.1863019976198989, -1.2337935362095873, 1.045560857193049, 0.22235565193506643, 1.2160340742473208, 0.9222476060634441, -2.1150062077557044, -0.7071029794118244, -0.5495551785557025, -0.693624646441118, 0.7573958854662389, 0.17394140635208538, 0.15923490851638308, 0.6044591173991921, 0.20111232258003703, 0.8655037106493844, 0.9630306500178076, -0.09963405884054125, 0.4222388126671568, 0.5445417835050336, -1.386959953120186, -1.0837062233251824, 0.16040783519433743, 0.16319047043609794, 1.7531305154443126, 1.8061218262475787, -0.5403383234473761, 0.8429293141000763, -1.6763240933556285, 1.1545629167166047, -0.5536300681270807, -0.18367259297476848, -0.3400663977866649, 1.1849804232281855, 0.41627393795554407, -1.4313827588307508, 0.20246720240624347, 0.43721416281460995, -0.32579144844232655, -1.2131834608493348, -0.14687430590360748, 0.353499906435496, 1.628903729852802, 0.20353596359746787, 0.451665175048858, -0.39634930867957924, -0.9509101739093384, 0.7191038547617834, 0.8719578554533487, 1.8326883546543777, 1.2003448994521837, -0.030231896568255902, -0.1716641365372497, 0.20431636378405235, -0.5598850080650927, -0.24031795880204332, 0.7516002737771287, 0.19254709258696615, -0.057442624087766986, -0.6793162222432404, 0.4148860123267791, 0.13762364150603934, 1.3920049620919024, -0.14462229762839007, 0.14342609156753108, 0.6143080669181031, 0.4474505683921285, -0.34739229148391937, 1.061455226537793, 0.24475617312531944, -1.2513199803763844, -0.6937990342235643, -2.3404491478112965, 0.8320957832750987, 0.4535701994994277, -0.38394936857027945, -0.6680721253788142, -0.6429137849954224, 0.7147258770315915, -1.4985171428736122, 2.0459145141636066, -0.467161741917224, 0.8132661594542542, 0.6293808269260213, -1.5107789396693025, -0.331917743684358, 0.05867669275075526, 0.20626723911401554, -0.7977795930039119, -0.5284544164088391], \"xaxis\": \"x11\", \"yaxis\": \"y11\"}, {\"line\": {\"color\": \"rgba(128, 128, 128, 1.0)\", \"dash\": \"solid\", \"shape\": \"linear\", \"width\": 1.3}, \"marker\": {\"size\": 2, \"symbol\": \"circle\"}, \"mode\": \"markers\", \"name\": \"C\", \"text\": \"\", \"type\": \"scatter\", \"x\": [0.03384664178148704, 0.5666429305505546, 0.14885183843377175, 0.2687473452003424, 1.1200512766765096, -2.8225156356584993, -0.09857086367123338, 0.6997016010550245, -1.3562792823740024, -0.41508056769541196, -0.44685046724214006, 1.3317926725059546, -1.534398796805004, 0.5107676096875485, -0.35539271221973195, -0.4691145512394626, 0.46537551119090104, -0.28621288875761214, 0.7206887872019336, 0.9270397108725131, 0.8876193880034717, 0.3686998726486203, -1.2219477310842741, -0.3902957898404521, -1.1949112579311598, -1.0811713597675425, 0.7916926529667945, 0.31681376614310686, -0.663152266439661, 1.1098423222784424, 0.06581774155636329, 0.34117151247625005, 0.9824823102015346, -0.8329297644404557, -1.0255005113062103, 0.38708767823694307, -0.2735876107312517, 1.111757822490364, -0.8053566441383361, 0.09470607282640017, 0.47268776889119185, -0.5701393873577066, -2.1961399023737114, -0.2577127983341919, -1.2187126822403935, 0.9816939651454246, 0.09885494293423237, -0.49510179974921226, 1.594516555206982, 0.4108355407054973, 0.168743533242441, 0.7617110899069682, 0.6445282167880872, 0.24658352945846151, 1.0633761369266885, -1.2952068758870838, 1.2556355409200266, 0.10525546514764797, 1.4510068650768608, -0.9774440012734138, 0.7573789005103825, -1.4692166603040264, -1.219866900508068, -0.03417242416064316, -0.8336711038622275, -1.289844436339557, -0.17837954060022773, 0.732927473839943, 0.08030871609250388, 1.5402237130269205, -1.2010816922179652, 1.0273283822842285, 1.1362028082895037, -0.5904487631408297, 0.767364935605862, 1.2840530894008695, 0.5443851698820155, 0.12506924046431742, 0.901584915943366, 0.8559873278925225, -0.8604099889630961, -0.6517254944882362, 0.7117137760304271, -0.9360005771624264, 0.5851825508705968, -1.8351426246396962, -0.636312250227509, 0.3815910085105638, -2.23757811597667, -0.3368141017962645, -0.005645035574050167, -0.16463055665192255, -0.1825924073902931, -1.0341953399573212, 0.7064307122288477, -0.3307511781925198, -1.49616348983762, -0.6911493407982104, 0.5079262001874038, 1.8328031186789648], \"xaxis\": \"x12\", \"y\": [-0.19805204132074813, 0.9646667420835341, -0.38290571006574775, 1.2998824481693891, 0.6199825686029053, 0.08892096656522798, 0.5098550465401651, -0.8175291952481727, 1.0545679319751429, -0.1556477627143782, -0.1863019976198989, -1.2337935362095873, 1.045560857193049, 0.22235565193506643, 1.2160340742473208, 0.9222476060634441, -2.1150062077557044, -0.7071029794118244, -0.5495551785557025, -0.693624646441118, 0.7573958854662389, 0.17394140635208538, 0.15923490851638308, 0.6044591173991921, 0.20111232258003703, 0.8655037106493844, 0.9630306500178076, -0.09963405884054125, 0.4222388126671568, 0.5445417835050336, -1.386959953120186, -1.0837062233251824, 0.16040783519433743, 0.16319047043609794, 1.7531305154443126, 1.8061218262475787, -0.5403383234473761, 0.8429293141000763, -1.6763240933556285, 1.1545629167166047, -0.5536300681270807, -0.18367259297476848, -0.3400663977866649, 1.1849804232281855, 0.41627393795554407, -1.4313827588307508, 0.20246720240624347, 0.43721416281460995, -0.32579144844232655, -1.2131834608493348, -0.14687430590360748, 0.353499906435496, 1.628903729852802, 0.20353596359746787, 0.451665175048858, -0.39634930867957924, -0.9509101739093384, 0.7191038547617834, 0.8719578554533487, 1.8326883546543777, 1.2003448994521837, -0.030231896568255902, -0.1716641365372497, 0.20431636378405235, -0.5598850080650927, -0.24031795880204332, 0.7516002737771287, 0.19254709258696615, -0.057442624087766986, -0.6793162222432404, 0.4148860123267791, 0.13762364150603934, 1.3920049620919024, -0.14462229762839007, 0.14342609156753108, 0.6143080669181031, 0.4474505683921285, -0.34739229148391937, 1.061455226537793, 0.24475617312531944, -1.2513199803763844, -0.6937990342235643, -2.3404491478112965, 0.8320957832750987, 0.4535701994994277, -0.38394936857027945, -0.6680721253788142, -0.6429137849954224, 0.7147258770315915, -1.4985171428736122, 2.0459145141636066, -0.467161741917224, 0.8132661594542542, 0.6293808269260213, -1.5107789396693025, -0.331917743684358, 0.05867669275075526, 0.20626723911401554, -0.7977795930039119, -0.5284544164088391], \"yaxis\": \"y12\"}, {\"line\": {\"color\": \"rgba(128, 128, 128, 1.0)\", \"dash\": \"solid\", \"shape\": \"linear\", \"width\": 1.3}, \"marker\": {\"size\": 2, \"symbol\": \"circle\"}, \"mode\": \"markers\", \"name\": \"D\", \"text\": \"\", \"type\": \"scatter\", \"x\": [-1.3345721423538044, 1.152744983274052, -0.4144432895718666, 1.4302774060136265, 1.1032714804754071, 0.3191628341280002, 0.29167766457536576, -0.2948260219573132, -0.7898916249391608, 0.7579798280599954, 0.7023990585262951, 0.3617203499296237, 1.3840609450336574, 2.1234137119547905, 0.2810105000977317, 1.3417915860610645, -0.2412397886071698, -1.4800784340458517, -0.43730607784210224, 1.2776043936563957, 0.23681297531851184, 0.540390995960289, 1.6871090335390888, -0.12613605829513988, -0.5588115339425442, 1.8051083114525888, -1.1726637178355273, 0.8869084864979949, -0.6608453517139303, 0.86318177144118, 1.3220433452814955, -0.040310682232710525, -0.6822401059683589, 1.0146630751377788, -0.09408866628468343, -0.3835960857750811, -0.033174674346961475, 0.6882005981376775, -0.8463552045373701, 0.3558779153321544, 0.4162235961224696, 1.2455350592782963, -0.4404736135266595, -0.021206617569660913, 0.910807493204989, 0.7261457915112387, -1.0852814847699983, -0.6116324809576813, 0.4419712096882013, -0.9549757189699014, -1.0917298503989892, 1.683458340637992, -2.34848252238384, -0.21404278096559237, 1.7763779984983499, -0.6061798311193356, 0.2018170117960935, 1.1347757868560242, -0.036032949775629396, -0.34619100102470757, -0.288608149951723, 0.5650826594364331, 0.8499639803220693, 0.9894872408033251, 0.06569041064446172, 0.054489734536987196, -1.9952387047587858, -2.2784797833534043, -0.3235225571592153, 0.7985449754329478, 0.5562115947213144, 0.19932402438213523, -0.1403275336563558, 0.9855129234750741, 0.3045407336196398, 0.53929898768602, -0.27575107464618664, -0.07407610262260471, 0.11499769199840022, -0.7978934478689437, 1.6231013726732846, 0.11356346504298263, 1.0257404298721093, 0.38698431699048086, 1.5573123378387754, -0.3575297031395702, -0.7186779504700587, -0.35459907027756954, 1.0501179801717468, 0.9723530993336464, -1.7859678584514145, -1.3568059526808665, 1.620503617755656, 1.0373614474576012, -1.6411237307693962, -2.052337862151146, 1.5268582726716706, 1.176810614698316, -0.511936349742928, 1.8899167884179937], \"xaxis\": \"x13\", \"y\": [0.03384664178148704, 0.5666429305505546, 0.14885183843377175, 0.2687473452003424, 1.1200512766765096, -2.8225156356584993, -0.09857086367123338, 0.6997016010550245, -1.3562792823740024, -0.41508056769541196, -0.44685046724214006, 1.3317926725059546, -1.534398796805004, 0.5107676096875485, -0.35539271221973195, -0.4691145512394626, 0.46537551119090104, -0.28621288875761214, 0.7206887872019336, 0.9270397108725131, 0.8876193880034717, 0.3686998726486203, -1.2219477310842741, -0.3902957898404521, -1.1949112579311598, -1.0811713597675425, 0.7916926529667945, 0.31681376614310686, -0.663152266439661, 1.1098423222784424, 0.06581774155636329, 0.34117151247625005, 0.9824823102015346, -0.8329297644404557, -1.0255005113062103, 0.38708767823694307, -0.2735876107312517, 1.111757822490364, -0.8053566441383361, 0.09470607282640017, 0.47268776889119185, -0.5701393873577066, -2.1961399023737114, -0.2577127983341919, -1.2187126822403935, 0.9816939651454246, 0.09885494293423237, -0.49510179974921226, 1.594516555206982, 0.4108355407054973, 0.168743533242441, 0.7617110899069682, 0.6445282167880872, 0.24658352945846151, 1.0633761369266885, -1.2952068758870838, 1.2556355409200266, 0.10525546514764797, 1.4510068650768608, -0.9774440012734138, 0.7573789005103825, -1.4692166603040264, -1.219866900508068, -0.03417242416064316, -0.8336711038622275, -1.289844436339557, -0.17837954060022773, 0.732927473839943, 0.08030871609250388, 1.5402237130269205, -1.2010816922179652, 1.0273283822842285, 1.1362028082895037, -0.5904487631408297, 0.767364935605862, 1.2840530894008695, 0.5443851698820155, 0.12506924046431742, 0.901584915943366, 0.8559873278925225, -0.8604099889630961, -0.6517254944882362, 0.7117137760304271, -0.9360005771624264, 0.5851825508705968, -1.8351426246396962, -0.636312250227509, 0.3815910085105638, -2.23757811597667, -0.3368141017962645, -0.005645035574050167, -0.16463055665192255, -0.1825924073902931, -1.0341953399573212, 0.7064307122288477, -0.3307511781925198, -1.49616348983762, -0.6911493407982104, 0.5079262001874038, 1.8328031186789648], \"yaxis\": \"y13\"}, {\"line\": {\"color\": \"rgba(128, 128, 128, 1.0)\", \"dash\": \"solid\", \"shape\": \"linear\", \"width\": 1.3}, \"marker\": {\"size\": 2, \"symbol\": \"circle\"}, \"mode\": \"markers\", \"name\": \"D\", \"text\": \"\", \"type\": \"scatter\", \"x\": [0.18934519564362062, -0.5168133289643818, -0.575887085195419, 0.2654879300880599, -0.42270044140335306, 0.49202396803406306, -0.05813887150593542, -1.9198333732052166, -1.1749861717602872, 0.16124454493046997, -0.01733316004195805, -0.9257924593376672, 0.09006921111651374, 0.9734162863579563, -0.4518387082824791, -0.26153686886886934, 0.28232403258757965, -1.0529426660554346, 0.10202608047979453, 0.23633183741611294, 0.23498955155440895, 0.9677590445244143, 1.831253424242203, 0.2415382607666498, -1.4230300649451495, 2.2312182747485743, 1.236202195805703, 0.003390367770349785, -0.6237252050062434, -0.2342174145278324, -1.924925714689275, -0.9337128747220547, 1.7543360784429163, 0.7581829264781671, -0.08232277508753891, -0.45468484443795826, -0.19935092376725272, 0.3432671525145582, -0.07884733212534094, 0.9131918232446734, -0.8685402818250365, 0.6883979203844126, 1.0774186567698938, -1.2365006595554795, -0.604706613485279, 0.5530504203367701, -1.1638121061985844, 1.1266844459061904, -0.9565987159997782, 0.46966062495493444, -0.15512534613084203, -1.201935972800709, 1.0209556886714029, 0.2795071484988548, 1.4659564159180398, -0.4515262872130025, -0.4514630053316504, -0.0711730466463417, -2.1375937961790283, -0.7568430799085749, -1.051286755748964, 0.27836127689014034, -0.4279875997952308, 1.452930902585046, 1.1703271571918823, -0.8463298634985316, 0.6110841975955712, 1.2940742777754228, -0.9945647867400169, 1.5151241023797244, 0.5075362134278456, -1.1735886638674613, 1.98485816589851, 0.7982761159418083, -0.07944727878078828, -0.7971158770598205, 0.8537029643240611, -1.670795262780064, 0.4918535139756341, -0.5521934592979183, -2.6713602633960485, -0.6402242514425622, -0.2530997756328507, 0.13291790640185097, 1.840027332124377, 0.4256107998272355, -0.10524227119226856, 0.7568395535199907, 0.01227355678842452, -0.18777367729543826, 0.11596626772388403, 0.26977552573541597, -0.993101164784401, -0.05067529958534019, -0.5047305795737309, 0.9070451286544564, 0.5229498297030087, 1.499042011679956, -0.9162419500042097, 0.5257383477604088], \"xaxis\": \"x14\", \"y\": [0.03384664178148704, 0.5666429305505546, 0.14885183843377175, 0.2687473452003424, 1.1200512766765096, -2.8225156356584993, -0.09857086367123338, 0.6997016010550245, -1.3562792823740024, -0.41508056769541196, -0.44685046724214006, 1.3317926725059546, -1.534398796805004, 0.5107676096875485, -0.35539271221973195, -0.4691145512394626, 0.46537551119090104, -0.28621288875761214, 0.7206887872019336, 0.9270397108725131, 0.8876193880034717, 0.3686998726486203, -1.2219477310842741, -0.3902957898404521, -1.1949112579311598, -1.0811713597675425, 0.7916926529667945, 0.31681376614310686, -0.663152266439661, 1.1098423222784424, 0.06581774155636329, 0.34117151247625005, 0.9824823102015346, -0.8329297644404557, -1.0255005113062103, 0.38708767823694307, -0.2735876107312517, 1.111757822490364, -0.8053566441383361, 0.09470607282640017, 0.47268776889119185, -0.5701393873577066, -2.1961399023737114, -0.2577127983341919, -1.2187126822403935, 0.9816939651454246, 0.09885494293423237, -0.49510179974921226, 1.594516555206982, 0.4108355407054973, 0.168743533242441, 0.7617110899069682, 0.6445282167880872, 0.24658352945846151, 1.0633761369266885, -1.2952068758870838, 1.2556355409200266, 0.10525546514764797, 1.4510068650768608, -0.9774440012734138, 0.7573789005103825, -1.4692166603040264, -1.219866900508068, -0.03417242416064316, -0.8336711038622275, -1.289844436339557, -0.17837954060022773, 0.732927473839943, 0.08030871609250388, 1.5402237130269205, -1.2010816922179652, 1.0273283822842285, 1.1362028082895037, -0.5904487631408297, 0.767364935605862, 1.2840530894008695, 0.5443851698820155, 0.12506924046431742, 0.901584915943366, 0.8559873278925225, -0.8604099889630961, -0.6517254944882362, 0.7117137760304271, -0.9360005771624264, 0.5851825508705968, -1.8351426246396962, -0.636312250227509, 0.3815910085105638, -2.23757811597667, -0.3368141017962645, -0.005645035574050167, -0.16463055665192255, -0.1825924073902931, -1.0341953399573212, 0.7064307122288477, -0.3307511781925198, -1.49616348983762, -0.6911493407982104, 0.5079262001874038, 1.8328031186789648], \"yaxis\": \"y14\"}, {\"line\": {\"color\": \"rgba(128, 128, 128, 1.0)\", \"dash\": \"solid\", \"shape\": \"linear\", \"width\": 1.3}, \"marker\": {\"size\": 2, \"symbol\": \"circle\"}, \"mode\": \"markers\", \"name\": \"D\", \"text\": \"\", \"type\": \"scatter\", \"x\": [-0.19805204132074813, 0.9646667420835341, -0.38290571006574775, 1.2998824481693891, 0.6199825686029053, 0.08892096656522798, 0.5098550465401651, -0.8175291952481727, 1.0545679319751429, -0.1556477627143782, -0.1863019976198989, -1.2337935362095873, 1.045560857193049, 0.22235565193506643, 1.2160340742473208, 0.9222476060634441, -2.1150062077557044, -0.7071029794118244, -0.5495551785557025, -0.693624646441118, 0.7573958854662389, 0.17394140635208538, 0.15923490851638308, 0.6044591173991921, 0.20111232258003703, 0.8655037106493844, 0.9630306500178076, -0.09963405884054125, 0.4222388126671568, 0.5445417835050336, -1.386959953120186, -1.0837062233251824, 0.16040783519433743, 0.16319047043609794, 1.7531305154443126, 1.8061218262475787, -0.5403383234473761, 0.8429293141000763, -1.6763240933556285, 1.1545629167166047, -0.5536300681270807, -0.18367259297476848, -0.3400663977866649, 1.1849804232281855, 0.41627393795554407, -1.4313827588307508, 0.20246720240624347, 0.43721416281460995, -0.32579144844232655, -1.2131834608493348, -0.14687430590360748, 0.353499906435496, 1.628903729852802, 0.20353596359746787, 0.451665175048858, -0.39634930867957924, -0.9509101739093384, 0.7191038547617834, 0.8719578554533487, 1.8326883546543777, 1.2003448994521837, -0.030231896568255902, -0.1716641365372497, 0.20431636378405235, -0.5598850080650927, -0.24031795880204332, 0.7516002737771287, 0.19254709258696615, -0.057442624087766986, -0.6793162222432404, 0.4148860123267791, 0.13762364150603934, 1.3920049620919024, -0.14462229762839007, 0.14342609156753108, 0.6143080669181031, 0.4474505683921285, -0.34739229148391937, 1.061455226537793, 0.24475617312531944, -1.2513199803763844, -0.6937990342235643, -2.3404491478112965, 0.8320957832750987, 0.4535701994994277, -0.38394936857027945, -0.6680721253788142, -0.6429137849954224, 0.7147258770315915, -1.4985171428736122, 2.0459145141636066, -0.467161741917224, 0.8132661594542542, 0.6293808269260213, -1.5107789396693025, -0.331917743684358, 0.05867669275075526, 0.20626723911401554, -0.7977795930039119, -0.5284544164088391], \"xaxis\": \"x15\", \"y\": [0.03384664178148704, 0.5666429305505546, 0.14885183843377175, 0.2687473452003424, 1.1200512766765096, -2.8225156356584993, -0.09857086367123338, 0.6997016010550245, -1.3562792823740024, -0.41508056769541196, -0.44685046724214006, 1.3317926725059546, -1.534398796805004, 0.5107676096875485, -0.35539271221973195, -0.4691145512394626, 0.46537551119090104, -0.28621288875761214, 0.7206887872019336, 0.9270397108725131, 0.8876193880034717, 0.3686998726486203, -1.2219477310842741, -0.3902957898404521, -1.1949112579311598, -1.0811713597675425, 0.7916926529667945, 0.31681376614310686, -0.663152266439661, 1.1098423222784424, 0.06581774155636329, 0.34117151247625005, 0.9824823102015346, -0.8329297644404557, -1.0255005113062103, 0.38708767823694307, -0.2735876107312517, 1.111757822490364, -0.8053566441383361, 0.09470607282640017, 0.47268776889119185, -0.5701393873577066, -2.1961399023737114, -0.2577127983341919, -1.2187126822403935, 0.9816939651454246, 0.09885494293423237, -0.49510179974921226, 1.594516555206982, 0.4108355407054973, 0.168743533242441, 0.7617110899069682, 0.6445282167880872, 0.24658352945846151, 1.0633761369266885, -1.2952068758870838, 1.2556355409200266, 0.10525546514764797, 1.4510068650768608, -0.9774440012734138, 0.7573789005103825, -1.4692166603040264, -1.219866900508068, -0.03417242416064316, -0.8336711038622275, -1.289844436339557, -0.17837954060022773, 0.732927473839943, 0.08030871609250388, 1.5402237130269205, -1.2010816922179652, 1.0273283822842285, 1.1362028082895037, -0.5904487631408297, 0.767364935605862, 1.2840530894008695, 0.5443851698820155, 0.12506924046431742, 0.901584915943366, 0.8559873278925225, -0.8604099889630961, -0.6517254944882362, 0.7117137760304271, -0.9360005771624264, 0.5851825508705968, -1.8351426246396962, -0.636312250227509, 0.3815910085105638, -2.23757811597667, -0.3368141017962645, -0.005645035574050167, -0.16463055665192255, -0.1825924073902931, -1.0341953399573212, 0.7064307122288477, -0.3307511781925198, -1.49616348983762, -0.6911493407982104, 0.5079262001874038, 1.8328031186789648], \"yaxis\": \"y15\"}, {\"histfunc\": \"count\", \"histnorm\": \"\", \"marker\": {\"color\": \"rgba(128, 0, 128, 1.0)\", \"line\": {\"color\": \"#4D5663\", \"width\": 1.3}}, \"name\": \"D\", \"nbinsx\": 10, \"opacity\": 0.8, \"orientation\": \"v\", \"type\": \"histogram\", \"x\": [0.03384664178148704, 0.5666429305505546, 0.14885183843377175, 0.2687473452003424, 1.1200512766765096, -2.8225156356584993, -0.09857086367123338, 0.6997016010550245, -1.3562792823740024, -0.41508056769541196, -0.44685046724214006, 1.3317926725059546, -1.534398796805004, 0.5107676096875485, -0.35539271221973195, -0.4691145512394626, 0.46537551119090104, -0.28621288875761214, 0.7206887872019336, 0.9270397108725131, 0.8876193880034717, 0.3686998726486203, -1.2219477310842741, -0.3902957898404521, -1.1949112579311598, -1.0811713597675425, 0.7916926529667945, 0.31681376614310686, -0.663152266439661, 1.1098423222784424, 0.06581774155636329, 0.34117151247625005, 0.9824823102015346, -0.8329297644404557, -1.0255005113062103, 0.38708767823694307, -0.2735876107312517, 1.111757822490364, -0.8053566441383361, 0.09470607282640017, 0.47268776889119185, -0.5701393873577066, -2.1961399023737114, -0.2577127983341919, -1.2187126822403935, 0.9816939651454246, 0.09885494293423237, -0.49510179974921226, 1.594516555206982, 0.4108355407054973, 0.168743533242441, 0.7617110899069682, 0.6445282167880872, 0.24658352945846151, 1.0633761369266885, -1.2952068758870838, 1.2556355409200266, 0.10525546514764797, 1.4510068650768608, -0.9774440012734138, 0.7573789005103825, -1.4692166603040264, -1.219866900508068, -0.03417242416064316, -0.8336711038622275, -1.289844436339557, -0.17837954060022773, 0.732927473839943, 0.08030871609250388, 1.5402237130269205, -1.2010816922179652, 1.0273283822842285, 1.1362028082895037, -0.5904487631408297, 0.767364935605862, 1.2840530894008695, 0.5443851698820155, 0.12506924046431742, 0.901584915943366, 0.8559873278925225, -0.8604099889630961, -0.6517254944882362, 0.7117137760304271, -0.9360005771624264, 0.5851825508705968, -1.8351426246396962, -0.636312250227509, 0.3815910085105638, -2.23757811597667, -0.3368141017962645, -0.005645035574050167, -0.16463055665192255, -0.1825924073902931, -1.0341953399573212, 0.7064307122288477, -0.3307511781925198, -1.49616348983762, -0.6911493407982104, 0.5079262001874038, 1.8328031186789648], \"xaxis\": \"x16\", \"yaxis\": \"y16\"}],                        {\"bargap\": 0.02, \"legend\": {\"bgcolor\": \"#F5F6F9\", \"font\": {\"color\": \"#4D5663\"}}, \"paper_bgcolor\": \"#F5F6F9\", \"plot_bgcolor\": \"#F5F6F9\", \"showlegend\": false, \"template\": {\"data\": {\"bar\": [{\"error_x\": {\"color\": \"#2a3f5f\"}, \"error_y\": {\"color\": \"#2a3f5f\"}, \"marker\": {\"line\": {\"color\": \"#E5ECF6\", \"width\": 0.5}}, \"type\": \"bar\"}], \"barpolar\": [{\"marker\": {\"line\": {\"color\": \"#E5ECF6\", \"width\": 0.5}}, \"type\": \"barpolar\"}], \"carpet\": [{\"aaxis\": {\"endlinecolor\": \"#2a3f5f\", \"gridcolor\": \"white\", \"linecolor\": \"white\", \"minorgridcolor\": \"white\", \"startlinecolor\": \"#2a3f5f\"}, \"baxis\": {\"endlinecolor\": \"#2a3f5f\", \"gridcolor\": \"white\", \"linecolor\": \"white\", \"minorgridcolor\": \"white\", \"startlinecolor\": \"#2a3f5f\"}, \"type\": \"carpet\"}], \"choropleth\": [{\"colorbar\": {\"outlinewidth\": 0, \"ticks\": \"\"}, \"type\": \"choropleth\"}], \"contour\": [{\"colorbar\": {\"outlinewidth\": 0, \"ticks\": \"\"}, \"colorscale\": [[0.0, \"#0d0887\"], [0.1111111111111111, \"#46039f\"], [0.2222222222222222, \"#7201a8\"], [0.3333333333333333, \"#9c179e\"], [0.4444444444444444, \"#bd3786\"], [0.5555555555555556, \"#d8576b\"], [0.6666666666666666, \"#ed7953\"], [0.7777777777777778, \"#fb9f3a\"], [0.8888888888888888, \"#fdca26\"], [1.0, \"#f0f921\"]], \"type\": \"contour\"}], \"contourcarpet\": [{\"colorbar\": {\"outlinewidth\": 0, \"ticks\": \"\"}, \"type\": \"contourcarpet\"}], \"heatmap\": [{\"colorbar\": {\"outlinewidth\": 0, \"ticks\": \"\"}, \"colorscale\": [[0.0, \"#0d0887\"], [0.1111111111111111, \"#46039f\"], [0.2222222222222222, \"#7201a8\"], [0.3333333333333333, \"#9c179e\"], [0.4444444444444444, \"#bd3786\"], [0.5555555555555556, \"#d8576b\"], [0.6666666666666666, \"#ed7953\"], [0.7777777777777778, \"#fb9f3a\"], [0.8888888888888888, \"#fdca26\"], [1.0, \"#f0f921\"]], \"type\": \"heatmap\"}], \"heatmapgl\": [{\"colorbar\": {\"outlinewidth\": 0, \"ticks\": \"\"}, \"colorscale\": [[0.0, \"#0d0887\"], [0.1111111111111111, \"#46039f\"], [0.2222222222222222, \"#7201a8\"], [0.3333333333333333, \"#9c179e\"], [0.4444444444444444, \"#bd3786\"], [0.5555555555555556, \"#d8576b\"], [0.6666666666666666, \"#ed7953\"], [0.7777777777777778, \"#fb9f3a\"], [0.8888888888888888, \"#fdca26\"], [1.0, \"#f0f921\"]], \"type\": \"heatmapgl\"}], \"histogram\": [{\"marker\": {\"colorbar\": {\"outlinewidth\": 0, \"ticks\": \"\"}}, \"type\": \"histogram\"}], \"histogram2d\": [{\"colorbar\": {\"outlinewidth\": 0, \"ticks\": \"\"}, \"colorscale\": [[0.0, \"#0d0887\"], [0.1111111111111111, \"#46039f\"], [0.2222222222222222, \"#7201a8\"], [0.3333333333333333, \"#9c179e\"], [0.4444444444444444, \"#bd3786\"], [0.5555555555555556, \"#d8576b\"], [0.6666666666666666, \"#ed7953\"], [0.7777777777777778, \"#fb9f3a\"], [0.8888888888888888, \"#fdca26\"], [1.0, \"#f0f921\"]], \"type\": \"histogram2d\"}], \"histogram2dcontour\": [{\"colorbar\": {\"outlinewidth\": 0, \"ticks\": \"\"}, \"colorscale\": [[0.0, \"#0d0887\"], [0.1111111111111111, \"#46039f\"], [0.2222222222222222, \"#7201a8\"], [0.3333333333333333, \"#9c179e\"], [0.4444444444444444, \"#bd3786\"], [0.5555555555555556, \"#d8576b\"], [0.6666666666666666, \"#ed7953\"], [0.7777777777777778, \"#fb9f3a\"], [0.8888888888888888, \"#fdca26\"], [1.0, \"#f0f921\"]], \"type\": \"histogram2dcontour\"}], \"mesh3d\": [{\"colorbar\": {\"outlinewidth\": 0, \"ticks\": \"\"}, \"type\": \"mesh3d\"}], \"parcoords\": [{\"line\": {\"colorbar\": {\"outlinewidth\": 0, \"ticks\": \"\"}}, \"type\": \"parcoords\"}], \"pie\": [{\"automargin\": true, \"type\": \"pie\"}], \"scatter\": [{\"marker\": {\"colorbar\": {\"outlinewidth\": 0, \"ticks\": \"\"}}, \"type\": \"scatter\"}], \"scatter3d\": [{\"line\": {\"colorbar\": {\"outlinewidth\": 0, \"ticks\": \"\"}}, \"marker\": {\"colorbar\": {\"outlinewidth\": 0, \"ticks\": \"\"}}, \"type\": \"scatter3d\"}], \"scattercarpet\": [{\"marker\": {\"colorbar\": {\"outlinewidth\": 0, \"ticks\": \"\"}}, \"type\": \"scattercarpet\"}], \"scattergeo\": [{\"marker\": {\"colorbar\": {\"outlinewidth\": 0, \"ticks\": \"\"}}, \"type\": \"scattergeo\"}], \"scattergl\": [{\"marker\": {\"colorbar\": {\"outlinewidth\": 0, \"ticks\": \"\"}}, \"type\": \"scattergl\"}], \"scattermapbox\": [{\"marker\": {\"colorbar\": {\"outlinewidth\": 0, \"ticks\": \"\"}}, \"type\": \"scattermapbox\"}], \"scatterpolar\": [{\"marker\": {\"colorbar\": {\"outlinewidth\": 0, \"ticks\": \"\"}}, \"type\": \"scatterpolar\"}], \"scatterpolargl\": [{\"marker\": {\"colorbar\": {\"outlinewidth\": 0, \"ticks\": \"\"}}, \"type\": \"scatterpolargl\"}], \"scatterternary\": [{\"marker\": {\"colorbar\": {\"outlinewidth\": 0, \"ticks\": \"\"}}, \"type\": \"scatterternary\"}], \"surface\": [{\"colorbar\": {\"outlinewidth\": 0, \"ticks\": \"\"}, \"colorscale\": [[0.0, \"#0d0887\"], [0.1111111111111111, \"#46039f\"], [0.2222222222222222, \"#7201a8\"], [0.3333333333333333, \"#9c179e\"], [0.4444444444444444, \"#bd3786\"], [0.5555555555555556, \"#d8576b\"], [0.6666666666666666, \"#ed7953\"], [0.7777777777777778, \"#fb9f3a\"], [0.8888888888888888, \"#fdca26\"], [1.0, \"#f0f921\"]], \"type\": \"surface\"}], \"table\": [{\"cells\": {\"fill\": {\"color\": \"#EBF0F8\"}, \"line\": {\"color\": \"white\"}}, \"header\": {\"fill\": {\"color\": \"#C8D4E3\"}, \"line\": {\"color\": \"white\"}}, \"type\": \"table\"}]}, \"layout\": {\"annotationdefaults\": {\"arrowcolor\": \"#2a3f5f\", \"arrowhead\": 0, \"arrowwidth\": 1}, \"coloraxis\": {\"colorbar\": {\"outlinewidth\": 0, \"ticks\": \"\"}}, \"colorscale\": {\"diverging\": [[0, \"#8e0152\"], [0.1, \"#c51b7d\"], [0.2, \"#de77ae\"], [0.3, \"#f1b6da\"], [0.4, \"#fde0ef\"], [0.5, \"#f7f7f7\"], [0.6, \"#e6f5d0\"], [0.7, \"#b8e186\"], [0.8, \"#7fbc41\"], [0.9, \"#4d9221\"], [1, \"#276419\"]], \"sequential\": [[0.0, \"#0d0887\"], [0.1111111111111111, \"#46039f\"], [0.2222222222222222, \"#7201a8\"], [0.3333333333333333, \"#9c179e\"], [0.4444444444444444, \"#bd3786\"], [0.5555555555555556, \"#d8576b\"], [0.6666666666666666, \"#ed7953\"], [0.7777777777777778, \"#fb9f3a\"], [0.8888888888888888, \"#fdca26\"], [1.0, \"#f0f921\"]], \"sequentialminus\": [[0.0, \"#0d0887\"], [0.1111111111111111, \"#46039f\"], [0.2222222222222222, \"#7201a8\"], [0.3333333333333333, \"#9c179e\"], [0.4444444444444444, \"#bd3786\"], [0.5555555555555556, \"#d8576b\"], [0.6666666666666666, \"#ed7953\"], [0.7777777777777778, \"#fb9f3a\"], [0.8888888888888888, \"#fdca26\"], [1.0, \"#f0f921\"]]}, \"colorway\": [\"#636efa\", \"#EF553B\", \"#00cc96\", \"#ab63fa\", \"#FFA15A\", \"#19d3f3\", \"#FF6692\", \"#B6E880\", \"#FF97FF\", \"#FECB52\"], \"font\": {\"color\": \"#2a3f5f\"}, \"geo\": {\"bgcolor\": \"white\", \"lakecolor\": \"white\", \"landcolor\": \"#E5ECF6\", \"showlakes\": true, \"showland\": true, \"subunitcolor\": \"white\"}, \"hoverlabel\": {\"align\": \"left\"}, \"hovermode\": \"closest\", \"mapbox\": {\"style\": \"light\"}, \"paper_bgcolor\": \"white\", \"plot_bgcolor\": \"#E5ECF6\", \"polar\": {\"angularaxis\": {\"gridcolor\": \"white\", \"linecolor\": \"white\", \"ticks\": \"\"}, \"bgcolor\": \"#E5ECF6\", \"radialaxis\": {\"gridcolor\": \"white\", \"linecolor\": \"white\", \"ticks\": \"\"}}, \"scene\": {\"xaxis\": {\"backgroundcolor\": \"#E5ECF6\", \"gridcolor\": \"white\", \"gridwidth\": 2, \"linecolor\": \"white\", \"showbackground\": true, \"ticks\": \"\", \"zerolinecolor\": \"white\"}, \"yaxis\": {\"backgroundcolor\": \"#E5ECF6\", \"gridcolor\": \"white\", \"gridwidth\": 2, \"linecolor\": \"white\", \"showbackground\": true, \"ticks\": \"\", \"zerolinecolor\": \"white\"}, \"zaxis\": {\"backgroundcolor\": \"#E5ECF6\", \"gridcolor\": \"white\", \"gridwidth\": 2, \"linecolor\": \"white\", \"showbackground\": true, \"ticks\": \"\", \"zerolinecolor\": \"white\"}}, \"shapedefaults\": {\"line\": {\"color\": \"#2a3f5f\"}}, \"ternary\": {\"aaxis\": {\"gridcolor\": \"white\", \"linecolor\": \"white\", \"ticks\": \"\"}, \"baxis\": {\"gridcolor\": \"white\", \"linecolor\": \"white\", \"ticks\": \"\"}, \"bgcolor\": \"#E5ECF6\", \"caxis\": {\"gridcolor\": \"white\", \"linecolor\": \"white\", \"ticks\": \"\"}}, \"title\": {\"x\": 0.05}, \"xaxis\": {\"automargin\": true, \"gridcolor\": \"white\", \"linecolor\": \"white\", \"ticks\": \"\", \"title\": {\"standoff\": 15}, \"zerolinecolor\": \"white\", \"zerolinewidth\": 2}, \"yaxis\": {\"automargin\": true, \"gridcolor\": \"white\", \"linecolor\": \"white\", \"ticks\": \"\", \"title\": {\"standoff\": 15}, \"zerolinecolor\": \"white\", \"zerolinewidth\": 2}}}, \"title\": {\"font\": {\"color\": \"#4D5663\"}}, \"xaxis\": {\"anchor\": \"y\", \"domain\": [0.0, 0.2125], \"gridcolor\": \"#E1E5ED\", \"showgrid\": false, \"tickfont\": {\"color\": \"#4D5663\"}, \"title\": {\"font\": {\"color\": \"#4D5663\"}, \"text\": \"\"}, \"zerolinecolor\": \"#E1E5ED\"}, \"xaxis10\": {\"anchor\": \"y10\", \"domain\": [0.2625, 0.475], \"gridcolor\": \"#E1E5ED\", \"showgrid\": false, \"tickfont\": {\"color\": \"#4D5663\"}, \"title\": {\"font\": {\"color\": \"#4D5663\"}, \"text\": \"\"}, \"zerolinecolor\": \"#E1E5ED\"}, \"xaxis11\": {\"anchor\": \"y11\", \"domain\": [0.525, 0.7375], \"gridcolor\": \"#E1E5ED\", \"showgrid\": false, \"tickfont\": {\"color\": \"#4D5663\"}, \"title\": {\"font\": {\"color\": \"#4D5663\"}, \"text\": \"\"}, \"zerolinecolor\": \"#E1E5ED\"}, \"xaxis12\": {\"anchor\": \"y12\", \"domain\": [0.7875, 1.0], \"gridcolor\": \"#E1E5ED\", \"showgrid\": false, \"tickfont\": {\"color\": \"#4D5663\"}, \"title\": {\"font\": {\"color\": \"#4D5663\"}, \"text\": \"\"}, \"zerolinecolor\": \"#E1E5ED\"}, \"xaxis13\": {\"anchor\": \"y13\", \"domain\": [0.0, 0.2125], \"gridcolor\": \"#E1E5ED\", \"showgrid\": false, \"tickfont\": {\"color\": \"#4D5663\"}, \"title\": {\"font\": {\"color\": \"#4D5663\"}, \"text\": \"\"}, \"zerolinecolor\": \"#E1E5ED\"}, \"xaxis14\": {\"anchor\": \"y14\", \"domain\": [0.2625, 0.475], \"gridcolor\": \"#E1E5ED\", \"showgrid\": false, \"tickfont\": {\"color\": \"#4D5663\"}, \"title\": {\"font\": {\"color\": \"#4D5663\"}, \"text\": \"\"}, \"zerolinecolor\": \"#E1E5ED\"}, \"xaxis15\": {\"anchor\": \"y15\", \"domain\": [0.525, 0.7375], \"gridcolor\": \"#E1E5ED\", \"showgrid\": false, \"tickfont\": {\"color\": \"#4D5663\"}, \"title\": {\"font\": {\"color\": \"#4D5663\"}, \"text\": \"\"}, \"zerolinecolor\": \"#E1E5ED\"}, \"xaxis16\": {\"anchor\": \"y16\", \"domain\": [0.7875, 1.0], \"gridcolor\": \"#E1E5ED\", \"showgrid\": false, \"tickfont\": {\"color\": \"#4D5663\"}, \"title\": {\"font\": {\"color\": \"#4D5663\"}, \"text\": \"\"}, \"zerolinecolor\": \"#E1E5ED\"}, \"xaxis2\": {\"anchor\": \"y2\", \"domain\": [0.2625, 0.475], \"gridcolor\": \"#E1E5ED\", \"showgrid\": false, \"tickfont\": {\"color\": \"#4D5663\"}, \"title\": {\"font\": {\"color\": \"#4D5663\"}, \"text\": \"\"}, \"zerolinecolor\": \"#E1E5ED\"}, \"xaxis3\": {\"anchor\": \"y3\", \"domain\": [0.525, 0.7375], \"gridcolor\": \"#E1E5ED\", \"showgrid\": false, \"tickfont\": {\"color\": \"#4D5663\"}, \"title\": {\"font\": {\"color\": \"#4D5663\"}, \"text\": \"\"}, \"zerolinecolor\": \"#E1E5ED\"}, \"xaxis4\": {\"anchor\": \"y4\", \"domain\": [0.7875, 1.0], \"gridcolor\": \"#E1E5ED\", \"showgrid\": false, \"tickfont\": {\"color\": \"#4D5663\"}, \"title\": {\"font\": {\"color\": \"#4D5663\"}, \"text\": \"\"}, \"zerolinecolor\": \"#E1E5ED\"}, \"xaxis5\": {\"anchor\": \"y5\", \"domain\": [0.0, 0.2125], \"gridcolor\": \"#E1E5ED\", \"showgrid\": false, \"tickfont\": {\"color\": \"#4D5663\"}, \"title\": {\"font\": {\"color\": \"#4D5663\"}, \"text\": \"\"}, \"zerolinecolor\": \"#E1E5ED\"}, \"xaxis6\": {\"anchor\": \"y6\", \"domain\": [0.2625, 0.475], \"gridcolor\": \"#E1E5ED\", \"showgrid\": false, \"tickfont\": {\"color\": \"#4D5663\"}, \"title\": {\"font\": {\"color\": \"#4D5663\"}, \"text\": \"\"}, \"zerolinecolor\": \"#E1E5ED\"}, \"xaxis7\": {\"anchor\": \"y7\", \"domain\": [0.525, 0.7375], \"gridcolor\": \"#E1E5ED\", \"showgrid\": false, \"tickfont\": {\"color\": \"#4D5663\"}, \"title\": {\"font\": {\"color\": \"#4D5663\"}, \"text\": \"\"}, \"zerolinecolor\": \"#E1E5ED\"}, \"xaxis8\": {\"anchor\": \"y8\", \"domain\": [0.7875, 1.0], \"gridcolor\": \"#E1E5ED\", \"showgrid\": false, \"tickfont\": {\"color\": \"#4D5663\"}, \"title\": {\"font\": {\"color\": \"#4D5663\"}, \"text\": \"\"}, \"zerolinecolor\": \"#E1E5ED\"}, \"xaxis9\": {\"anchor\": \"y9\", \"domain\": [0.0, 0.2125], \"gridcolor\": \"#E1E5ED\", \"showgrid\": false, \"tickfont\": {\"color\": \"#4D5663\"}, \"title\": {\"font\": {\"color\": \"#4D5663\"}, \"text\": \"\"}, \"zerolinecolor\": \"#E1E5ED\"}, \"yaxis\": {\"anchor\": \"x\", \"domain\": [0.8025, 1.0], \"gridcolor\": \"#E1E5ED\", \"showgrid\": false, \"tickfont\": {\"color\": \"#4D5663\"}, \"title\": {\"font\": {\"color\": \"#4D5663\"}, \"text\": \"\"}, \"zerolinecolor\": \"#E1E5ED\"}, \"yaxis10\": {\"anchor\": \"x10\", \"domain\": [0.2675, 0.465], \"gridcolor\": \"#E1E5ED\", \"showgrid\": false, \"tickfont\": {\"color\": \"#4D5663\"}, \"title\": {\"font\": {\"color\": \"#4D5663\"}, \"text\": \"\"}, \"zerolinecolor\": \"#E1E5ED\"}, \"yaxis11\": {\"anchor\": \"x11\", \"domain\": [0.2675, 0.465], \"gridcolor\": \"#E1E5ED\", \"showgrid\": false, \"tickfont\": {\"color\": \"#4D5663\"}, \"title\": {\"font\": {\"color\": \"#4D5663\"}, \"text\": \"\"}, \"zerolinecolor\": \"#E1E5ED\"}, \"yaxis12\": {\"anchor\": \"x12\", \"domain\": [0.2675, 0.465], \"gridcolor\": \"#E1E5ED\", \"showgrid\": false, \"tickfont\": {\"color\": \"#4D5663\"}, \"title\": {\"font\": {\"color\": \"#4D5663\"}, \"text\": \"\"}, \"zerolinecolor\": \"#E1E5ED\"}, \"yaxis13\": {\"anchor\": \"x13\", \"domain\": [0.0, 0.1975], \"gridcolor\": \"#E1E5ED\", \"showgrid\": false, \"tickfont\": {\"color\": \"#4D5663\"}, \"title\": {\"font\": {\"color\": \"#4D5663\"}, \"text\": \"\"}, \"zerolinecolor\": \"#E1E5ED\"}, \"yaxis14\": {\"anchor\": \"x14\", \"domain\": [0.0, 0.1975], \"gridcolor\": \"#E1E5ED\", \"showgrid\": false, \"tickfont\": {\"color\": \"#4D5663\"}, \"title\": {\"font\": {\"color\": \"#4D5663\"}, \"text\": \"\"}, \"zerolinecolor\": \"#E1E5ED\"}, \"yaxis15\": {\"anchor\": \"x15\", \"domain\": [0.0, 0.1975], \"gridcolor\": \"#E1E5ED\", \"showgrid\": false, \"tickfont\": {\"color\": \"#4D5663\"}, \"title\": {\"font\": {\"color\": \"#4D5663\"}, \"text\": \"\"}, \"zerolinecolor\": \"#E1E5ED\"}, \"yaxis16\": {\"anchor\": \"x16\", \"domain\": [0.0, 0.1975], \"gridcolor\": \"#E1E5ED\", \"showgrid\": false, \"tickfont\": {\"color\": \"#4D5663\"}, \"title\": {\"font\": {\"color\": \"#4D5663\"}, \"text\": \"\"}, \"zerolinecolor\": \"#E1E5ED\"}, \"yaxis2\": {\"anchor\": \"x2\", \"domain\": [0.8025, 1.0], \"gridcolor\": \"#E1E5ED\", \"showgrid\": false, \"tickfont\": {\"color\": \"#4D5663\"}, \"title\": {\"font\": {\"color\": \"#4D5663\"}, \"text\": \"\"}, \"zerolinecolor\": \"#E1E5ED\"}, \"yaxis3\": {\"anchor\": \"x3\", \"domain\": [0.8025, 1.0], \"gridcolor\": \"#E1E5ED\", \"showgrid\": false, \"tickfont\": {\"color\": \"#4D5663\"}, \"title\": {\"font\": {\"color\": \"#4D5663\"}, \"text\": \"\"}, \"zerolinecolor\": \"#E1E5ED\"}, \"yaxis4\": {\"anchor\": \"x4\", \"domain\": [0.8025, 1.0], \"gridcolor\": \"#E1E5ED\", \"showgrid\": false, \"tickfont\": {\"color\": \"#4D5663\"}, \"title\": {\"font\": {\"color\": \"#4D5663\"}, \"text\": \"\"}, \"zerolinecolor\": \"#E1E5ED\"}, \"yaxis5\": {\"anchor\": \"x5\", \"domain\": [0.535, 0.7325], \"gridcolor\": \"#E1E5ED\", \"showgrid\": false, \"tickfont\": {\"color\": \"#4D5663\"}, \"title\": {\"font\": {\"color\": \"#4D5663\"}, \"text\": \"\"}, \"zerolinecolor\": \"#E1E5ED\"}, \"yaxis6\": {\"anchor\": \"x6\", \"domain\": [0.535, 0.7325], \"gridcolor\": \"#E1E5ED\", \"showgrid\": false, \"tickfont\": {\"color\": \"#4D5663\"}, \"title\": {\"font\": {\"color\": \"#4D5663\"}, \"text\": \"\"}, \"zerolinecolor\": \"#E1E5ED\"}, \"yaxis7\": {\"anchor\": \"x7\", \"domain\": [0.535, 0.7325], \"gridcolor\": \"#E1E5ED\", \"showgrid\": false, \"tickfont\": {\"color\": \"#4D5663\"}, \"title\": {\"font\": {\"color\": \"#4D5663\"}, \"text\": \"\"}, \"zerolinecolor\": \"#E1E5ED\"}, \"yaxis8\": {\"anchor\": \"x8\", \"domain\": [0.535, 0.7325], \"gridcolor\": \"#E1E5ED\", \"showgrid\": false, \"tickfont\": {\"color\": \"#4D5663\"}, \"title\": {\"font\": {\"color\": \"#4D5663\"}, \"text\": \"\"}, \"zerolinecolor\": \"#E1E5ED\"}, \"yaxis9\": {\"anchor\": \"x9\", \"domain\": [0.2675, 0.465], \"gridcolor\": \"#E1E5ED\", \"showgrid\": false, \"tickfont\": {\"color\": \"#4D5663\"}, \"title\": {\"font\": {\"color\": \"#4D5663\"}, \"text\": \"\"}, \"zerolinecolor\": \"#E1E5ED\"}},                        {\"showLink\": true, \"linkText\": \"Export to plot.ly\", \"plotlyServerURL\": \"https://plot.ly\", \"responsive\": true}                    ).then(function(){\n",
       "                            \n",
       "var gd = document.getElementById('d8dbaa26-5899-4744-a5db-4d2683b18913');\n",
       "var x = new MutationObserver(function (mutations, observer) {{\n",
       "        var display = window.getComputedStyle(gd).display;\n",
       "        if (!display || display === 'none') {{\n",
       "            console.log([gd, 'removed!']);\n",
       "            Plotly.purge(gd);\n",
       "            observer.disconnect();\n",
       "        }}\n",
       "}});\n",
       "\n",
       "// Listen for the removal of the full notebook cells\n",
       "var notebookContainer = gd.closest('#notebook-container');\n",
       "if (notebookContainer) {{\n",
       "    x.observe(notebookContainer, {childList: true});\n",
       "}}\n",
       "\n",
       "// Listen for the clearing of the current output cell\n",
       "var outputEl = gd.closest('.output');\n",
       "if (outputEl) {{\n",
       "    x.observe(outputEl, {childList: true});\n",
       "}}\n",
       "\n",
       "                        })                };                });            </script>        </div>"
      ]
     },
     "metadata": {},
     "output_type": "display_data"
    }
   ],
   "source": [
    "df.scatter_matrix()"
   ]
  },
  {
   "cell_type": "code",
   "execution_count": null,
   "metadata": {},
   "outputs": [],
   "source": []
  }
 ],
 "metadata": {
  "kernelspec": {
   "display_name": "Python 3",
   "language": "python",
   "name": "python3"
  },
  "language_info": {
   "codemirror_mode": {
    "name": "ipython",
    "version": 3
   },
   "file_extension": ".py",
   "mimetype": "text/x-python",
   "name": "python",
   "nbconvert_exporter": "python",
   "pygments_lexer": "ipython3",
   "version": "3.6.10"
  }
 },
 "nbformat": 4,
 "nbformat_minor": 4
}
