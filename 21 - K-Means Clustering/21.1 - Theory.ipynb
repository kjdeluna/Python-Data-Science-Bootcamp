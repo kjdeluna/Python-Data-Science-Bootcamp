{
 "cells": [
  {
   "cell_type": "markdown",
   "metadata": {},
   "source": [
    "### K-Means Clustering\n",
    "- an unsupervised learning algorithm that will attempt to group similar clusters together in your data\n",
    "\n",
    "**Examples**\n",
    "1. Cluster similar documents\n",
    "2. Cluster customers based on features\n",
    "3. Market Segmentation\n",
    "4. Identify similar physical groups\n",
    "\n",
    "#### Overall goal\n",
    "- Divide data into distinct groups such that observations within each group are similar\n",
    "\n",
    "#### How it works\n",
    "1. Choose a number of clusters \"k\"\n",
    "2. Randomly assign each point to a cluster\n",
    "3. Until clusters stop changing, repeat the following:\n",
    "- For each cluster, compute the cluster centroid by taking the mean vector of points in the cluster\n",
    "- Assign each data point to the cluster for which the centroid is the closest\n",
    "\n",
    "#### Choosing a K Value\n",
    "- There is no easy answer for choosing a \"best\" K value\n",
    "- One way is elbow method\n",
    "\n",
    "#### Elbow Method\n",
    "- First of all, compute the sum of squared error (SSE) for some values of k (for example 2,4,6,8, etc)\n",
    "- The SSE is defined as the sum of the squared distance between each member of the cluster and its centroid\n",
    "- If you plot k against SSE, you will see that the error decreases as k gets larger; this is because when the number of clusters increases, they should be smaller, so distortion is also smaller\n",
    "- The idea of the elbow method is to choose the k at which the SSE decreases abruptly\n",
    "- This produces an \"elbow effect\" in the graph\n"
   ]
  },
  {
   "cell_type": "code",
   "execution_count": null,
   "metadata": {},
   "outputs": [],
   "source": []
  }
 ],
 "metadata": {
  "kernelspec": {
   "display_name": "Python 3",
   "language": "python",
   "name": "python3"
  },
  "language_info": {
   "codemirror_mode": {
    "name": "ipython",
    "version": 3
   },
   "file_extension": ".py",
   "mimetype": "text/x-python",
   "name": "python",
   "nbconvert_exporter": "python",
   "pygments_lexer": "ipython3",
   "version": "3.6.10"
  }
 },
 "nbformat": 4,
 "nbformat_minor": 4
}
