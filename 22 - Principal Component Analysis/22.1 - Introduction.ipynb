{
 "cells": [
  {
   "cell_type": "markdown",
   "metadata": {},
   "source": [
    "### PCA\n",
    "- an unsupervised statistical technique used to examine the interrelations among a set of variables in order to identify  the underlying structure of those variables\n",
    "- also known sometimes as a general **factor analysis**\n",
    "- While regression determines a line of best fit to a data set, factor analysis determines several orthogonal lines of best fit to the data set\n",
    "- Orthogonal means \"at right angles\" because actually the lines  are perpendicular to each other in n-dimensional space\n",
    "- n-dimensional space is the variable sample space\n",
    "- There are as many dimensions as there variables, so in a dataset with 4 variables, the sample space is 4-dimensional\n",
    "\n",
    "- Components are a linear transformation that chooses a variable system for the data set such that the greatest variance of the dataset comes to lie on the first axis, the second greatest variance on the second axis, and  so on...\n",
    "- This process allows us to reduce the number of variables used in an analysis\n",
    "- If we use this technique on a dataset with a large number of variables, we can compress the amount of explained variation to just a few components\n",
    "- The most challenging part of PCA is interpreting the components\n",
    "- We usually want to standardize our data by some scale for PCA\n",
    "- This algorithm is used usually for analysis of data and not a fully deployable model"
   ]
  },
  {
   "cell_type": "code",
   "execution_count": null,
   "metadata": {},
   "outputs": [],
   "source": []
  }
 ],
 "metadata": {
  "kernelspec": {
   "display_name": "Python 3",
   "language": "python",
   "name": "python3"
  },
  "language_info": {
   "codemirror_mode": {
    "name": "ipython",
    "version": 3
   },
   "file_extension": ".py",
   "mimetype": "text/x-python",
   "name": "python",
   "nbconvert_exporter": "python",
   "pygments_lexer": "ipython3",
   "version": "3.6.10"
  }
 },
 "nbformat": 4,
 "nbformat_minor": 4
}
