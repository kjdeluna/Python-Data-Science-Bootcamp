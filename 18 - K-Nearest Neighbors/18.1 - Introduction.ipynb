{
 "cells": [
  {
   "cell_type": "markdown",
   "metadata": {},
   "source": [
    "### K Nearest Neighbors\n",
    "- is a classification algorithm\n",
    "\n",
    "### Training Algorithm\n",
    "1. Store all the data\n",
    "\n",
    "### Prediction Algorithm\n",
    "1. Calculate the distance from x to all points in your data\n",
    "2. Sort the points in your data by increasing distance from x\n",
    "3. Predict the majority label of the \"k\" closest points\n",
    "\n",
    "### Pros\n",
    "- Very simple\n",
    "- Training is trivial\n",
    "- Works with any number of classes\n",
    "- Easy to add more data\n",
    "- Few parameters:\n",
    "- 1. K\n",
    "- 2. Distance Metric\n",
    "\n",
    "### Cons\n",
    "- High prediction cost (bad for large data sets)\n",
    "- Not good with high dimensional data\n",
    "- Categorical Features don't work well"
   ]
  }
 ],
 "metadata": {
  "kernelspec": {
   "display_name": "Python 3",
   "language": "python",
   "name": "python3"
  },
  "language_info": {
   "codemirror_mode": {
    "name": "ipython",
    "version": 3
   },
   "file_extension": ".py",
   "mimetype": "text/x-python",
   "name": "python",
   "nbconvert_exporter": "python",
   "pygments_lexer": "ipython3",
   "version": "3.6.10"
  }
 },
 "nbformat": 4,
 "nbformat_minor": 4
}
