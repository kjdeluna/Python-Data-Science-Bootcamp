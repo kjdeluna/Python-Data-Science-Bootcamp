{
 "cells": [
  {
   "cell_type": "markdown",
   "metadata": {},
   "source": [
    "### SVMs\n",
    "- supervised learning models with associated learning algorithms that analyze data and recognize patterns, used for classification and regression analysis\n",
    "\n",
    "- Given a set of training examples, each marked for belonging to one of two categories, an SVM training algorithm builds a model that assigns a new examples into one category or the other, making it a non-probabilistic binary classifier\n",
    "\n",
    "- An SVM model is a representation of the examples as points in space, mapped so that the examples of the separate categories are divided by a clelar gap that is as wide as possible. New examples are then mapped into that same space and predicted to belong to a category based on which side of the gap they fall on\n",
    "\n",
    "- We have many options of hyperplanes that separate perfectly. The question that arises is how do we actually choose the line that separates these classes the best\n",
    "\n",
    "#### Solution\n",
    "- Choose a hyperplane that maximizes the margin between the two classes\n",
    "\n",
    "**Support vectors**\n",
    "- vector points that the margin lines touch\n",
    "\n",
    "- We can expand the idea to non-linearly separable data (such as enclosing circles) through the **kernel trick**\n",
    "\n",
    "**kernel trick**\n",
    "- end up viewing this in a higher dimension"
   ]
  },
  {
   "cell_type": "code",
   "execution_count": null,
   "metadata": {},
   "outputs": [],
   "source": []
  }
 ],
 "metadata": {
  "kernelspec": {
   "display_name": "Python 3",
   "language": "python",
   "name": "python3"
  },
  "language_info": {
   "codemirror_mode": {
    "name": "ipython",
    "version": 3
   },
   "file_extension": ".py",
   "mimetype": "text/x-python",
   "name": "python",
   "nbconvert_exporter": "python",
   "pygments_lexer": "ipython3",
   "version": "3.6.10"
  }
 },
 "nbformat": 4,
 "nbformat_minor": 4
}
